{
 "cells": [
  {
   "cell_type": "code",
   "execution_count": null,
   "id": "a4c25678-e00d-4500-abeb-af1b5aff0e6f",
   "metadata": {},
   "outputs": [],
   "source": [
    "import IPython.display as ipd\n",
    "import numpy as np\n",
    "import matplotlib.pyplot as plt\n",
    "import librosa\n",
    "from readers.audio import AudioSegment\n",
    "from readers.featurizer import Wave2Mel\n",
    "import torch"
   ]
  },
  {
   "cell_type": "markdown",
   "id": "082c5779-be54-4824-8ca9-e7d280548829",
   "metadata": {},
   "source": [
    "## 先合并status和statusSSL列"
   ]
  },
  {
   "cell_type": "code",
   "execution_count": null,
   "id": "b3b1c4fd-ab85-4b7e-9d4d-1aa4165e1611",
   "metadata": {
    "scrolled": true
   },
   "outputs": [],
   "source": [
    "status_id = []\n",
    "# status2label = {\"healthy\": 0, \"symptomatic\": 1, \"COVID-19\": 2}\n",
    "for i, row in enumerate(metadf.itertuples()):\n",
    "    ano = -1\n",
    "    sta = getattr(row, \"status\")\n",
    "    if str(sta) != \"nan\":\n",
    "        status_id.append(int(sta))\n",
    "    else:\n",
    "        sta = getattr(row, \"status_SSL\")\n",
    "        if str(sta) != \"nan\":\n",
    "            status_id.append(int(sta))\n",
    "        else:\n",
    "            print(sta)\n",
    "    # if i%300==0:\n",
    "        # print(i, ':', getattr(row, \"filename\"))\n",
    "print(len(status_id))\n",
    "metadf[\"status_full\"] = status_id\n",
    "metadf.head(110)\n",
    "metadf.to_csv(\"C:/Program Files (zk)/PythonFiles/AClassification/SoundDL-CoughVID/datasets/waveinfo_labedfine_staaSSL.csv\", sep=',')"
   ]
  },
  {
   "cell_type": "markdown",
   "id": "5625a419-c289-4874-ae24-e4086842ef2c",
   "metadata": {},
   "source": [
    "# 清洗后分为均匀的分类数据集"
   ]
  },
  {
   "cell_type": "code",
   "execution_count": 1,
   "id": "f7836e95-425a-4132-8e2b-9781166063cf",
   "metadata": {},
   "outputs": [
    {
     "name": "stdout",
     "output_type": "stream",
     "text": [
      "13709 3288 939\n"
     ]
    },
    {
     "data": {
      "text/html": [
       "<div>\n",
       "<style scoped>\n",
       "    .dataframe tbody tr th:only-of-type {\n",
       "        vertical-align: middle;\n",
       "    }\n",
       "\n",
       "    .dataframe tbody tr th {\n",
       "        vertical-align: top;\n",
       "    }\n",
       "\n",
       "    .dataframe thead th {\n",
       "        text-align: right;\n",
       "    }\n",
       "</style>\n",
       "<table border=\"1\" class=\"dataframe\">\n",
       "  <thead>\n",
       "    <tr style=\"text-align: right;\">\n",
       "      <th></th>\n",
       "      <th>filename</th>\n",
       "    </tr>\n",
       "    <tr>\n",
       "      <th>status_full</th>\n",
       "      <th></th>\n",
       "    </tr>\n",
       "  </thead>\n",
       "  <tbody>\n",
       "    <tr>\n",
       "      <th>0</th>\n",
       "      <td>13709</td>\n",
       "    </tr>\n",
       "    <tr>\n",
       "      <th>1</th>\n",
       "      <td>3288</td>\n",
       "    </tr>\n",
       "    <tr>\n",
       "      <th>2</th>\n",
       "      <td>939</td>\n",
       "    </tr>\n",
       "  </tbody>\n",
       "</table>\n",
       "</div>"
      ],
      "text/plain": [
       "             filename\n",
       "status_full          \n",
       "0               13709\n",
       "1                3288\n",
       "2                 939"
      ]
     },
     "execution_count": 1,
     "metadata": {},
     "output_type": "execute_result"
    }
   ],
   "source": [
    "# Step1 先统计标签0,1,2的数目\n",
    "import pandas as pd\n",
    "metafile = \"C:/Program Files (zk)/PythonFiles/AClassification/SoundDL-CoughVID/datasets/waveinfo_labedfine_staaSSL.csv\"\n",
    "# status_cnt = [0, 0, 0]\n",
    "heal_indices = []\n",
    "symp_indices = []\n",
    "cov19_indices = []\n",
    "with open(metafile, 'r') as fin:\n",
    "    fin.readline()\n",
    "    line = fin.readline()\n",
    "    ind = 0\n",
    "    while line:\n",
    "        parts = line.strip().split(',')\n",
    "        s = int(parts[7])\n",
    "        if s == 0:\n",
    "            # status_cnt[0] += 1\n",
    "            heal_indices.append(ind)\n",
    "        elif s== 1:\n",
    "            # status_cnt[1] += 1\n",
    "            symp_indices.append(ind)\n",
    "        elif s==2:\n",
    "            # status_cnt[2] += 1\n",
    "            cov19_indices.append(ind)\n",
    "        else:\n",
    "            print(\"Error\")\n",
    "        line = fin.readline()\n",
    "        ind += 1\n",
    "# print(status_cnt)\n",
    "print(len(heal_indices),len(symp_indices),len(cov19_indices))\n",
    "metadf = pd.read_csv(metafile, delimiter=',', header=0, index_col=0)\n",
    "metadf.iloc[:, [0, 6]].groupby(\"status_full\").count()"
   ]
  },
  {
   "cell_type": "code",
   "execution_count": 2,
   "id": "5f7c10a9-216d-4023-89af-e855a15b8278",
   "metadata": {},
   "outputs": [],
   "source": [
    "# Step 2\n",
    "# 然后，设定标签0的数目为标签1,2的平均值，以保持最大的平衡，抽取出来对应的行，拼接保存\n",
    "import random\n",
    "heal_indices = random.choices(heal_indices, k=(3288+939)//2+1)\n",
    "\n",
    "cnt_list = [(3288+939)//2+1, 3288, 939]\n",
    "resdf = metadf.iloc[heal_indices, :]\n",
    "resdf = pd.concat([resdf, metadf.iloc[symp_indices, :]], axis=0)\n",
    "resdf = pd.concat([resdf, metadf.iloc[cov19_indices, :]], axis=0)\n",
    "resdf.to_csv(\"C:/Program Files (zk)/PythonFiles/AClassification/SoundDL-CoughVID/datasets/waveinfo_labedfine_forcls.csv\", sep=',')"
   ]
  },
  {
   "cell_type": "code",
   "execution_count": 3,
   "id": "1fd126d6-3710-41ec-92df-239b35279fd6",
   "metadata": {},
   "outputs": [
    {
     "data": {
      "text/html": [
       "<div>\n",
       "<style scoped>\n",
       "    .dataframe tbody tr th:only-of-type {\n",
       "        vertical-align: middle;\n",
       "    }\n",
       "\n",
       "    .dataframe tbody tr th {\n",
       "        vertical-align: top;\n",
       "    }\n",
       "\n",
       "    .dataframe thead th {\n",
       "        text-align: right;\n",
       "    }\n",
       "</style>\n",
       "<table border=\"1\" class=\"dataframe\">\n",
       "  <thead>\n",
       "    <tr style=\"text-align: right;\">\n",
       "      <th></th>\n",
       "      <th>filename</th>\n",
       "    </tr>\n",
       "    <tr>\n",
       "      <th>status_full</th>\n",
       "      <th></th>\n",
       "    </tr>\n",
       "  </thead>\n",
       "  <tbody>\n",
       "    <tr>\n",
       "      <th>0</th>\n",
       "      <td>2114</td>\n",
       "    </tr>\n",
       "    <tr>\n",
       "      <th>1</th>\n",
       "      <td>3288</td>\n",
       "    </tr>\n",
       "    <tr>\n",
       "      <th>2</th>\n",
       "      <td>939</td>\n",
       "    </tr>\n",
       "  </tbody>\n",
       "</table>\n",
       "</div>"
      ],
      "text/plain": [
       "             filename\n",
       "status_full          \n",
       "0                2114\n",
       "1                3288\n",
       "2                 939"
      ]
     },
     "execution_count": 3,
     "metadata": {},
     "output_type": "execute_result"
    }
   ],
   "source": [
    "# Step 3 测试是否成功\n",
    "import pandas as pd\n",
    "metafile = \"C:/Program Files (zk)/PythonFiles/AClassification/SoundDL-CoughVID/datasets/waveinfo_labedfine_forcls.csv\"\n",
    "metadf = pd.read_csv(metafile, delimiter=',', header=0, index_col=0)\n",
    "metadf.iloc[:, [0, 6]].groupby(\"status_full\").count()"
   ]
  },
  {
   "cell_type": "markdown",
   "id": "83980cba-b989-464b-8856-86415ad802bd",
   "metadata": {},
   "source": [
    "# 绘图测试"
   ]
  },
  {
   "cell_type": "code",
   "execution_count": null,
   "id": "820abf93-1d3f-4f98-96b6-1625748e152e",
   "metadata": {},
   "outputs": [],
   "source": [
    "k=1\n",
    "audio_path = \"F:/DATAS/COUGHVID-public_dataset_v3/coughvid_20211012/001e2f19-d81c-4029-b33c-d2db56b23a4a.webm\"\n",
    "# audioseg = AudioSegment.from_file(\"F:/DATAS/COUGHVID-public_dataset_v3/coughvid_20211012/00422dad-066b-402f-9cac-e9efe51442af.wav\")"
   ]
  },
  {
   "cell_type": "code",
   "execution_count": null,
   "id": "707c0759-98cf-4291-9077-785c2bf0a166",
   "metadata": {},
   "outputs": [],
   "source": [
    "audioseg = AudioSegment.from_file(audio_path)\n",
    "ipd.Audio(audio_path)"
   ]
  },
  {
   "cell_type": "code",
   "execution_count": null,
   "id": "a67b8042-f790-4b0b-893d-02d83d2c91d7",
   "metadata": {},
   "outputs": [],
   "source": [
    "def concatenate(wave, overlap=200):\n",
    "    total_len = sum([len(x) for x in wave])\n",
    "    unfolded = np.zeros(total_len)\n",
    "\n",
    "    # Equal power crossfade\n",
    "    window = np.hanning(2 * overlap)\n",
    "    fade_in = window[:overlap]\n",
    "    fade_out = window[-overlap:]\n",
    "\n",
    "    end = total_len\n",
    "    for i in range(1, len(wave)):\n",
    "        prev = wave[i - 1]\n",
    "        curr = wave[i]\n",
    "\n",
    "        if i == 1:\n",
    "            end = len(prev)\n",
    "            unfolded[:end] += prev\n",
    "\n",
    "        max_idx = 0\n",
    "        max_corr = 0\n",
    "        pattern = prev[-overlap:]\n",
    "        # slide the curr batch to match with the pattern of previous one\n",
    "        for j in range(overlap):\n",
    "            match = curr[j:j + overlap]\n",
    "            corr = np.sum(pattern * match) / [(np.sqrt(np.sum(pattern ** 2)) * np.sqrt(np.sum(match ** 2))) + 1e-8]\n",
    "            if corr > max_corr:\n",
    "                max_idx = j\n",
    "                max_corr = corr\n",
    "\n",
    "        # Apply the gain to the overlap samples\n",
    "        start = end - overlap\n",
    "        unfolded[start:end] *= fade_out\n",
    "        end = start + (len(curr) - max_idx)\n",
    "        curr[max_idx:max_idx + overlap] *= fade_in\n",
    "        unfolded[start:end] += curr[max_idx:]\n",
    "    return unfolded[:end]"
   ]
  },
  {
   "cell_type": "code",
   "execution_count": null,
   "id": "57a2a5df-3676-458b-ab24-277498aaa179",
   "metadata": {},
   "outputs": [],
   "source": [
    "def vad(wav, top_db=40, overlap=200):\n",
    "    # Split an audio signal into non-silent intervals\n",
    "    intervals = librosa.effects.split(wav, top_db=top_db)\n",
    "    if len(intervals) == 0:\n",
    "        return wav\n",
    "    wav_output = [np.array([])]\n",
    "    for sliced in intervals:\n",
    "        seg = wav[sliced[0]:sliced[1]]\n",
    "        if len(seg) < 2 * overlap:\n",
    "            wav_output[-1] = np.concatenate((wav_output[-1], seg))\n",
    "        else:\n",
    "            wav_output.append(seg)\n",
    "    wav_output = [x for x in wav_output if len(x) > 0]\n",
    "\n",
    "    if len(wav_output) == 1:\n",
    "        wav_output = wav_output[0]\n",
    "    else:\n",
    "        wav_output = concatenate(wav_output)\n",
    "    return wav_output\n",
    "\n",
    "def wav_padding(wave, save_len=48000):\n",
    "    L = wave.shape[0]\n",
    "    if L >= save_len:\n",
    "        return\n",
    "    new_signal = np.zeros(save_len)\n",
    "    resi = save_len - L\n",
    "    new_signal[:L] = wave\n",
    "    # print(\"resi:\", resi)\n",
    "    interval = 1500\n",
    "    i = 1\n",
    "    while resi > 0:\n",
    "        # print(\"resi:\", resi)\n",
    "        if resi - interval - L > 0:\n",
    "            new_signal[i * (L + interval):i * (L + interval) + L] = wave\n",
    "            resi -= interval + L\n",
    "        elif resi - interval > 0:\n",
    "            LL = resi - interval\n",
    "            new_signal[i * (L + interval):i * (L + interval) + LL] = wave[:LL]\n",
    "            break\n",
    "        else:\n",
    "            break\n",
    "        i += 1\n",
    "    return new_signal\n",
    "\n",
    "wave = audioseg.samples\n",
    "plt.figure(0)\n",
    "plt.subplot(3,2,1)\n",
    "plt.plot(range(len(wave)), wave, c=\"black\")\n",
    "plt.subplot(3,2, 2)\n",
    "plt.imshow(w2m(torch.from_numpy(wave)))\n",
    "\n",
    "wave1 = vad(wave)\n",
    "plt.subplot(3,2,3)\n",
    "plt.plot(range(len(wave1)), wave1, c=\"black\")\n",
    "plt.subplot(3,2, 4)\n",
    "plt.imshow(w2m(torch.from_numpy(wave1).to(torch.float32)))\n",
    "\n",
    "wave2 = wav_padding(wave1)\n",
    "plt.subplot(3,2,5)\n",
    "plt.plot(range(len(wave2)), wave2, c=\"black\")\n",
    "plt.subplot(3,2, 6)\n",
    "plt.imshow(w2m(torch.from_numpy(wave2).to(torch.float32)))\n",
    "\n",
    "plt.show()"
   ]
  },
  {
   "cell_type": "code",
   "execution_count": null,
   "id": "08d98a23-9c6f-466c-8b7f-3c43022b696f",
   "metadata": {},
   "outputs": [],
   "source": [
    "import sys\n",
    "sys.path.append(r'C:/Program Files (zk)/PythonFiles/AClassification/SoundDL-CoughVID/')\n",
    "# sys.path.append(r'D:/PythonTorchVITS/CoughDL/SoundDL-CoughVID/')\n",
    "import os\n",
    "import numpy as np\n",
    "import librosa\n",
    "import pandas as pd\n",
    "import IPython.display as ipd\n",
    "import matplotlib.pyplot as plt\n",
    "from readers.audio import AudioSegment\n",
    "# root_path = \"F:/DATAS/COUGHVID-public_dataset_v3/coughvid_20211012/\""
   ]
  },
  {
   "cell_type": "code",
   "execution_count": null,
   "id": "661ecc18-1951-46bf-86dd-6e7b1013087d",
   "metadata": {},
   "outputs": [],
   "source": [
    "root_path = \"F:/DATAS/COUGHVID-public_dataset_v3/coughvid_20211012/\"\n",
    "metafile = \"F:/DATAS/COUGHVID-public_dataset_v3/coughvid_20211012/metadata_compiled.csv\"\n",
    "metadf = pd.read_csv(metafile, delimiter=',', header=0, index_col=0)"
   ]
  },
  {
   "cell_type": "markdown",
   "id": "a17c4cb8-cbfb-43a9-812a-7f239c5898e9",
   "metadata": {},
   "source": [
    "# 去除静音片段然后计算时长然后保存标签"
   ]
  },
  {
   "cell_type": "code",
   "execution_count": null,
   "id": "eed3d522",
   "metadata": {},
   "outputs": [],
   "source": [
    "metadf = pd.read_csv(metafile, delimiter=',', header=0, index_col=0)\n",
    "# print(metadf.head(5))\n",
    "\n",
    "fname_list = []\n",
    "dura_list = []\n",
    "anomaly_list = []\n",
    "status_id = []\n",
    "status_SSL_id = []\n",
    "status2label = {\"healthy\": 0, \"symptomatic\": 1, \"COVID-19\": 2}\n",
    "for i, row in enumerate(metadf.itertuples()):\n",
    "    wi = getattr(row, \"uuid\")\n",
    "    fname = root_path + wi\n",
    "    for ext in [\"webm\", \"wav\", \"ogg\"]:\n",
    "        if os.path.exists(fname+'.'+ext):\n",
    "            fname = fname + '.' + ext\n",
    "    fname_list.append(fname)\n",
    "    try:\n",
    "        audioseg = AudioSegment.from_file(file=fname)\n",
    "    except Exception as e:\n",
    "        print(e)\n",
    "        print(\"Read Error:\", fname, \"skip it and continue.\")\n",
    "    audioseg.vad(top_db=40)\n",
    "    dura_list.append(audioseg.duration)\n",
    "    ano = -1\n",
    "    sta_str = getattr(row, \"status\")\n",
    "    if isinstance(sta_str, str):\n",
    "        sid = status2label[sta_str]\n",
    "        status_id.append(sid)\n",
    "        if sid == 0:\n",
    "            ano = 0\n",
    "        else:\n",
    "            ano = 1\n",
    "    else:\n",
    "        status_id.append(sta_str)\n",
    "    stassl_str = getattr(row, \"status_SSL\")\n",
    "    if isinstance(stassl_str, str):\n",
    "        sid = status2label[stassl_str]\n",
    "        status_SSL_id.append(sid)\n",
    "        if ano == -1:\n",
    "            if sid == 0:\n",
    "                ano = 0\n",
    "            else:\n",
    "                ano = 1\n",
    "    else:\n",
    "        status_SSL_id.append(stassl_str)\n",
    "    if ano == -1:\n",
    "        ano = float('nan')\n",
    "    anomaly_list.append(ano)\n",
    "    if i%300==0:\n",
    "        print(i, ':', fname)\n",
    "    # if i==19:\n",
    "    #     break\n"
   ]
  },
  {
   "cell_type": "code",
   "execution_count": null,
   "id": "e1b6743c-4540-4350-95a0-aec36d43131a",
   "metadata": {},
   "outputs": [],
   "source": [
    "wavedura = metadf.iloc[:, [0,2]]  # ,9,10]]\n",
    "wavedura[\"uuid\"] = fname_list\n",
    "wavedura[\"duration\"] = dura_list\n",
    "wavedura[\"status_id\"] = status_id\n",
    "wavedura[\"status_SSL_id\"] = status_SSL_id\n",
    "wavedura[\"anomaly\"] = anomaly_list\n",
    "wavedura.columns = [\"filename\", \"cough_detected\", \"duration\", \"status\", \"status_SSL\", \"anomaly\"]\n",
    "print(wavedura.head(20))\n",
    "print(len(wavedura))  # .head(20)"
   ]
  },
  {
   "cell_type": "code",
   "execution_count": null,
   "id": "98389b2c-207d-457b-a4fb-8040d9c43295",
   "metadata": {},
   "outputs": [],
   "source": [
    "wavedura.to_csv(\"C:/Program Files (zk)/PythonFiles/AClassification/SoundDL-CoughVID/datasets/waveinfo.csv\", sep=',')"
   ]
  },
  {
   "cell_type": "markdown",
   "id": "9ab4d1f4-7fea-4e83-a1b4-a535d94783db",
   "metadata": {},
   "source": [
    "# 把具有异常标注的音频保存下来"
   ]
  },
  {
   "cell_type": "code",
   "execution_count": null,
   "id": "6348bb0e-0d8f-46d4-b076-884e627b8bd1",
   "metadata": {},
   "outputs": [],
   "source": [
    "waveinfo_labeled_indices = []\n",
    "waveinfo_unlabeled_indices = []\n",
    "i=0\n",
    "with open(\"./datasets/waveinfo.csv\", 'r') as fin:\n",
    "    fin.readline()\n",
    "    line = fin.readline().strip()\n",
    "    while line:\n",
    "        parts = line.split(',')\n",
    "        # print(parts)\n",
    "        wi = parts[6]\n",
    "        print(wi, end=', ')\n",
    "        if len(wi) > 0:\n",
    "            # waveinfo_labeled_indices.append(parts[0])\n",
    "            waveinfo_labeled_indices.append(i)\n",
    "        else:\n",
    "            # waveinfo_unlabeled_indices.append(parts[0])\n",
    "            waveinfo_unlabeled_indices.append(i)\n",
    "        # if i > 40:\n",
    "        #     break\n",
    "        i += 1\n",
    "        line = fin.readline().strip()\n",
    "# print()\n",
    "# print(waveinfo_labeled_indices)\n",
    "# print(waveinfo_unlabeled_indices)"
   ]
  },
  {
   "cell_type": "code",
   "execution_count": null,
   "id": "339e9147-e786-4eb0-abd5-1075031779b7",
   "metadata": {},
   "outputs": [],
   "source": [
    "metadf = pd.read_csv(\"./datasets/waveinfo.csv\", delimiter=',', header=0, index_col=0)\n",
    "waveinfo_labeled = metadf.iloc[waveinfo_labeled_indices, :]\n",
    "waveinfo_unlabeled = metadf.iloc[waveinfo_unlabeled_indices, :]\n",
    "# waveinfo_unlabeled = waveinfo_unlabeled[waveinfo_unlabeled[\"anomaly\"]!=0]\n",
    "print(len(waveinfo_labeled))\n",
    "print(len(waveinfo_unlabeled))"
   ]
  },
  {
   "cell_type": "code",
   "execution_count": null,
   "id": "b4563149-10ba-40eb-ac9e-62357558f509",
   "metadata": {},
   "outputs": [],
   "source": [
    "waveinfo_labeled.to_csv(\"C:/Program Files (zk)/PythonFiles/AClassification/SoundDL-CoughVID/datasets/waveinfo_labeled.csv\", sep=',')\n",
    "waveinfo_unlabeled.to_csv(\"C:/Program Files (zk)/PythonFiles/AClassification/SoundDL-CoughVID/datasets/waveinfo_unlabeled.csv\", sep=',')"
   ]
  },
  {
   "cell_type": "markdown",
   "id": "a630a663-ef8b-4f04-8820-801508f0a5be",
   "metadata": {},
   "source": [
    "# 去除不符合条件的音频"
   ]
  },
  {
   "cell_type": "code",
   "execution_count": null,
   "id": "cba08ea9-51dd-45b7-84c5-78207e87b536",
   "metadata": {},
   "outputs": [],
   "source": [
    "datadf1 = pd.read_csv(\"./datasets/waveinfo_labeled.csv\", delimiter=',', header=0, index_col=0)\n",
    "print(len(datadf1))\n",
    "# datadf2 = datadf1.where(datadf1[\"duration\"] > 0.36).where(datadf1[\"duration\"] < 13).where(datadf1[\"cough_detected\"]>0.35).dropna(axis=0)\n",
    "datadf1 = datadf1.where(datadf1[\"duration\"] > 0.36).where(datadf1[\"duration\"] < 13).where(datadf1[\"cough_detected\"]>0.35).dropna(axis=0, subset=[\"duration\"])\n",
    "print(len(datadf1))\n",
    "\n",
    "datadf2 = pd.read_csv(\"./datasets/waveinfo_unlabeled.csv\", delimiter=',', header=0, index_col=0)\n",
    "print(len(datadf2))\n",
    "# datadf2 = datadf1.where(datadf1[\"duration\"] > 0.36).where(datadf1[\"duration\"] < 13).where(datadf1[\"cough_detected\"]>0.35).dropna(axis=0)\n",
    "datadf2 = datadf2.where(datadf2[\"duration\"] > 0.36).where(datadf2[\"duration\"] < 13).where(datadf2[\"cough_detected\"]>0.35).dropna(axis=0, subset=[\"duration\"])\n",
    "print(len(datadf2))"
   ]
  },
  {
   "cell_type": "code",
   "execution_count": null,
   "id": "8d4222b4-d792-491b-9fb2-35c8330940b7",
   "metadata": {},
   "outputs": [],
   "source": [
    "datadf1.to_csv(\"C:/Program Files (zk)/PythonFiles/AClassification/SoundDL-CoughVID/datasets/waveinfo_labeled_fine.csv\", sep=',')\n",
    "datadf2.to_csv(\"C:/Program Files (zk)/PythonFiles/AClassification/SoundDL-CoughVID/datasets/waveinfo_unlabeled_fine.csv\", sep=',')"
   ]
  },
  {
   "cell_type": "markdown",
   "id": "9bed77dc-2643-44b9-8630-4cda8db1cae9",
   "metadata": {},
   "source": [
    "## 统计每个标签的数目"
   ]
  },
  {
   "cell_type": "code",
   "execution_count": null,
   "id": "be482e48-308f-4bc3-adc9-10b35c7f754a",
   "metadata": {},
   "outputs": [],
   "source": [
    "import pandas as pd\n",
    "datadf1 = pd.read_csv(\"C:/Program Files (zk)/PythonFiles/AClassification/SoundDL-CoughVID/datasets/waveinfo_labeled_fine.csv\", delimiter=',', header=0, index_col=0)\n",
    "\n",
    "print(datadf1.groupby(\"status\")[\"filename\"].count()）\n",
    "datadf2 = datadf1.where(pd.isna(datadf1[\"status\"]))\n",
    "print(datadf2.groupby(\"status_SSL\")[\"filename\"].count())"
   ]
  },
  {
   "cell_type": "code",
   "execution_count": null,
   "id": "8a2eccd9-ecd7-4870-ad2c-82278fa67a49",
   "metadata": {},
   "outputs": [],
   "source": [
    "import pandas as pd\n",
    "datadf1 = pd.read_csv(\"C:/Program Files (zk)/PythonFiles/AClassification/SoundDL-CoughVID/datasets/waveinfo_labeled_fine.csv\", delimiter=',', header=0, index_col=0)\n",
    "print(datadf1.dropna(subset=[\"status\"]).count())\n",
    "print(datadf1.dropna(subset=[\"status_SSL\"]).count())"
   ]
  },
  {
   "cell_type": "code",
   "execution_count": null,
   "id": "16bde04f-8935-426b-a100-2112027543cf",
   "metadata": {},
   "outputs": [],
   "source": [
    "import pandas as pd\n",
    "datadf1 = pd.read_csv(\"C:/Program Files (zk)/PythonFiles/AClassification/SoundDL-CoughVID/datasets/waveinfo_labeled_fine.csv\", delimiter=',', header=0, index_col=0)\n",
    "datadf1[\"equal\"] = datadf1[\"status\"] == datadf1[\"status_SSL\"]"
   ]
  },
  {
   "cell_type": "code",
   "execution_count": null,
   "id": "62130302-f884-432d-9e4c-16da08676241",
   "metadata": {},
   "outputs": [],
   "source": [
    "print(datadf1.dropna(subset=[\"status\", \"status_SSL\"]))"
   ]
  },
  {
   "cell_type": "code",
   "execution_count": null,
   "id": "392c60bc-13e1-4fc9-8844-29876592e750",
   "metadata": {},
   "outputs": [],
   "source": [
    "datadf2 = datadf1.dropna(subset=[\"status\", \"status_SSL\"])\n",
    "print(datadf2[\"equal\"].count())\n",
    "print(datadf2.where(datadf1[\"equal\"]==True).count())\n",
    "print(datadf2.where(datadf1[\"equal\"]==False).count())"
   ]
  },
  {
   "cell_type": "markdown",
   "id": "eb59ccf6-e600-4fb9-bd21-2c967e80d0a9",
   "metadata": {},
   "source": [
    "# 加上扩展名"
   ]
  },
  {
   "cell_type": "code",
   "execution_count": null,
   "id": "676ba98c-92a6-48c9-a929-370adc24a9c4",
   "metadata": {},
   "outputs": [],
   "source": [
    "\n",
    "filename = []\n",
    "for i, uuid in enumerate(datadf1.iloc[:, 0]):\n",
    "    for ext in [\"webm\", \"wav\", \"ogg\"]:\n",
    "        fname = root_path + uuid + '.' + ext\n",
    "        if os.path.exists(fname):\n",
    "            filename.append(fname)\n",
    "print(\"end\")\n",
    "\n",
    "datadf1[\"filename\"] = filename\n",
    "datadf2 = datadf1.iloc[:, [5,1,2,3,4]]\n",
    "datadf2.to_csv(\"F:/DATAS/COUGHVID-public_dataset_v3/waveinfo.csv\", sep=',')"
   ]
  },
  {
   "cell_type": "markdown",
   "id": "dad033d9-b9a8-48ff-af36-e89382195b57",
   "metadata": {},
   "source": [
    "# 合并新的列 已完成"
   ]
  },
  {
   "cell_type": "code",
   "execution_count": null,
   "id": "3628b3a8-a4c7-4523-afea-de3a31fc5999",
   "metadata": {},
   "outputs": [],
   "source": [
    "datadf1 = pd.read_csv(\"F:/DATAS/COUGHVID-public_dataset_v3/waveinfo.csv\", delimiter=',', header=0, index_col=0)\n",
    "datadf2 = pd.read_csv(\"F:/DATAS/COUGHVID-public_dataset_v3/coughvid_20211012/metadata_compiled.csv\", delimiter=',',\n",
    "                 header=0, index_col=0)\n",
    "# print(datadf1.head(15))\n",
    "print(\"row num:\", len(datadf1), len(datadf2))\n",
    "datadf2 = datadf2.iloc[:, [0,9]]\n",
    "datadf1 = datadf1.where(datadf1[\"cough_detected\"]>0.65).where(datadf1[\"duration\"] < 13).where(datadf1[\"duration\"] > 0.86).dropna(axis=0)"
   ]
  },
  {
   "cell_type": "code",
   "execution_count": null,
   "id": "1dba284b-2298-423f-b302-b135302fcc8f",
   "metadata": {},
   "outputs": [],
   "source": [
    "datadf3 = datadf1.set_index(\"uuid\").join(datadf2.set_index(\"uuid\"), on=\"uuid\", how=\"left\")\n",
    "print(len(datadf3))\n",
    "datadf3"
   ]
  },
  {
   "cell_type": "code",
   "execution_count": null,
   "id": "e356e8ad-ffa4-4373-9634-ffde13083525",
   "metadata": {},
   "outputs": [],
   "source": [
    "datadf3.to_csv(\"F:/DATAS/COUGHVID-public_dataset_v3/waveinfo.csv\", sep=',')"
   ]
  },
  {
   "cell_type": "markdown",
   "id": "064197e0-f836-47e4-a6eb-7110edd80990",
   "metadata": {},
   "source": [
    "## 排序和where筛选"
   ]
  },
  {
   "cell_type": "code",
   "execution_count": null,
   "id": "9838d1c5-4321-4a63-8d83-093a2e69038f",
   "metadata": {},
   "outputs": [],
   "source": [
    "datadf1 = datadf1.where(datadf1[\"cough_detected\"]>0.65).where(datadf1[\"duration\"] < 13).where(datadf1[\"duration\"] > 0.86).dropna(axis=0)\n",
    "datadf1 = datadf1.sort_values(\"uuid\", ascending=False)\n",
    "datadf1.head(15)"
   ]
  },
  {
   "cell_type": "markdown",
   "id": "35a1a15f-c784-4602-9aeb-a6fffe4cf9c2",
   "metadata": {},
   "source": [
    "# 波形图绘图"
   ]
  },
  {
   "cell_type": "code",
   "execution_count": null,
   "id": "6204e778-89a8-4aa7-9b8c-559f5a238cae",
   "metadata": {},
   "outputs": [],
   "source": [
    "x, sr = librosa.load(root_path + \"ffe8b243-9c7b-49f1-8d7d-a953f736ea4b.wav\")\n",
    "print(\"sample rate:\", sr)\n",
    "# print(\"filename:\", root_path+df.iloc[0, :][0])\n",
    "# ipd.Audio(x, rate=sr)"
   ]
  },
  {
   "cell_type": "code",
   "execution_count": null,
   "id": "354ae27a-9251-498f-9691-86fd83b8af4b",
   "metadata": {},
   "outputs": [],
   "source": [
    "plt.figure(0)\n",
    "plt.plot(range(len(x)), x, color=\"black\")\n",
    "plt.show()"
   ]
  },
  {
   "cell_type": "markdown",
   "id": "42b5f79b-330a-4324-9a6d-40c69ffb013c",
   "metadata": {},
   "source": [
    "## 读取部分列"
   ]
  },
  {
   "cell_type": "code",
   "execution_count": null,
   "id": "16dbc2a4-97ce-4b4f-9eda-0e8d32468118",
   "metadata": {},
   "outputs": [],
   "source": [
    "metadata = pd.read_csv(\"F:/DATAS/COUGHVID-public_dataset_v3/coughvid_20211012/metadata_compiled.csv\", delimiter=',',\n",
    "                 header=0, index_col=0)\n",
    "datadf1 = metadata.iloc[:, [0,2,9]]\n",
    "datadf1 = datadf1.sort_values(\"status\", ascending=True)\n",
    "datadf1.head(15)"
   ]
  },
  {
   "cell_type": "markdown",
   "id": "309f0ed6-dc57-4eea-8f5b-f408e7bca663",
   "metadata": {},
   "source": [
    "## 已经合并得到的信息↓，不再需要运行"
   ]
  },
  {
   "cell_type": "code",
   "execution_count": null,
   "id": "c0ea5be9-2ebd-43c6-96f1-0359df610a91",
   "metadata": {},
   "outputs": [],
   "source": [
    "df = pd.read_csv(\"F:/DATAS/COUGHVID-public_dataset_v3/dura_stat.csv\", delimiter='\\t', header=None, index_col=None)\n",
    "df.columns = [\"filename\", \"nframes\", \"duration\"]\n",
    "df = df.sort_values(\"nframes\", ascending=True)\n",
    "print(df.head(15))"
   ]
  },
  {
   "cell_type": "code",
   "execution_count": null,
   "id": "3fbc0993-a87c-4861-a141-b4bdee91cde4",
   "metadata": {},
   "outputs": [],
   "source": [
    "metadata = pd.read_csv(\"F:/DATAS/COUGHVID-public_dataset_v3/coughvid_20211012/metadata_compiled.csv\", delimiter=',',\n",
    "                 header=0, index_col=0)\n",
    "datadf1 = metadata.iloc[:, [0,2]]\n",
    "datadf1 = datadf1.sort_values(\"uuid\", ascending=True)\n",
    "datadf1.head(15)\n",
    "\n",
    "datadf2 = pd.read_csv(\"F:/DATAS/COUGHVID-public_dataset_v3/dura_stat.csv\", delimiter='\\t', header=None, index_col=None)\n",
    "datadf2.columns = [\"uuid\", \"nframes\", \"duration\"]\n",
    "datadf2 = datadf2.sort_values(\"uuid\", ascending=True)\n",
    "datadf2.head(15)\n",
    "\n",
    "datadf1[\"nframes\"] = datadf2[\"nframes\"]\n",
    "datadf1[\"duration\"] = datadf2[\"duration\"]\n"
   ]
  },
  {
   "cell_type": "code",
   "execution_count": null,
   "id": "ec1eac83-063e-4a9d-9767-2f0e6bd6beca",
   "metadata": {
    "scrolled": true
   },
   "outputs": [],
   "source": [
    "datadf1 = datadf1.sort_values(\"cough_detected\", ascending=True)\n",
    "datadf1.to_csv(\"F:/DATAS/COUGHVID-public_dataset_v3/waveinfo.csv\", sep=',')"
   ]
  },
  {
   "cell_type": "code",
   "execution_count": null,
   "id": "43109279-9257-43a4-9e6c-a0a829e2c369",
   "metadata": {},
   "outputs": [],
   "source": [
    "x, sr = librosa.load(root_path + \"00bfe21c-ab71-4e5a-a941-4f83f5de5c82.wav\")\n",
    "print(\"sample rate:\", sr)\n",
    "print(\"filename:\", root_path+df.iloc[0, :][0])\n",
    "ipd.Audio(x, rate=sr)"
   ]
  },
  {
   "cell_type": "code",
   "execution_count": null,
   "id": "d72d5d11-165d-4fbb-835a-2e7bc748f809",
   "metadata": {},
   "outputs": [],
   "source": [
    "datadf1 = datadf1.sort_values(\"duration\", ascending=False)\n",
    "datadf1.where(datadf1[\"cough_detected\"]>0.65).where(datadf1[\"duration\"] < 13).where(datadf1[\"duration\"] > 0.86).dropna(axis=0)"
   ]
  },
  {
   "cell_type": "code",
   "execution_count": null,
   "id": "4df57feb-8b54-4f6b-bf90-9fed62c027b6",
   "metadata": {},
   "outputs": [],
   "source": [
    "import matplotlib.pyplot as plt\n",
    "plt.figure(0)\n",
    "plt.scatter(datadf1[\"cough_detected\"], datadf2[\"duration\"])\n",
    "plt.show()"
   ]
  }
 ],
 "metadata": {
  "kernelspec": {
   "display_name": "Python 3 (ipykernel)",
   "language": "python",
   "name": "python3"
  },
  "language_info": {
   "codemirror_mode": {
    "name": "ipython",
    "version": 3
   },
   "file_extension": ".py",
   "mimetype": "text/x-python",
   "name": "python",
   "nbconvert_exporter": "python",
   "pygments_lexer": "ipython3",
   "version": "3.8.5"
  }
 },
 "nbformat": 4,
 "nbformat_minor": 5
}
