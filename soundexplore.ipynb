{
 "cells": [
  {
   "cell_type": "code",
   "execution_count": 1,
   "id": "08d98a23-9c6f-466c-8b7f-3c43022b696f",
   "metadata": {},
   "outputs": [],
   "source": [
    "import os\n",
    "import numpy as np\n",
    "import librosa\n",
    "import pandas as pd\n",
    "import IPython.display as ipd\n",
    "import matplotlib.pyplot as plt\n",
    "root_path = \"F:/DATAS/COUGHVID-public_dataset_v3/coughvid_20211012/\""
   ]
  },
  {
   "cell_type": "markdown",
   "id": "9bed77dc-2643-44b9-8630-4cda8db1cae9",
   "metadata": {},
   "source": [
    "## 统计每个标签的数目"
   ]
  },
  {
   "cell_type": "code",
   "execution_count": 5,
   "id": "9254ce59-fe80-4cf5-983d-1df2e3de3719",
   "metadata": {},
   "outputs": [
    {
     "data": {
      "text/plain": [
       "status\n",
       "COVID-19         819\n",
       "healthy        11297\n",
       "symptomatic     2969\n",
       "Name: filename, dtype: int64"
      ]
     },
     "execution_count": 5,
     "metadata": {},
     "output_type": "execute_result"
    }
   ],
   "source": [
    "datadf1 = pd.read_csv(\"F:/DATAS/COUGHVID-public_dataset_v3/waveinfo.csv\", delimiter=',', header=0, index_col=0)\n",
    "datadf1.groupby(\"status\")[\"filename\"].count()"
   ]
  },
  {
   "cell_type": "markdown",
   "id": "eb59ccf6-e600-4fb9-bd21-2c967e80d0a9",
   "metadata": {},
   "source": [
    "# 加上扩展名"
   ]
  },
  {
   "cell_type": "code",
   "execution_count": 4,
   "id": "676ba98c-92a6-48c9-a929-370adc24a9c4",
   "metadata": {},
   "outputs": [
    {
     "name": "stdout",
     "output_type": "stream",
     "text": [
      "end\n"
     ]
    }
   ],
   "source": [
    "\n",
    "filename = []\n",
    "for i, uuid in enumerate(datadf1.iloc[:, 0]):\n",
    "    for ext in [\"webm\", \"wav\", \"ogg\"]:\n",
    "        fname = root_path + uuid + '.' + ext\n",
    "        if os.path.exists(fname):\n",
    "            filename.append(fname)\n",
    "print(\"end\")\n",
    "\n",
    "# datadf1[\"filename\"] = filename\n",
    "# datadf2 = datadf1.iloc[:, [5,1,2,3,4]]\n",
    "# datadf2.to_csv(\"F:/DATAS/COUGHVID-public_dataset_v3/waveinfo.csv\", sep=',')"
   ]
  },
  {
   "cell_type": "markdown",
   "id": "dad033d9-b9a8-48ff-af36-e89382195b57",
   "metadata": {},
   "source": [
    "# 合并新的列 已完成"
   ]
  },
  {
   "cell_type": "code",
   "execution_count": 2,
   "id": "3628b3a8-a4c7-4523-afea-de3a31fc5999",
   "metadata": {},
   "outputs": [
    {
     "name": "stdout",
     "output_type": "stream",
     "text": [
      "row num: 34434 34434\n"
     ]
    }
   ],
   "source": [
    "datadf1 = pd.read_csv(\"F:/DATAS/COUGHVID-public_dataset_v3/waveinfo.csv\", delimiter=',', header=0, index_col=0)\n",
    "datadf2 = pd.read_csv(\"F:/DATAS/COUGHVID-public_dataset_v3/coughvid_20211012/metadata_compiled.csv\", delimiter=',',\n",
    "                 header=0, index_col=0)\n",
    "# print(datadf1.head(15))\n",
    "print(\"row num:\", len(datadf1), len(datadf2))\n",
    "datadf2 = datadf2.iloc[:, [0,9]]\n",
    "datadf1 = datadf1.where(datadf1[\"cough_detected\"]>0.65).where(datadf1[\"duration\"] < 13).where(datadf1[\"duration\"] > 0.86).dropna(axis=0)"
   ]
  },
  {
   "cell_type": "code",
   "execution_count": 3,
   "id": "1dba284b-2298-423f-b302-b135302fcc8f",
   "metadata": {},
   "outputs": [
    {
     "name": "stdout",
     "output_type": "stream",
     "text": [
      "20969\n"
     ]
    },
    {
     "data": {
      "text/html": [
       "<div>\n",
       "<style scoped>\n",
       "    .dataframe tbody tr th:only-of-type {\n",
       "        vertical-align: middle;\n",
       "    }\n",
       "\n",
       "    .dataframe tbody tr th {\n",
       "        vertical-align: top;\n",
       "    }\n",
       "\n",
       "    .dataframe thead th {\n",
       "        text-align: right;\n",
       "    }\n",
       "</style>\n",
       "<table border=\"1\" class=\"dataframe\">\n",
       "  <thead>\n",
       "    <tr style=\"text-align: right;\">\n",
       "      <th></th>\n",
       "      <th>cough_detected</th>\n",
       "      <th>nframes</th>\n",
       "      <th>duration</th>\n",
       "      <th>status</th>\n",
       "    </tr>\n",
       "    <tr>\n",
       "      <th>uuid</th>\n",
       "      <th></th>\n",
       "      <th></th>\n",
       "      <th></th>\n",
       "      <th></th>\n",
       "    </tr>\n",
       "  </thead>\n",
       "  <tbody>\n",
       "    <tr>\n",
       "      <th>00039425-7f3a-42aa-ac13-834aaa2b6b92</th>\n",
       "      <td>0.9609</td>\n",
       "      <td>215649.0</td>\n",
       "      <td>9.7800</td>\n",
       "      <td>healthy</td>\n",
       "    </tr>\n",
       "    <tr>\n",
       "      <th>0009eb28-d8be-4dc1-92bb-907e53bc5c7a</th>\n",
       "      <td>0.9301</td>\n",
       "      <td>99225.0</td>\n",
       "      <td>4.5000</td>\n",
       "      <td>healthy</td>\n",
       "    </tr>\n",
       "    <tr>\n",
       "      <th>001328dc-ea5d-4847-9ccf-c5aa2a3f2d0f</th>\n",
       "      <td>0.9968</td>\n",
       "      <td>216972.0</td>\n",
       "      <td>9.8400</td>\n",
       "      <td>healthy</td>\n",
       "    </tr>\n",
       "    <tr>\n",
       "      <th>001e2f19-d81c-4029-b33c-d2db56b23a4a</th>\n",
       "      <td>0.7811</td>\n",
       "      <td>210357.0</td>\n",
       "      <td>9.5400</td>\n",
       "      <td>healthy</td>\n",
       "    </tr>\n",
       "    <tr>\n",
       "      <th>0028b68c-aca4-4f4f-bb1d-cb4ed5bbd952</th>\n",
       "      <td>0.8937</td>\n",
       "      <td>160083.0</td>\n",
       "      <td>7.2600</td>\n",
       "      <td>healthy</td>\n",
       "    </tr>\n",
       "    <tr>\n",
       "      <th>...</th>\n",
       "      <td>...</td>\n",
       "      <td>...</td>\n",
       "      <td>...</td>\n",
       "      <td>...</td>\n",
       "    </tr>\n",
       "    <tr>\n",
       "      <th>ffeea120-92a4-40f9-b692-c3865c7a983f</th>\n",
       "      <td>0.9784</td>\n",
       "      <td>201096.0</td>\n",
       "      <td>9.1200</td>\n",
       "      <td>healthy</td>\n",
       "    </tr>\n",
       "    <tr>\n",
       "      <th>fff13fa2-a725-49ef-812a-39c6cedda33d</th>\n",
       "      <td>0.7154</td>\n",
       "      <td>218295.0</td>\n",
       "      <td>9.9000</td>\n",
       "      <td>healthy</td>\n",
       "    </tr>\n",
       "    <tr>\n",
       "      <th>fff30afc-db62-4408-a585-07ca9a254fcc</th>\n",
       "      <td>0.9698</td>\n",
       "      <td>218295.0</td>\n",
       "      <td>9.9000</td>\n",
       "      <td>NaN</td>\n",
       "    </tr>\n",
       "    <tr>\n",
       "      <th>fffce9f0-a5e8-4bee-b13b-c671aac4a61c</th>\n",
       "      <td>0.9754</td>\n",
       "      <td>97902.0</td>\n",
       "      <td>4.4400</td>\n",
       "      <td>NaN</td>\n",
       "    </tr>\n",
       "    <tr>\n",
       "      <th>fffd1834-6cf2-4782-bb30-04c31b46a1fe</th>\n",
       "      <td>0.9754</td>\n",
       "      <td>71501.0</td>\n",
       "      <td>3.2427</td>\n",
       "      <td>healthy</td>\n",
       "    </tr>\n",
       "  </tbody>\n",
       "</table>\n",
       "<p>20969 rows × 4 columns</p>\n",
       "</div>"
      ],
      "text/plain": [
       "                                      cough_detected   nframes  duration  \\\n",
       "uuid                                                                       \n",
       "00039425-7f3a-42aa-ac13-834aaa2b6b92          0.9609  215649.0    9.7800   \n",
       "0009eb28-d8be-4dc1-92bb-907e53bc5c7a          0.9301   99225.0    4.5000   \n",
       "001328dc-ea5d-4847-9ccf-c5aa2a3f2d0f          0.9968  216972.0    9.8400   \n",
       "001e2f19-d81c-4029-b33c-d2db56b23a4a          0.7811  210357.0    9.5400   \n",
       "0028b68c-aca4-4f4f-bb1d-cb4ed5bbd952          0.8937  160083.0    7.2600   \n",
       "...                                              ...       ...       ...   \n",
       "ffeea120-92a4-40f9-b692-c3865c7a983f          0.9784  201096.0    9.1200   \n",
       "fff13fa2-a725-49ef-812a-39c6cedda33d          0.7154  218295.0    9.9000   \n",
       "fff30afc-db62-4408-a585-07ca9a254fcc          0.9698  218295.0    9.9000   \n",
       "fffce9f0-a5e8-4bee-b13b-c671aac4a61c          0.9754   97902.0    4.4400   \n",
       "fffd1834-6cf2-4782-bb30-04c31b46a1fe          0.9754   71501.0    3.2427   \n",
       "\n",
       "                                       status  \n",
       "uuid                                           \n",
       "00039425-7f3a-42aa-ac13-834aaa2b6b92  healthy  \n",
       "0009eb28-d8be-4dc1-92bb-907e53bc5c7a  healthy  \n",
       "001328dc-ea5d-4847-9ccf-c5aa2a3f2d0f  healthy  \n",
       "001e2f19-d81c-4029-b33c-d2db56b23a4a  healthy  \n",
       "0028b68c-aca4-4f4f-bb1d-cb4ed5bbd952  healthy  \n",
       "...                                       ...  \n",
       "ffeea120-92a4-40f9-b692-c3865c7a983f  healthy  \n",
       "fff13fa2-a725-49ef-812a-39c6cedda33d  healthy  \n",
       "fff30afc-db62-4408-a585-07ca9a254fcc      NaN  \n",
       "fffce9f0-a5e8-4bee-b13b-c671aac4a61c      NaN  \n",
       "fffd1834-6cf2-4782-bb30-04c31b46a1fe  healthy  \n",
       "\n",
       "[20969 rows x 4 columns]"
      ]
     },
     "execution_count": 3,
     "metadata": {},
     "output_type": "execute_result"
    }
   ],
   "source": [
    "datadf3 = datadf1.set_index(\"uuid\").join(datadf2.set_index(\"uuid\"), on=\"uuid\", how=\"left\")\n",
    "print(len(datadf3))\n",
    "datadf3"
   ]
  },
  {
   "cell_type": "code",
   "execution_count": 5,
   "id": "e356e8ad-ffa4-4373-9634-ffde13083525",
   "metadata": {},
   "outputs": [],
   "source": [
    "datadf3.to_csv(\"F:/DATAS/COUGHVID-public_dataset_v3/waveinfo.csv\", sep=',')"
   ]
  },
  {
   "cell_type": "markdown",
   "id": "064197e0-f836-47e4-a6eb-7110edd80990",
   "metadata": {},
   "source": [
    "## 排序和where筛选"
   ]
  },
  {
   "cell_type": "code",
   "execution_count": 4,
   "id": "9838d1c5-4321-4a63-8d83-093a2e69038f",
   "metadata": {},
   "outputs": [
    {
     "data": {
      "text/html": [
       "<div>\n",
       "<style scoped>\n",
       "    .dataframe tbody tr th:only-of-type {\n",
       "        vertical-align: middle;\n",
       "    }\n",
       "\n",
       "    .dataframe tbody tr th {\n",
       "        vertical-align: top;\n",
       "    }\n",
       "\n",
       "    .dataframe thead th {\n",
       "        text-align: right;\n",
       "    }\n",
       "</style>\n",
       "<table border=\"1\" class=\"dataframe\">\n",
       "  <thead>\n",
       "    <tr style=\"text-align: right;\">\n",
       "      <th></th>\n",
       "      <th>uuid</th>\n",
       "      <th>cough_detected</th>\n",
       "      <th>nframes</th>\n",
       "      <th>duration</th>\n",
       "    </tr>\n",
       "  </thead>\n",
       "  <tbody>\n",
       "    <tr>\n",
       "      <th>34433</th>\n",
       "      <td>fffd1834-6cf2-4782-bb30-04c31b46a1fe</td>\n",
       "      <td>0.9754</td>\n",
       "      <td>71501.0</td>\n",
       "      <td>3.2427</td>\n",
       "    </tr>\n",
       "    <tr>\n",
       "      <th>34432</th>\n",
       "      <td>fffce9f0-a5e8-4bee-b13b-c671aac4a61c</td>\n",
       "      <td>0.9754</td>\n",
       "      <td>97902.0</td>\n",
       "      <td>4.4400</td>\n",
       "    </tr>\n",
       "    <tr>\n",
       "      <th>34428</th>\n",
       "      <td>fff30afc-db62-4408-a585-07ca9a254fcc</td>\n",
       "      <td>0.9698</td>\n",
       "      <td>218295.0</td>\n",
       "      <td>9.9000</td>\n",
       "    </tr>\n",
       "    <tr>\n",
       "      <th>34427</th>\n",
       "      <td>fff13fa2-a725-49ef-812a-39c6cedda33d</td>\n",
       "      <td>0.7154</td>\n",
       "      <td>218295.0</td>\n",
       "      <td>9.9000</td>\n",
       "    </tr>\n",
       "    <tr>\n",
       "      <th>34426</th>\n",
       "      <td>ffeea120-92a4-40f9-b692-c3865c7a983f</td>\n",
       "      <td>0.9784</td>\n",
       "      <td>201096.0</td>\n",
       "      <td>9.1200</td>\n",
       "    </tr>\n",
       "    <tr>\n",
       "      <th>34425</th>\n",
       "      <td>ffedc843-bfc2-4ad6-a749-2bc86bdac84a</td>\n",
       "      <td>0.9498</td>\n",
       "      <td>213003.0</td>\n",
       "      <td>9.6600</td>\n",
       "    </tr>\n",
       "    <tr>\n",
       "      <th>34424</th>\n",
       "      <td>ffe8b243-9c7b-49f1-8d7d-a953f736ea4b</td>\n",
       "      <td>0.9818</td>\n",
       "      <td>222029.0</td>\n",
       "      <td>10.0693</td>\n",
       "    </tr>\n",
       "    <tr>\n",
       "      <th>34422</th>\n",
       "      <td>ffe13fcf-c5c2-4a6a-a9fc-e010f4f033c1</td>\n",
       "      <td>0.9485</td>\n",
       "      <td>218295.0</td>\n",
       "      <td>9.9000</td>\n",
       "    </tr>\n",
       "    <tr>\n",
       "      <th>34421</th>\n",
       "      <td>ffe0658f-bade-4654-ad79-40a468aabb03</td>\n",
       "      <td>0.9846</td>\n",
       "      <td>210357.0</td>\n",
       "      <td>9.5400</td>\n",
       "    </tr>\n",
       "    <tr>\n",
       "      <th>34420</th>\n",
       "      <td>ffdf80c2-be81-4fc9-9484-a72223cfc87d</td>\n",
       "      <td>0.6991</td>\n",
       "      <td>67473.0</td>\n",
       "      <td>3.0600</td>\n",
       "    </tr>\n",
       "    <tr>\n",
       "      <th>34418</th>\n",
       "      <td>ffdcd501-1205-4644-9f1b-550cc381e74e</td>\n",
       "      <td>0.9985</td>\n",
       "      <td>103194.0</td>\n",
       "      <td>4.6800</td>\n",
       "    </tr>\n",
       "    <tr>\n",
       "      <th>34417</th>\n",
       "      <td>ffdc1fbe-ae22-4488-ad01-307edd2912ed</td>\n",
       "      <td>0.8052</td>\n",
       "      <td>138915.0</td>\n",
       "      <td>6.3000</td>\n",
       "    </tr>\n",
       "    <tr>\n",
       "      <th>34416</th>\n",
       "      <td>ffdb477f-9454-497c-89ab-80e9881610d4</td>\n",
       "      <td>0.8177</td>\n",
       "      <td>161406.0</td>\n",
       "      <td>7.3200</td>\n",
       "    </tr>\n",
       "    <tr>\n",
       "      <th>34414</th>\n",
       "      <td>ffd42893-4119-4855-9aad-c67d8d392cc1</td>\n",
       "      <td>0.9414</td>\n",
       "      <td>219618.0</td>\n",
       "      <td>9.9600</td>\n",
       "    </tr>\n",
       "    <tr>\n",
       "      <th>34413</th>\n",
       "      <td>ffd18a56-096d-40fc-9862-e5c5a8ca1fcd</td>\n",
       "      <td>0.9953</td>\n",
       "      <td>216972.0</td>\n",
       "      <td>9.8400</td>\n",
       "    </tr>\n",
       "  </tbody>\n",
       "</table>\n",
       "</div>"
      ],
      "text/plain": [
       "                                       uuid  cough_detected   nframes  \\\n",
       "34433  fffd1834-6cf2-4782-bb30-04c31b46a1fe          0.9754   71501.0   \n",
       "34432  fffce9f0-a5e8-4bee-b13b-c671aac4a61c          0.9754   97902.0   \n",
       "34428  fff30afc-db62-4408-a585-07ca9a254fcc          0.9698  218295.0   \n",
       "34427  fff13fa2-a725-49ef-812a-39c6cedda33d          0.7154  218295.0   \n",
       "34426  ffeea120-92a4-40f9-b692-c3865c7a983f          0.9784  201096.0   \n",
       "34425  ffedc843-bfc2-4ad6-a749-2bc86bdac84a          0.9498  213003.0   \n",
       "34424  ffe8b243-9c7b-49f1-8d7d-a953f736ea4b          0.9818  222029.0   \n",
       "34422  ffe13fcf-c5c2-4a6a-a9fc-e010f4f033c1          0.9485  218295.0   \n",
       "34421  ffe0658f-bade-4654-ad79-40a468aabb03          0.9846  210357.0   \n",
       "34420  ffdf80c2-be81-4fc9-9484-a72223cfc87d          0.6991   67473.0   \n",
       "34418  ffdcd501-1205-4644-9f1b-550cc381e74e          0.9985  103194.0   \n",
       "34417  ffdc1fbe-ae22-4488-ad01-307edd2912ed          0.8052  138915.0   \n",
       "34416  ffdb477f-9454-497c-89ab-80e9881610d4          0.8177  161406.0   \n",
       "34414  ffd42893-4119-4855-9aad-c67d8d392cc1          0.9414  219618.0   \n",
       "34413  ffd18a56-096d-40fc-9862-e5c5a8ca1fcd          0.9953  216972.0   \n",
       "\n",
       "       duration  \n",
       "34433    3.2427  \n",
       "34432    4.4400  \n",
       "34428    9.9000  \n",
       "34427    9.9000  \n",
       "34426    9.1200  \n",
       "34425    9.6600  \n",
       "34424   10.0693  \n",
       "34422    9.9000  \n",
       "34421    9.5400  \n",
       "34420    3.0600  \n",
       "34418    4.6800  \n",
       "34417    6.3000  \n",
       "34416    7.3200  \n",
       "34414    9.9600  \n",
       "34413    9.8400  "
      ]
     },
     "execution_count": 4,
     "metadata": {},
     "output_type": "execute_result"
    }
   ],
   "source": [
    "datadf1 = datadf1.where(datadf1[\"cough_detected\"]>0.65).where(datadf1[\"duration\"] < 13).where(datadf1[\"duration\"] > 0.86).dropna(axis=0)\n",
    "datadf1 = datadf1.sort_values(\"uuid\", ascending=False)\n",
    "datadf1.head(15)"
   ]
  },
  {
   "cell_type": "markdown",
   "id": "35a1a15f-c784-4602-9aeb-a6fffe4cf9c2",
   "metadata": {},
   "source": [
    "# 波形图绘图"
   ]
  },
  {
   "cell_type": "code",
   "execution_count": 8,
   "id": "6204e778-89a8-4aa7-9b8c-559f5a238cae",
   "metadata": {},
   "outputs": [
    {
     "name": "stdout",
     "output_type": "stream",
     "text": [
      "sample rate: 22050\n"
     ]
    },
    {
     "name": "stderr",
     "output_type": "stream",
     "text": [
      "C:\\Users\\zhaoke\\AppData\\Local\\Temp\\ipykernel_22468\\877900267.py:1: UserWarning: PySoundFile failed. Trying audioread instead.\n",
      "  x, sr = librosa.load(root_path + \"ffe8b243-9c7b-49f1-8d7d-a953f736ea4b.wav\")\n",
      "C:\\Users\\zhaoke\\miniconda3\\envs\\torch-0\\lib\\site-packages\\librosa\\core\\audio.py:183: FutureWarning: librosa.core.audio.__audioread_load\n",
      "\tDeprecated as of librosa version 0.10.0.\n",
      "\tIt will be removed in librosa version 1.0.\n",
      "  y, sr_native = __audioread_load(path, offset, duration, dtype)\n"
     ]
    }
   ],
   "source": [
    "x, sr = librosa.load(root_path + \"ffe8b243-9c7b-49f1-8d7d-a953f736ea4b.wav\")\n",
    "print(\"sample rate:\", sr)\n",
    "# print(\"filename:\", root_path+df.iloc[0, :][0])\n",
    "# ipd.Audio(x, rate=sr)"
   ]
  },
  {
   "cell_type": "code",
   "execution_count": 10,
   "id": "354ae27a-9251-498f-9691-86fd83b8af4b",
   "metadata": {},
   "outputs": [
    {
     "data": {
      "image/png": "[encoded data removed]",
      "text/plain": [
       "<Figure size 640x480 with 1 Axes>"
      ]
     },
     "metadata": {},
     "output_type": "display_data"
    }
   ],
   "source": [
    "plt.figure(0)\n",
    "plt.plot(range(len(x)), x, color=\"black\")\n",
    "plt.show()"
   ]
  },
  {
   "cell_type": "markdown",
   "id": "42b5f79b-330a-4324-9a6d-40c69ffb013c",
   "metadata": {},
   "source": [
    "## 读取部分列"
   ]
  },
  {
   "cell_type": "code",
   "execution_count": 11,
   "id": "16dbc2a4-97ce-4b4f-9eda-0e8d32468118",
   "metadata": {},
   "outputs": [
    {
     "data": {
      "text/html": [
       "<div>\n",
       "<style scoped>\n",
       "    .dataframe tbody tr th:only-of-type {\n",
       "        vertical-align: middle;\n",
       "    }\n",
       "\n",
       "    .dataframe tbody tr th {\n",
       "        vertical-align: top;\n",
       "    }\n",
       "\n",
       "    .dataframe thead th {\n",
       "        text-align: right;\n",
       "    }\n",
       "</style>\n",
       "<table border=\"1\" class=\"dataframe\">\n",
       "  <thead>\n",
       "    <tr style=\"text-align: right;\">\n",
       "      <th></th>\n",
       "      <th>uuid</th>\n",
       "      <th>cough_detected</th>\n",
       "      <th>status</th>\n",
       "    </tr>\n",
       "  </thead>\n",
       "  <tbody>\n",
       "    <tr>\n",
       "      <th>12201</th>\n",
       "      <td>5aa358bd-10a7-4d24-b5a7-35bc0b072ca8</td>\n",
       "      <td>0.0535</td>\n",
       "      <td>COVID-19</td>\n",
       "    </tr>\n",
       "    <tr>\n",
       "      <th>3991</th>\n",
       "      <td>1d9490a3-155d-4eb5-a34d-acef154740ed</td>\n",
       "      <td>0.1140</td>\n",
       "      <td>COVID-19</td>\n",
       "    </tr>\n",
       "    <tr>\n",
       "      <th>29711</th>\n",
       "      <td>dd235b59-b0df-4eb7-9024-3b11e1515888</td>\n",
       "      <td>0.9254</td>\n",
       "      <td>COVID-19</td>\n",
       "    </tr>\n",
       "    <tr>\n",
       "      <th>20048</th>\n",
       "      <td>953e2f0c-d36f-4365-baa4-1d310ed74278</td>\n",
       "      <td>0.9688</td>\n",
       "      <td>COVID-19</td>\n",
       "    </tr>\n",
       "    <tr>\n",
       "      <th>3969</th>\n",
       "      <td>1d6f3f96-fb43-49e6-8c38-70586a9dc52f</td>\n",
       "      <td>0.0510</td>\n",
       "      <td>COVID-19</td>\n",
       "    </tr>\n",
       "    <tr>\n",
       "      <th>29721</th>\n",
       "      <td>dd31227a-b7ae-4658-889f-cf773b7acd8a</td>\n",
       "      <td>0.1179</td>\n",
       "      <td>COVID-19</td>\n",
       "    </tr>\n",
       "    <tr>\n",
       "      <th>29741</th>\n",
       "      <td>dd489c88-affc-4142-ac56-752c3a433991</td>\n",
       "      <td>0.9453</td>\n",
       "      <td>COVID-19</td>\n",
       "    </tr>\n",
       "    <tr>\n",
       "      <th>3938</th>\n",
       "      <td>1d471862-8805-411b-bd10-2b8e9ffdf718</td>\n",
       "      <td>0.9946</td>\n",
       "      <td>COVID-19</td>\n",
       "    </tr>\n",
       "    <tr>\n",
       "      <th>3932</th>\n",
       "      <td>1d3f954c-8d15-4279-832b-e2487b96750f</td>\n",
       "      <td>0.8709</td>\n",
       "      <td>COVID-19</td>\n",
       "    </tr>\n",
       "    <tr>\n",
       "      <th>12399</th>\n",
       "      <td>5c25d8f9-0c68-46b2-95be-71c84536978d</td>\n",
       "      <td>0.0070</td>\n",
       "      <td>COVID-19</td>\n",
       "    </tr>\n",
       "    <tr>\n",
       "      <th>29774</th>\n",
       "      <td>dd87bf69-1802-47aa-9586-b840d685797a</td>\n",
       "      <td>0.9817</td>\n",
       "      <td>COVID-19</td>\n",
       "    </tr>\n",
       "    <tr>\n",
       "      <th>19967</th>\n",
       "      <td>94ad74ad-5a8c-406c-9c1a-18e281d53b9d</td>\n",
       "      <td>0.7656</td>\n",
       "      <td>COVID-19</td>\n",
       "    </tr>\n",
       "    <tr>\n",
       "      <th>29780</th>\n",
       "      <td>dd94652b-ff9f-4f9c-b01f-8f5df600e846</td>\n",
       "      <td>0.2014</td>\n",
       "      <td>COVID-19</td>\n",
       "    </tr>\n",
       "    <tr>\n",
       "      <th>19966</th>\n",
       "      <td>94acf0cb-bd68-46e6-9055-95a8be6a43fa</td>\n",
       "      <td>0.8002</td>\n",
       "      <td>COVID-19</td>\n",
       "    </tr>\n",
       "    <tr>\n",
       "      <th>12416</th>\n",
       "      <td>5c4d833f-64ac-4ec0-82d9-3327020c870f</td>\n",
       "      <td>0.9744</td>\n",
       "      <td>COVID-19</td>\n",
       "    </tr>\n",
       "  </tbody>\n",
       "</table>\n",
       "</div>"
      ],
      "text/plain": [
       "                                       uuid  cough_detected    status\n",
       "12201  5aa358bd-10a7-4d24-b5a7-35bc0b072ca8          0.0535  COVID-19\n",
       "3991   1d9490a3-155d-4eb5-a34d-acef154740ed          0.1140  COVID-19\n",
       "29711  dd235b59-b0df-4eb7-9024-3b11e1515888          0.9254  COVID-19\n",
       "20048  953e2f0c-d36f-4365-baa4-1d310ed74278          0.9688  COVID-19\n",
       "3969   1d6f3f96-fb43-49e6-8c38-70586a9dc52f          0.0510  COVID-19\n",
       "29721  dd31227a-b7ae-4658-889f-cf773b7acd8a          0.1179  COVID-19\n",
       "29741  dd489c88-affc-4142-ac56-752c3a433991          0.9453  COVID-19\n",
       "3938   1d471862-8805-411b-bd10-2b8e9ffdf718          0.9946  COVID-19\n",
       "3932   1d3f954c-8d15-4279-832b-e2487b96750f          0.8709  COVID-19\n",
       "12399  5c25d8f9-0c68-46b2-95be-71c84536978d          0.0070  COVID-19\n",
       "29774  dd87bf69-1802-47aa-9586-b840d685797a          0.9817  COVID-19\n",
       "19967  94ad74ad-5a8c-406c-9c1a-18e281d53b9d          0.7656  COVID-19\n",
       "29780  dd94652b-ff9f-4f9c-b01f-8f5df600e846          0.2014  COVID-19\n",
       "19966  94acf0cb-bd68-46e6-9055-95a8be6a43fa          0.8002  COVID-19\n",
       "12416  5c4d833f-64ac-4ec0-82d9-3327020c870f          0.9744  COVID-19"
      ]
     },
     "execution_count": 11,
     "metadata": {},
     "output_type": "execute_result"
    }
   ],
   "source": [
    "metadata = pd.read_csv(\"F:/DATAS/COUGHVID-public_dataset_v3/coughvid_20211012/metadata_compiled.csv\", delimiter=',',\n",
    "                 header=0, index_col=0)\n",
    "datadf1 = metadata.iloc[:, [0,2,9]]\n",
    "datadf1 = datadf1.sort_values(\"status\", ascending=True)\n",
    "datadf1.head(15)"
   ]
  },
  {
   "cell_type": "markdown",
   "id": "309f0ed6-dc57-4eea-8f5b-f408e7bca663",
   "metadata": {},
   "source": [
    "## 已经合并得到的信息↓，不再需要运行"
   ]
  },
  {
   "cell_type": "code",
   "execution_count": 2,
   "id": "c0ea5be9-2ebd-43c6-96f1-0359df610a91",
   "metadata": {},
   "outputs": [
    {
     "name": "stdout",
     "output_type": "stream",
     "text": [
      "                                       filename  nframes  duration\n",
      "3814   1c457e96-6a2b-40aa-a065-4a8901c0e759.wav      941    0.0427\n",
      "21384  9f4b2c6a-1b37-45a1-be61-69aeda710f94.wav      941    0.0427\n",
      "34118  fd9a47b3-9b67-4977-9477-f64872da4407.wav      941    0.0427\n",
      "8728   40bde2e7-95fe-4920-ab88-8c4db4f3d536.wav      941    0.0427\n",
      "27653  ce09de17-51b0-435a-9a0f-eb6ee8ee0233.wav      941    0.0427\n",
      "22061  a47c5c5c-d114-4c98-9694-2c86aef9b247.wav      941    0.0427\n",
      "13586  64c5aeae-db36-48a9-b4e6-2359ce19cdf5.wav     1024    0.0464\n",
      "21706  a1f81d69-3d9c-4513-ab7e-c6589e86324f.wav     1024    0.0464\n",
      "6314   2f29ecb6-b231-4882-bd8e-0a215e96edf1.wav     1024    0.0464\n",
      "21882  a31f30cd-26ea-453e-b860-12475282df67.wav     1024    0.0464\n",
      "11755  575185d8-ab48-417a-a582-f3cb5cb92b50.wav     1024    0.0464\n",
      "33960  fc695cbd-c0b3-4698-a070-d6481ee4fd12.wav     1882    0.0854\n",
      "5261   274d0bfc-3941-4864-8581-5dcad50f9e3d.wav     2048    0.0929\n",
      "31684  ebe7d6bd-8230-430f-99fc-c68a99003e27.wav     2048    0.0929\n",
      "9890   492c965c-3c4f-4303-bd21-2335b0466059.wav     2048    0.0929\n"
     ]
    }
   ],
   "source": [
    "df = pd.read_csv(\"F:/DATAS/COUGHVID-public_dataset_v3/dura_stat.csv\", delimiter='\\t', header=None, index_col=None)\n",
    "df.columns = [\"filename\", \"nframes\", \"duration\"]\n",
    "df = df.sort_values(\"nframes\", ascending=True)\n",
    "print(df.head(15))"
   ]
  },
  {
   "cell_type": "code",
   "execution_count": null,
   "id": "3fbc0993-a87c-4861-a141-b4bdee91cde4",
   "metadata": {},
   "outputs": [],
   "source": [
    "metadata = pd.read_csv(\"F:/DATAS/COUGHVID-public_dataset_v3/coughvid_20211012/metadata_compiled.csv\", delimiter=',',\n",
    "                 header=0, index_col=0)\n",
    "datadf1 = metadata.iloc[:, [0,2]]\n",
    "datadf1 = datadf1.sort_values(\"uuid\", ascending=True)\n",
    "datadf1.head(15)\n",
    "\n",
    "datadf2 = pd.read_csv(\"F:/DATAS/COUGHVID-public_dataset_v3/dura_stat.csv\", delimiter='\\t', header=None, index_col=None)\n",
    "datadf2.columns = [\"uuid\", \"nframes\", \"duration\"]\n",
    "datadf2 = datadf2.sort_values(\"uuid\", ascending=True)\n",
    "datadf2.head(15)\n",
    "\n",
    "datadf1[\"nframes\"] = datadf2[\"nframes\"]\n",
    "datadf1[\"duration\"] = datadf2[\"duration\"]\n"
   ]
  },
  {
   "cell_type": "code",
   "execution_count": 33,
   "id": "ec1eac83-063e-4a9d-9767-2f0e6bd6beca",
   "metadata": {
    "scrolled": true
   },
   "outputs": [
    {
     "ename": "PermissionError",
     "evalue": "[Errno 13] Permission denied: 'F:/DATAS/COUGHVID-public_dataset_v3/waveinfo.csv'",
     "output_type": "error",
     "traceback": [
      "\u001b[1;31m---------------------------------------------------------------------------\u001b[0m",
      "\u001b[1;31mPermissionError\u001b[0m                           Traceback (most recent call last)",
      "Cell \u001b[1;32mIn[33], line 2\u001b[0m\n\u001b[0;32m      1\u001b[0m datadf1 \u001b[38;5;241m=\u001b[39m datadf1\u001b[38;5;241m.\u001b[39msort_values(\u001b[38;5;124m\"\u001b[39m\u001b[38;5;124mcough_detected\u001b[39m\u001b[38;5;124m\"\u001b[39m, ascending\u001b[38;5;241m=\u001b[39m\u001b[38;5;28;01mTrue\u001b[39;00m)\n\u001b[1;32m----> 2\u001b[0m \u001b[43mdatadf1\u001b[49m\u001b[38;5;241;43m.\u001b[39;49m\u001b[43mto_csv\u001b[49m\u001b[43m(\u001b[49m\u001b[38;5;124;43m\"\u001b[39;49m\u001b[38;5;124;43mF:/DATAS/COUGHVID-public_dataset_v3/waveinfo.csv\u001b[39;49m\u001b[38;5;124;43m\"\u001b[39;49m\u001b[43m,\u001b[49m\u001b[43m \u001b[49m\u001b[43msep\u001b[49m\u001b[38;5;241;43m=\u001b[39;49m\u001b[38;5;124;43m'\u001b[39;49m\u001b[38;5;124;43m,\u001b[39;49m\u001b[38;5;124;43m'\u001b[39;49m\u001b[43m)\u001b[49m\n",
      "File \u001b[1;32m~\\miniconda3\\envs\\torch-0\\lib\\site-packages\\pandas\\util\\_decorators.py:211\u001b[0m, in \u001b[0;36mdeprecate_kwarg.<locals>._deprecate_kwarg.<locals>.wrapper\u001b[1;34m(*args, **kwargs)\u001b[0m\n\u001b[0;32m    209\u001b[0m     \u001b[38;5;28;01melse\u001b[39;00m:\n\u001b[0;32m    210\u001b[0m         kwargs[new_arg_name] \u001b[38;5;241m=\u001b[39m new_arg_value\n\u001b[1;32m--> 211\u001b[0m \u001b[38;5;28;01mreturn\u001b[39;00m \u001b[43mfunc\u001b[49m\u001b[43m(\u001b[49m\u001b[38;5;241;43m*\u001b[39;49m\u001b[43margs\u001b[49m\u001b[43m,\u001b[49m\u001b[43m \u001b[49m\u001b[38;5;241;43m*\u001b[39;49m\u001b[38;5;241;43m*\u001b[39;49m\u001b[43mkwargs\u001b[49m\u001b[43m)\u001b[49m\n",
      "File \u001b[1;32m~\\miniconda3\\envs\\torch-0\\lib\\site-packages\\pandas\\core\\generic.py:3720\u001b[0m, in \u001b[0;36mNDFrame.to_csv\u001b[1;34m(self, path_or_buf, sep, na_rep, float_format, columns, header, index, index_label, mode, encoding, compression, quoting, quotechar, lineterminator, chunksize, date_format, doublequote, escapechar, decimal, errors, storage_options)\u001b[0m\n\u001b[0;32m   3709\u001b[0m df \u001b[38;5;241m=\u001b[39m \u001b[38;5;28mself\u001b[39m \u001b[38;5;28;01mif\u001b[39;00m \u001b[38;5;28misinstance\u001b[39m(\u001b[38;5;28mself\u001b[39m, ABCDataFrame) \u001b[38;5;28;01melse\u001b[39;00m \u001b[38;5;28mself\u001b[39m\u001b[38;5;241m.\u001b[39mto_frame()\n\u001b[0;32m   3711\u001b[0m formatter \u001b[38;5;241m=\u001b[39m DataFrameFormatter(\n\u001b[0;32m   3712\u001b[0m     frame\u001b[38;5;241m=\u001b[39mdf,\n\u001b[0;32m   3713\u001b[0m     header\u001b[38;5;241m=\u001b[39mheader,\n\u001b[1;32m   (...)\u001b[0m\n\u001b[0;32m   3717\u001b[0m     decimal\u001b[38;5;241m=\u001b[39mdecimal,\n\u001b[0;32m   3718\u001b[0m )\n\u001b[1;32m-> 3720\u001b[0m \u001b[38;5;28;01mreturn\u001b[39;00m \u001b[43mDataFrameRenderer\u001b[49m\u001b[43m(\u001b[49m\u001b[43mformatter\u001b[49m\u001b[43m)\u001b[49m\u001b[38;5;241;43m.\u001b[39;49m\u001b[43mto_csv\u001b[49m\u001b[43m(\u001b[49m\n\u001b[0;32m   3721\u001b[0m \u001b[43m    \u001b[49m\u001b[43mpath_or_buf\u001b[49m\u001b[43m,\u001b[49m\n\u001b[0;32m   3722\u001b[0m \u001b[43m    \u001b[49m\u001b[43mlineterminator\u001b[49m\u001b[38;5;241;43m=\u001b[39;49m\u001b[43mlineterminator\u001b[49m\u001b[43m,\u001b[49m\n\u001b[0;32m   3723\u001b[0m \u001b[43m    \u001b[49m\u001b[43msep\u001b[49m\u001b[38;5;241;43m=\u001b[39;49m\u001b[43msep\u001b[49m\u001b[43m,\u001b[49m\n\u001b[0;32m   3724\u001b[0m \u001b[43m    \u001b[49m\u001b[43mencoding\u001b[49m\u001b[38;5;241;43m=\u001b[39;49m\u001b[43mencoding\u001b[49m\u001b[43m,\u001b[49m\n\u001b[0;32m   3725\u001b[0m \u001b[43m    \u001b[49m\u001b[43merrors\u001b[49m\u001b[38;5;241;43m=\u001b[39;49m\u001b[43merrors\u001b[49m\u001b[43m,\u001b[49m\n\u001b[0;32m   3726\u001b[0m \u001b[43m    \u001b[49m\u001b[43mcompression\u001b[49m\u001b[38;5;241;43m=\u001b[39;49m\u001b[43mcompression\u001b[49m\u001b[43m,\u001b[49m\n\u001b[0;32m   3727\u001b[0m \u001b[43m    \u001b[49m\u001b[43mquoting\u001b[49m\u001b[38;5;241;43m=\u001b[39;49m\u001b[43mquoting\u001b[49m\u001b[43m,\u001b[49m\n\u001b[0;32m   3728\u001b[0m \u001b[43m    \u001b[49m\u001b[43mcolumns\u001b[49m\u001b[38;5;241;43m=\u001b[39;49m\u001b[43mcolumns\u001b[49m\u001b[43m,\u001b[49m\n\u001b[0;32m   3729\u001b[0m \u001b[43m    \u001b[49m\u001b[43mindex_label\u001b[49m\u001b[38;5;241;43m=\u001b[39;49m\u001b[43mindex_label\u001b[49m\u001b[43m,\u001b[49m\n\u001b[0;32m   3730\u001b[0m \u001b[43m    \u001b[49m\u001b[43mmode\u001b[49m\u001b[38;5;241;43m=\u001b[39;49m\u001b[43mmode\u001b[49m\u001b[43m,\u001b[49m\n\u001b[0;32m   3731\u001b[0m \u001b[43m    \u001b[49m\u001b[43mchunksize\u001b[49m\u001b[38;5;241;43m=\u001b[39;49m\u001b[43mchunksize\u001b[49m\u001b[43m,\u001b[49m\n\u001b[0;32m   3732\u001b[0m \u001b[43m    \u001b[49m\u001b[43mquotechar\u001b[49m\u001b[38;5;241;43m=\u001b[39;49m\u001b[43mquotechar\u001b[49m\u001b[43m,\u001b[49m\n\u001b[0;32m   3733\u001b[0m \u001b[43m    \u001b[49m\u001b[43mdate_format\u001b[49m\u001b[38;5;241;43m=\u001b[39;49m\u001b[43mdate_format\u001b[49m\u001b[43m,\u001b[49m\n\u001b[0;32m   3734\u001b[0m \u001b[43m    \u001b[49m\u001b[43mdoublequote\u001b[49m\u001b[38;5;241;43m=\u001b[39;49m\u001b[43mdoublequote\u001b[49m\u001b[43m,\u001b[49m\n\u001b[0;32m   3735\u001b[0m \u001b[43m    \u001b[49m\u001b[43mescapechar\u001b[49m\u001b[38;5;241;43m=\u001b[39;49m\u001b[43mescapechar\u001b[49m\u001b[43m,\u001b[49m\n\u001b[0;32m   3736\u001b[0m \u001b[43m    \u001b[49m\u001b[43mstorage_options\u001b[49m\u001b[38;5;241;43m=\u001b[39;49m\u001b[43mstorage_options\u001b[49m\u001b[43m,\u001b[49m\n\u001b[0;32m   3737\u001b[0m \u001b[43m\u001b[49m\u001b[43m)\u001b[49m\n",
      "File \u001b[1;32m~\\miniconda3\\envs\\torch-0\\lib\\site-packages\\pandas\\util\\_decorators.py:211\u001b[0m, in \u001b[0;36mdeprecate_kwarg.<locals>._deprecate_kwarg.<locals>.wrapper\u001b[1;34m(*args, **kwargs)\u001b[0m\n\u001b[0;32m    209\u001b[0m     \u001b[38;5;28;01melse\u001b[39;00m:\n\u001b[0;32m    210\u001b[0m         kwargs[new_arg_name] \u001b[38;5;241m=\u001b[39m new_arg_value\n\u001b[1;32m--> 211\u001b[0m \u001b[38;5;28;01mreturn\u001b[39;00m \u001b[43mfunc\u001b[49m\u001b[43m(\u001b[49m\u001b[38;5;241;43m*\u001b[39;49m\u001b[43margs\u001b[49m\u001b[43m,\u001b[49m\u001b[43m \u001b[49m\u001b[38;5;241;43m*\u001b[39;49m\u001b[38;5;241;43m*\u001b[39;49m\u001b[43mkwargs\u001b[49m\u001b[43m)\u001b[49m\n",
      "File \u001b[1;32m~\\miniconda3\\envs\\torch-0\\lib\\site-packages\\pandas\\io\\formats\\format.py:1189\u001b[0m, in \u001b[0;36mDataFrameRenderer.to_csv\u001b[1;34m(self, path_or_buf, encoding, sep, columns, index_label, mode, compression, quoting, quotechar, lineterminator, chunksize, date_format, doublequote, escapechar, errors, storage_options)\u001b[0m\n\u001b[0;32m   1168\u001b[0m     created_buffer \u001b[38;5;241m=\u001b[39m \u001b[38;5;28;01mFalse\u001b[39;00m\n\u001b[0;32m   1170\u001b[0m csv_formatter \u001b[38;5;241m=\u001b[39m CSVFormatter(\n\u001b[0;32m   1171\u001b[0m     path_or_buf\u001b[38;5;241m=\u001b[39mpath_or_buf,\n\u001b[0;32m   1172\u001b[0m     lineterminator\u001b[38;5;241m=\u001b[39mlineterminator,\n\u001b[1;32m   (...)\u001b[0m\n\u001b[0;32m   1187\u001b[0m     formatter\u001b[38;5;241m=\u001b[39m\u001b[38;5;28mself\u001b[39m\u001b[38;5;241m.\u001b[39mfmt,\n\u001b[0;32m   1188\u001b[0m )\n\u001b[1;32m-> 1189\u001b[0m \u001b[43mcsv_formatter\u001b[49m\u001b[38;5;241;43m.\u001b[39;49m\u001b[43msave\u001b[49m\u001b[43m(\u001b[49m\u001b[43m)\u001b[49m\n\u001b[0;32m   1191\u001b[0m \u001b[38;5;28;01mif\u001b[39;00m created_buffer:\n\u001b[0;32m   1192\u001b[0m     \u001b[38;5;28;01massert\u001b[39;00m \u001b[38;5;28misinstance\u001b[39m(path_or_buf, StringIO)\n",
      "File \u001b[1;32m~\\miniconda3\\envs\\torch-0\\lib\\site-packages\\pandas\\io\\formats\\csvs.py:241\u001b[0m, in \u001b[0;36mCSVFormatter.save\u001b[1;34m(self)\u001b[0m\n\u001b[0;32m    237\u001b[0m \u001b[38;5;250m\u001b[39m\u001b[38;5;124;03m\"\"\"\u001b[39;00m\n\u001b[0;32m    238\u001b[0m \u001b[38;5;124;03mCreate the writer & save.\u001b[39;00m\n\u001b[0;32m    239\u001b[0m \u001b[38;5;124;03m\"\"\"\u001b[39;00m\n\u001b[0;32m    240\u001b[0m \u001b[38;5;66;03m# apply compression and byte/text conversion\u001b[39;00m\n\u001b[1;32m--> 241\u001b[0m \u001b[38;5;28;01mwith\u001b[39;00m \u001b[43mget_handle\u001b[49m\u001b[43m(\u001b[49m\n\u001b[0;32m    242\u001b[0m \u001b[43m    \u001b[49m\u001b[38;5;28;43mself\u001b[39;49m\u001b[38;5;241;43m.\u001b[39;49m\u001b[43mfilepath_or_buffer\u001b[49m\u001b[43m,\u001b[49m\n\u001b[0;32m    243\u001b[0m \u001b[43m    \u001b[49m\u001b[38;5;28;43mself\u001b[39;49m\u001b[38;5;241;43m.\u001b[39;49m\u001b[43mmode\u001b[49m\u001b[43m,\u001b[49m\n\u001b[0;32m    244\u001b[0m \u001b[43m    \u001b[49m\u001b[43mencoding\u001b[49m\u001b[38;5;241;43m=\u001b[39;49m\u001b[38;5;28;43mself\u001b[39;49m\u001b[38;5;241;43m.\u001b[39;49m\u001b[43mencoding\u001b[49m\u001b[43m,\u001b[49m\n\u001b[0;32m    245\u001b[0m \u001b[43m    \u001b[49m\u001b[43merrors\u001b[49m\u001b[38;5;241;43m=\u001b[39;49m\u001b[38;5;28;43mself\u001b[39;49m\u001b[38;5;241;43m.\u001b[39;49m\u001b[43merrors\u001b[49m\u001b[43m,\u001b[49m\n\u001b[0;32m    246\u001b[0m \u001b[43m    \u001b[49m\u001b[43mcompression\u001b[49m\u001b[38;5;241;43m=\u001b[39;49m\u001b[38;5;28;43mself\u001b[39;49m\u001b[38;5;241;43m.\u001b[39;49m\u001b[43mcompression\u001b[49m\u001b[43m,\u001b[49m\n\u001b[0;32m    247\u001b[0m \u001b[43m    \u001b[49m\u001b[43mstorage_options\u001b[49m\u001b[38;5;241;43m=\u001b[39;49m\u001b[38;5;28;43mself\u001b[39;49m\u001b[38;5;241;43m.\u001b[39;49m\u001b[43mstorage_options\u001b[49m\u001b[43m,\u001b[49m\n\u001b[0;32m    248\u001b[0m \u001b[43m\u001b[49m\u001b[43m)\u001b[49m \u001b[38;5;28;01mas\u001b[39;00m handles:\n\u001b[0;32m    249\u001b[0m \n\u001b[0;32m    250\u001b[0m     \u001b[38;5;66;03m# Note: self.encoding is irrelevant here\u001b[39;00m\n\u001b[0;32m    251\u001b[0m     \u001b[38;5;28mself\u001b[39m\u001b[38;5;241m.\u001b[39mwriter \u001b[38;5;241m=\u001b[39m csvlib\u001b[38;5;241m.\u001b[39mwriter(\n\u001b[0;32m    252\u001b[0m         handles\u001b[38;5;241m.\u001b[39mhandle,\n\u001b[0;32m    253\u001b[0m         lineterminator\u001b[38;5;241m=\u001b[39m\u001b[38;5;28mself\u001b[39m\u001b[38;5;241m.\u001b[39mlineterminator,\n\u001b[1;32m   (...)\u001b[0m\n\u001b[0;32m    258\u001b[0m         quotechar\u001b[38;5;241m=\u001b[39m\u001b[38;5;28mself\u001b[39m\u001b[38;5;241m.\u001b[39mquotechar,\n\u001b[0;32m    259\u001b[0m     )\n\u001b[0;32m    261\u001b[0m     \u001b[38;5;28mself\u001b[39m\u001b[38;5;241m.\u001b[39m_save()\n",
      "File \u001b[1;32m~\\miniconda3\\envs\\torch-0\\lib\\site-packages\\pandas\\io\\common.py:856\u001b[0m, in \u001b[0;36mget_handle\u001b[1;34m(path_or_buf, mode, encoding, compression, memory_map, is_text, errors, storage_options)\u001b[0m\n\u001b[0;32m    851\u001b[0m \u001b[38;5;28;01melif\u001b[39;00m \u001b[38;5;28misinstance\u001b[39m(handle, \u001b[38;5;28mstr\u001b[39m):\n\u001b[0;32m    852\u001b[0m     \u001b[38;5;66;03m# Check whether the filename is to be opened in binary mode.\u001b[39;00m\n\u001b[0;32m    853\u001b[0m     \u001b[38;5;66;03m# Binary mode does not support 'encoding' and 'newline'.\u001b[39;00m\n\u001b[0;32m    854\u001b[0m     \u001b[38;5;28;01mif\u001b[39;00m ioargs\u001b[38;5;241m.\u001b[39mencoding \u001b[38;5;129;01mand\u001b[39;00m \u001b[38;5;124m\"\u001b[39m\u001b[38;5;124mb\u001b[39m\u001b[38;5;124m\"\u001b[39m \u001b[38;5;129;01mnot\u001b[39;00m \u001b[38;5;129;01min\u001b[39;00m ioargs\u001b[38;5;241m.\u001b[39mmode:\n\u001b[0;32m    855\u001b[0m         \u001b[38;5;66;03m# Encoding\u001b[39;00m\n\u001b[1;32m--> 856\u001b[0m         handle \u001b[38;5;241m=\u001b[39m \u001b[38;5;28;43mopen\u001b[39;49m\u001b[43m(\u001b[49m\n\u001b[0;32m    857\u001b[0m \u001b[43m            \u001b[49m\u001b[43mhandle\u001b[49m\u001b[43m,\u001b[49m\n\u001b[0;32m    858\u001b[0m \u001b[43m            \u001b[49m\u001b[43mioargs\u001b[49m\u001b[38;5;241;43m.\u001b[39;49m\u001b[43mmode\u001b[49m\u001b[43m,\u001b[49m\n\u001b[0;32m    859\u001b[0m \u001b[43m            \u001b[49m\u001b[43mencoding\u001b[49m\u001b[38;5;241;43m=\u001b[39;49m\u001b[43mioargs\u001b[49m\u001b[38;5;241;43m.\u001b[39;49m\u001b[43mencoding\u001b[49m\u001b[43m,\u001b[49m\n\u001b[0;32m    860\u001b[0m \u001b[43m            \u001b[49m\u001b[43merrors\u001b[49m\u001b[38;5;241;43m=\u001b[39;49m\u001b[43merrors\u001b[49m\u001b[43m,\u001b[49m\n\u001b[0;32m    861\u001b[0m \u001b[43m            \u001b[49m\u001b[43mnewline\u001b[49m\u001b[38;5;241;43m=\u001b[39;49m\u001b[38;5;124;43m\"\u001b[39;49m\u001b[38;5;124;43m\"\u001b[39;49m\u001b[43m,\u001b[49m\n\u001b[0;32m    862\u001b[0m \u001b[43m        \u001b[49m\u001b[43m)\u001b[49m\n\u001b[0;32m    863\u001b[0m     \u001b[38;5;28;01melse\u001b[39;00m:\n\u001b[0;32m    864\u001b[0m         \u001b[38;5;66;03m# Binary mode\u001b[39;00m\n\u001b[0;32m    865\u001b[0m         handle \u001b[38;5;241m=\u001b[39m \u001b[38;5;28mopen\u001b[39m(handle, ioargs\u001b[38;5;241m.\u001b[39mmode)\n",
      "\u001b[1;31mPermissionError\u001b[0m: [Errno 13] Permission denied: 'F:/DATAS/COUGHVID-public_dataset_v3/waveinfo.csv'"
     ]
    }
   ],
   "source": [
    "datadf1 = datadf1.sort_values(\"cough_detected\", ascending=True)\n",
    "datadf1.to_csv(\"F:/DATAS/COUGHVID-public_dataset_v3/waveinfo.csv\", sep=',')"
   ]
  },
  {
   "cell_type": "code",
   "execution_count": 57,
   "id": "43109279-9257-43a4-9e6c-a0a829e2c369",
   "metadata": {},
   "outputs": [
    {
     "name": "stdout",
     "output_type": "stream",
     "text": [
      "sample rate: 22050\n",
      "filename: F:/DATAS/COUGHVID-public_dataset_v3/coughvid_20211012/1c457e96-6a2b-40aa-a065-4a8901c0e759.wav\n"
     ]
    },
    {
     "name": "stderr",
     "output_type": "stream",
     "text": [
      "C:\\Users\\zhaoke\\AppData\\Local\\Temp\\ipykernel_8112\\1631674216.py:1: UserWarning: PySoundFile failed. Trying audioread instead.\n",
      "  x, sr = librosa.load(root_path + \"00bfe21c-ab71-4e5a-a941-4f83f5de5c82.wav\")\n",
      "C:\\Users\\zhaoke\\miniconda3\\envs\\torch-0\\lib\\site-packages\\librosa\\core\\audio.py:183: FutureWarning: librosa.core.audio.__audioread_load\n",
      "\tDeprecated as of librosa version 0.10.0.\n",
      "\tIt will be removed in librosa version 1.0.\n",
      "  y, sr_native = __audioread_load(path, offset, duration, dtype)\n"
     ]
    },
    {
     "data": {
      "text/html": [
       "\n",
       "                <audio  controls=\"controls\" >\n",
       "                    <source src=\"data:audio/wav;base64,UklGRiyeAABXQVZFZm10IBAAAAABAAEAIlYAAESsAAACABAAZGF0YQieAAAAAAAAAAAAAAAAAAAAAAAAAAAAAAAAAAAAAAAAAAAAAAAAAAAAAAAAAAAAAAAAAAAAAAAAAAAAAAAAAAAAAAAAAAAAAAAAAAAAAAAAAAAAAAAAAAAAAAAAAAAAAAAAAAAAAAAAAAAAAAAAAAAAAAAAAAAAAAAAAAAAAAAAAAAAAAAAAAAAAAAAAAAAAAAAAAAAAAAAAAAAAAAAAAAAAAAAAAAAAAAAAAAAAAAAAAAAAAAAAAAAAAAAAAAAAAAAAAAAAAAAAAAAAAAAAAAAAAAAAAAAAAAAAAAAAAAAAAAAAAAAAAAAAAAAAAAAAAAAAAAAAAAAAAAAAAAAAAAAAAAAAAAAAAAAAAAAAAAAAAAAAAAAAAAAAAAAAAAAAAAAAAAAAAAAAAAAAAAAAAAAAAAAAAAAAAAAAAAAAAAAAAAAAAAAAAAAAAAAAAAAAAAAAAAAAAAAAAAAAAAAAAAAAAAAAAAAAAAAAAAAAAAAAAAAAAAAAAAAAAAAAAAAAAAAAAAAAAAAAAAAAAAAAAAAAAAAAAAAAAAAAAAAAAAAAAAAAAAAAAAAAAAAAAAAAAAAAAAAAAAAAAAAAAAAAAAAAAAAAAAAAAAAAAAAAAAAAAAAAAAAAAAAAAAAAAAAAAAAAAAAAAAAAAAAAAAAAAAAAAAAAAAAAAAAAAAAAAAAAAAAAAAAAAAAAAAAAAAAAAAAAAAAAAAAAAAAAAAAAAAAAAAAAAAAAAAAAAAAAAAAAAAAAAAAAAAAAAAAAAAAAAAAAAAAAAAAAAAAAAAAAAAAAAAAAAAAAAAAAAAAAAAAAAAAAAAAAAAAAAAAAAAAAAAAAAAAAAAAAAAAAAAAAAAAAAAAAAAAAAAAAAAAAAAAAAAAAAAAAAAAAAAAAAAAAAAAAAAAAAAAAAAAAAAAAAAAAAAAAAAAAAAAAAAAAAAAAAAAAAAAAAAAAAAAAAAAAAAAAAAAAAAAAAAAAAAAAAAAAAAAAAAAAAAAAAAAAAAAAAAAAAAAAAAAAAAAAAAAAAAAAAAAAAAAAAAAAAAAAAAAAAAAAAAAAAAAAAAAAAAAAAAAAAAAAAAAAAAAAAAAAAAAAAAAAAAAAAAAAAAAAAAAAAAAAAAAAAAAAAAAAAAAAAAAAAAAAAAAAAAAAAAAAAAAAAAAAAAAAAAAAAAAAAAAAAAAAAAAAAAAAAAAAAAAAAAAAAAAAAAAAAAAAAAAAAAAAAAAAAAAAAAAAAAAAAAAAAAAAAAAAAAAAAAAAAAAAAAAAAAAAAAAAAAAAAAAAAAAAAAAAAAAAAAAAAAAAAAAAAAAAAAAAAAAAAAAAAAAAAAAAAAAAAAAAAAAAAAAAAAAAAAAAAAAAAAAAAAAAAAAAAAAAAAAAAAAAAAAAAAAAAAAAAAAAAAAAAAAAAAAAAAAAAAAAAAAAAAAAAAAAAAAAAAAAAAAAAAAAAAAAAAAAAAAAAAAAAAAAAAAAAAAAAAAAAAAAAAAAAAAAAAAAAAAAAAAAAAAAAAAAAAAAAAAAAAAAAAAAAAAAAAAAAAAAAAAAAAAAAAAAAAAAAAAAAAAAAAAAAAAAAAAAAAAAAAAAAAAAAAAAAAAAAAAAAAAAAAAAAAAAAAAAAAAAAAAAAAAAAAAAAAAAAAAAAAAAAAAAAAAAAAAAAAAAAAAAAAAAAAAAAAAAAAAAAAAAAAAAAAAAAAAAAAAAAAAAAAAAAAAAAAAAAAAAAAAAAAAAAAAAAAAAAAAAAAAAAAAAAAAAAAAAAAAAAAAAAAAAAAAAAAAAAAAAAAAAAAAAAAAAAAAAAAAAAAAAAAAAAAAAAAAAAAAAAAAAAAAAAAAAAAAAAAAAAAAAAAAAAAAAAAAAAAAAAAAAAAAAAAAAAAAAAAAAAAAAAAAAAAAAAAAAAAAAAAAAAAAAAAAAAAAAAAAAAAAAAAAAAAAAAAAAAAAAAAAAAAAAAAAAAAAAAAAAAAAAAAAAAAAAAAAAAAAAAAAAAAAAAAAAAAAAAAAAAAAAAAAAAAAAAAAAAAAAAAAAAAAAAAAAAAAAAAAAAAAAAAAAAAAAAAAAAAAAAAAAAAAAAAAAAAAAAAAAAAAAAAAAAAAAAAAAAAAAAAAAAAAAAAAAAAAAAAAAAAAAAAAAAAAAAAAAAAAAAAAAAAAAAAAAAAAAAAAAAAAAAAAAAAAAAAAAAAAAAAAAAAAAAAAAAAAAAAAAAAAAAAAAAAAAAAAAAAAAAAAAAAAAAAAAAAAAAAAAAAAAAAAAAAAAAAAAAAAAAAAAAAAAAAAAAAAAAAAAAAAAAAAAAAAAAAAAAAAAAAAAAAAAAAAAAAAAAAAAAAAAAAAAAAAAAAAAAAAAAAAAAAAAAAAAAAAAAAAAAAAAAAAAAAAAAAAAAAAAAAAAAAAAAAAAAAAAAAAAAAAAAAAAAAAAAAAAAAAAAAAAAAAAAAAAAAAAAAAAAAAAAAAAAAAAAAAAAAAAAAAAAAAAAAAAAAAAAAAAAAAAAAAAAAAAAAAAAAAAAAAAAAAAAAAAAAAAAAAAAAAAAAAAAAAAAAAAAAAAAAAAAAAAAAAAAAAAAAAAAAAAAAAAAAAAAAAAAAAAAAAAAAAAAAAAAAAAP7/+f/4//j/9//y//H/8v/y//L/9P/3//j/9//3//j/9v/z//L/8v/x/+7/7P/s/+v/6//r/+n/5f/i/+H/3//c/9n/1//Y/9j/1P/S/9T/2v/h/+L/5f/x////CAAMABMAGgAhACMAIQAhAB4AGQASAA8ADgAIAAIAAQADAAcACAAHAAkADwASABIAFwAfACQAJQAlACQAJQAkACAAHAAeACMAJQAnACsALQAuADAAMAAsACMAGQATABEADAAFAP///v/9//3/AAAFAAYADAAXAB4AIwAkACgAKwApACUAKQAtACUAHgAaABUADAACAPn/9P/u/+X/3f/Z/9j/1//Z/9f/0//W/9n/1P/J/8X/w/+8/7f/sf+s/63/sP+y/7T/uP+9/7//vf+6/7f/tP+v/6z/pv+e/5j/mv+m/7L/vf/H/9f/4//u/wAACQAMABAAEwAOAA8AHgAsAC8AMQA2ADQANgBAAE4AUwBRAFQAXABZAFAAVQBnAGwAZwBkAFwAUgBTAFIARABFAEUAOwAjAB0AHAAZAB8AIwAhABEACgD7//X/7v/o/+T/2P/J/8P/u/++/9D/4f/1/wAADwAVAB4ANQA7ADwARgBAADEAKwAlABMADAAjABYA+P/8/wYA/v/r//3/AwDx/+n/+//y/+H/8//z/9f/1f/r/9b/r//B/9X/tP+k/7r/vP+i/6v/v/+0/63/zP/R/7z/vv/O/8H/rv/A/87/zP/M/+T//P8FACQAQwBJAFkAbQBsAGwAeAByAGcAZQBSAEcATABPAEIAOgBDADQAKAAuADwAHQD7////AAD1/+7/9//l/83/0P/W/7z/t//H/7//q/+2/7v/pv+t/9H/4//e/+r/9v/z/+z/AQARAAQAAQAPAAsA9/8EABgAIQAhAC4AOAA7AE0AVgBbAF4AXQBQAEAAMgAqACYAJQAaABIADgAAAPv/CQAFAPL/7P/t/+v/4f/b/9L/2P/X/8z/yf/H/7//sf+0/7f/rP+s/7T/sf+v/7L/rf+s/7j/yP/Q/9P/3P/e/+D/6f/s//f/AwAOABQAJgA7AEQAVwBjAG4AbgCBAJIAiQCCAIYAfwBmAFsAVgA6ACgALwAiAAAA9f/t/8//v/+6/6//kv+J/3//af9i/2z/Yv9H/0r/R/83/zn/Qv9E/1L/ZP9o/3L/lf+s/7n/0//q//P/AQAcACgAMgBIAGUAagB3AJwApwCmAL0A5wDxAO8ACQEbAQ4BCQEOAfUA5QDuAN4AvACnAJsAjAB4AHQAcABYADQALAAoAA8A8//g/9D/t/+o/5b/g/90/2b/Vv9K/0H/Of8u/yT/Mv9A/zb/Mf9A/0r/Tv9g/3X/e/96/4j/mv+m/7r/0f/a/93/+f8ZACUALgBFAFkAXwBfAG4AcwBtAHkAfwCGAIAAdwB1AHQAcgBwAGQAUAA7ADAAMgAjABQADAAEAO7/4f/f/9//y/+9/77/r/+c/4//k/+I/4H/jf+U/4f/j/+t/6//q//F/+r/4//U/+b/8v/v//3/GAAbACIAPwBZAFgAZQCMAJ0AmgCZAJsAkACMAJQAlQCLAIYAfwB1AGoAZABXAEwASwBBAC8AHgANAP//9f/x/+H/zf/D/7z/sP+k/6P/jf94/3b/cP9d/13/c/91/2r/dv+Q/43/kf+r/73/vv/O/+r/7f/u/wEACgAPACQAOQA2ACwASQBjAFQARwBYAFAANwBAAEwAQgA6AEgASwAoABQAJAAgAAYADgAWAPr/5//7//z/1v/P/9r/0P/B/8T/wP+m/6j/sv+f/5D/mv+d/5P/k/+b/6D/ov+p/6r/q//A/9T/0v/W/+7/+f/2/wYAHwAqADcASgBcAGoAcAB6AIAAfwCBAIkAgwB9AIsAlgCJAH4AiACDAHYAagBhAFkAUgBSAE0AQwAyACMAHgAcAA8AAAD1/+v/3f/Q/8n/vv+5/7b/rf+k/6P/rf+r/6L/sv+9/7v/vv/O/9P/1P/k/+v/4v/m//3/AwAAAA8AJAAcABsAOgBKAEIARgBQAEIANwA/AD8AOAAyAC4AIAAUAA4ACAADAPX/5f/k/9n/wP+t/6v/o/+F/4X/i/92/13/Zv9q/1H/Qf9E/zv/M/9P/2L/Yv9q/4T/kv+e/8D/3P/j/+3/BAAoAEAASwBdAGYAbQCKAKsAtQC5AMkA2gDiAOMA6gDkANMA0QDSAMgArACcAIUAcQBuAGsAUwA1ACUAGAAQAAUA7v/L/8L/uf+n/5j/jf98/2n/YP9U/1D/U/9P/zr/L/9B/1H/Uf9f/2r/Z/98/5//rP+w/8f/1v/i//n/BAABAAwAKQA5AEMASwBUAGYAfQCLAIkAkgCWAJsApQCrAKYApgCvAJ0AhwCFAJEAgwB0AHUAagBWAEUAOgAnABgABQDt/+D/3f/K/6D/kf+c/5L/d/9j/2P/Zf9j/2H/Z/9z/3j/dP95/4H/jf+e/6b/sP/H/9r/z//O//D/BAADABIALAA4AEAATgBTAFcAbQB1AGoAbwB+AHoAcwB2AG0AXQBYAFIARQBNAFAANgAfACcAHgD3/+7/9P/l/9n/4f/L/6v/sv+v/4//iP+R/4b/f/+O/5b/kv+a/6b/s/+6/77/xv/c//T///8AAAUAFAAaACIALgA8AEkAVQBeAG4AhQCLAHkAdgCMAJMAigCAAIAAgwB2AF8AUABQAEsAOQAnAB4AFwAHAPz/8v/k/9j/zv/E/7v/uP+u/5j/i/+P/43/fv98/4T/hP+B/4n/lf+g/6v/rv+6/9L/4P/e/+X/+P8EAAMAAAALABkAGgAdACUALQAoACkALgAoACoAKwAaABsAKwAnABwAGgAeAA8AAgAAAAAABAD+//H/7//1/+7/6v/n/+b/7f/z/+z/4v/r/+7/4v/d/+v/7P/e/9//7f/7//3/AQAGAA0AFwAiACAAJAA2AEEAOgA7AEkAQwA6AEAAQAA4AEMARgA3ADMAQwA6ACcALAAmABEACwASAAEA8f/t/+D/0P/V/9H/v//C/8z/w/+4/73/uv+3/73/vf+4/7r/v/+7/8P/zv/H/8H/0v/Z/9T/4P/u//L///8PAAsADQAfACcAIgAvADoALQAtADoAOQAvADMANQAvADQAOgAxACwAMwAsAB0AGAAaABMACgAFAAIA/v/9//T/6f/n//H/8v/o/+r/8//z/+z/8f/4//T/8P/v//L/9P/4//b/9v/+/wIAAAAAAAEABwARABAAEAAWABkAEQAOABcAGAAWABkAFwAVABgAFQAPAA4ADQAHAAAAAQACAP3/9P/v//D/7P/g/9n/2P/U/9D/yv/G/8j/yf/G/8b/zf/P/87/0//d/+L/4//n/+v/8P/0//r//v8CAAgACwAOABQAGwAdABwAIQAoAC0ALAArAC4AMQAvACcAJgAsACsAIwAdABoAFwASAA4ACgAIAAYAAQAAAAAA/v/4//L/8P/v/+3/6//o/+b/5//m/+P/5P/n/+b/5//v//D/7//0//r/+f/7//7//f/+/wQABwAFAAgADAAMAAoADAANAA0ADgAQAA8AEAAQAA4ADAANAA0ACQAJAAgABgAFAAQAAQAAAAAAAAD9//3//v/9//v/+//7//r/+v/6//r/+//7//v/+//8//z//f/9//7///8AAAAAAAAAAAAAAAAAAAAAAAAAAAAAAAAAAAAAAAAAAAAAAAAAAAAAAAAAAAAAAAAAAAAAAAAAAAAAAAAAAAAAAAAAAAAAAAAAAAAAAAAAAAAAAAAAAAAAAAAAAAAAAAAAAAAAAAAAAAAAAAAAAAAAAAAAAAAAAAAAAAAAAAAAAAAAAAAAAAAAAAAAAAAAAAAAAAAAAAAAAAAAAAAAAAAAAAAAAAAAAAAAAAAAAAAAAAAAAAAAAAAAAAAAAAAAAAAAAAAAAAAAAAAAAAAAAAAAAAAAAAAAAAAAAAAAAAAAAAAAAAAAAAAAAAAAAAAAAAAAAAAAAAAAAAAAAAAAAAAAAAAAAAAAAAAAAAAAAAAAAAAAAAAAAAAAAAAAAAAAAAAAAAAAAAAAAAAAAAAAAAAAAAAAAAAAAAAAAAAAAAAAAAAAAAAAAAAAAAAAAAAAAAAAAAAAAAAAAAAAAAAAAAAAAAAAAAAAAAAAAAAAAAAAAAAAAAAAAAAAAAAAAAAAAAAAAAAAAAAAAAAAAAAAAAAAAAAAAAAAAAAAAAAAAAAAAAAAAAAAAAAAAAAAAAAAAAAAAAAAAAAAAAAAAAAAAAAAAAAAAAAAAAAAAAAAAAAAAAAAAAAAAAAAAAAAAAAAAAAAAAAAAAAAAAAAAAAAAAAAAAAAAAAAAAAAAAAAAAAAAAAAAAAAAAAAAAAAAAAAAAAAAAAAAAAAAAAAAAAAAAAAAAAAAAAAAAAAAAAAAAAAAAAAAAAAAAAAAAAAAAAAAAAAAAAAAAAAAAAAAAAAAAAAAAAAAAAAAAAAAAAAAAAAAAAAAAAAAAAAAAAAAAAAAAAAAAAAAAAAAAAAAAAAAAAAAAAAAAAAAAAAAAAAAAAAAAAAAAAAAAAAAAAAAAAAAAAAAAAAAAAAAAAAAAAAAAAAAAAAAAAAAAAAAAAAAAAAAAAAAAAAAAAAAAAAAAAAAAAAAAAAAAAAAAAAAAAAAAAAAAAAAAAAAAAAAAAAAAAAAAAAAAAAAAAAAAAAAAAAAAAAAAAAAAAAAAAAAAAAAAAAAAAAAAAAAAAAAAAAAAAAAAAAAAAAAAAAAAAAAAAAAAAAAAAAAAAAAAAAAAAAAAAAAAAAAAAAAAAAAAAAAAAAAAAAAAAAAAAAAAAAAAAAAAAAAAAAAAAAAAAAAAAAAAAAAAAAAAAAAAAAAAAAAAAAAAAAAAAAAAAAAAAAAAAAAAAAAAAAAAAAAAAAAAAAAAAAAAAAAAAAAAAAAAAAAAAAAAAAAAAAAAAAAAAAAAAAAAAAAAAAAAAAAAAAAQAAAAEAAAABAAAAAAAAAAAAAAAAAAAAAAAAAAAA//8AAP7/6v/v//H/8f/z//H/9//9/wQABwAOABoAHgAgACwANgA2ADUAOQA5ADcAOQA0ACkAJgApACMAGwAZABkAEwANAAkABAAGAA4ADgADAPv/AAAJAAUA+v/p/+H/3f/b/93/2//S/9P/3P/h/+H/4P/o//D/+P8CAAcAAAD+/wQAAAD8/wQACAAEAAQACwAQABUAHgAkACcALQA1ADYAMQAtAC4AKAAaABUAGAAXAAoAAQABAAAA/v/5//j/9v/v/+//8//2//X/7v/k/97/4f/c/9P/z//T/9H/0f/W/9L/yP/K/9j/3f/f/+X/7P/r/+j/5//r//T/9v/z//H/9f/8/wUADQAMAAoAGQAlACMAJwArACwAMAA4ADgAMAApACoAJAAiACQAHwAZABEADwANAA4ABwAAAAAAAAAAAPr/9v/r/+D/3P/b/9b/zv/N/8f/xv/M/9L/1P/V/9n/3v/m/+3/8//1//X/9//5//3/9//x//j//P/5//z/CQAPAA8AFQAiADMAQABGAEEAQwBIAEsASwBJAEgAQwA2AC0AMwAwACAAEgAUABUACwAJAAYABQAKAA0ACwAIAAEA7P/f/+P/6P/l/+H/2//U/9P/2P/r/////v/w/93/0//S/9X/2//d/9//4v/i/97/4f/l/+n/6f/o/+r/4f/e/+D/6f/4/woAGQAbABcAEAAPABQAIAAnACIAHQAcACIALwA7ADkALgAmACEAJgAoACEADwDv/9L/w//Z//D/7//d/7b/jf98/6n/BABaAGcAPgANAPH/HwCAANYA6gC8AGIA5v9p/xf/AP/5/t/+wf6H/kr+ZP7n/qL/SQCAAEIAwP9M/2b/JQAcAcwBCAL+AQYCSwLwAogDcwPSAuMB7wBJAL7/E/9J/m790PyW/M78Sv2U/Z/9wv08/sz+Ff8w/xP/qf5v/sP+ov+kAG4BOAIEA4gD2gMPBPsDvwM+A4cC6gEeAQIAC/+Z/m/+S/4i/uf9Y/3I/LD8cP1n/sj+jv4q/jH+pf4Q/6D/NQA8AFAAIAEwAqQCZwIrAjsCcQK0AuMClgKlAXMAlv9h/1//EP9v/rD9Cf3L/C39tf0s/sP+Yv+c/0r/2P62/tT+BP9U/57/IwDnAFcB1gH3AkIEHQVBBaYEpQNDAtoA6P9y/2n/Ev8X/gT9bfxy/PX83v3J/kP/Ov/n/oD+Yv67/lH/4v+OAD4BtwHoAR0C9wIYBGYEfgP3AW8AiP87/xP/8f5m/pn9UP2k/U7+5P73/g7/hf8UAJoA+QD1AKMAsQACAT0BZgErAZEAAgACAIMApAAYAKX/q//Y/93/X/9Q/s79Hv5l/n3+a/4s/tX90/11/oT/lAA4ASwBCAGAATsCQQKwAQEBGACn/3n/Ev8N/4v/BwA1AGcAggAoAGf/9f72/rL+bv6A/r/+Ff9g/2//yP+YAGYByQHCAeoBEQL3AZUBEQF1ANf/qf+A/1f/gP/c/woA+/+KAHoBuwFVAQQBPQGLAXUBYQGMAeQBRwI5AtcB6QFZAlwCWwKEAiwCjAHKAGAA0QCRAeoBbQGoAEUAYQCSAHAAWAAyAN//n/9L//3+w/4g/kP95/wH/fL8efwD/Dr8Kf3v/WD+X/6h/QH9//ya/ZL+BP/J/vb9FP3G/Pr8Lv0s/TL9LP1t/az9yv0j/j/+z/0p/Sz9Wf3A/N77U/s4+6X7VPxR/SD+Af7U/a39zv1p/vr+lP+k/1n/6//DAGABAgIOAgwCZQK/Ai0DLwN3AhoCNwJ3AogCyAGIAZUBvQFsAiMDdwRLBR8FJgUeBcAEXASZAy0DXwMhBGoFcAWoBFUEeATgBOQE3gRwBasFOwW1BD4EWAS7BNgE3ATiBNwEHAT2AqcCxAIfA+4CiwGmAA4Aef8R/7z+Df9U/07/Kv+k/jf+K/7o/Sf+2/4E/5H+Y/27/OT8dv0x/vD9Qf21/ML7Afsi+xX8Cv1t/LX7zftE+9/6jvrR+UH5Ivk4+TL5Tvmt+bb5O/ku+Yr5rfnu+YD6y/oB+0/7M/sS+zj7mftP/AD9pv0s/t39Vv03/qn/HwCp/7/+Xf4e/7MAygHGAbwBsAEnAb8AZQF9Ao8CFAJnAhYDnAMWBIYEswQBBFEDwgLkAiAEkgS+BFYF2gWVBrUGAgbtBSgGRAb7Bb0E/AN/BFAFXwVKBYMFBAVNBKUEZgWdBVUFZQQNBA4EowOjA2cDXQPCA+8CyAHsAT0CcgKMArgBuQB6AJ8ARwB0/xv/zv9MANv/+v9aANX/6v4p/vP9FP7r/R/9dvyf/JT86/sg/LH8FvzR+rX5zvmc+gn7Yfta+8P6TPrV+Tb5IvnY+cj6sfpF+kv6m/rI+yj8Fvsd+vP5c/pA+wf8A/1g/VX8/vvS/Nj9o/5F/uj8Pfya/ET9GP6X/uL+Ef9z//L/PACQAJcAlgCjABQB1QHPAY0BQgI/A4cD9gJ/AvICRwM/A+kCPAL5AUMCTAKDAiMDDgOGAjgCbQJbAwsFTQbzBVsEMAO4A8EEbgXUBZsFjwTmA4MESwWWBbcEZwNJA2QDwAIpAkACsgJ6AkQBQgAtAOr/zP9rAHEAQwB1AFoARwBLAP3/+/+j/8f/RAHXAWUBzgAgAHD/8P81AScBu/9z/lP+dP7S/mP/5v6I/Tv9k/0b/ZX8mPxf/bb9Y/1H/bH9gf7r/uz+Qv62/Zr9Yf1P/Zv96P2r/fX8lfzH/I78uvzQ/F/8mvzA/Dz8yPvY/Cf+Qf4j/uL92P0Q/iH+Af8HAMr/Af+Z/t/+kf9RAH0AJwA0ADMAxv9B/wH/9v4b/5j/Zv8S/23/UP+O//H/+/+BAI4AZwCxAGsB7QF9AT4BxgG7AoEDOgPKAukCOgONA/oC9QEGAZMAAwERAd8A+gAWAR4BHAHpAMgAHAEpAQcB/wBQAfwBQQLCAXABDAI5AjsC5AL2AggCJwGvAA8BhAEMAVABvwHYAQoCugHAAR0CrAEVAQ8BAgHXAGQAFQBJAPQALQGXACYAof+e/+v/ef/5/uz+S//t/7D/Av/2/if/7v+6AJoA1f97/+7//f9V/wz/Df/O/un+Bf+H/vr9y/30/fz9s/2y/dL9+v1K/nP+T/7w/d798/0w/qn+jv4M/vL9+f2+/cD9af6f/pL97fxo/Sj+nf7E/oj+j/1J/R/+6v4j/wv/eP/o/+7/HwD6/3H/pv8MAEsAegB+ADcAV//m/lP/3v8kAGwAMACh/9r/QABBADcAkQAuAR8BdgCLAFsBAwI9Al4ChAJCAhACyAF+AXoBVAGFAf8BYQLjAYsAFQCmAGQBvgGPAW0BXAF5Ab0B2gH5ASECBQKaAVgBmQHZAccBZAH0AAwBIgHxAKQAjABCAJX/eP8AAMEA2ABLANf/mv/X/2QAxAD2AC4BFgG1AKsAyQB/ADoASwCTAGsAe/8A/xv/Gv8w/5b/Xf9m/ur9Cv4f/ir+lP7n/tP+2f4i/0//Ev/V/u/+1/4j/0L/Xf45/i//zf/C/4j/rv4C/lH+tP6x/lr+9P0F/o/+6P4K/wf/nf91AFAAov+X//3//f8vAB4AZ/8X/8f/bAAyAIb/8f4d/xEAzgAbACT/3v4D/1T/f/+f/xsArQB8AB8A1/8UAMYA1ACVALMAnQBVAC4A5P94AHEBLwFWACkARwCJAIsAaABCAe8BwAEdATAAk/+r/2MAYQFuAVkAZv9B/9P/VQBmAMf/d/+R/5v/+P9GAKIAWgACAAgB+wGfAQsBoQBLAJQARwFPAaUAcwCqAH0Agv9B/y8A4//r/gz/rP+R/6/+G/6G/uD/DgEYASEAhv8HAIMAugCGAagBegDa/1QACwEgAQsB9QCFAGwATQDV/3b/lf8hADQA/f/x/77/kv+G/8r/cABpAJb/8v4l/+z/DwCN/y7/O/+g/wMABgCS/33/4f9GAIsAIQB4/1//CAC3AF0Acv8+/5v/PQDNAGgAl/8X/zL/i//G/8r/xv8SAPr/Tf8A/1b/qv/W//X/vP8W/3D+af4R//T/TgDr/yH/lv6T/tf+Zv+f/0X/qf5Y/rf+AP9l/1YAgACp//P+uv4A/4b/5v+7/xn/4f4y/6z/5/8bAJQAhgD9/4r/nP8DAI8A8QC5AGQAZwCmAJsAvQAkAekAkwABAVIB2wCGALkA6gCvAJQAMAHeAdUBdAFhAWQBkwGsATgB+QAbAQkB9wAaASABPQFuAYgBfAECAWMALgBtAMkAJQHWADUAcgDxAEoBRwFhAN3/dQAiAScBZwCj/7j/UABfABAAEAAlACYAu/9S/2j/Qv/p/sf+xv4r/8T/2f94/3D/0P+//z3/qv5c/lf+hv7z/h3/Cf8j/2//jP+B/1T/5f6b/tX+GP+2/nD+dP6O/hv/Kv9S/t39I/6P/sf+hf5p/of+hP5i/jv+V/6g/vr+D/8B/+j+dv5S/hv/s/93/2D/d/+Z/7H/tf8XAEsA0f9F/4r/TQCOAP3/Sv9m/2oAhwHdAVcBmgAhAPv/UQC/ACQBbwFcAUsBmQFPAocCMQI1Al8CIQKgAZ8BTAKtAkwCAwLxAeQBNQKQAloC2QGSAWMBPAEQAfEA4ADBAOoAXwHHASECLwLUAZIBfwEJAXYAlADeAKYAjADJAMgAxwD9AA4BnAADAMj/qf94/wH/r/7U/jT/1P/u/2P/Ev/D/nD+3/4m/5/+a/51/jv+dv5D/33/o/7A/SD+4f7l/rn+lv5a/gv+JP5f/i/+Jv55/on+Pf4A/u79MP6G/lT+4P3Q/U3+uf6P/l/+iP7K/vj+4P6n/mj+Yf6f/gX/hP+L/2z/jf+o/7b/9f8OAMn/qf8AAFwAMQAAAFMA4gAZAQwB3wDgAAABhwAjAJwANQH1AGIAYAC+ACABVgGVAfEBHwIUArUBPgFCAUIB8gDjAOAA8wAzAYwB5QHUAcQBfgHLAJ0A7gA0AXwBoAGpAVMBtQCSAAIBnwGqARgBcwAnAGQAxwAeAREBXQDT/7L/if9b/3L/nv9Z/17/7v8+AHMAqwBWAFD/2f5+//v/0/++/9D/uf97/0P/1/6v/nz/1f9a///+Bv9b/2//Mv++/nD+s/4X/0H/Gv+3/pb+4f55/9j/ev/j/qH+w/7k/kn/wv+l/7v/0f9Y///+DP8K//7+F//9/uv+PP9b/0n/Xf+9/2gAWgDB/4X/b/+b//r/MQBaAD4A1/+K/73/PQBbAFEANAAQAGAAgQAUAMv/BACQAOIAqgBsAMcAQQH8AJ4ArADiACwBCAH4AD8BMwG4AGYA2ACAAaIBQgGuAEsAgAAFAT0BFgHYAHQASwCYAP8ASgESAZUASABZAHYA9f+O/+D/UQBFANT/sv/c/wYAAADb/+L/wP+w/+//2f+Q/4P/hf/H/xIAzf87/z7/xP/Y/4v/bv9i/yP/Ff9D/yb/HP9r/0j/xP7W/mH/g/9L/27/6v8nAAkA9P8IABQA/P+v/3r/zP8yAD0AKAAMAOz/9P8jABkAy//G/w0ATABaABYAk/9g/8f/QgBxACoAf/9b/woAhQB8AIoAnABHAOz/AQA5AC4AMQB3AGAA7v8BAD8ADADw/zEAYQAdANX/GACJALgAogA/AMz/yv8jAFIAQgALAMz/wf8gAL0A3wBvABcA8v/1/0cAoACGABQA3P/x/xMAHgAWAB8AUACfAKAANADl/7v/lP+F/5X/q/+X/zL/xv72/qr/IQAfANb/iP+G/7X/4v/8//n/2v+O/2D/hv/n/ykAwv8//3H/3/8BAAQAGQAfAOT/ov96/zn/+/4i/5//CAACAJz/bP+q/9b/t/+3/+P/4//T/8j/o/+f//H/JgAoADYASwCAAMcABAEcARUB6wCaAG8AagBRADYARAA7AAMA3//d/x4AqQDaAHsAMABEAIsAqwCvAJQAAgCF/7D/PgCsAKcAXQAqAB8APwCbAMsArgCFAAEAc/+n/0AAbgA4APH/o/+P/wUAkQCAAA8A3//W/83/+f8UANz/h/9b/5X/7v/Z/47/jf+L/2f/if/6/08ALQC1/1L/TP+g/8n/jv+A/6D/y/8AAPT/2//6/wwA//8CAM7/df+V/9b/xf+h/5n/q//q/yIAvP8W/xb/iP/G/9z//P/X/2f/Uf+k/+r/AwDU/3//b/+z/xwAWwBZAD0AVQBcAPP/nv+4/w0AUgB5AHAAXwBvAFEAIwAkACYAMgBNAFAAVAA7APH/6v9XAJ4AZgA1AAAArP/V/1wAzwD1AJwA9f/Y/2AAmQBUABUACAAYAEoAfQCOAIsAqACxAE0A+P8jAH8AgAA/ACoACwDe//r/MAAeAPb/7//Y/8f/xP/J/+D/4f/X/xYAggBgAKX/I/9T//j/hgCLABQAzP/p/+3/3//0/+r/v//P/xEAJQD//+j/2f/B/+f/KgARALX/o//E/7f/qv/Z/zMAHQCl/4r/yP/7//z/8v/d/6D/iv/9/3cAUgABAOz/3P/2/1kAYADO/5//0v+k/6r/QgB6AAoArf+p/5z/gf+m/9P/7P/0/+L/xf+b/6L/o/9d/23/2/8WAPf/pP+D/7r/BgD9/7X/uv8iAFAA9/+h/8//LAA6ACEAPQBHAPr/0P/u//j/4f/0/2IAnwBhADIAQQA2ABEAMABVAEoAMQAgAB0AOgB0AHEAIgD8/wcAHAA4AC8A+P/c/x4AdgBoACAAFQAsACQA/v/8/x4AOABRAHUAhQBgACcA+f8OAFkAWgAkAAUA2v/K//3/FwDd/6b/z/8VAEUATAAHALn/yP/s/7z/pv/j/wIAAQAIAAwAFQAjADIA/P+D/3//EwCIADQAe/9F/7v/QgBdAAYAif96/+b/KgAbAAwALAA6APz/s/+u//f/NAAaANb/tv/Y/xsAIgDi/7j/2/8AAPD/7v8KABEA2P+P/5f/wP/J/7r/uv/X/93/2f/X/6j/f/+S/7b/3/8iAC8Atf9B/2//xv/l/wwAOQAoAPj/xf+b/7T/GQByAEgAs/9v/+T/dACdAG0A9P+l//n/jAC+AIkAWQBGABYA0f/q/24AxwCzAFAA5f/p/1IArQCRACgABAA6AIwAtACKADIADwBQAI4AeQBMADsAHQDs/+L/7P8OAGoAdQALALv/vP8DAEEAFACp/5T/y//l//n/BwAYACUA0v91/5P/CwBtAGwAJwDC/4z/tf8NAGAATwDt/5X/bf+F/+T/QAAlAM7/v//i/wAA8//a//P/8//R/7j/t//d/wEA8v+3/4r/f/+c/9b/BwAPAA0AHAABAMr/m/93/2v/lP/Q//n/DQAEAP3/BQADAPj/4P/N/8v/tP+d/8j/CAAeAAIAvf+L/7D/CAAjAPn/2f/p/w0AGgAgAD0AcgCCAFYAMgAiACgARwBsAIUAhwCCAI4AaAATAAkANgBCADUALgA7AE8AUgA8AP//uv+6//P/JQBTAGEAIgDf/+T/CAAaABcAAADU/7r/3f8sAFQAJgDj/+P/BQDx/9D/1P/O/9D/+/8hABkA+v/4/xQADwDS/6L/p//E/+L/+v/v/9T/3f/u/+7/AwAcAOX/jP+X/9L/4/8JAEgAJgDK/77/BgA6ABMA5v/6/xcADQDw/8b/uf/j/xAA/v+9/6H/sv/a//r///8JABYA6/+y/8H/7P/3/9//uf+u/8H/3f8CACUALAAVAOj/xv/r/zsAYgBaADgA+P/F/8D/6f8XACsAKwArACIA+f/g//f/HQA0ADEAJQAgACIAGQAGAAsAJgBCAEoANwAoACcALwBPAHcAegBAAP7/8/8OAEgAcwBcAC4AEwAaAC0AKQAhAB8AFQD///3/DAAAAAEADgD6/9n/vv/F//X/BwDy//P/CgAPAAsA9v/E/8b/6f/h/9//CgAoAB8AFgAJAAAADAD+/9//5f/x//z/CgD7/9z/3v/w//r/CgAFANP/m/+K/7//GwBKAC4A/P/K/6P/mv+w/9b/BQAfAPr/zf/J/97/9v8KABAA/f/V/8H/z//m//b/5//E/87/CwAtAB0A8v+8/6b/0/8VACQADgD2/+L/4v/a/93/HwBZAEkAGADs/97/DAA9ADQAKQAzABsA8v/n//X/FgA5AEIARABBACQACQAEAAcAFwAnACIAJABAAFkASwAdAO//1P/L/8X/w//X//f/DwACANX/x//f//3/FwAmAC0AOgAjAPP/7P8kAH8AtACHABgA4v8iAHEAaQA1ABsAKQBKAGAAVAAhANz/qv+T/5v/0/8NABAA///6/+b/vf+g/5X/mP+v/8r/3//R/6T/i/+k/9z/DAAVAN3/m/+k/+n/LABXAGcAMQDP/6L/yf8LAC8AGwDX/7H/2v8hADQADQD0/wMAAwDI/4P/dv+3/w8AJQDr/7H/sP/L/9b/0v/N/9T/0v++/77/8P81AEcAHwDq/8H/vv/s/xkAJAAcAAMA+v8MABUAAwDf/87/4P/1/+//4f/5/zAAYgBuAEsA9/+7/9//IgBYAHwAeABNAB4AGgA6AG0AhwBoAD0ALAA4AFAAXgBlAG4AeABzAFcAMgAmAD4AWwBxAHQAVQAsACIAPABRAFEAQwAbAP3/+v/8/wUAIQA7ACQA7P/M/9L/8P8FAPj/2f/I/9P/3//b/9H/y//L/8H/pv+S/6D/zP/v/+H/s/+A/2D/Y/+T/93/+v+8/1r/Nv9p/6z/xf+2/6f/sP+z/6X/ov+4/8r/2f/b/8j/z//x//n/4f/V/+D/8f8HABMAAADx//P//P8UAC8AJADx/9f/AAAmABoA///x//n/FgAwADMANQA1ACkAHQARAAcAAAAIABIAGgAwAEMAVABUADcAIgAxAEIAUQBmAFwAQQAxAD0AWQBWADgAIQAUABEAGwAjABQABQAVADYAQwAxAAwA+/8IABgAHQA0AFkAWQAzAAYA9P///ykAVQA/AP//4f/+/y4AQgAsAOv/rf+y//D/OABUACUA2P/D//L/JAA4ACwAAADL/8L/7f8YABMA2v+b/37/nP/Z//X/3//C/7D/of+p/7j/vv/H/9L/zv/S/+b/4v/Q/8j/xP/Q/+v/AAAEAPn/5P/N/8X/2v8IADAAIADp/8P/yP/5/yQAJgAIAPH/6P/k/+3/9v/9/xIAKAAQAOH/4f8HACgANgAmAPL/zv/i/wYAGAAMAPj/5//v/wMAAwD5/+n/3//t/xQAOAAxABEA/v8AAAwAJAA4ABsAAQASABkADgAQABEABQD+/wsAKQA/AEMALQASACAAQAA4ACAAMQBRAFEALgD8/97/8v8jACkAAwDt/+f/3//X/97/8f8BAAoA+//u/wIAFwAcABAAAQAWAFIAawBHABEA4//W//z/LgBLAEoAHgDT/6b/w/8BACUAEQDc/7f/yf/z//v/7v/c/7//sf/K/+b/6//N/6D/kf+t/+n/CQDm/6j/ov/X/wcAFAAIAPr/9f8AAAUA+////x8AQwBCACIACwAYADwAVgBKABYA6P/n/wUAFAANAP3/4v/W/+b/9v/3//L/3//D/7b/1P8JAC0ALAADANL/wP/p/ysASAAuAOj/tf+8/+b/DQAMANj/m/+O/7v/8/8HAPX/1P+8/7z/0v/o/+j/6P/v/+r/6/8BABkAJQAxADUAKAAeACcAPwBRAFMATABMAD4AFQAAABcAOAA2AAcAzv+//+f/CgADAO7/5//0//v/9P/y/wUAHgAlABgACAAUADQAOgAvADUAUQBeAEoAPQBQAGgAZAA+ABIADwArAEMAPgAfAP//8v/4/xYAQQBAAAgAzf/H/+3/DgAQAAAA7P/w/xIAKwAWAPr//v8MABoAFgD5/9n/2P/t//X/7v/m/+P/2//U/9n/4v/t/+f/yP+q/6r/w//J/7H/mv+m/8D/yf++/6f/kv+d/8f/9v8DAN7/rP+r/+b/JwBAABgA1v/H/wMAVgB0AEAA8f+5/7L/3f8QAB4A+//M/7T/xP/u/wsADAD1/+z/AAAeACoAFgAKABwANwAuAP3/3v/s/w4AKAAnABIAAwAMACQAPQBUAEoAKwAcACQAQwBaAFkASAAqAAkA/f8cAE8AWAAqAP3/9/8VAD8ASQAtABUADwAPAP//8f/+/xoANQBDADYAFwD5//X/FAAxADoAJQD7/9f/zv/j/wMABQDf/7j/s//H/9P/2f/g/9L/yP/N/8v/yf/N/9f/3f/k/+X/4f/S/7r/uP/X//X/+P/b/7r/sP/C/+T/8v/t/+r/6v/s//v/CgAPAAAA6//i//3/GAAGAPD/9/8JABYAFgABAPP/9//8/wEAEwAZAAkA/v8OACYAJQAWAAIA/P8OABcAAADh/8r/0P/r/wYAFQAUAAMA7//q//X/FAA2ADgAIQAHAAEAFAArAD8AOgAxAC0AGAADAAEAIQBJAE4AIwDo/9P/9/8wAFsAWAAsAAAA+f8NACQAJAANAAAACgAUABMADwASABIABwD5//D/9f/z/+L/0P/N/97/7//4//X/5//a/9z/7v/9//3/7//Y/97/+P/9/+z/3f/e/+z/BQAdABoA8P/C/6v/vf/k//n/7v/I/6r/pv+2/9H/7f/6//f/5f/M/7v/v//r/ywAUwBEAAsA2f/U//v/NABRADUAAQDm//T/IABKAFcAQQAjAB0ALQA4ACsAIQAlACYAJAAmAB8AGQASAPP/2f/t/xsAKAD+/9D/4f8VACgADgDr/+n/DwA+AEkALgAJAPb/CgA+AGUAVgAjAPP/1//d////HwAfAAIA3f+w/5f/uP/8/yoAIwD8/9j/zP/Y//T/GAAuACAA/f/f/9L/1v/x/wwA+f/O/7f/vP/O/9X/2P/X/9z/5//7/xEAEwAIAAAABwAbACIAFgD//9//yv/E/83/3P/r//L/9v/2/+X/0v/T/+7/CgAZABEA/v/v//T//f8GABoAJAAeAA0ADgAlADAAJQAaACEAMgAyABkABAAJAA8AEwAMAAAA9//r/+r/8P/y//f//P/1/+3/7//3/wIAFQAoADYAPgBBADoANgBAAFIAVQBRAEYAMgAqADAAPAA/ADQADwDp/+b/FABIAEgAFgDZ/7f/xv/w/wsADAD5/93/zv/O/9f/3v/l//n/BAADAA0ADQDt/8v/xP/k/w8AGgAFAOP/zf/O/97/8v/3/97/uf+l/6z/r/+r/67/tP+9/73/rP+a/57/tv/S//z/JAAqAA4A7v/u/xcASABZAEAAGQAAAAMAGgAzADUAGwD8//H///8MAAwACAAEAAEAAwAFAAAA9P/o/+f/8P/x/97/0f/P/8z/0P/l//f//f/8//3/AAAPACwAOgA2ACAAFAApAEoAXwBXAEsAQQA/AEsAUQBCACsAJAAlABoACwACAPr/5//X/9b/4f/u/+//6P/g/9X/zf/T/+b/9v/y/+n/4//f/+b/9v8QACcAKwAsADoAOgAsACMAHAAaABoAIgAnAB0A+v/S/7//zv/z/wcA9//I/6j/q//Z/w4AIAASAPP/3v/b/+n/+P8DAA0ADgAEAPn/9P/v//P/CQAjACkAIQAYABgAIQAvAEMASAA5ACcAHQAiAB4ADAD0/9b/x//L/+X/5P+9/6r/tf+//8P/z//U/87/zP/L/9H/4//9/w4ABwACAAUAEgAsADMAOAA6ADQANgAsAB8AEAAAAAAADQARAPf/0f/E/8j/0//a/9P/yv/J/8n/s/+g/6n/vf/Q/9z/6P/v/+j/4//x/xAALAA7AD4AKgAUAAUAEwBJAHAAdgBVADEAHwAdADkATwBBACkAHgANAPX/6//8/xgALQAmAA0A9P/u//z/AgD///H/8/8CAAoAFgAgACAAHwAjADYARgBMAEoAQABBAEYATwBXAEkALwAnACYAJwAsACAAAgDl/9T/1//k/93/wf+j/53/qv/B/9n/4//f/9L/0f/t/xYAMgA2ACQAIwA7AF0AcABeADAAAAD6/xEAIAAEAMv/lf96/4D/jP+M/3b/RP8g/y7/YP+D/37/dP+C/57/u//Z//P/BwAfADUATQBdAFkAUABLAEsARgAwABQABQD4/+//4P/C/6//n/+P/4T/eP9n/1v/Xv9w/4n/nP+m/7D/vv/W//r/KABWAHwAmQC2ANYA5wDpANYArwCPAIkAkQCOAHMAPAD8/8z/xf/W/9r/yf+t/4n/dv+C/5r/uf/O/97/7P8JAD0AZgCIALgA5AAJAS0BLgEMAfMA6wDjAMwApABrADUAGgAaABsA9//B/5b/g/93/2v/YP9Z/1z/Zf99/5L/pv/E/+7/IABVAIIAqwDFAMcAwADAAM0AzAC5AJAAWAAlAPP/yf+h/3X/T/8n/wH/2v6z/qj+uP7X/u3+6P7f/vL+Kv9v/7D/2P/h/+r/DgBZAKYAzwDDAI8AagBjAHcAnwClAH0ALgDb/6f/kf+R/4L/Yv81/wX/9f4C/xr/Mf89/1T/e/+s/93/+f8SADkAbwCmAMwA6wD7AAIBBQEEAQAB7ADRAKwAewBCABUAAwDj/67/ef9J/zP/NP9B/0//Vf9j/3b/jf+r/83//f80AGAAegCIAIgAhACnANEA5QDtAMIAdwBXAGUAcQBzAE4A7/+Q/27/gP+g/6n/iP9I/x7/I/9O/4z/wv/U/9X/5f8PAE0AlADhABABJgE8AUMBPwE4ARkB6QDOAMkAuwCQAEQA8v+//7D/qf+L/17/P/8w/zX/Qf9J/0j/R/9c/37/t//3/ycAPgBCAEgATwBbAHQAjgCXAIwAbwBWAEQAMAAeAAwA+f/W/53/VP8W//3+Af8M/wP/5v7O/s3+6v4V/0r/gv+y/83/3/8AADMAeACyANgA4QDMALgAswC6ALgAmwBkAB4A3P+Y/2D/Ov8e/w//AP/n/tD+yf7a/vb+HP9Y/5D/uf/J/+D/IQBnAKIAzQDpAPYACAElAT8BWQFZATsBAwHWAMYAsgCWAHAANwAEAN//x/+7/6j/mf+B/23/Z/9q/4j/sf/m/xoARABnAHcAkQC8AOIA9gD+AAgBCwECAfIA4ADHAJcAVQAWAOT/uP+T/2//QP8I/+H+1f7Z/vD+Ef8s/zz/Vv97/6L/0v8FADcAUgBiAHAAcwCGAKcAtgC3AKQAfgBKACIAIwAkABAA3P+X/1z/Ov88/0X/RP81/yL/Gf8r/1X/iP+//+L/6//v/wAAHgBEAGgAgwCCAHIAZgBZAFoAWAA+ABwA8P+6/4f/av9k/1D/Nv8W//7+7/7l/vL+Df81/1f/cf+K/6T/1/8OADwAXwB0AJEAtQDOAOAA8QD3APcA9gDmAMgApACNAIQAbgBCABsAAQDs/87/s/+n/53/o/+//9v/7f/2/wEAGwBEAGcAfQCaAK4ArgC2AM8A7wD4AOkAygCgAIIAcgBlAEkAEQDi/8r/tf+i/5r/g/9r/2D/Vf9R/0f/Sf9r/5v/vv/I/9X/7/8RADkAWQByAI4ApgC1ALUAnwCKAJEAqAClAHgALQDm/8D/qv+c/4r/X/8j//f+6v7y/g3/Iv8e/x//LP9W/4//w//t//v/BAATADQAWwBxAHkAcgBcAEkASQBSAE4ANwAKANX/sf+c/5T/kP+D/2v/T/8+/0H/Uv9s/4P/nv+8/9P/5f/3/xgATQCVANAA2ADKAL0AzgD4AA0BCQH1ANIApgCCAGoATQAvAA4A7P/I/6H/kP+I/37/h/+Z/6n/sv+2/7//z//2/yoATABaAFIASwBRAFwAcQB/AHoAUAAjAA8A///p/9L/uP+U/3j/YP9M/0b/RP89/zf/Nv82/0D/Uv9p/4n/q//B/93/AQAoAEwAXQBkAHsAlwClAKYApwCZAHsAXgBIADgAMAAmABIA9f/h/9v/z//I/8f/wP/B/9P/7/8SACQAIgAyAFgAfgCmAMcAxQCsAJoAlQChALgAwQCqAH0ATgAoAAoA/P/3/9v/tv+X/3n/Xv9Q/1H/V/9b/2H/af94/4z/oP/F//j/HgAxADwARwBYAGwAgwCPAI4AggBrAFIATwBUAEQAJAD9/9z/yv/E/73/o/96/1b/O/84/1L/cf96/27/Yf9w/5T/v//y/wgACgALABYAJgA0AD0AMAAhACEAJQAoABQA8f/Z/8v/v/+x/53/gv9p/1X/S/9P/1L/Sv9M/13/bf+G/6H/r/+7/9n/+/8eAEUAUgBLAD0AQQBhAIcArgDLAM0AtQCUAIcAkQCcAJsAjgB+AGMASgBAAEQASQBPAFsAYABiAGQAZQBhAFwAZgCGAJ8AmgB9AF0ASwBKAFwAbwBtAFUAKwARABIAJQAyACgAEwADAAgADgAOAAQA6//W/9H/3v/w//H/4f/O/8n/z//m//X/8f/k/8T/rf+4/83/3v/f/9X/wP+n/5z/jv+G/3z/Z/9S/0j/Sv9V/2//kf+d/5r/lP+X/67/yv/w/wIA+//u/9//5P/7/wwAEAAAAPD/5P/e/8//vf+y/6L/mf+M/3j/Zv9Q/0L/Qf9C/03/XP9g/1z/Yf92/5D/rP/G/+H/AgApAFYAeACPAKYAvQDcAOkA7QD7APoA5QDSAM0AxgC0AKEAiQBsAFAASABMAEcAQgBHAE4ATQBJAE4AXwBrAGwAagB5AJQAsQDHAMgAtwCiAKAAqwCvAK8AngB6AFMAOQAxACUAGAADANz/sP+X/5H/kf+H/3//e/9w/1X/Qv9D/1D/X/9t/3v/hf+I/4n/nP/B/+v/BgAOAP3/5v/e/+X/+v8CAPT/4P/N/8j/2P/p/+P/yf+w/5j/kv+j/8n/2v/G/7n/uP+7/87/7P8DAAAA6P/b/93/4//q//f/+v/1//L/7v/p/+7/AQAJAAAA+f/1//T/7v/r//X/AAAKAAoABAD7//n///8CAAoAEAANAAQAAAAKACgAQwBUAGMAYgBQAEIASABaAGYAYgBUADoAGQAJAP7/AwAbACkAHgAHAAAABgAPABUAEQALAAYACAAIAAYACgAHAPf/7f/5//3/6v/N/7z/vP/K/9X/6f/3/+f/2//X/9//8f/z/+r/4P/c/+H/9v8CAPb/5//W/9z/8f8NACQAGAACAPn/6//r/wcAMgBCADkAQABDAEIAOwA7AEUARwBIAD0AMAAfAA8AAAD//xkAJwASAPz/4//N/9X/4P/6/woA8//X/8//2//z/woADwATABkADwAFAAAAFAA3ADoAIAAKAAQABQAPAB8AJgAdABIADAAHAPL/2v/i/+P/z//U/+3/3v/U/wAABQDh/+f/AAAEAA4AHwAWAPP/x//N//z//P/k/9v/0P/F/9H/1v/O/87/1v/o/+X/0f/X/+D/wf+r/8H/3v/z//T/6/+9/3z/eP+s/8z/zv/l/97/pf+U/87//P///wUADAACANP/sf++/9T/6v8OADoALgAAAPL//f8UAEcAcgBfAEEALwAcABAAKAB0ALwAswBvAGIAdQBeAGIAoACfAFMARgBTAC8AHAAzAEwARgA5AC8AHgAAAPL/BwAkADIATABcAEEAOgBKAGYAgACKAKkArABPAAUACgAFAAgALwAsAAEAAgAlABwA3/+7/8v/5P/s/+b/yv+R/3z/x/8BAPT/6//u/9D/nv+4/+//7P/Q/9z/2v+S/47/0//M/8X/HAAoAJP/EP9E/5r/Rf/v/jz/df85//7+E/8l/wj/Nv+9/+7/jf9a/3v/Zf9I/5X/6/+n/0v/qf/1/5D/sf+JAK4AFAD7/1MAMgD6/0gAiwCFAJIArwCPAE0ASwCdAMAATAAOAHUAgABGAJEA6wDiALUAiQBVAA4A2P8LAE4AWgCEAJkAlgC3AKUAUgBMAGoAbQBoAPX/u/9KAEsAs/8VAAgB8QBJADkAUQAGAC4AowAeAHv/3/84AMP/lv/2/w0A7P/y/+7/4/8UAA4A5P8AAMP/Yv/v/3UA/P/W/zEAmf8N/9v/UwDF/57/5P9+/xr/wP9wAPz/X/98/4v/P/8k/4///P+//4b/4f/I/0//hP/p/8D/j/+d/5X/sv/9/wUA0v/Z/yIAPwAGAKP/K/8w/wAAhQApABkA4AC0AKv/sP8CAHH/Sv8PACEApP/a/xIAev9m/wkAKgC7/1j/dv/i/wMADQBtAMAAowBhAKkA6ACpAFkAKABkAJcAmAAnAVABoAB+ALcAZwAkAKIAyADN/5f/UwBKAC0AgADw//T+Nf8YADYAkf9N/2P/YP+Z/0QAgACy/4X/wf9J/0b//f+VAFUAlP+j/1sA4ADZAJIAbABfAD0APgB6AKIAQAB+/8H/VwAAAJD/DgAVAE3/1v/AABwAD/8D/yf/NP+v/w4Atf86/27/AQBSADQANACVAHMAAADv//L/BgA/ADkA0v8EAMEAzgAkAI3/yP9hABQAsP8FAOH/VP9K/7P/ZACkAPn/ov+c/9j+lf4k/xb/M//Z/+H/1f9VAI4ARQDB/7v/WAAVAIH/6P9iAHgAFQGDAc0AugB4AdAAwv/p//b/Zv8//77/bwDSAJkAhADDAHMA1//3/y8Ap//r/vf+1/8WAD8AFwF0ASkBWwCG/9v/dQDo/w7/oP6w/nn/XAAFASkBvQBSAO3/Vv/C/qj+r/4H/z3/B/+5/7sAVgCw/7cAMAHF/xv/jP9x/wz/H/+i/3EA8ADbAL0AbADO/4T/9v8uANf/Yf8n/woAUwCs/w4AAQFGASgBuACo/27/1f/u/2gAnQCMAB0BXAF/AL3/6/81APr/sP+AAP8ALQDy/2wAEQDh/80AQQDP/t/+rf+1/03/sP8iAKX/Qv+0/8j/r/++AHoBoQBh//z+x/+pAIQAj//w/jL/pP9J/+j+5v/VAEsAuf/+/2IASADr/7L/l//g/00AhABfALj/Yv94/8b/vwDXAM3/7f9zANb/RP+t/0QAUQA4AAEAFQCCADAA3/5Z/jP/X/9k/57/E/8s/wwAFQC6/5D/kP/O/8L/kf/D//P/wAB5ASoASv9jAP0AbwAtAJEATwBv/x4AAgHN/7P+9P9BAa8AQwBpADEA3v/F/9T/DABPAEMA+v+S/zb/qf/+/xMAqQCSACIA9P/j/6kAggGfAWoBdQHSAfgA3v/b/4n/iP7D/n4A+ADB/7//LwEeAZUAigEmAbD+o/1V/u3+Rf80AG8BFgFZ/4X+DP/4/0sApv92/5P/Kf9I/xcA5ABLAZ0ADwAaAIr/9/4B/3r/w//k/2oAvwA5AB8ApQBzAE8AiQBdAFEAJwAkALUA1wCfAEsAFwCe/8H+KP9BAN7/ff8MAKL/w/4E/yQAygBhANP/mP9V//z+a/41/kH/RgDy/yj/EP9V/xb/fv+sALAAvf8zADQBTgC4/wwAGQAYALP/e//d/x8ACgAVAAcAGwDUALUA7P+GALoALv/g/tj/PP+n/tn/3P8r/q/+6QDfAbYBmAErAQsAawAUAVkAMQBlALn/F//h/zMBagFKAWkBBwGTAGwATwDn/xr/vP7i/wYBXACb/xsAKAAw/1b/jgAqADf/q/9w/6z+a/+cAJEAJgBWAGIA/P+q/9//awC4/7P+nf96ADsAAgBwAF4BnQEeAeIAegA0/6z9wf1y/wkAqv8CAG4A+f9s/yMAJQGeABcAhwApAB7/Gf88AGEAE/8o/1wAdgAMAA4AQQA4AL7/dP/Z/8r/gv9w/xX/Yv98AJsAEQAvAJgAewAUAOr//P5Z/rT+L/+Z/5P/TgDnAIkAFAHNAIX/Ov/9/gr/AADAAM0ApAAmAHH/iv8BAO//7v/I/+n/hgDeABwB3ABgAHgAzwAGAQYBWgAi/1L+fv4l/5j/v//f/7n/tP+//3r//f+eANYAcQE8AV8AgAAmAKf+qv4GAEMAAgBuANgAQgBv/7z/MwCd/2L/+f/MAEABygDSAO0AEgBe/10ALQGJ/z7+Ev/z/iL+Pv/RALgA1P/8/0sAJAAcADgAHwAKAKcA7gBPAGAA3wAjAC7/ov9WAAABogE1AacAdQAKADYABAHQAE8AEACL/27/IAA3AGv/8/7l/g3/Av9C/7T/4P+b//r+kv8uAB3/bv7e/j7/GP+A/rr+xf+S/9X/XgGhASIBowDR/4z/iP9R/67/xv99/2f/nP/M/1P/Rf/G/2n/Z/+lAJIAq/+w/7P/4f8rAFUAgQAtADkAxADMAG8AAQAAANsAFgHlAJgBowH6AOYAyAAaAOX/+v/S/9f/tv9X/3//ZQDKAEUAPAClACUA7v+rAIUAn/+//q/+hP93/3X/3P+q/4f/zv9wANcAJwBw/47/X/9b/1kAbgFpAeQA6gDIAKYAWgFQAf3/+/7Q/h3/ef8IAGsAof8X/9n/gwCDACEAAgCM/yX/rv8ZACIA+f/M/2UAvQAxAFUAjgDb/33/uf8k/7j+f////5D/T/+2/ycAagA7AOn/uv9P/wT/Sf+R/3b/bP8ZAHAAFQDo/+H/wf/j/0YAAABb/yr/Of8K/6P/8gCIAR4BrQBiALT/f//m/x0AWADOAKcAcgCIAS8CFAGpACYBmQAHAEwAyP/5/sX+0f6t/0IAaQCTAHUAFAC7/zIAYQBD/+H+4/8kAHL/SP+n/x0AwQCIAMf/HgAtADf/E/8NACsAE/9u/yUAgv+U/7wA2ABN/67+7/+pADQAMAAmAK7/Sf8D/zP/uP/f/3P/tf9vABwAfP93/x7/vf6t/5EAYQCBAB4B0gG+AaAA6v9t/8z+3P/HAYwBPAD5/4EA9v+0/l3/UwAt/yL+q/5p/xsA4QAiAd8AugCeACAAhP9Z/9D/MAAYANT/0/8tAAwABACwAJsAAwAXAJkA0wDuAGwBWwHWADkAs//O/xUAgABLAKz/CwBdAJH/h/6m/gEAZQCQ/5T/RgDp/w3/YP/g/8b/6/8tAA0AnP+//5gAMgFPAQ8BygCEABUAWf/a/lj/KAAAAJ7/l/+F/4YAJAHz/0v/qf9s/5b+jf7g/5UADADr/7MAUgHvAB0AS/95/mr+eP99AC8AaP9p/+z+xf7x/2QA9/+T/0P/Lv9n/9j/NwCzAO4ABQA//43/9/+l/0H/RgBVAVwAlf/7/7v/Wf+E/wgAlACdADkA4f8MAEoAlf+2/2kBFwE0/5T/xQBXALH/FwDmAN8ANwCJACsBoACaAEYBAwGiABcBRwGAAPb/RQD5AAYBkQBLAA4A4f/y/3QAhwDW/3L/qP/+/z0AMAB9/wn/Tv+i//z/WwAuAGH/Hf+F//n/IQC4/1f/Hv8Z/6H/PQCvAJsAnP8a/9T/FgCc/xr/Av+H/8X/9/89AEQAKAB//wv/yf9yAKf/Hv/L/6L/Yv/8//H/ff+a/9X/hf/f/g3/1v/R/2v/Zf/L/9T/Of9X/wcAHwDI/4//oP/L/8v/CADtAHUBRwHMAO7/uP8PAMf/1/9/AHYA+P/L//r/BgD9/2wAiAAsAB0A6P/k/+3/y/9zAEIBVAEJAcgArAAuALT/HgDFAPYA3gDZAJ4ARwCMAMsAWgAaAE0AlwAaAT8BrgD0/63//v9sAHoANQA5ACgAlv9S/1f/T/+n/w4A2P+u/ygAPACA/xv/1P8qAHn/Yv8cAEsA2//0/wUAn/+z/0kAUACX/4T/t/8+/0v/wP/N/y8AyQBfAMX/5//M/wv/d/6l/hn/5/+UADoA0f/r/5b/If+N//X/f/8W/0v/ov/c/1IAfgAVABcAUAAYAJv/Sv9L/43/LwDzAM0ALAAbAN3/uv+7/0P/c/8aAMb/Qv8CAPgAtgBZAHIALgD6/wYA//88AEYA/P8hABgA+/9YACUAt//v//n/IgBfAEIAyQAQAWAAVwC3AFEAIABGAA4AVQAgAS0BuABRAAoAJQApAA8AYgCOAFYA6P/V/1MA+P9f/53/uv+M/7//6v/D/7H/z/8PAGcAtwCdADEA6P+G/0X/hf/E/8r/1f/j/8D/2v+T/7z+sv41/5z/JgCFAHwATwDK/0v/av9CAJQAoP85/6H/eP8//3H/rf/I/7//kf9//8P/BADw/+f/NQBOAA4A6//r/4T/f//5/6f/Of/u/4oAOAA3AJIAawAfAA4AiP83/7n/HgCEACwBEAG9AK4AAQBy//D/VwAiADoAvwDUAGEAcQB5AEAApAAOAWgAGQD1ANEA3/9oAFMBigD4/48AZADt/z0ASABvAP4AmgDr/zkAWgCr/4z/RgByAPD/5//V/6T/t/+p/5T/FACJAN7/Nf+D/93/y/+X/3T/0v8eAJf/RP+f/4j/Lv9T/0L/rP6a/tL+m/6f/hX/nP+x/1H/UP+N/y//Qf/2/9L/vv9eAHQA0/+l/zIADAA7/xX/Zf/Z/yUA//9YAAMBswBRAIEAPgDy//T/KQCBAJMAcABsAJsAtwCIAF4AlgCrAIsAZwBsAD0BrQHOAG4A1gC2ADEAGwCQANUA1wD5APMAuwC6AD0Abv+M/3UA4QBxAFsAmQAmAJP/9/9TAL7/Vf9w/57/8f/0/2n/TP/V/9//rv/2/ywAnf+W/mn+2P5L/+j/NADI/2n/6f9qAPv/S/9l/7T/Ov+9/m7/EwBw/zz/zP8EAFcAFQBP/2L/yP/R//b/DACl/zX//v40/+H/XgBpAC0A8f+s/53/+P/z/8n/6P+8/+D/xgDLAOj/xP8aAD0AdACoACkAbP9u/5z/1v+KAPIAegC+/33/yv9sAKkATwD4/yYAwACwAGcAvACfANH/wP95AMwAugCaAGkAAwC9/1EA2wBxANv/yf8qAHAAkACrALoAoACIAI4AZwA2ACAAEwAAAG4AtQBrAH8AUgCK/4r/DgD7/5r/Nv81/5H/0f8lADwA4/+u/3v/d/+U/3P/f//L/9X/gv+Y/w4A8P8g/zj/MwArAGf/Nv9n/1f/ef/x/xkA7f/l//3/of9s//D/HQDc/97/QACEABwAo//6/wkAdv/8/9EATwBz/4H/IABlAFUAQgA+AHEAVADG/+//ZwD+/8//LgA+ACkAjADAABUA3v8MAMn/kf+4/+f/AQAdAEoAmAB2ABMADQD3/6D/y/99AHwA4f/Z/xIAOQA3APP/AAAVALD/bv+K/5f/c/9u/+r/WgBoAF0ATQA3AOv/hf+B/xAAuwBpALX/IgCzAE8AKgBzADUA1//3/xoA6P/T/93/xv/p/04AdgAtAKr/Pf8W/3D/GgAeAML/3v/l/77/6/9GAEQACQDi/zv/+f63/w4A7/9LANYAxgBwAK0AtgD9/97/QABjAGoAvf8Q/4D/zP+i/wgApABSAIr/Yf+F/6f/FABdADwASQAqAAUAGAALABsAEAAwAEIAnf9G/7j/GAAAAAAArwDeAC4AxP+1/yQAcADr//f/TgDP/3n/AgC6AG0Axv/5/xMAzP+6/7z/AwAiAJ7/nv80ABIAof+M/93/+/+c/7D/1f/U/wAA6P/y/y0AOAALAIz/lP/u/6b/2/+JAFEArP/J/0gA+v+Z/wkAMgDX/9D/EQAOAKn/n//g/7v/4P96AFcAuv/G//v/AQAWADMAbACPAH4ASgA9AHgAcQAhACsAWABRAEYAVwB3AFwAaACbAHgAcQB8AFYAJwArAI8AwwCBAEkASAA3AO7/1//W/7L/q/+w/9v/UwCdADIA5f84AFsA2v95/6j/uv/E/y0AFQB0/5j/tf8D//v+iP98/0n/Wv9p/3f/if+T/23/VP+p/7P/P/9F/7//yP9//7v/NQAqALr/m//1//f/nP/L/1UANQCZ/5z/2v/F/77/7v8hAGkApQBoAEkAaQBGABcAOACRAEcAsf8NAF8ADAAkAFoAEwDC/9D/JgBJAHAAqwCYAKAAkQAmAAUAUgB8AIIApQCxAJoAZgAPAPz/BAAUAGsAjABiAPz/gf+H/8P/rP+j//D/KwAnAC4ASAAoANr/hP9P/2P/Z/+A/7f/7/8yADgAJgA8ACIAhf89/4X/rP/R/yYAKAD4/xEAAwDg//z/9//G/5j/gP/P//X/iP9w/9j/AQDY/9j/8v/I/4T/lv/x/zAAKwDe/8H/AgA6ADgAQgB8AIsAaQBCABsARABvADcARQCdAJIAZQBXADkA4//F/zEApQCmAEUAPwBhAAQAwP8lAFwAEwAaAFgAawB0AEEA5P/O/8//zP/n/x0AYABIAPD/BwBBAPn/nP+g/6T/f/+8/1gAjAD8/53/8P/D/03/k//s/77/cP+Y//L/3f99/4//DQAvAPL/x//H/6T/TP9E/63/9P/K/6//z//V/w0AXAAfAOj/CADj/8T/4v/Q/5//X/+D//H/6v+//8n/0//a//H/FABgAIYANgAOAEQALAAYAEQAHgARACcA8//v/zEAPwAxAE8AeAB+AJIAyAC/AHwAjQC7AHwAOgAbAAgAPgA9ACAAYgB1AA0AuP/u/w4A2f8LAFIALAAxAFIAIQADAD0AHACV/7D/9/+y/6v/+v8OAPz/DQAZANH/of+d/47/nv/G/+z/6//k//H/5v/d/9j/qf+O/5L/cv+F/8b/u/+8/+j/5f/h//v/8P++/47/bv+P/6j/lv/F/x4AWgB5AJ8AqgBRAMP/kP+o/4v/bP+7/xQAHQAwAGgAgwBjAAgAyv/k/+D/w/8KAHUAdABZAHgAeAA8APf/xf+h/4r/nv/A/8L/6P8xAEYASQBoAIMAeABTACwA/P/n/+//3f/8/zAAOgBMAIAAiwBKAA0A4f+5/7X/wP/g/w8AHQA7AHQAfQBHACMAKwAVAOX/4/8IABUAGAAoACwAHgAzABgAz//f/+D/nP+t/+z/9v/1/wcANgBIAEMAWABOAAQAuP+u/63/l/+w/9b/9v8rAG8AkABjAEwAUwAqAB4AJQD//9r/7f/8/9D/v//B/5n/h/+Q/5b/tP/D/5f/bf+I/8L/1v/T/+z/8v+u/5T/v//D/8f/2/+9/7D/4//1/+j/AwAIANz/zv8AACEA7//Y/yAAKwD2/wEAOwBBACkANAA6ACcAOwBWAE0APQAnACAALABEACwA8f8CABoA3//Q//7/7P/O/xMATQAfABQATQBGAC0AXgBxADsANgBwAFAAAwAzAIUAVAD6/wcAMQAIAMz/3P8RAO3/kv+N/7b/ov+G/6T/xv+n/4z/0P/4/8X/vv/s/+//4P/5/y0APQAQAPv/HwAlAOX/xv/r//f/1f/O/9v/6P/8/wYAGQAnADQAOQAbABoALAARAPz/EQAmABEAAAAOACIAJwAcABwADQD6/wwACgADACAAJQAcACYAFwD8/wUA/v/f/xEATQAzABIAAADv/+3/5f/q/+3/uP+q//P/GgAEAAIADwAFABcAOQAYAA0AOwA8ACsAFwACAAUACQABANv/sv+k/7X/0f/Z/+f/6//1/xUAIwBJAHYAagBLAC8AKwAuABoAAgDn/9v/2//N/9n/8P/o/9b/0f/f/wEAHQAaAP//6v/q/wcAKAAVAPP/AAAZAAoACAAbAPT/x//G/7v/s/+v/63/uP+y/6j/s/+w/6v/sv+u/6//2P/4/+r/+f8KAAMAGAArABwAAQDi/93/8v/7/wUAHAAAAOv/GAArABsAHwAtAD8AVQBSACoA7P+0/6//xP/Y/+z/0/+5/9b/5v/h/w0APgA7AC8AKgAeACMAPQA/ADwASABMAFUAUwAvACMAMAAjABcAKAA+AFgATgA7AFQAZgBUAC8AFQAJAP3/5v/l/wEAIAA1ADUAIwAUABoAEwD5/wAAAQDh/9P/1v/s/wgABgDu//L/AwAAAOr/2P/Y/9z/3//u/w4AGwARAAAA9f/z/+f/6v/q/8z/u/+2/7P/qv+v/7r/rv+e/5r/if9e/1H/XP9o/4X/rP+v/4v/l/+w/5b/qf///xkA9f/h/+7/7v/o/+3/7P/+////4P/Q/8n/wv/X/wAAHwAqAC8AOQA5ADoATQBWAFcAUwBGAEoAVwBsAIcAlQCgAJ8AmACnAKkAlACHAIkAmQCmAJ8AiACDAI8AlACVAJYAjQB9AHcAawBsAIYAgQBmAFwATgArAAwAAwACAAgA+v/J/7n/zP/O/8b/x//S/8b/rf+6/8//t/+t/8P/of9r/1//Xf9I/0P/Z/95/2b/Wv9f/23/ff+Y/7T/q/+O/3z/f/+B/2v/X/9o/2L/Yv+I/6P/nv+q/9b/4f/O/9r/8//y/9b/wP/O/+b/8f8SACoAHgAbADcAUQBZAEgAKAASAAcACwApAEUARgBQAFAARQBBAEQAUgBXAGEAgwCYAIcAcwCLAK0AqwCdAIYAXwA2ADkASgBHADwASwBfAFEATwBaAFQARQA3ADkARAA0AAEAz//M/+H/6/8CAB0AHwARAAkAEADy/7f/sf/K/9X/2P/W/9D/0v/Q/9D/0f/E/7L/mf+N/6D/qf+0/8H/vf+8/6L/nf++/8X/uv+9/8r/v/+3/93/3v/G/9//4//T/9T/1//b/+3/BwAFAOf/yf/F/+L/AAAMAB4ALgAiABQAHwAsAA8A+v8TADUAQwA7AC4AHQALAPv/CwAgABYABADr//X/KABRAF4AWgBPADwAKAAwADoAKAAeAAoA9v//////9////x4ARABQAFEASgBDAEUARQBNAFoATABIAFcAQAA0ADIAEwDw/9n/z/++/7D/xf/m/+7/7f8DAAwA9f/6/woA6//X/+b/4v/c/9//4f/X/7r/rP+3/7r/n/+K/6X/tv+r/7D/yv/m/+L/0v/U/83/vf/T/+j/yv+u/8n/6//h/9f/5v/u/+7/7//r/wAAIQAhAAwA+f8DACUANwA5ADgALwAfACoAMQAhACwARgBCACsAGQD7//H/FgApABYACQAUABkAEAANACAAMwBCAEwATwBSAEYAPgA+AEIATgBQAD0AIAD1/9z/8P/u/9b/5P8EAAEA5P/m/wYAFgASAAcA+P/o//L/AgDr/87/6//8/+n/6v/p/9j/yv/Q/9j/1v/a/+z/8P/5//r/8v/+/wgAHwAvAC4AKgAPAPv/AwACAPr/8f/c/73/uv/R/8r/sv+4/9T/6//z//3/AQDq/9D/wv+8/7z/wP+z/6f/sv/K/9n/2//m//r/AAD5/wUAHQAcABQAIQAwAB8A/v/n/9j/xf++/9b/+f/+//P//v8SABcADgAEAAUADAAZADQAWwBjAEoANgAjACQAOABRAHcAgQBdAE8AXwBiAFoAWABZAEwAPgA0ACkAIAAcABcACwD//wIAEgASABAAHgAlABwAGgAbACUAQABPADYADAAJABAA8f/d//X/+//e/+L/AAD6//D/AAAKAP3//P/2/9X/xP/O/8v/sf+k/7P/xv+//6z/rP+s/5P/kP+l/5z/jv+m/8T/vP+5/8z/0f+4/6X/vf/e/97/yv/d//v/AAAFAA4AGwAsACMAFgAVABQAHgAkACoAKwAyAE8AYABbAEcAMAAXAPv/6P/c/93/5//5/xEAJAA8AFoAWwBDADkAPgA9AC8ALQAwACgAHwAZABAA9//Z/8L/uP+9/8n/0f/Y/+P/6//c/87/2f/Q/7T/sP/C/8b/tf+r/7j/w/+7/8L/2P/V/9n//f8SAA8AFAAUABYALABEAE8AUgBTAFAAUgBWAFEAQwA7AEMARwA+ADkALwAjAC4ANQAaAAQAEAAZABIACQD//+//+f8hAD8AQwA5ADIAKQAhACMAFwADAPv/BQAOAAIA7//x//z//v8CAAAA9P/1//z/7v/h/+n/5//Y/9D/zP/A/7b/y//y/+f/xf/C/7n/s//F/9v/9f8BAO//5f/1/wAA/P/y/+3/4v/h/+n/8v/9//v/9f/z/+//6P/k/9z/3//3//7/AAAVABoABQD9/wEA+v/w//n/+P/g/9X/7/8GAAAA/P/z/+P/8/8GABEALwAwABUAEQAVABUAHAA4AEcAPQAsACEAFQAIAAYABwD9/97/2P/p/+j/7P8BAAkA+f/9/wwACQAVADcAVwBpAGUAXABNACsABgDx/+j/6v/m/9//5f/q//v/CwARABcAEQACAPr/+/8DAPz/+P/7//P/+v8NAA4A/P/9/wIA+f/q/93/0//H/73/1f8AABcACAD3/wgAFQADAOP/1v/n//z/AwD1/+H/2f/Z/9n/3v/g/9z/5f///w4AFwAdABAADQAPAP7/9P/0/+7/7//8/wAA//8GAAwACwAMABEAEwAXACIAGwAXAB4AKQApABUACwD7/+r/8P/5//f/8v/k/9D/0v/m//z/BAD+/wEAEwAaABkAGQATAAcAAwACAP3//v8MABIADQD9//D//f8PAAkA7//e/9j/z//Q/9z/1//M/9L/4f/u/+n/4P/J/7f/t/+3/8P/2P/f/9z/7P8LACIAGgASABEAEgAjADcASwBeAG0AawBeAEkAQwBVAEwAMgA1AE8AXABYAFUAUgA+ACUAGgATAAwA/P/n/9X/0f/k//f////7//X//v8MAA0ACQD9/+D/2v/4/xYAGAACAP3/CAAMAAYABgAKAAoA/f/x/+//7f/l/+H/5v/q/+n/4f/Z/8b/tv/A/8v/1P/b/+T/6//n/+j/+/8aAB0ABQAEABIAIQArACgAHAAYAB8AIAAlAC0AKQAbAAoA9P/v//r/AwADAP3//v/y/9b/1f/j/+D/2//V/9X/3f/k/+z/7f/m/+7/8f/t//H/9P/3/+3/6//3//D/2//S/9P/0//S/9z/6v/0/wAA9v/c/8j/vv/Q/+P/6f/5/wEA8v/m//X/BAD+//X/8//f/8n/yP/M/9L/4v/4/xIAJAAlACMAHgAgACkANAA6ADEAJQAdACEAKAAtADUAKQAQAAoAFAAgAB8AHgAVAAkAEQAXACYAKQAsAEIAOwAlABQAGgAjACoAMwA4AE4AZwBuAGwAaQBlAFUANQAhACcANAAnAA0ABgAKABkAIwAhABgACADz/93/1//b/9j/1f/b/+P/4P/M/8L/z//N/7v/wf/U/9D/u/+4/8L/y//W/9v/1f/S/97/4//e/9P/yP/P/8z/vv+5/7b/wP/O/9v/2//U/8P/rf+t/7X/w//c/+P/3P/m/wQADAD8////AwAJAB0AJgAWAAIAAAATACEALQA8ADwAMgAlAB8AHgAaABUAHgA1ADgAMAA1ADMALQAzADcAMQAlACcAKwAmACEAFAAEAAQABgD//wEAEQAOAAwAIQAxADMAKwAoACoAJwAxADQAGQAMAA0ACQADAP3/9v/j/9f/1//e/+H/zv+//8z/3P/U/9b/6f/y//7/CAD+//r/AwD9//H/BAAhABUAAQD4/+3/5//5/wcAAQD3/+X/1v/i/wAABwAAAPP/7P/9/wQA+//+/w8AEAACAPj/+f/w/9X/zv/Y/93/2P/a/+D/2//g/+v/7P/u//H//f8OAB0AHAAIAPL/5v/q//D/7//u/+//5f/h/+v/8//1/+//4P/b/+v/8f/g/9f/5v/7/wcACwAKABAAIAAnACAAGwAdACAAGAAMAAAA+f/7/xMAKwAkABkAEQAUABUAIQA0AEIAVgBjAF8AOQD/////GgANAAwAHQAcAAoA9P/s//z/BAAGAA0AGQATAAEADwAfABUACAAOABcAEwAMAPz/EgBCAEUALAAcAB8AEAD//wIA8f/b/9r/4f/v//n/AAADAAIA//8FAAsAAgD5//n//v/3//3/HQArABoAEwATAAUA9//5//b/4f/S/9X/3P/d/9L/y//X/9z/0f++/6b/lv+W/6P/uf/G/8P/xP/Y/+n/5f/e/+r/6v/i/+T/9/8PACAALAAqACMAJgA5AD4AKwAkADIAPgA8ADoAOAAzADAAKAAbABIAEQAMABYAKQAqACoAJQAYABMAHQAgABgADgACAP3//P8AAAkADwAOAAIA/f/2/+b/5f/p/9j/wf/B/9T/6f/r/9n/vv+y/67/oP+O/4H/gf+B/47/pf+t/6z/t//B/8j/2//n/+3/6P/X/9b/5P/q/+r/6v/x/wUAFwAiADIARQBTAFQAVgBeAGQAXQBSAFAATgBNAEYAOgA0ADUAPQBHAFAAVABgAGQAUQBAADAAFwD7/wQAMgAhANf/3v8uACQA3f/r/ysAJwD8////BwD7/wAAJgA+AAEAuP/B/+j/7//r/wAADwAHABQABgDX/+3/FQABAOf/7//r/9H/2/8HABwAFQAKAAoAAwDy/+z/AAAQAAUA7//q/+j/3P/Z/8//u/+n/5D/hv+j/8//3v/X/+r/BAAAAPP/CAARAPD/3v/b/+D/8/8CABMAJAASAPj/AwAaAB0ADAD9////EAAhAB8AHgA1AEgAPgAYAP//8v/o//v/DgALAPz/8f/y//r/FgApABwAAADo/8v/wv/i//X/9f/u/+n/6v/w/wkAJgAuACQAGAAdACoAFwADAAwAFgAGAO//6//m/9//3//m//7/DAAJAAoAFwAmACEAEgAFAAUADAAEAPj//P8EAAMADAAiACwAIwAjACwAKwAhACEANQA2ACUAGAARAAMA+v/5//z/9//m/+f/4f/Z/+b/9//x/9n/0P/R/9f/0//E/7z/xP/P/8//yv/D/73/vP/M/+z/+v/n/9v/5P8JABwAGAAXABgAGwARAAoABQD9//L/5f/k//T/BAADAAAADgAZABQAFQAPAA4AJAAuAC0AMQASAPr/AQAJABoAHwAYAB0AFwARABgAEQAGAAkABAAIAAcABAASABoAIAAnABwAAAD8/wcA/f/s/+3/7f/u/+z/6P/y//z/DQAWAA0AEAAcACIAFwAMAAcABQAHAAUACwAUABUADQAIAAAA+/8IAAwADgAGAAIACQAEAAoADQAHAP//+P/4//P/4v/L/67/lv+w/+j/6P/Q/9T/2//N/7//uf+3/8z/3P/r/+7/2v/o/xMAEADm/+r/AAD5//7/FgAaADEAVQBLAC4AKAA5AD4AOgAuAC8APgA8AEMAXABKABsAFgAYAAQAAgAYABgABQAMABwAGgAdACUAKwAgAPz/2//T/+D/8//+//T/5P/2/wQA9P/p//P/8f/g/8r/vf/D/8f/1v/v//v/+v/3//D/5P/l/+3/5f/k//P/9P/2//z/BAAUAAwA8v/P/7f/tP/H/9r/1//T/9P/2//i/+L/5f/l/+D/6P/n/9//6P/8/xMACgDx//H/8P/2/wgABgD8//X///8OABQAGQAnADEAMQA2AD4APwAwADQAQgBBAD4AOQAxACcAJAArAC0AJgAmADMAQgBTAGQAWwBEADAAJgAtADQAMQAoAB0AFAAaABkADAASABoAIAAaABEADwADAAIACwAHAPj/5//Z/83/wP++/7f/tP+y/6b/rf+w/67/v//O/8z/x//S/9D/yv/Q/8X/uv/H/9L/1f/g/+L/2f/Y/9//3v/f/+L/5v/z////AQD1/+z/8v/5/wYABwD2//L/9//4/wYAHgAlAB4AHgAcABoAGQASABMADQD7//j/CQASABUAGwAeACAAKQAxAC8ALAApACUALQBHAEsAMQAiABYADQAQABIAEgAMAAoAEAARABoAHwAXABAACgAIAA4AEgAPAP///P///wMAFQAYABwAIgAXAAEA9v/5//v/+f/r/83/u//F/83/y//O/8z/wv+6/7//v//D/9//6//c/8//2P/i/+X/8P/2//T/+//7//T/9P8GABQAEwATAAoACgATABAACgAJAAgACAALABcAGQALAAQA+f/3/w4AHgAZAA4ACAALAAQA//8KAAsABAACAAYAEQAWAB4AJgAhAAoACAAeABsAEQAUAAkA+f/8/wEA+v/w//P/8P/q/+b/3v/Z/+L/8P/s/+P/8f8cACEA2f/M/0EAfAD1/3X/2f9pAB4Ajv+c/wIAIwD1/8T/uf/g/0MAegARAJn/6/+DAF8Aw/+E/9r/YABfAMb/av/b/3MARACj/4n/CwBHAO3/oP/U/yIAGQDq/9L/5/8KAAcAzv/G/xwALQDK/8L/LwBQAA8A7v8ZAEUAWwBOAAgA8P8+AHIAGQC3/+7/VABAAPH/8f9FAF4AIwAYADoAMgAKAAcAHwARAO//2P/6/1MAVwDl/73/OAB7AAgAzv8bACQA2f/r/0wAQADJ/67/FwBnADMAvf+W/wAAiQBXALD/g//U/0wA5gB4AEn+x/1wAakDdf8x+13+EQTqApP8rPr0/7oEEgJ4+2D67AC0BR0BL/o5/GADUAO8/Uz9cAAoAP3/iwJWAJ36D/4SB/0DEvkt+34GTAXH+kr7NgQsBGL9+vz+AKIBvwBNAIj+B/8jA5UCpPwJ/ewDCASO/VX9VALzARH/BQGAAvv+kP6PA24DQv1I/d0DcQR4/l/96AEIA0QAa/9nANcAWgHtANf+QP+TAh0C9f1o/r0CJALn/VL+1QF6Aen+Ov9+AJH/OP8gARsBO/4I/h0BagGL/gv+JwCwAJD/xf5s/g//hAAeAPf9Bv45AP//c/2B/SkAPgCW/UX9jP/N/wX+Ev5K//H+U/7l/tP+2v1R/pP/Iv/m/eb9pv4M/wb/g/7y/Yb+lf8X/7P9Bv7S/wEAWv4f/sL/KwDc/qP+6P8/AGv/Of+7/+z/BgBTADcADQCYAPMAdQBaAAUBPQH5AB8BcAFhAXMB5wH/AXEBTAEzAs0CDgKTAYACDAMtArgBsgJyAwwDjAKuAgkDPwMtAx4DhQPiA4cD4gLxAoYDwQOOA3UDhgNLA/kCIwN1A10DCAPwAqwCAQK7AUwC6AJ1Ap8BVgFZASABpwCFAO4ADQFXAHb/Mv+X//X/sv8o/6X+E/6c/W/9vP38/db9k/1F/a/8K/wf/B786vuR+yv7ifrh+an5Dfqj+kD6DPkV+cH56fhE+If58/k7+aP5wPko+Xr5T/q8+vb6hfol+pv6afpq+tD7s/zz+5n7g/wS/Ub9yf3G/Zj9gv4W/53+pf5O/wsAcgBkAJgA/QDmANIAjwHAAigDFwNVA+8CbwJyA3AELgRYBJsEIAQgBO8EuAUZBhIGtAU/BWAF8wVoBmEGCgbhBbsFdQVcBasFrwVDBe8E3QT8BA0F9gRBBRkFrQTHBKoEZARvBHAENQQaBOUDygNuAwYD2gILA1YDgQPGAocCpALiAvgCOgN3A6IDdgN5A9wDQATLBLEEwgRcBGQExAOeBB4DswIMAooCnAEnAuoAHgItAW4B4ADUBx8QngipGtlMw1WxIGkc+EiaXeclDdiG1XslliwqyvqHtcccIODexoQMkaaI65VytaCb84L6n/0K2MQBgKugd+79NqYVTe7CFOhbiFKwaqlDORy9WIF+4zYU920nEUNGOqMOBeEEAS8iVBZzDR4Ziz4vYdJQX0YWVIAu+jnbblc2nOzPKf881eA3zcvq6eEPtMaSU4xFjWWKTJDNme+RrYpzoqi0+Jj8kPLNJhSK/Jmz1dPDI3QUTQ1QLhQXDC7IbKAvVe9EMANTo0akR34woSNcOg8vaSu5QrEyoUx4db9cyy/qS2pxJ19qQAg+FlTjQfYRpvDc8I73jAHI/HDNi7jg0h3bJ9Y114TPXdf94rPdZ9nv117bRfb2AlvuB9/m36r5xAfq+CT14wGe9IXfV+gW8e/lB+DH89/4BvJi8QLrHABVDOcAtA7GGVv44+v6D+AOKuM777MhWRPM+skT9QFY3BXri/40+DHkguB26mD2XuZ24g4EfRthB0sFtAm5+mMA8BXGEygHKB6xIiUA2fbrMOQ54xHkFXQqMBvqDZYWzx7QGtARxwAfEDAGz9J35FIGo/JgzfDNJMnx1Uff1t1Z3w3l6/QZ6V3gmu0uCIQAcuKb243xywT2+pHnBPvKGJEW3QFz4o37jCNCE7P1vRToF4z0bfb6LJIzm9nF0iIn2kqC/47fXyKVSH4c4QggFJEPKBBTDS0SPv1+yPHVygID5dbFv9sC047PMf2u3pCpT8iv5XPWRuIRxmi3/fgW+xjMB90A/DsFYxVHMGRXXGk0VbRayHNoddlq6WNoc39v2jxhD4gbLhNF2nC3BNai8lvHCqHkoS6mM62ozOrm0+dOAWknn1K/Q/45TlmpZT9T8kXjXdk3vOpR3cYkbCAxwfmxDAT++QOgQaMC5H3d5ryj0NjxEuNrwBfOB+nc+KnpR9cw4+P7P/+oByz+KAdXJ1gfavZ5+NUNngPL7GPpeQHZ15mzJ+QG977MtN4J9YHmK+cs/qsUvBteFp4k+DiLNUsuRCnxLXo0Wy13Agfsl/zc7bXJXMhPvuXFcMlLp2S3YN9lz03H+epw8gj6NhRIJzktiCLbLYdH9jeXKFo+PkRxIWIgGCmmHFAU1Q5VExYNS/qJ297fEfdk6kTe9vRU7FjMhO/kCajvA/RzIswrxQUWBiMhQw7P8iQFXBLr+nbLTrj62mTdAsuhz7vWdMsRzHPklfQO6/zqqCHMOAAXlByaOGQmTRShMdZHei4ODyMUVx9aAUkAXAQj5NLwDhYoBY32wgUHACgHcBxjC5IIiRzq+abk8w77Hr303vY3IRgmCQHv6/oSPiXj/qLnSQR7FiftQNqm9CQTQAhyBEwVICVfI/UCUxdgQggs/QKBFIsksB0REGr/V/HWAB8UX/jm1m/2oRbK8IDizg+JCovp0wOBABv8Dx3wBCPtJgnyBRbxl/7H7NDTUfBX3QukxbZM7MnGqKkh5XAQw/Lu1fj+AR4IHyIPH/61BpcToPFW0rfxm/NJ5SryRNfyvIbrjfuC3TDYW+Q8BjME+tU73mwAYP14AX4FNAl9CGsH3BoBNIYwSw49EQ0icRjJ+evt+/5wCOD7O/7oEXH3NfVzEjke2h6iHPshTixvMy8unC4aLnYoaiYRI3URtflo++TsCd7K6F7WIOMQ5cqxRcCBABDssMhrz6DojBc0CMLF+84u/OXtH9tpwj+1oss30nCynL6P4r7XsehAAuXnCO31FWUG4uq9BBwu9y3SF6UcPEDGSxouxysvOD0sER+/F6oT5yWUHf4KvCXTK3Uj5igCJfAnBUA0OAoo0zwESn055ygFNgU8xSSgDsYQdA5a9YP1G/iO7dHyR+6P7ZX1x/Ij/VEEIAGUErAiYxSGIHgrzh1wFe0DGgpPD4rwbNBg3rHnnNBcy4vPwtL91AfSmNzZ7jbw1NQR2b0H3Q2b6YnjBRdgKzH8b9m++m8fCevZzLEFyCxwE6jvpvC/C5geWgV65kvqExiWHXvvi9tY9tX9U/XW51rfyvAH9rrof8ObzVLrAeuzuJG0Tgc/Ngv/89biILtPyCWvAQ8pnzW+G4kLywNV/UXzltEss2bCYMdxvDemi6MzqiawyqeSn2iw6L9cxk/J6dlA2ZvkNv799XTfWPPKC3T+H+hQ2kLiKNXCywLkuuhR1WbxiB9WMio1FEJHXRRieGnTb2ZwY2DzYdFqQWn0YHJN5UMOQGpCVy99GrULLg+IGA8Kp/56AgsOTBdaGAkjZipJHrkkmzm/LvYWwxMzD5oAQ/rc9o3pVNe+zbDVNNq01qu86ao4trvTkdgUtLuiQbib08C9MqiDtqnMMNGy0dDhiPUO8FzleQF4KDUxTyj1Nu5KGF3KXLtLhkd4VQJicWZPYcBSGV8AZqRiF28jcP1oHG7HdOZ053Kja8ZqGXIucNlsx2i7X8RYp1UgVJRAIxrLATr+bueqvkGqFZ8WkIGLrot9i46L/YoXi/+KDIvFivqKwYoBi7aKP4vjiv2KKYsskf2W/5l/nX2he7O6wLS6XrN5vw3Ft79YuzW6XbzIuuy9BM5H5OjtUvfF/ekMSx8YLucz+TLGO3NDRkkuTSZQ40zoVmdmqmnWZf1e2F7hYwxmQGRvX8pg2GbgZRFht16rXhFXpU3ISHZDOTqwLUsjfyEaH4ETNwpICa8HlwCL+XbzCu355frgO9lYzdzDVLa1piOepp/ZnBeStIznjw+Yy5XQjz2OWJNbntSeF5iJm+eim6QoqF+qObq20ITUkt7w/bscZStRL5k1FEjHVNVMhEUqSqNQwlGyTQ9KulDqUlZM/0TDQ5hCNDTTIckWdxbhDnYCMf4AB8MNQQinBN8MTRfYGD8UTxPNGCAW4g39EPsbeh5ZGGwWaCAuK4Mo/h2yHgYfqh2ZHLMXABIzDbYHVwFfAk8FHP7E8VXzEv3j/3T00uzK8/P9aPyu+DD/OAiUCx4LOw9WGBsc5RsHHu0cTx3hGvcQFQNS/2X83e7Z3GnQVM0LyYK8mrJsuEPFb8/k1d3fMPF2BTAPfBHAHSUsIi4WJ7kfKSIIJPEWbgEP94L1vOm92u7StMxExr/CZsUqz8DZZt8k3DHcC97p2s/Xqtm/4TP0lA+PJ3Q8LE4XXeFm+2fRY4Rcr1KyRxE7Dy3MH0oVcAtEBB784PcT/Jv+B//k/usEagpCBQX5u+//8brxnOf83F/YVNiY2PLcx93+1/rWPN5J5bHkZOGZ4vjqXPUK9njxvu+H8GPwEvDg8jzuYOW14OHgM98h3Y7f8d782enYG+BC41zcDNct32Xp7ObN4x7rj+5z6YHr8/ZU+o/xg+2I8nH4w/bm8RPvgvHn9XDzovaH/s//gPuhAQgQ0RCFCyANtxmGICcaxxf0GoUdDBoRGc4gXyGpGCgWsRojG0oZtBZiEfsRFBSBETMKcgKSBfANDg/IBRkA5QiZD6MJTQRtCvsPgQkiA9ME3gas/1j3TvdM+iP7uPTW8DT1sfpT/Er7NP/UBVkNxg1/DecbsCeEKIEnLDGfP41Eqz3RNslDbFCaSRo6bTfMP8E4iifFHlsi5yO/FuILpQxUD28JzQCeA9MK7AwsBvkAhAPzAXP7F/nK/pn8+e/i6SXv4/NW6ybiyOR98Q7zBOX33zjq2PFH6f7k+OxK8FfnBuHq5bXmyuBy2WLXXdi42DLZMdSd0JnT99rm2aDRKdS327jcOdeY18zc6N7Y3uPeXeeE6gTihN2x48rpquJ/3s/mcu0E5n7flOk48ffry+XK67P2/vOz7EDvjvQA887xjPgx+uTw7Oo88dX1Wuwz4CbkCvMD9Snv4PiAE9EnbC2WM7lCm1MaVdFLMUnEUrpYvEyYPu87dD7dOegteyZXJu0oXivGJg8deBfvGv4dLRZwD9MR7RBiCIAGmgxwBx33+/SwAZAEzvfI73n3PfnU7svqC/BY8MvjIty7313k796Z1Czad+XE4p7Yvt1Q7EnoN9tt4v32p/UQ4zviT/Dj9c3yV/EY8Un0cfzV/ob3dvn0CKoMNQHE/6sMfxMMCscBfgnyEnwQOgXr/QQCkgtbDPcFlAfyDYkQgBHhEUoTnRYkGTcWPBIaGiYktR5mFKscky2KJL4MfgvTGmAeBhFdCfYS9RuhEtAF2AmeFAgSDQX3BRoTuRKkA6X/UQkMDAwIFwQYARv+Ivun+Fb0UfY6+ZTvb+NP5/f0JewG1YPUHOvG9xvkwdAZ3Y31AvUe4G7eBvJN+ULoXN4J6vHxh+k34Pvi+OnZ5qnheOK/4uPkmOiv6GPlL+cm8B72JvKs8Mf4Ffu59Uj0m/lA+mj0SPfCAdgC2vkb+swB+QSpBJEEwQV0BTcKcw9AD7YOkQ7KEX4VfBVUEoMRhxEWDdsMrgyECecCPf+0BucGZv8V/uYDNgTD+774o/7tBeoDhPp8+QID5Aat+zzwwfbnBnkItPma8Bb7tAbkAJr3x/obCCcMZQWNBhEOjw79CEcNeBXvEN4L2Q8qFM0OWgtzE/4XmBTPEVcXCR+XHtgaaRq6IKcoHCgQI2EiMyYqJwYiEhuDFZIU0hbhEkkGcPrp/BsCkvq28pT18fp99CXukvPI9/bxK+xZ8sf6tvjg7+noOuxZ8nTvS+kc56bpVeoO5kzi6eAX5Bjpf+na58LnWe0671TqKusc9BD9JvuV9OP1gv1eAO77ufkv/pcC+gCQ/Ez4iva09yn6YPyS/az+D/08/FX+PP8o/vn+/wFUBJ4DBAEc/9X58PjM/WD/3flb8SHzHfiQ9GHuhPB4+ob8vfZf+eYBagHv+vb8LwhMDrsKNATsAjsJJg3vDVgJ6gH2BIEOYBN9Buj5hgjeHPAY/QOlAuMVDxpzCRQALQpgEZ0H7fvr++T/wf0D+oL3ivbU+woC7v5h9ur6jglYDmUFeQBJCS0N+QhHBvAGrwdVA/sDbgmnBMr2p/EV/n8GV/wO8uf6iQgwCEkABgFCClgNFA14DWMM2wkOCgAKcgdRBh0CIQD5/rH8rvkQ9XH4Cvyu9dntNfQx/3H8hPSd+KAGmwYc+6H5AgPVBQT9W/uPBXAHQfpi8wf95wZkAbL2h/qwBhYJBAFz/zAJJhGXD5sIcwiXCbgE+fvF963+7wC7907rv+nm80fyDeI23HPndfCI6Fzbbd6Q7xr4vfCp7Pn4xwchCGT8cfoEBioN7QhJ/jcAFAq0CsACc/vZ/2oINAgjAa4AaQkrC1IFcAOHB04KJARv/84CHwSF/G30aPYe/fv6dfPl8+b6/v6B+cb4vwFTBt8EBQK5BBYIMgdsBhYHgwgNBYoA8ABuAQAB2/1M+7f9NgKwBNUCtQDNAp8Iygu+CZsG0wcQC2cM1wndA98BMQZOCloIuQF8/5UGogu8BwAElAjjEOwRiw0xDA8RuxT2EUAQug+sDzwLbAbEA7wAdQCY/AD7cfp++If1xfJ59w378/k79Rv1Tvya/DT3XfLF9Sf7CPfc8Q/xZ/bv+Pr2WfgB+vT6Rf1SAMoAEf8cAO0D9wX5A2YADAHUBMsFpwJkAOkAbgHK/2r9rP7wAfIBHgDaAEUCYgPzAar+v/+EAgMDrP+X/WUBXgIE//D8tf9yAhT/cfwJACMHLQY8/tf74AC2BWIAevh290f5afdV8cDvhPJa8Rruu+9P9i77VvrA9qn3K/9/BHMBvvgh9W/+BgfMAeT1uvNI/uQEwv2D82L2RwFAB7YDnP58AqkGdAX/AjoDyAIH/rL6hfk6+MnzzO8c8kj1PvfE9Jn0lf5oBokI5AXiCAkUUxfKEQsLcg1oFKoTQAyDBT8HGgriBDP+kPzaAuYGDASzBCMGsgZKBUgE2gijDEEMowj0Bb0FHgUVA8X/N//5/2L/uf30+ND3v/te/RL9n/xV/+ICVgEe/50BYAelB/oAIP2B/98A/fwW+UH5qvqS+ar2Cvdi+CP1BvSX+Fv9Kvp28WLtovLg+Fr0uOze7H30pfjg8kzuavP2/9YHHAIY/d8B2AuhEeMOtQ3PEgQYQxexETIOwxBvE5ARUA38CeQGJwXPBAQEPwN7ALP/9QBv/lr3F/WL+zn/1foR83P0dPkU94n0efRQ+vT9kPsw/R8AXgJzAGMBbwnmDm4NywPf/w4F4wsPDGsCqf/MCJARiw13ASn/HQpLEcYLaAQmBsUMLgpcAW/+HgT9BvP+nvWU9h7+P/vN757sMPf8//H6nPML9o/+l//x+/36pP1gABf8BPil+Dz6tvgT84fvovNA+Yf3IvLp8jH6zv7g+r74vv0lAQ4BRPyD+/j8KPiv8zr1Nvsg+s/vXOqr7+b1yfN27SnvrfjL/Qz4l/Pk+BcAKAO4/3r+eQLWAkH/Zf3l/yUC8gBg/qX/cgGI/az6Ef6CBRMKNAfyBGIKURA0EXMNDgtmEdgWMhO/CvUGwwqpDHAGQgLOBsoKywYm/Tj+rAeLCQIDO/5zBQoPgQyxAlsC/gsiE2MQDwqrDKsSBxMCDyMOehOAFqgT4w+UD+cQ2RDLDKgKNw7oD3oNkQfeA0AF7wY4B9IG2AbHA7X+yP7nAXIBJPtB9q335vlX9APsQOh56VnuN+6n7QTu5+2q707zF/lY/Fr8KPqR+5z/KwOaAjj9Bv5ZAhUF3ARj/zf7gP05AucC3/yR9xf7lwDw/wj7h/lD/ub/mfrp97/7af7H+JHyaPRj+nb8OPhL9bf35vrU+hn7O/73/mr65Pdq/Pr/8fqc8WfwIfqMANX4RO2k7LP1+/o69gbxb/NK+pH7Ovfj9OH2efqr+rf5e/su/Wn6xPY39lD6Sv4l+zr6I/0J/rv9mfuk/V4Bg/8j/e//JgXRBmABQ/vN/kUG8wm9BeL/aQOXCtAKMQN0/iADhQh7BscAQv5NANQATf8GAAQDcwVoAxcBFgWEC7MMVwkeBmIKqRAqDa4H2gUICbkKIQRZATcF+Qa4BF8B2gMNDU4PZQkSBasHwBDtEsULNAXTBusMXwuBAtn86QBhBvEHDgYjA5wCVQP9BloLXgw7CQ4JQwxXDbUINAGrAbkFkQaDAnf81PsK//X+/flr+On8bAKeAjv8n/oP/tMApwDS/XX+UgD5/rf7VvrV+lj66vfE9zf6xvrh+JT0VvRB+lr9XPvI9lz1aPfB+LP4Ifa+9KX0TvaM+Db5mffO9SD5xf6xAPj7Z/dG+Ir8F/7M+rv5Ovom+lP3J/PU9NT5Fvwj++z6c/6RAmYAuP16/4MExQlYB+0BNf7X+xT9g/1Q/Ij83vsO/GP92v4nAP3/sgAfBfMKcw7kDM0GcQWrB6gHaAdpBVgDmQL5/6H8sftV/On8sf6VASAFpgX4AskAUADTBOMKkwtqBwED7P9jAfgCbQEdAHT/fAHiAjQDGgEO/9z/IQNXCO8JKQaSANkAWQNGBK4C8P71/64BVwEKANP94f1v/1AAAwFp/yD9OP3w+vz5vPoN+iD75PkE+Db5lfqS+178lPv2/IYAxQKIBAwCTQAlA34FwQUnAz8AFQD+Ab0AJ/9u/lr+EAHRAY0CAgPvAz8FYgb/CBYKhAr0CFIHpwfmCNIILwdiBYwCnAB0/6r/qv0D/LD8nPyT/kH9FvnG+IT7h/9aAcP9zfhb+Dr5SfnY+W34xPlB+4X5O/oC+w76gfqn+yP+6AH5/s34XPY593P8Hv9k/Ib7kPu//ZcAvf+AAckDHwb3CVsLYAkSBj0EaAX8CXcJ6ASwAc8A0QLnApn/zf5fAbcBqQMIA98B9QStA2UDSQUWBWMEkQBG/Kn8f/5I/Wb76/g4+Kj7ev0N/mr+3f2g/msBTgE5/9T+MP2t/28BP/42+7b32/dt+nj7Evpo+Br4ifia+BD4iPm8+cL6C/+YABYAw/0a+tT75wFFAzEALv04+qr7j/y9+xH84/wHAoMEOAQHBIcDrgPOBIcHgQhoB5EDjv5g/S0AOABi/fX8xv24/4X/aPzc+wb9uf5YANYAVgKUA0cCgQIvBvoJaAxrDKIKDgoACwALlwhSBqoEqQRlBdwDtwFm/lL+/AAmA6QE/wJiAVYBegNHBpYFRANZAyQE+APBApz9nPnY+u77ff0N/XD5zPc3+X380v7IAHQB4wEKA2ADYQLtAHcBWAHpAWECQv5K+nL45vYW+E36GvoW+q/5kvh7+WD8q//dAI8CHAS0A3gDuQBx/Az85vxO/O78Lfq/9XP17/Yj+lz9DwDjAmsEywaaB7kEFwX6BYQFAAjmBev/nf0F/Bn6NvtP/MD8wf7x/dH8+/wH/gkAhgD2AukDQQOWAwoCVQB8AAEBxQH8AsYB6f/c/hP+xf7z/zEBeQEgAS8B6wBlAT4B9v+KAAECVAHDALH/N/5fAKsBUwFOARgACQBs/y3+kf6+/Tr9Uv7E/FD9E/5q+679QP/4/rIB9P89/an+b/3p/eb/5f6F/4z/8//rABgATQChARYC2wQZBl4BZQBw/uH8FALtARoAXwGCAJoApgJdAlMDEATUA40GuAauBDkBWf1i/GD/0QBXAFn+Q/t0/bH/sALeAmAA7gG9BeoH/waNA739kf0m/+z/lv6r+Xb2FfaB+aD7avwT/CD9vAAWBfAI1wZ5BJkDaQXfCf0HGwJW/fL7KP37/Yb8MfkD+Zj6Jv2T/vT+tP7o/jsDMAWgBUcDrwFNAhME+AXPAjsBnwAIAroBJAA7/0H/awKqAmEBQv9OAJsBPQICAw8ChQIsAoQC0gGqAf4BcQC/ANcAHADZ/gX9VPyV+3r8pfxR/ET8dPra+tb8Hv6V/Sr/HP1f/B0BhQF7AIT9b/yx+yQAcgH0+hX5Hvmc/G/91P1S+5b5+/xX/6kClABK/1z8tP0kBJQCOAAz+0L8c/8AAGT/wPvT+oH6/v6B/P/7jf6V+xn+O//6///+gQK0AigBbQTQBBAGFAHPAfj/8v/7BE4Ba/5/+jT7dfuS/wkBifxS/+0BhQXABB4ENAPEBJgJRAjUBqECTQD1/jb/Z/6n/Az+8ftE/JT6Tvkc/SQChgWbBFAFMAOEBJsIOQW+A5AE0QPqA6cCyvvz+Nr6lPyoAFoAbP8d//z9sQH6BV4F0QXaBvYEjgfsBrkBk//Z/un96f3r/XP7Yvud+UX4L/qJ/Pr/+QCQ/zz+SAJ8BkQIeghkBPkBGQQ9B90F3wFN/aT7JP2B/XD8Dfja92n7jv5eAtcBZP+s/60C4gbQCCEGXQIXAQ4AgP8o/+H7H/lN+Mj4pvqI++D71vwc/tf/dQILBL8D4QJEAVoBlgPAAuf+EfwG/Lj8e/6J/tb8df5M/7ABIgOgAV4BLwGEAukD4gPq/yD9afvK+lj9OPxs+wH7Wvu6/RgAW/+p/ngBFAITBTEGsAJd/4/8+fw3/gv+ePsv+eT4FPuF/WL8HfyM/YX/xAL9BA4DEwBZ/x4AiAIZBJ0B+PzL+q77BP8tAJ7+hP7b/TL/8gJZAmkAbgHwAeYDYQYJBNH/ev5p/zgCHQREAn3/b/1c/yACngLCAzcDfAJSA5EE1QSLBCgETAJfA1sEyQJ3AML9bf1e/gsBSgHd/v79K/1P/gIAHQDx/+8AvwDmAAACXwAUAIMACAN1A20C5AGO/qP/PAG2/379bv59/gL+ZgD3/Sj9/v6sAVYFQgWSBMYCDANLB7MJVQcgA2gBLwGxA84E7wDn/a78GACzAhUCSQFn/of/eQMjBwcF7wAy/yj+1gCLAZX/k/qC+LD5rvrA/Gj6APjr9tv5zf7H/4/9VfrG+cz6ZwAGAjv+NPxG+tL9jgCv//X9GPsU/KEAsgOlAQAALv2K/MMBVgMBA1YAuv19/t3/ggCm/e77Bfx9/SMARv+V+wn6MPvU+5//xgD//Kv7WPzu/Qr+M/4s/nX81vwzABb+Ofqe/cr9tf28ARIBIf0z/TkAGf8HADgEhQKI/lkANwN6AacB7QLu//T/HAUiBPL9M/yV/uX/igLjBCUAGfxh/xIDawJ8A1AF+wLdAvoFcgWaAtoCGATJA8sEVwZMA9v+cwAZAvf/KgGwAoj/Tv1k/on9wvue/g8A1/wO/TD+ZfvX+bT66Pji+Gn7Qft4+v/54Pn0+Uj8x/9RAo8C9gGOAiMDowNRAzoEKgTlAiYDTwKYAJMBwgKNAPQATQMlAxsDLwK5/iH8t/0s/wf9Zvqh9xb0u/WW+Oj1ZvR49K/0WPfT+nT7nfqj+1v/RwRxB1IJOglqCisOTxApEVgQfg/3DywQtRCGERIPQQ2dDs0M5Q1fEH8Oyw0MDVgLCgmaCL4I+QScAokBqf5S/DT9HvtG95v4Wvkc+/D8hP1U+y75vv9lBaoELgUcBgQEjAj4DWkKogiQCXQJ/ghvC34LEQS3AeQEqAPMAKcCAADN+QT9a/+f+1X7wf3v+cb2K/60/vL4tvon+yT3QPhT/jj7rfVv+KT6fPeo+Z7+6PZM9CP8uvoR9j359fYR7i3yDPgk8b3sJvGj7Jjm6+we7AbkAefZ7FvmFOWq7M3qr+ir8KL0VvD99Jv6ZfZZ9r78eP1s+r3/+wOG/2L/rQUyBXYC+wlhDFkGtgjvDHIHOAbUDYwLHQVLCfYK4QNhBWkKZwKE/zoHzwVtAEEC6gG1+8z/3AeiBe0CyQYCCK8EFAuqEJAKWQnpDhQOuQnGC44J8wCsAkYGlQDm/ZoApPxW+OH9YwHh/qkB1gbAAzUC6AjBCSkHsQuTDTMJpgmKC+UHCwZIB3YHPwXnBN8GIASEAawCSgJzAEoDJwbFAJL8RvxY+Qj4bPsX+1f0HvPU9fn0qvWU+Cr3efVg+yH/1PzI/c7+R/yS/bwCJQOU/17+1/7F/P38RAA+/t77pP6c/3v75/xaAND9rf0hATwAbfwmAOcBOv31/VwApP7Q/s8C6f80+tz8vv5H+3X8Lv61+BD3bPnC9rL1Mfo1+k72gvjc+7/7J/6UAUb/mP4fBBkHrgeFCJQHxQUGCdIPExGGD4QPrA8pEeQV1Bc3FN4SZhQOFZ4UrBTmEcwNWQ2/DQwN7wuxCnIG1AJQA64DBgMBAuQAKP8b/7wAWABp/63+jv4m/m79tPyB+rz4XfiV9+v16/Uh96P4KvuF/GD8jP1IAUAFZwfzB70GEgZwB0YJiAh0BUQBBP4Z/ub9PPzP+LDzUvEe81X0/fL/8LLtZ+xo79HwJfAD73HsZuon7KXumu1l677ofudG6lft8ezh6v7peOuh8KD15fWG9Lb0G/d/+nb95fxN+s35V/qm+2v91Pzr+mf7Jv4NAnsE1AQcBGUEhQYMCdIKbAkWBrQDEwPfAxEFegRRAToA/QESBCQHcgcjBI8DaQZZCTQKcwevAwQCygPGByoJYwbUBGkGDQkPDIkMbAnoBgcITwpfCksHLgRFAYMA+gOiBQIEYAPdA+EDRwYtCbYH3gUTB1YHRgfwCL4G2AAK/4sAEAFiAnsCsv7a+z79GQCDABUBVgHr/7oAigLxAfj/0P7t/X3/2wFBApEAq/05/Tz+gP5R/9oALgGIABkAqf7O/Lf9ZQC0ADkA3wBm/7/9RP8OAKT+mv/qAc4CbASUBXwCRP8lAFABRAJJBP0Cof4a/K77t/s3/c/+W/1Q/N/8Nv4lAHP/VPx9+wb+aAFgBCQD4v3k+iv8pv+oAh4EdwKv/zkAnQGcAccB1QHq/ycA8QEVAAf+z/yq+s35JPwa/on+3/5I/Sj7Uft//hIBigF1AngCpgH2AnIE+wJnAu8DIQRxBAkFoQI3/6b+Nf/5/Wr9N/4T/mL+s/6z/D36ifuq/igAvwAt/0b8LPyH/0gB8f91/5X/KAEbBDgGJgX3ARMC8AS2BoIHmAdOAj/+iAHdAm8BAAK5/5T8xP/JA/YCYwEkAV0AYwJRBxsHYwLL/6b+bf+XA18E8v+2/MH7iP4QAmgBsv5w/Nz8nwBJBMoDL//3+5b9PQDSArUDQ/8V+w/9m/+cAN4Aqv4e/G/98wF/ATf/8P9U/gv/9QNKA9gARgFh/tH8AAAD/xD8c/0T/Jb5lPsz+yD3vPdC+h34Kvgm+WH07vFd9kH3V/OB9KL1N/KC9nz99fi49tX8xPuh+wQC+/1K9vT5Df5V/RL/IgEG/yL/5AYxDfkMLg8RE98PQRHtFiISuAzmDl8MJghEC+oJNAT2BIQHFAcWCOALrQsGCfEKPguDBsQFKwYQAWD/X/9G+3z46/ed93H3bPbL9Xf0IvM68zvy/O+N7RHrbeo4693rsevY5jbjsuO440njW+F73C/YWtl54MXlfuY27NL0Q/xkDFIchx6QIeYspTA/MkI7OTeCKWkppCqLIswkyCdjHT4avyLOJbMkDidTJIgcDx7JI4ocWRN7Ds0Bl/fm+Yf0Necw4cHZ3c8HzdLJmL7Ithu2hbSbsGmwHK6dqRWrbbAmroCs5LL8swmzGLCOqCmdOJxWpMWtI7bQvn7Ne97J/OoetzLMQJ1YiW2LdAp1QXXmdOBzwXRBdbt0wnRfcA1pvG0GdJZz7HPMc/RyHnTudNB0gXEyaJ5Yj0s/Rq02/BRd9qfj2dfC0+PKRrlDqbikLafopkegypbMkc2PdZUjmRCVCZPZkOyOUpYZmnCWVpX0kJCR2Jh5n82oF7rpxi/gAf/+D/cjtzHIOJ5AxkrQTcZI+0KiNTkpXCTQKLUu+C5oMxY3ADmhRy1cnl5jYGFkeV/UYEtn3l2dS7A5Eia+HXIcqBa+BFTyV+dB4iXhXeBm0jS/Y7ahr9ure6pLonGZwJkUniilU62gsJ+tEa4dsh6wYKpYq1mp4KZcsX+2v7TCwfbUVeF39fkJyw7lFwwrxjW+NfYygyrQHzIjxCtpJnkXLhCHDSQUkilXNxE10zSEOlJEdVSmW0hTw0RiOHo2+zn1MiwkkxRJBY4AUggfBxP69upN3A/TTNNt1dHL1rtUtEC0qbXLv/vH+8LrxKvNy8xFzNrQnc06ysnSftlj29Hiruul76v6jwm1E+4eaiydNek4ijrVN2g0MjVwOJM2zDF8KpchFiBsJqwsODNmNu01kjkFQP1ETkPUOz0xrCm2JoUlkR3aEA4F7Pwo/h0DGAJT+i3vMOM73dfagNZH0PbGR79/vTK/p8Ldx4jJkscKyZLIC8yT1Iva0N4O48bmpu7x+rQEdgw1DVgO0BUZHy4pRy3fJTsd7hoGIMkoECxqJvcavRPlF9YhVCd9Ji8hAx0AIZwq8iyGJLAX5Qq8Bw8OCQ+KCMn8HfGC8j3+lQYPCe4BnvYb8ijxzu8F6Jjb69CsyiLM69B9zijJ4cdoy3rTUdye24rSVM0M1UTk5O8j98P0HvGs+dMLzxZ7F4gUUhLvGFsntC0SIcYRgAzAEY4h2yqoHdIJMwSOC9kbAiqwIioRPA1TFl8ikSeiGW0B5/aUAD8R0BYUCVfw5eJX7DgE6RWSEP78jPJI9xoFHw8iA8Pqpt9Y5ObvVvi/7uzYv80A1/PqQPpS9oDj9M8pzVvh6PnnAHX4iO/f66/9YRnSIiIZTBAgEYAewjSFOQ8ilQkbBtsP5CL/LrcdrAb1A/YM5RtMKSciYBCGDqwVWRskHLkP7PoP9Pf75QPdBI/6iOs55QrtMvmG/rf6SfJr7VDx2/dI+M7xkuqv5jzpdO1B7C7kX9zg2hjcUOCO41zeYNOMz7nLJsWizt7YdNbc3LXl0N/76GH7M/wK/9kI+QcZB80Qww5fAE37fv8+/qgFMRHaBg/+KwcQC0wQPR8IHvITIxfoGA8VuhTDD0UF6wIRC0EPhAuCB7ACqv24Bp4TJxPPD/gK0AGBAC0GMgYTAs//gwA3AwUIywx2B4YBcAbRCygQ/xFgCtj9GPZH8mnyw+026CHu8O/c8tj/mQKx/hANhRj3GY8kRibCGLwSHBXXDIYHvwwCCDAAcghCCxACAQkSEEMMVRRRGy8REgsnCs7/k/kV+4f3D/Ep8Y/yAe677qf1Efdz+9oGzgeUAlgB9fsh9Vz12/bJ87rxwPIQ8nrxaveO+1D7VgINCYAH1wMV/s70YfAH78TsB+fR3PfdzeOh5FHuHPfI81P9gwyjDe8PPhETBzoAdAaiB7T/Kf2y+izxnvfwBlsFOQYkEPMNUxEUHhkZ+w8UDwsKxwXIB7AEZPri8xn5R/tFArADUP0P/2v/iwF5AXEAkP5F/Rr9r//UAVQChAGh/xf/Yf8eADUAIgCt//D/0//3/8f/xv+s/67/sv/Z/+b/9P/z/9b//v8OADUAYwBFADcAWAAwADIAHgACAPz/BAAWADYAPwBkAI0AsgDdAPcA9ADsAN4AqwB3ADgA8/++/5j/e/91/3L/c/9//6r/3/8AACAALwA9AFMAXgBPADMAFgD1/+j/3f/I/8L/u/+5/8D/zP/b/+v/8v/u/+z/6f/p/+v/6v/h/9z/4f/p//D/8v/w/+7/9v/5//P/6f/b/9T/1//c/9n/2//l/+X/8v8CAAUACwAKAAEA9v/q/9b/wf+6/7r/uv/F/9f/3//s/wMAGgAoADUAKwAZAA4AAQDt/9f/u/+c/47/hf+K/5b/pP+0/8r/4f/8/xUAIwAlACkALAAjABsADAABAAIACQASABoAIAAqADcARgBYAF0AXgBcAFsAWgBSAEcAOgAsACIAFgAJAP7/9f/n/9r/z//I/8T/wP/D/8f/y//R/9j/4v/w//z/AAAIAAwADQAOAAwACwAEAP//+P/q/9//2P/S/87/y//H/8f/zP/Q/9j/4v/v//n/AAALABcAIAApADYAQABJAE0ATQBOAE4ATABDADQAKQAeABcAEQAKAAIAAAACAA0AFQAcAB8AGgAZABUABgDz/+P/0//G/7z/s/+t/6//t//G/9z/7P/7/wYADQAWACEAHwAWAAoA+//v/+r/4//Y/9b/1//Y/+H/7v/4//7/BAAIAAYABAAAAPb/9P/y/+z/7//u/+v/7f/y//n//P/+//v/+P/6//r/+P/0//H/8P/0//f/9v/1//b/9//4//n/9P/t/+j/5P/j/+b/6P/t//X/9/8AAA0AFwAgACEAGgATAA8ABwD8/+//3P/T/9L/0//U/9n/5P/y/wQAGgAqADoAQwBEAEcAQwA4ACwAIgAVAA8ACwADAAAAAAAEAAwADAASABQADQAWABYACQAFAP7/+/8AAP3/+v/0/+//7f/x//T/+//7//3/+f/7/wsACwD6/9//4P8OAEkATgAkAMX/lv+6/+v/IQA3ABcA4//T/9n/6//6//z/7f/q//3/CQAPAAcA/P/+//7/AgAFAP///f/8/wAAAgACAAEAAAABAAIAAgABAAAA/////wAA\" type=\"audio/wav\" />\n",
       "                    Your browser does not support the audio element.\n",
       "                </audio>\n",
       "              "
      ],
      "text/plain": [
       "<IPython.lib.display.Audio object>"
      ]
     },
     "execution_count": 57,
     "metadata": {},
     "output_type": "execute_result"
    }
   ],
   "source": [
    "x, sr = librosa.load(root_path + \"00bfe21c-ab71-4e5a-a941-4f83f5de5c82.wav\")\n",
    "print(\"sample rate:\", sr)\n",
    "print(\"filename:\", root_path+df.iloc[0, :][0])\n",
    "ipd.Audio(x, rate=sr)"
   ]
  },
  {
   "cell_type": "code",
   "execution_count": 56,
   "id": "d72d5d11-165d-4fbb-835a-2e7bc748f809",
   "metadata": {},
   "outputs": [
    {
     "data": {
      "text/html": [
       "<div>\n",
       "<style scoped>\n",
       "    .dataframe tbody tr th:only-of-type {\n",
       "        vertical-align: middle;\n",
       "    }\n",
       "\n",
       "    .dataframe tbody tr th {\n",
       "        vertical-align: top;\n",
       "    }\n",
       "\n",
       "    .dataframe thead th {\n",
       "        text-align: right;\n",
       "    }\n",
       "</style>\n",
       "<table border=\"1\" class=\"dataframe\">\n",
       "  <thead>\n",
       "    <tr style=\"text-align: right;\">\n",
       "      <th></th>\n",
       "      <th>uuid</th>\n",
       "      <th>cough_detected</th>\n",
       "      <th>nframes</th>\n",
       "      <th>duration</th>\n",
       "    </tr>\n",
       "  </thead>\n",
       "  <tbody>\n",
       "    <tr>\n",
       "      <th>11627</th>\n",
       "      <td>5662edd2-726f-4755-863a-24ae82b09d22</td>\n",
       "      <td>0.9358</td>\n",
       "      <td>285768.0</td>\n",
       "      <td>12.9600</td>\n",
       "    </tr>\n",
       "    <tr>\n",
       "      <th>21563</th>\n",
       "      <td>a0da6b39-0df1-47bb-9d9d-98209d22e248</td>\n",
       "      <td>0.9850</td>\n",
       "      <td>276507.0</td>\n",
       "      <td>12.5400</td>\n",
       "    </tr>\n",
       "    <tr>\n",
       "      <th>25870</th>\n",
       "      <td>c0a8f8f2-1697-4b28-a30e-f48d926c11b2</td>\n",
       "      <td>0.7859</td>\n",
       "      <td>267544.0</td>\n",
       "      <td>12.1335</td>\n",
       "    </tr>\n",
       "    <tr>\n",
       "      <th>24992</th>\n",
       "      <td>ba3e704b-3501-4d85-923f-0c9632b547e8</td>\n",
       "      <td>0.9844</td>\n",
       "      <td>250047.0</td>\n",
       "      <td>11.3400</td>\n",
       "    </tr>\n",
       "    <tr>\n",
       "      <th>10406</th>\n",
       "      <td>4d15ccc5-fb87-4cbe-94ad-a448cc90ea9d</td>\n",
       "      <td>0.9773</td>\n",
       "      <td>238140.0</td>\n",
       "      <td>10.8000</td>\n",
       "    </tr>\n",
       "    <tr>\n",
       "      <th>...</th>\n",
       "      <td>...</td>\n",
       "      <td>...</td>\n",
       "      <td>...</td>\n",
       "      <td>...</td>\n",
       "    </tr>\n",
       "    <tr>\n",
       "      <th>812</th>\n",
       "      <td>06242f43-3250-4995-b226-ac49448fae01</td>\n",
       "      <td>0.6659</td>\n",
       "      <td>21168.0</td>\n",
       "      <td>0.9600</td>\n",
       "    </tr>\n",
       "    <tr>\n",
       "      <th>32253</th>\n",
       "      <td>f01dcc37-a274-49b8-ba2e-eedb8b7ef170</td>\n",
       "      <td>0.9493</td>\n",
       "      <td>21168.0</td>\n",
       "      <td>0.9600</td>\n",
       "    </tr>\n",
       "    <tr>\n",
       "      <th>6657</th>\n",
       "      <td>31987195-72fe-4bf2-842c-82278e6c60a3</td>\n",
       "      <td>0.6739</td>\n",
       "      <td>21168.0</td>\n",
       "      <td>0.9600</td>\n",
       "    </tr>\n",
       "    <tr>\n",
       "      <th>19214</th>\n",
       "      <td>8f016f2b-6f3c-4b58-8045-16d13cdfbe7c</td>\n",
       "      <td>0.6619</td>\n",
       "      <td>21168.0</td>\n",
       "      <td>0.9600</td>\n",
       "    </tr>\n",
       "    <tr>\n",
       "      <th>99</th>\n",
       "      <td>00bfe21c-ab71-4e5a-a941-4f83f5de5c82</td>\n",
       "      <td>0.7176</td>\n",
       "      <td>20228.0</td>\n",
       "      <td>0.9174</td>\n",
       "    </tr>\n",
       "  </tbody>\n",
       "</table>\n",
       "<p>20969 rows × 4 columns</p>\n",
       "</div>"
      ],
      "text/plain": [
       "                                       uuid  cough_detected   nframes  \\\n",
       "11627  5662edd2-726f-4755-863a-24ae82b09d22          0.9358  285768.0   \n",
       "21563  a0da6b39-0df1-47bb-9d9d-98209d22e248          0.9850  276507.0   \n",
       "25870  c0a8f8f2-1697-4b28-a30e-f48d926c11b2          0.7859  267544.0   \n",
       "24992  ba3e704b-3501-4d85-923f-0c9632b547e8          0.9844  250047.0   \n",
       "10406  4d15ccc5-fb87-4cbe-94ad-a448cc90ea9d          0.9773  238140.0   \n",
       "...                                     ...             ...       ...   \n",
       "812    06242f43-3250-4995-b226-ac49448fae01          0.6659   21168.0   \n",
       "32253  f01dcc37-a274-49b8-ba2e-eedb8b7ef170          0.9493   21168.0   \n",
       "6657   31987195-72fe-4bf2-842c-82278e6c60a3          0.6739   21168.0   \n",
       "19214  8f016f2b-6f3c-4b58-8045-16d13cdfbe7c          0.6619   21168.0   \n",
       "99     00bfe21c-ab71-4e5a-a941-4f83f5de5c82          0.7176   20228.0   \n",
       "\n",
       "       duration  \n",
       "11627   12.9600  \n",
       "21563   12.5400  \n",
       "25870   12.1335  \n",
       "24992   11.3400  \n",
       "10406   10.8000  \n",
       "...         ...  \n",
       "812      0.9600  \n",
       "32253    0.9600  \n",
       "6657     0.9600  \n",
       "19214    0.9600  \n",
       "99       0.9174  \n",
       "\n",
       "[20969 rows x 4 columns]"
      ]
     },
     "execution_count": 56,
     "metadata": {},
     "output_type": "execute_result"
    }
   ],
   "source": [
    "datadf1 = datadf1.sort_values(\"duration\", ascending=False)\n",
    "datadf1.where(datadf1[\"cough_detected\"]>0.65).where(datadf1[\"duration\"] < 13).where(datadf1[\"duration\"] > 0.86).dropna(axis=0)"
   ]
  },
  {
   "cell_type": "code",
   "execution_count": 35,
   "id": "4df57feb-8b54-4f6b-bf90-9fed62c027b6",
   "metadata": {},
   "outputs": [
    {
     "data": {
      "image/png": "[encoded data removed]",
      "text/plain": [
       "<Figure size 640x480 with 1 Axes>"
      ]
     },
     "metadata": {},
     "output_type": "display_data"
    }
   ],
   "source": [
    "import matplotlib.pyplot as plt\n",
    "plt.figure(0)\n",
    "plt.scatter(datadf1[\"cough_detected\"], datadf2[\"duration\"])\n",
    "plt.show()"
   ]
  }
 ],
 "metadata": {
  "kernelspec": {
   "display_name": "Python 3 (ipykernel)",
   "language": "python",
   "name": "python3"
  },
  "language_info": {
   "codemirror_mode": {
    "name": "ipython",
    "version": 3
   },
   "file_extension": ".py",
   "mimetype": "text/x-python",
   "name": "python",
   "nbconvert_exporter": "python",
   "pygments_lexer": "ipython3",
   "version": "3.8.5"
  }
 },
 "nbformat": 4,
 "nbformat_minor": 5
}
