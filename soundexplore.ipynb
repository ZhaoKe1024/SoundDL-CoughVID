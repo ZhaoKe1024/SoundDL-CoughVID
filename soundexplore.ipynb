{
 "cells": [
  {
   "cell_type": "code",
   "execution_count": null,
   "id": "08d98a23-9c6f-466c-8b7f-3c43022b696f",
   "metadata": {},
   "outputs": [],
   "source": [
    "import sys\n",
    "sys.path.append(r'C:/Program Files (zk)/PythonFiles/AClassification/SoundDL-CoughVID/')\n",
    "# sys.path.append(r'D:/PythonTorchVITS/CoughDL/SoundDL-CoughVID/')\n",
    "import os\n",
    "import numpy as np\n",
    "import librosa\n",
    "import pandas as pd\n",
    "import IPython.display as ipd\n",
    "import matplotlib.pyplot as plt\n",
    "from readers.audio import AudioSegment\n",
    "# root_path = \"F:/DATAS/COUGHVID-public_dataset_v3/coughvid_20211012/\""
   ]
  },
  {
   "cell_type": "code",
   "execution_count": null,
   "id": "661ecc18-1951-46bf-86dd-6e7b1013087d",
   "metadata": {},
   "outputs": [],
   "source": [
    "root_path = \"F:/DATAS/COUGHVID-public_dataset_v3/coughvid_20211012/\"\n",
    "metafile = \"F:/DATAS/COUGHVID-public_dataset_v3/coughvid_20211012/metadata_compiled.csv\""
   ]
  },
  {
   "cell_type": "markdown",
   "id": "a17c4cb8-cbfb-43a9-812a-7f239c5898e9",
   "metadata": {},
   "source": [
    "# 去除静音片段然后计算时长然后保存标签"
   ]
  },
  {
   "cell_type": "code",
   "execution_count": null,
   "id": "eed3d522",
   "metadata": {},
   "outputs": [],
   "source": [
    "metadf = pd.read_csv(metafile, delimiter=',', header=0, index_col=0)\n",
    "# print(metadf.head(5))\n",
    "\n",
    "fname_list = []\n",
    "dura_list = []\n",
    "anomaly_list = []\n",
    "status_id = []\n",
    "status_SSL_id = []\n",
    "status2label = {\"healthy\": 0, \"symptomatic\": 1, \"COVID-19\": 2}\n",
    "for i, row in enumerate(metadf.itertuples()):\n",
    "    wi = getattr(row, \"uuid\")\n",
    "    fname = root_path + wi\n",
    "    for ext in [\"webm\", \"wav\", \"ogg\"]:\n",
    "        if os.path.exists(fname+'.'+ext):\n",
    "            fname = fname + '.' + ext\n",
    "    fname_list.append(fname)\n",
    "    try:\n",
    "        audioseg = AudioSegment.from_file(file=fname)\n",
    "    except Exception as e:\n",
    "        print(e)\n",
    "        print(\"Read Error:\", fname, \"skip it and continue.\")\n",
    "    audioseg.vad()\n",
    "    dura_list.append(audioseg.duration)\n",
    "    ano = -1\n",
    "    sta_str = getattr(row, \"status\")\n",
    "    if isinstance(sta_str, str):\n",
    "        sid = status2label[sta_str]\n",
    "        status_id.append(sid)\n",
    "        if sid == 0:\n",
    "            ano = 0\n",
    "        else:\n",
    "            ano = 1\n",
    "    else:\n",
    "        status_id.append(sta_str)\n",
    "    stassl_str = getattr(row, \"status_SSL\")\n",
    "    if isinstance(stassl_str, str):\n",
    "        sid = status2label[stassl_str]\n",
    "        status_SSL_id.append(sid)\n",
    "        if ano == -1:\n",
    "            if sid == 0:\n",
    "                ano = 0\n",
    "            else:\n",
    "                ano = 1\n",
    "    else:\n",
    "        status_SSL_id.append(stassl_str)\n",
    "    if ano == -1:\n",
    "        ano = float('nan')\n",
    "    anomaly_list.append(ano)\n",
    "    if i%300==0:\n",
    "        print(i, ':', fname)\n",
    "    # if i==19:\n",
    "    #     break\n"
   ]
  },
  {
   "cell_type": "code",
   "execution_count": null,
   "id": "e1b6743c-4540-4350-95a0-aec36d43131a",
   "metadata": {},
   "outputs": [],
   "source": [
    "wavedura = metadf.iloc[:, [0,2]]  # ,9,10]]\n",
    "wavedura[\"uuid\"] = fname_list\n",
    "wavedura[\"duration\"] = dura_list\n",
    "wavedura[\"status_id\"] = status_id\n",
    "wavedura[\"status_SSL_id\"] = status_SSL_id\n",
    "wavedura[\"anomaly\"] = anomaly_list\n",
    "wavedura.columns = [\"filename\", \"cough_detected\", \"duration\", \"status\", \"status_SSL\", \"anomaly\"]\n",
    "print(wavedura.head(20))\n",
    "print(len(wavedura))  # .head(20)"
   ]
  },
  {
   "cell_type": "code",
   "execution_count": null,
   "id": "98389b2c-207d-457b-a4fb-8040d9c43295",
   "metadata": {},
   "outputs": [],
   "source": [
    "wavedura.to_csv(\"C:/Program Files (zk)/PythonFiles/AClassification/SoundDL-CoughVID/datasets/waveinfo.csv\", sep=',')"
   ]
  },
  {
   "cell_type": "markdown",
   "id": "9ab4d1f4-7fea-4e83-a1b4-a535d94783db",
   "metadata": {},
   "source": [
    "# 把具有异常标注的音频保存下来"
   ]
  },
  {
   "cell_type": "code",
   "execution_count": null,
   "id": "6348bb0e-0d8f-46d4-b076-884e627b8bd1",
   "metadata": {},
   "outputs": [],
   "source": [
    "waveinfo_labeled_indices = []\n",
    "waveinfo_unlabeled_indices = []\n",
    "i=0\n",
    "with open(\"./datasets/waveinfo.csv\", 'r') as fin:\n",
    "    fin.readline()\n",
    "    line = fin.readline().strip()\n",
    "    while line:\n",
    "        parts = line.split(',')\n",
    "        # print(parts)\n",
    "        wi = parts[6]\n",
    "        print(wi, end=', ')\n",
    "        if len(wi) > 0:\n",
    "            # waveinfo_labeled_indices.append(parts[0])\n",
    "            waveinfo_labeled_indices.append(i)\n",
    "        else:\n",
    "            # waveinfo_unlabeled_indices.append(parts[0])\n",
    "            waveinfo_unlabeled_indices.append(i)\n",
    "        # if i > 40:\n",
    "        #     break\n",
    "        i += 1\n",
    "        line = fin.readline().strip()\n",
    "print()\n",
    "print(waveinfo_labeled_indices)\n",
    "print(waveinfo_unlabeled_indices)"
   ]
  },
  {
   "cell_type": "code",
   "execution_count": null,
   "id": "339e9147-e786-4eb0-abd5-1075031779b7",
   "metadata": {},
   "outputs": [],
   "source": [
    "metadf = pd.read_csv(\"./datasets/waveinfo.csv\", delimiter=',', header=0, index_col=0)\n",
    "waveinfo_labeled = metadf.iloc[waveinfo_labeled_indices, :]\n",
    "waveinfo_unlabeled = metadf.iloc[waveinfo_unlabeled_indices, :]\n",
    "# waveinfo_unlabeled = waveinfo_unlabeled[waveinfo_unlabeled[\"anomaly\"]!=0]\n",
    "print(len(waveinfo_labeled))\n",
    "print(len(waveinfo_unlabeled))"
   ]
  },
  {
   "cell_type": "code",
   "execution_count": null,
   "id": "b4563149-10ba-40eb-ac9e-62357558f509",
   "metadata": {},
   "outputs": [],
   "source": [
    "waveinfo_labeled.to_csv(\"C:/Program Files (zk)/PythonFiles/AClassification/SoundDL-CoughVID/datasets/waveinfo_labeled.csv\", sep=',')\n",
    "waveinfo_unlabeled.to_csv(\"C:/Program Files (zk)/PythonFiles/AClassification/SoundDL-CoughVID/datasets/waveinfo_unlabeled.csv\", sep=',')"
   ]
  },
  {
   "cell_type": "markdown",
   "id": "9bed77dc-2643-44b9-8630-4cda8db1cae9",
   "metadata": {},
   "source": [
    "## 统计每个标签的数目"
   ]
  },
  {
   "cell_type": "code",
   "execution_count": null,
   "id": "9254ce59-fe80-4cf5-983d-1df2e3de3719",
   "metadata": {},
   "outputs": [],
   "source": [
    "datadf1 = pd.read_csv(\"F:/DATAS/COUGHVID-public_dataset_v3/waveinfo.csv\", delimiter=',', header=0, index_col=0)\n",
    "datadf1.groupby(\"status\")[\"filename\"].count()"
   ]
  },
  {
   "cell_type": "markdown",
   "id": "eb59ccf6-e600-4fb9-bd21-2c967e80d0a9",
   "metadata": {},
   "source": [
    "# 加上扩展名"
   ]
  },
  {
   "cell_type": "code",
   "execution_count": null,
   "id": "676ba98c-92a6-48c9-a929-370adc24a9c4",
   "metadata": {},
   "outputs": [],
   "source": [
    "\n",
    "filename = []\n",
    "for i, uuid in enumerate(datadf1.iloc[:, 0]):\n",
    "    for ext in [\"webm\", \"wav\", \"ogg\"]:\n",
    "        fname = root_path + uuid + '.' + ext\n",
    "        if os.path.exists(fname):\n",
    "            filename.append(fname)\n",
    "print(\"end\")\n",
    "\n",
    "# datadf1[\"filename\"] = filename\n",
    "# datadf2 = datadf1.iloc[:, [5,1,2,3,4]]\n",
    "# datadf2.to_csv(\"F:/DATAS/COUGHVID-public_dataset_v3/waveinfo.csv\", sep=',')"
   ]
  },
  {
   "cell_type": "markdown",
   "id": "dad033d9-b9a8-48ff-af36-e89382195b57",
   "metadata": {},
   "source": [
    "# 合并新的列 已完成"
   ]
  },
  {
   "cell_type": "code",
   "execution_count": null,
   "id": "3628b3a8-a4c7-4523-afea-de3a31fc5999",
   "metadata": {},
   "outputs": [],
   "source": [
    "datadf1 = pd.read_csv(\"F:/DATAS/COUGHVID-public_dataset_v3/waveinfo.csv\", delimiter=',', header=0, index_col=0)\n",
    "datadf2 = pd.read_csv(\"F:/DATAS/COUGHVID-public_dataset_v3/coughvid_20211012/metadata_compiled.csv\", delimiter=',',\n",
    "                 header=0, index_col=0)\n",
    "# print(datadf1.head(15))\n",
    "print(\"row num:\", len(datadf1), len(datadf2))\n",
    "datadf2 = datadf2.iloc[:, [0,9]]\n",
    "datadf1 = datadf1.where(datadf1[\"cough_detected\"]>0.65).where(datadf1[\"duration\"] < 13).where(datadf1[\"duration\"] > 0.86).dropna(axis=0)"
   ]
  },
  {
   "cell_type": "code",
   "execution_count": null,
   "id": "1dba284b-2298-423f-b302-b135302fcc8f",
   "metadata": {},
   "outputs": [],
   "source": [
    "datadf3 = datadf1.set_index(\"uuid\").join(datadf2.set_index(\"uuid\"), on=\"uuid\", how=\"left\")\n",
    "print(len(datadf3))\n",
    "datadf3"
   ]
  },
  {
   "cell_type": "code",
   "execution_count": null,
   "id": "e356e8ad-ffa4-4373-9634-ffde13083525",
   "metadata": {},
   "outputs": [],
   "source": [
    "datadf3.to_csv(\"F:/DATAS/COUGHVID-public_dataset_v3/waveinfo.csv\", sep=',')"
   ]
  },
  {
   "cell_type": "markdown",
   "id": "064197e0-f836-47e4-a6eb-7110edd80990",
   "metadata": {},
   "source": [
    "## 排序和where筛选"
   ]
  },
  {
   "cell_type": "code",
   "execution_count": null,
   "id": "9838d1c5-4321-4a63-8d83-093a2e69038f",
   "metadata": {},
   "outputs": [],
   "source": [
    "datadf1 = datadf1.where(datadf1[\"cough_detected\"]>0.65).where(datadf1[\"duration\"] < 13).where(datadf1[\"duration\"] > 0.86).dropna(axis=0)\n",
    "datadf1 = datadf1.sort_values(\"uuid\", ascending=False)\n",
    "datadf1.head(15)"
   ]
  },
  {
   "cell_type": "markdown",
   "id": "35a1a15f-c784-4602-9aeb-a6fffe4cf9c2",
   "metadata": {},
   "source": [
    "# 波形图绘图"
   ]
  },
  {
   "cell_type": "code",
   "execution_count": null,
   "id": "6204e778-89a8-4aa7-9b8c-559f5a238cae",
   "metadata": {},
   "outputs": [],
   "source": [
    "x, sr = librosa.load(root_path + \"ffe8b243-9c7b-49f1-8d7d-a953f736ea4b.wav\")\n",
    "print(\"sample rate:\", sr)\n",
    "# print(\"filename:\", root_path+df.iloc[0, :][0])\n",
    "# ipd.Audio(x, rate=sr)"
   ]
  },
  {
   "cell_type": "code",
   "execution_count": null,
   "id": "354ae27a-9251-498f-9691-86fd83b8af4b",
   "metadata": {},
   "outputs": [],
   "source": [
    "plt.figure(0)\n",
    "plt.plot(range(len(x)), x, color=\"black\")\n",
    "plt.show()"
   ]
  },
  {
   "cell_type": "markdown",
   "id": "42b5f79b-330a-4324-9a6d-40c69ffb013c",
   "metadata": {},
   "source": [
    "## 读取部分列"
   ]
  },
  {
   "cell_type": "code",
   "execution_count": null,
   "id": "16dbc2a4-97ce-4b4f-9eda-0e8d32468118",
   "metadata": {},
   "outputs": [],
   "source": [
    "metadata = pd.read_csv(\"F:/DATAS/COUGHVID-public_dataset_v3/coughvid_20211012/metadata_compiled.csv\", delimiter=',',\n",
    "                 header=0, index_col=0)\n",
    "datadf1 = metadata.iloc[:, [0,2,9]]\n",
    "datadf1 = datadf1.sort_values(\"status\", ascending=True)\n",
    "datadf1.head(15)"
   ]
  },
  {
   "cell_type": "markdown",
   "id": "309f0ed6-dc57-4eea-8f5b-f408e7bca663",
   "metadata": {},
   "source": [
    "## 已经合并得到的信息↓，不再需要运行"
   ]
  },
  {
   "cell_type": "code",
   "execution_count": null,
   "id": "c0ea5be9-2ebd-43c6-96f1-0359df610a91",
   "metadata": {},
   "outputs": [],
   "source": [
    "df = pd.read_csv(\"F:/DATAS/COUGHVID-public_dataset_v3/dura_stat.csv\", delimiter='\\t', header=None, index_col=None)\n",
    "df.columns = [\"filename\", \"nframes\", \"duration\"]\n",
    "df = df.sort_values(\"nframes\", ascending=True)\n",
    "print(df.head(15))"
   ]
  },
  {
   "cell_type": "code",
   "execution_count": null,
   "id": "3fbc0993-a87c-4861-a141-b4bdee91cde4",
   "metadata": {},
   "outputs": [],
   "source": [
    "metadata = pd.read_csv(\"F:/DATAS/COUGHVID-public_dataset_v3/coughvid_20211012/metadata_compiled.csv\", delimiter=',',\n",
    "                 header=0, index_col=0)\n",
    "datadf1 = metadata.iloc[:, [0,2]]\n",
    "datadf1 = datadf1.sort_values(\"uuid\", ascending=True)\n",
    "datadf1.head(15)\n",
    "\n",
    "datadf2 = pd.read_csv(\"F:/DATAS/COUGHVID-public_dataset_v3/dura_stat.csv\", delimiter='\\t', header=None, index_col=None)\n",
    "datadf2.columns = [\"uuid\", \"nframes\", \"duration\"]\n",
    "datadf2 = datadf2.sort_values(\"uuid\", ascending=True)\n",
    "datadf2.head(15)\n",
    "\n",
    "datadf1[\"nframes\"] = datadf2[\"nframes\"]\n",
    "datadf1[\"duration\"] = datadf2[\"duration\"]\n"
   ]
  },
  {
   "cell_type": "code",
   "execution_count": null,
   "id": "ec1eac83-063e-4a9d-9767-2f0e6bd6beca",
   "metadata": {
    "scrolled": true
   },
   "outputs": [],
   "source": [
    "datadf1 = datadf1.sort_values(\"cough_detected\", ascending=True)\n",
    "datadf1.to_csv(\"F:/DATAS/COUGHVID-public_dataset_v3/waveinfo.csv\", sep=',')"
   ]
  },
  {
   "cell_type": "code",
   "execution_count": null,
   "id": "43109279-9257-43a4-9e6c-a0a829e2c369",
   "metadata": {},
   "outputs": [],
   "source": [
    "x, sr = librosa.load(root_path + \"00bfe21c-ab71-4e5a-a941-4f83f5de5c82.wav\")\n",
    "print(\"sample rate:\", sr)\n",
    "print(\"filename:\", root_path+df.iloc[0, :][0])\n",
    "ipd.Audio(x, rate=sr)"
   ]
  },
  {
   "cell_type": "code",
   "execution_count": null,
   "id": "d72d5d11-165d-4fbb-835a-2e7bc748f809",
   "metadata": {},
   "outputs": [],
   "source": [
    "datadf1 = datadf1.sort_values(\"duration\", ascending=False)\n",
    "datadf1.where(datadf1[\"cough_detected\"]>0.65).where(datadf1[\"duration\"] < 13).where(datadf1[\"duration\"] > 0.86).dropna(axis=0)"
   ]
  },
  {
   "cell_type": "code",
   "execution_count": null,
   "id": "4df57feb-8b54-4f6b-bf90-9fed62c027b6",
   "metadata": {},
   "outputs": [],
   "source": [
    "import matplotlib.pyplot as plt\n",
    "plt.figure(0)\n",
    "plt.scatter(datadf1[\"cough_detected\"], datadf2[\"duration\"])\n",
    "plt.show()"
   ]
  }
 ],
 "metadata": {
  "kernelspec": {
   "display_name": "Python 3 (ipykernel)",
   "language": "python",
   "name": "python3"
  },
  "language_info": {
   "codemirror_mode": {
    "name": "ipython",
    "version": 3
   },
   "file_extension": ".py",
   "mimetype": "text/x-python",
   "name": "python",
   "nbconvert_exporter": "python",
   "pygments_lexer": "ipython3",
   "version": "3.8.5"
  }
 },
 "nbformat": 4,
 "nbformat_minor": 5
}
