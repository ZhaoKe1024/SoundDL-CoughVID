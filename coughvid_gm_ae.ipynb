{
 "cells": [
  {
   "cell_type": "code",
   "execution_count": 1,
   "id": "255c8dea-596d-4d95-a154-f1c4a151068d",
   "metadata": {},
   "outputs": [],
   "source": [
    "import sys\n",
    "sys.path.append(r'C:/Program Files (zk)/PythonFiles/AClassification/AudioClassification-CoughVID')\n",
    "import os\n",
    "import yaml\n",
    "import time\n",
    "import numpy as np\n",
    "import matplotlib.pyplot as plt\n",
    "from tqdm import tqdm\n",
    "import torch\n",
    "from torch import nn\n",
    "import torch.optim as optim\n",
    "from torch.utils.data import DataLoader\n",
    "import torchaudio\n",
    "from models.conv_vae import ConvVAE, vae_loss\n",
    "from readers.coughvid_reader import CoughVID_NormalAnomaly, CoughVID_Dataset\n",
    "from readers.featurizer import Wave2Mel\n",
    "from readers.collate_fn import collate_fn"
   ]
  },
  {
   "cell_type": "markdown",
   "id": "39164a6f-15ea-4f5e-a1f0-622c3beb6504",
   "metadata": {},
   "source": [
    "## 读取数据集"
   ]
  },
  {
   "cell_type": "code",
   "execution_count": 2,
   "id": "efd780a1-a0dc-4f78-8800-9e6c4dd330fa",
   "metadata": {},
   "outputs": [
    {
     "name": "stdout",
     "output_type": "stream",
     "text": [
      "13709 4227\n",
      "13709 4227\n",
      "train len valid len 13200 509\n",
      "13200 13200\n",
      "1018 1018\n"
     ]
    }
   ],
   "source": [
    "healthy_p_list, healthy_label_list, unhealthy_p_list, unhealthy_label_list = CoughVID_NormalAnomaly()\n",
    "print(len(healthy_p_list), len(unhealthy_p_list))\n",
    "print(len(healthy_label_list), len(unhealthy_label_list))\n",
    "# 训练集取健康样本的13000个，剩下503个和非健康样本的503个一起组成验证集，测试集就是验证集。\n",
    "trlen = 13200\n",
    "valen = len(healthy_p_list) - trlen\n",
    "print(\"train len valid len\", trlen, valen)\n",
    "trp, trl, vap, val = healthy_p_list[:trlen], healthy_label_list[:trlen], healthy_p_list[trlen:], healthy_label_list[trlen:]\n",
    "vap.extend(unhealthy_p_list[:valen])\n",
    "val.extend(unhealthy_label_list[:valen])\n",
    "print(len(trp), len(trl))\n",
    "print(len(vap), len(val))"
   ]
  },
  {
   "cell_type": "markdown",
   "id": "5218ffd4-3e1d-4f8f-a96f-f44d6d9be2f2",
   "metadata": {},
   "source": [
    "## 最耗时的读取"
   ]
  },
  {
   "cell_type": "code",
   "execution_count": 3,
   "id": "630954a4-d9af-4046-8e38-90037a38753c",
   "metadata": {},
   "outputs": [
    {
     "name": "stderr",
     "output_type": "stream",
     "text": [
      "Loading:   0%|                                                                               | 0/13200 [00:00<?, ?it/s]C:\\Program Files (zk)\\PythonFiles\\AClassification\\SoundDL-CoughVID\\readers\\audio.py:120: UserWarning: PySoundFile failed. Trying audioread instead.\n",
      "  samples, sample_rate = librosa.load(file)  # , dtype='float32')\n",
      "C:\\Users\\zhaoke\\miniconda3\\envs\\torch-0\\lib\\site-packages\\librosa\\core\\audio.py:183: FutureWarning: librosa.core.audio.__audioread_load\n",
      "\tDeprecated as of librosa version 0.10.0.\n",
      "\tIt will be removed in librosa version 1.0.\n",
      "  y, sr_native = __audioread_load(path, offset, duration, dtype)\n",
      "Loading:   0%|                                                                     | 1/13200 [00:00<3:29:51,  1.05it/s]C:\\Program Files (zk)\\PythonFiles\\AClassification\\SoundDL-CoughVID\\readers\\audio.py:120: UserWarning: PySoundFile failed. Trying audioread instead.\n",
      "  samples, sample_rate = librosa.load(file)  # , dtype='float32')\n",
      "C:\\Users\\zhaoke\\miniconda3\\envs\\torch-0\\lib\\site-packages\\librosa\\core\\audio.py:183: FutureWarning: librosa.core.audio.__audioread_load\n",
      "\tDeprecated as of librosa version 0.10.0.\n",
      "\tIt will be removed in librosa version 1.0.\n",
      "  y, sr_native = __audioread_load(path, offset, duration, dtype)\n",
      "Loading:   0%|                                                                       | 7/13200 [00:01<29:26,  7.47it/s]C:\\Program Files (zk)\\PythonFiles\\AClassification\\SoundDL-CoughVID\\readers\\audio.py:120: UserWarning: PySoundFile failed. Trying audioread instead.\n",
      "  samples, sample_rate = librosa.load(file)  # , dtype='float32')\n",
      "C:\\Users\\zhaoke\\miniconda3\\envs\\torch-0\\lib\\site-packages\\librosa\\core\\audio.py:183: FutureWarning: librosa.core.audio.__audioread_load\n",
      "\tDeprecated as of librosa version 0.10.0.\n",
      "\tIt will be removed in librosa version 1.0.\n",
      "  y, sr_native = __audioread_load(path, offset, duration, dtype)\n",
      "Loading: 100%|███████████████████████████████████████████████████████████████████| 13200/13200 [18:05<00:00, 12.17it/s]\n"
     ]
    },
    {
     "name": "stdout",
     "output_type": "stream",
     "text": [
      "Train Dataset Creat Completely, cost time: 1085.0631365776062\n"
     ]
    },
    {
     "name": "stderr",
     "output_type": "stream",
     "text": [
      "Loading: 100%|█████████████████████████████████████████████████████████████████████| 1018/1018 [01:33<00:00, 10.86it/s]"
     ]
    },
    {
     "name": "stdout",
     "output_type": "stream",
     "text": [
      "Valid Dataset Creat Completely, cost time: 93.70043992996216\n"
     ]
    },
    {
     "name": "stderr",
     "output_type": "stream",
     "text": [
      "\n"
     ]
    }
   ],
   "source": [
    "tic = time.time()\n",
    "train_dataset = CoughVID_Dataset(path_list=trp, label_list=trl)\n",
    "toc = time.time()\n",
    "print(\"Train Dataset Creat Completely, cost time:\", toc-tic)\n",
    "\n",
    "tic = time.time()\n",
    "valid_dataset = CoughVID_Dataset(path_list=vap, label_list=val)\n",
    "toc = time.time()\n",
    "print(\"Valid Dataset Creat Completely, cost time:\", toc-tic)"
   ]
  },
  {
   "cell_type": "markdown",
   "id": "6182c20a-b507-4815-9eb4-c196b7372180",
   "metadata": {},
   "source": [
    "## 基本参数配置"
   ]
  },
  {
   "cell_type": "code",
   "execution_count": 4,
   "id": "01b00884-d8d5-4b7e-8ba1-39de78147e72",
   "metadata": {},
   "outputs": [],
   "source": [
    "configs = {\n",
    "    \"run_save_dir\": \"./runs/tdnn_coughvid/\",\n",
    "    \"model\":{\n",
    "        \"num_class\": 3,\n",
    "        \"input_length\": 94,\n",
    "        \"wav_length\": 48000,\n",
    "        \"input_dim\": 512,\n",
    "        \"n_mels\": 128,\n",
    "        },\n",
    "    \"fit\":{\n",
    "        \"batch_size\": 64,\n",
    "        \"epochs\" : 23,\n",
    "        \"start_scheduler_epoch\": 6\n",
    "        },\n",
    "}\n",
    "\n",
    "device = torch.device(\"cuda\") if torch.cuda.is_available() else \"cpu\"\n",
    "num_epoch = configs[\"fit\"][\"epochs\"]\n",
    "klw = 0.00025\n",
    "# istrain: 如果是评估环节，设为False，读取测试集，并且不创建optimizer\n",
    "# isdemo: 如果只是测试一下，设为True，仅读取32条数据方便快速测试是否有bug\n",
    "istrain, isdemo = True, False"
   ]
  },
  {
   "cell_type": "code",
   "execution_count": 5,
   "id": "f39aeeff-8592-42c0-addc-3107be420ab6",
   "metadata": {},
   "outputs": [
    {
     "name": "stdout",
     "output_type": "stream",
     "text": [
      "All model and loss are on device: cuda\n",
      "Create TDNN, Adam with lr=1e-3, CosineAnnealingLR Shceduler\n",
      "Create VAELoss...\n"
     ]
    }
   ],
   "source": [
    "# model loss_function optimizer scheduler\n",
    "print(\"All model and loss are on device:\", device)\n",
    "model = ConvVAE(shape=(1, 94, 128), flat=True).to(device)\n",
    "optimizer = optim.Adam(model.parameters(), lr=1e-3)\n",
    "scheduler = torch.optim.lr_scheduler.CosineAnnealingLR(optimizer, T_max=5, eta_min=5e-5)\n",
    "print(\"Create TDNN, Adam with lr=1e-3, CosineAnnealingLR Shceduler\")\n",
    "\n",
    "print(\"Create VAELoss...\")\n",
    "\n",
    "w2m = Wave2Mel(sr=16000)"
   ]
  },
  {
   "cell_type": "markdown",
   "id": "276aadeb-4ea9-48cd-a254-c11593c22d96",
   "metadata": {},
   "source": [
    "### 测试模型正确性"
   ]
  },
  {
   "cell_type": "code",
   "execution_count": 6,
   "id": "5003d8c6-ecb7-4b61-9a6b-3c07f00b60cd",
   "metadata": {},
   "outputs": [
    {
     "name": "stdout",
     "output_type": "stream",
     "text": [
      "torch.Size([16, 1, 94, 128])\n",
      "tensor([[ 0.2789, -0.0859, -0.5242,  ...,  0.0852, -0.5464, -0.1810],\n",
      "        [ 0.2090,  0.2697, -0.4789,  ...,  0.4697, -0.8715,  0.3305],\n",
      "        [ 0.8058,  0.1705, -0.0988,  ...,  0.6426, -0.9123,  0.7171],\n",
      "        ...,\n",
      "        [ 0.7915, -1.0207, -0.3683,  ...,  0.1030,  0.6094,  1.0906],\n",
      "        [ 0.1087, -0.3477,  0.1127,  ...,  0.1729, -0.0806,  0.3942],\n",
      "        [ 0.4520, -0.1766, -0.4765,  ...,  0.3264, -0.1763,  0.2832]],\n",
      "       device='cuda:0', grad_fn=<AddmmBackward0>)\n"
     ]
    }
   ],
   "source": [
    "device = torch.device(\"cuda\") if torch.cuda.is_available() else \"cpu\"\n",
    "m = ConvVAE(shape=(1, 94, 128), flat=True).to(device)\n",
    "x = torch.randn(size=(16, 1, 94, 128)).to(device)\n",
    "\n",
    "# print(m(x).shape)\n",
    "recon_mel, z, mean_lant, logvar_lant = m(x)  # (28-3+2p)/2+1\n",
    "print(recon_mel.shape)\n",
    "print(mean_lant)"
   ]
  },
  {
   "cell_type": "code",
   "execution_count": 8,
   "id": "3acd3107-9a52-40f5-9ba9-0e6062001a3b",
   "metadata": {},
   "outputs": [
    {
     "name": "stdout",
     "output_type": "stream",
     "text": [
      "Create Training Loader and Valid Loader.\n"
     ]
    }
   ],
   "source": [
    "train_loader = DataLoader(train_dataset, batch_size=64, shuffle=True,\n",
    "                              collate_fn=collate_fn)\n",
    "valid_loader = DataLoader(valid_dataset, batch_size=64, shuffle=True,\n",
    "                              collate_fn=collate_fn)\n",
    "print(\"Create Training Loader and Valid Loader.\")"
   ]
  },
  {
   "cell_type": "markdown",
   "id": "01bf753d-dd42-49e6-9421-e03e9cbf297d",
   "metadata": {},
   "source": [
    "## 运行保存目录"
   ]
  },
  {
   "cell_type": "code",
   "execution_count": 9,
   "id": "1b0e8e71-eefe-4c81-8cd7-691c951a1402",
   "metadata": {},
   "outputs": [
    {
     "name": "stdout",
     "output_type": "stream",
     "text": [
      "创建运行保存文件 ./runs/tdnn_coughvid/202404271202_tdnn_focalloss/\n"
     ]
    }
   ],
   "source": [
    "timestr = time.strftime(\"%Y%m%d%H%M\", time.localtime())\n",
    "if istrain:\n",
    "    run_save_dir = configs[\"run_save_dir\"] + timestr + f'_tdnn_focalloss/'\n",
    "if not isdemo:\n",
    "    os.makedirs(run_save_dir, exist_ok=True)\n",
    "    print(\"创建运行保存文件\", run_save_dir)"
   ]
  },
  {
   "cell_type": "code",
   "execution_count": 10,
   "id": "6048bc7b-28c2-43d0-9b24-a245ee8d1cea",
   "metadata": {},
   "outputs": [
    {
     "name": "stderr",
     "output_type": "stream",
     "text": [
      "Training:   0%|                                                                                | 0/207 [00:00<?, ?it/s]C:\\Users\\zhaoke\\AppData\\Local\\Temp\\ipykernel_15652\\2723303609.py:9: UserWarning: To copy construct from a tensor, it is recommended to use sourceTensor.clone().detach() or sourceTensor.clone().detach().requires_grad_(True), rather than torch.tensor(sourceTensor).\n",
      "  y_label = torch.tensor(y_label, device=device)\n",
      "Training:   1%|█                                                                       | 3/207 [00:00<00:31,  6.58it/s]"
     ]
    },
    {
     "name": "stdout",
     "output_type": "stream",
     "text": [
      "Epoch[0], mtid pred loss:652.7264\n"
     ]
    },
    {
     "name": "stderr",
     "output_type": "stream",
     "text": [
      "Training:  30%|█████████████████████▌                                                 | 63/207 [00:04<00:10, 13.23it/s]"
     ]
    },
    {
     "name": "stdout",
     "output_type": "stream",
     "text": [
      "Epoch[0], mtid pred loss:721.4677\n"
     ]
    },
    {
     "name": "stderr",
     "output_type": "stream",
     "text": [
      "Training:  59%|█████████████████████████████████████████▌                            | 123/207 [00:09<00:06, 12.35it/s]"
     ]
    },
    {
     "name": "stdout",
     "output_type": "stream",
     "text": [
      "Epoch[0], mtid pred loss:486.6411\n"
     ]
    },
    {
     "name": "stderr",
     "output_type": "stream",
     "text": [
      "Training:  88%|█████████████████████████████████████████████████████████████▉        | 183/207 [00:14<00:01, 12.34it/s]"
     ]
    },
    {
     "name": "stdout",
     "output_type": "stream",
     "text": [
      "Epoch[0], mtid pred loss:410.7403\n"
     ]
    },
    {
     "name": "stderr",
     "output_type": "stream",
     "text": [
      "Training: 100%|██████████████████████████████████████████████████████████████████████| 207/207 [00:16<00:00, 12.66it/s]\n",
      "Training:   1%|▋                                                                       | 2/207 [00:00<00:13, 14.87it/s]"
     ]
    },
    {
     "name": "stdout",
     "output_type": "stream",
     "text": [
      "Epoch[1], mtid pred loss:371.9404\n"
     ]
    },
    {
     "name": "stderr",
     "output_type": "stream",
     "text": [
      "Training:  30%|█████████████████████▎                                                 | 62/207 [00:04<00:11, 12.61it/s]"
     ]
    },
    {
     "name": "stdout",
     "output_type": "stream",
     "text": [
      "Epoch[1], mtid pred loss:386.4066\n"
     ]
    },
    {
     "name": "stderr",
     "output_type": "stream",
     "text": [
      "Training:  59%|█████████████████████████████████████████▎                            | 122/207 [00:09<00:06, 12.61it/s]"
     ]
    },
    {
     "name": "stdout",
     "output_type": "stream",
     "text": [
      "Epoch[1], mtid pred loss:285.0238\n"
     ]
    },
    {
     "name": "stderr",
     "output_type": "stream",
     "text": [
      "Training:  88%|█████████████████████████████████████████████████████████████▌        | 182/207 [00:14<00:01, 12.72it/s]"
     ]
    },
    {
     "name": "stdout",
     "output_type": "stream",
     "text": [
      "Epoch[1], mtid pred loss:280.3145\n"
     ]
    },
    {
     "name": "stderr",
     "output_type": "stream",
     "text": [
      "Training: 100%|██████████████████████████████████████████████████████████████████████| 207/207 [00:16<00:00, 12.54it/s]\n",
      "Training:   2%|█▍                                                                      | 4/207 [00:00<00:13, 14.99it/s]"
     ]
    },
    {
     "name": "stdout",
     "output_type": "stream",
     "text": [
      "Epoch[2], mtid pred loss:246.8804\n"
     ]
    },
    {
     "name": "stderr",
     "output_type": "stream",
     "text": [
      "Training:  30%|█████████████████████▎                                                 | 62/207 [00:04<00:11, 12.40it/s]"
     ]
    },
    {
     "name": "stdout",
     "output_type": "stream",
     "text": [
      "Epoch[2], mtid pred loss:252.0156\n"
     ]
    },
    {
     "name": "stderr",
     "output_type": "stream",
     "text": [
      "Training:  59%|█████████████████████████████████████████▎                            | 122/207 [00:09<00:06, 12.50it/s]"
     ]
    },
    {
     "name": "stdout",
     "output_type": "stream",
     "text": [
      "Epoch[2], mtid pred loss:219.6923\n"
     ]
    },
    {
     "name": "stderr",
     "output_type": "stream",
     "text": [
      "Training:  88%|█████████████████████████████████████████████████████████████▌        | 182/207 [00:14<00:02, 12.38it/s]"
     ]
    },
    {
     "name": "stdout",
     "output_type": "stream",
     "text": [
      "Epoch[2], mtid pred loss:219.6907\n"
     ]
    },
    {
     "name": "stderr",
     "output_type": "stream",
     "text": [
      "Training: 100%|██████████████████████████████████████████████████████████████████████| 207/207 [00:16<00:00, 12.65it/s]\n",
      "Training:   2%|█▍                                                                      | 4/207 [00:00<00:13, 15.04it/s]"
     ]
    },
    {
     "name": "stdout",
     "output_type": "stream",
     "text": [
      "Epoch[3], mtid pred loss:219.2211\n"
     ]
    },
    {
     "name": "stderr",
     "output_type": "stream",
     "text": [
      "Training:  30%|█████████████████████▎                                                 | 62/207 [00:04<00:11, 12.32it/s]"
     ]
    },
    {
     "name": "stdout",
     "output_type": "stream",
     "text": [
      "Epoch[3], mtid pred loss:223.3176\n"
     ]
    },
    {
     "name": "stderr",
     "output_type": "stream",
     "text": [
      "Training:  59%|█████████████████████████████████████████▎                            | 122/207 [00:09<00:06, 12.41it/s]"
     ]
    },
    {
     "name": "stdout",
     "output_type": "stream",
     "text": [
      "Epoch[3], mtid pred loss:199.9695\n"
     ]
    },
    {
     "name": "stderr",
     "output_type": "stream",
     "text": [
      "Training:  88%|█████████████████████████████████████████████████████████████▌        | 182/207 [00:14<00:01, 12.52it/s]"
     ]
    },
    {
     "name": "stdout",
     "output_type": "stream",
     "text": [
      "Epoch[3], mtid pred loss:217.1592\n"
     ]
    },
    {
     "name": "stderr",
     "output_type": "stream",
     "text": [
      "Training: 100%|██████████████████████████████████████████████████████████████████████| 207/207 [00:16<00:00, 12.52it/s]\n",
      "Training:   2%|█▍                                                                      | 4/207 [00:00<00:13, 14.77it/s]"
     ]
    },
    {
     "name": "stdout",
     "output_type": "stream",
     "text": [
      "Epoch[4], mtid pred loss:188.9586\n"
     ]
    },
    {
     "name": "stderr",
     "output_type": "stream",
     "text": [
      "Training:  30%|█████████████████████▎                                                 | 62/207 [00:04<00:11, 12.55it/s]"
     ]
    },
    {
     "name": "stdout",
     "output_type": "stream",
     "text": [
      "Epoch[4], mtid pred loss:195.9358\n"
     ]
    },
    {
     "name": "stderr",
     "output_type": "stream",
     "text": [
      "Training:  59%|█████████████████████████████████████████▎                            | 122/207 [00:09<00:06, 12.66it/s]"
     ]
    },
    {
     "name": "stdout",
     "output_type": "stream",
     "text": [
      "Epoch[4], mtid pred loss:192.8105\n"
     ]
    },
    {
     "name": "stderr",
     "output_type": "stream",
     "text": [
      "Training:  88%|█████████████████████████████████████████████████████████████▌        | 182/207 [00:14<00:02, 12.48it/s]"
     ]
    },
    {
     "name": "stdout",
     "output_type": "stream",
     "text": [
      "Epoch[4], mtid pred loss:174.4470\n"
     ]
    },
    {
     "name": "stderr",
     "output_type": "stream",
     "text": [
      "Training: 100%|██████████████████████████████████████████████████████████████████████| 207/207 [00:16<00:00, 12.65it/s]\n",
      "Training:   2%|█▍                                                                      | 4/207 [00:00<00:13, 14.97it/s]"
     ]
    },
    {
     "name": "stdout",
     "output_type": "stream",
     "text": [
      "Epoch[5], mtid pred loss:187.0158\n"
     ]
    },
    {
     "name": "stderr",
     "output_type": "stream",
     "text": [
      "Training:  30%|█████████████████████▎                                                 | 62/207 [00:04<00:11, 12.62it/s]"
     ]
    },
    {
     "name": "stdout",
     "output_type": "stream",
     "text": [
      "Epoch[5], mtid pred loss:191.7602\n"
     ]
    },
    {
     "name": "stderr",
     "output_type": "stream",
     "text": [
      "Training:  59%|█████████████████████████████████████████▎                            | 122/207 [00:09<00:06, 12.29it/s]"
     ]
    },
    {
     "name": "stdout",
     "output_type": "stream",
     "text": [
      "Epoch[5], mtid pred loss:194.6341\n"
     ]
    },
    {
     "name": "stderr",
     "output_type": "stream",
     "text": [
      "Training:  88%|█████████████████████████████████████████████████████████████▌        | 182/207 [00:14<00:02, 12.44it/s]"
     ]
    },
    {
     "name": "stdout",
     "output_type": "stream",
     "text": [
      "Epoch[5], mtid pred loss:182.7353\n"
     ]
    },
    {
     "name": "stderr",
     "output_type": "stream",
     "text": [
      "Training: 100%|██████████████████████████████████████████████████████████████████████| 207/207 [00:16<00:00, 12.59it/s]\n",
      "Training:   2%|█▍                                                                      | 4/207 [00:00<00:13, 14.93it/s]"
     ]
    },
    {
     "name": "stdout",
     "output_type": "stream",
     "text": [
      "Epoch[6], mtid pred loss:180.4852\n"
     ]
    },
    {
     "name": "stderr",
     "output_type": "stream",
     "text": [
      "Training:  30%|█████████████████████▎                                                 | 62/207 [00:04<00:11, 12.51it/s]"
     ]
    },
    {
     "name": "stdout",
     "output_type": "stream",
     "text": [
      "Epoch[6], mtid pred loss:181.0001\n"
     ]
    },
    {
     "name": "stderr",
     "output_type": "stream",
     "text": [
      "Training:  59%|█████████████████████████████████████████▎                            | 122/207 [00:09<00:06, 12.58it/s]"
     ]
    },
    {
     "name": "stdout",
     "output_type": "stream",
     "text": [
      "Epoch[6], mtid pred loss:191.3876\n"
     ]
    },
    {
     "name": "stderr",
     "output_type": "stream",
     "text": [
      "Training:  88%|█████████████████████████████████████████████████████████████▌        | 182/207 [00:14<00:01, 12.56it/s]"
     ]
    },
    {
     "name": "stdout",
     "output_type": "stream",
     "text": [
      "Epoch[6], mtid pred loss:171.9908\n"
     ]
    },
    {
     "name": "stderr",
     "output_type": "stream",
     "text": [
      "Training: 100%|██████████████████████████████████████████████████████████████████████| 207/207 [00:16<00:00, 12.74it/s]\n",
      "Training:   2%|█▍                                                                      | 4/207 [00:00<00:13, 15.45it/s]"
     ]
    },
    {
     "name": "stdout",
     "output_type": "stream",
     "text": [
      "Epoch[7], mtid pred loss:172.1447\n"
     ]
    },
    {
     "name": "stderr",
     "output_type": "stream",
     "text": [
      "Training:  30%|█████████████████████▎                                                 | 62/207 [00:04<00:11, 12.69it/s]"
     ]
    },
    {
     "name": "stdout",
     "output_type": "stream",
     "text": [
      "Epoch[7], mtid pred loss:182.6362\n"
     ]
    },
    {
     "name": "stderr",
     "output_type": "stream",
     "text": [
      "Training:  59%|█████████████████████████████████████████▎                            | 122/207 [00:09<00:06, 12.56it/s]"
     ]
    },
    {
     "name": "stdout",
     "output_type": "stream",
     "text": [
      "Epoch[7], mtid pred loss:173.0092\n"
     ]
    },
    {
     "name": "stderr",
     "output_type": "stream",
     "text": [
      "Training:  88%|█████████████████████████████████████████████████████████████▌        | 182/207 [00:14<00:01, 12.59it/s]"
     ]
    },
    {
     "name": "stdout",
     "output_type": "stream",
     "text": [
      "Epoch[7], mtid pred loss:166.0809\n"
     ]
    },
    {
     "name": "stderr",
     "output_type": "stream",
     "text": [
      "Training: 100%|██████████████████████████████████████████████████████████████████████| 207/207 [00:16<00:00, 12.70it/s]\n",
      "Training:   1%|▋                                                                       | 2/207 [00:00<00:13, 15.09it/s]"
     ]
    },
    {
     "name": "stdout",
     "output_type": "stream",
     "text": [
      "Epoch[8], mtid pred loss:188.5919\n"
     ]
    },
    {
     "name": "stderr",
     "output_type": "stream",
     "text": [
      "Training:  30%|█████████████████████▎                                                 | 62/207 [00:04<00:11, 12.53it/s]"
     ]
    },
    {
     "name": "stdout",
     "output_type": "stream",
     "text": [
      "Epoch[8], mtid pred loss:182.6303\n"
     ]
    },
    {
     "name": "stderr",
     "output_type": "stream",
     "text": [
      "Training:  59%|█████████████████████████████████████████▎                            | 122/207 [00:09<00:06, 12.63it/s]"
     ]
    },
    {
     "name": "stdout",
     "output_type": "stream",
     "text": [
      "Epoch[8], mtid pred loss:183.3134\n"
     ]
    },
    {
     "name": "stderr",
     "output_type": "stream",
     "text": [
      "Training:  88%|█████████████████████████████████████████████████████████████▌        | 182/207 [00:14<00:02, 12.43it/s]"
     ]
    },
    {
     "name": "stdout",
     "output_type": "stream",
     "text": [
      "Epoch[8], mtid pred loss:175.8815\n"
     ]
    },
    {
     "name": "stderr",
     "output_type": "stream",
     "text": [
      "Training: 100%|██████████████████████████████████████████████████████████████████████| 207/207 [00:16<00:00, 12.63it/s]\n",
      "Training:   2%|█▍                                                                      | 4/207 [00:00<00:13, 14.98it/s]"
     ]
    },
    {
     "name": "stdout",
     "output_type": "stream",
     "text": [
      "Epoch[9], mtid pred loss:174.2015\n"
     ]
    },
    {
     "name": "stderr",
     "output_type": "stream",
     "text": [
      "Training:  30%|█████████████████████▎                                                 | 62/207 [00:04<00:11, 12.19it/s]"
     ]
    },
    {
     "name": "stdout",
     "output_type": "stream",
     "text": [
      "Epoch[9], mtid pred loss:164.9112\n"
     ]
    },
    {
     "name": "stderr",
     "output_type": "stream",
     "text": [
      "Training:  59%|█████████████████████████████████████████▎                            | 122/207 [00:09<00:06, 12.77it/s]"
     ]
    },
    {
     "name": "stdout",
     "output_type": "stream",
     "text": [
      "Epoch[9], mtid pred loss:167.1076\n"
     ]
    },
    {
     "name": "stderr",
     "output_type": "stream",
     "text": [
      "Training:  88%|█████████████████████████████████████████████████████████████▌        | 182/207 [00:14<00:01, 12.58it/s]"
     ]
    },
    {
     "name": "stdout",
     "output_type": "stream",
     "text": [
      "Epoch[9], mtid pred loss:160.0836\n"
     ]
    },
    {
     "name": "stderr",
     "output_type": "stream",
     "text": [
      "Training: 100%|██████████████████████████████████████████████████████████████████████| 207/207 [00:16<00:00, 12.73it/s]\n",
      "Training:   2%|█▍                                                                      | 4/207 [00:00<00:13, 14.69it/s]"
     ]
    },
    {
     "name": "stdout",
     "output_type": "stream",
     "text": [
      "Epoch[10], mtid pred loss:170.0780\n"
     ]
    },
    {
     "name": "stderr",
     "output_type": "stream",
     "text": [
      "Training:  30%|█████████████████████▎                                                 | 62/207 [00:04<00:11, 12.33it/s]"
     ]
    },
    {
     "name": "stdout",
     "output_type": "stream",
     "text": [
      "Epoch[10], mtid pred loss:179.5596\n"
     ]
    },
    {
     "name": "stderr",
     "output_type": "stream",
     "text": [
      "Training:  59%|█████████████████████████████████████████▎                            | 122/207 [00:09<00:06, 12.59it/s]"
     ]
    },
    {
     "name": "stdout",
     "output_type": "stream",
     "text": [
      "Epoch[10], mtid pred loss:166.0050\n"
     ]
    },
    {
     "name": "stderr",
     "output_type": "stream",
     "text": [
      "Training:  88%|█████████████████████████████████████████████████████████████▌        | 182/207 [00:14<00:01, 12.74it/s]"
     ]
    },
    {
     "name": "stdout",
     "output_type": "stream",
     "text": [
      "Epoch[10], mtid pred loss:178.6979\n"
     ]
    },
    {
     "name": "stderr",
     "output_type": "stream",
     "text": [
      "Training: 100%|██████████████████████████████████████████████████████████████████████| 207/207 [00:16<00:00, 12.68it/s]\n",
      "Training:   2%|█▍                                                                      | 4/207 [00:00<00:13, 14.64it/s]"
     ]
    },
    {
     "name": "stdout",
     "output_type": "stream",
     "text": [
      "Epoch[11], mtid pred loss:163.3183\n"
     ]
    },
    {
     "name": "stderr",
     "output_type": "stream",
     "text": [
      "Training:  30%|█████████████████████▎                                                 | 62/207 [00:04<00:11, 12.66it/s]"
     ]
    },
    {
     "name": "stdout",
     "output_type": "stream",
     "text": [
      "Epoch[11], mtid pred loss:172.5811\n"
     ]
    },
    {
     "name": "stderr",
     "output_type": "stream",
     "text": [
      "Training:  59%|█████████████████████████████████████████▎                            | 122/207 [00:09<00:06, 12.71it/s]"
     ]
    },
    {
     "name": "stdout",
     "output_type": "stream",
     "text": [
      "Epoch[11], mtid pred loss:147.5566\n"
     ]
    },
    {
     "name": "stderr",
     "output_type": "stream",
     "text": [
      "Training:  88%|█████████████████████████████████████████████████████████████▌        | 182/207 [00:14<00:01, 12.75it/s]"
     ]
    },
    {
     "name": "stdout",
     "output_type": "stream",
     "text": [
      "Epoch[11], mtid pred loss:189.8617\n"
     ]
    },
    {
     "name": "stderr",
     "output_type": "stream",
     "text": [
      "Training: 100%|██████████████████████████████████████████████████████████████████████| 207/207 [00:16<00:00, 12.81it/s]\n",
      "Training:   1%|▋                                                                       | 2/207 [00:00<00:13, 15.30it/s]"
     ]
    },
    {
     "name": "stdout",
     "output_type": "stream",
     "text": [
      "Epoch[12], mtid pred loss:164.1432\n"
     ]
    },
    {
     "name": "stderr",
     "output_type": "stream",
     "text": [
      "Training:  31%|█████████████████████▉                                                 | 64/207 [00:04<00:07, 18.57it/s]"
     ]
    },
    {
     "name": "stdout",
     "output_type": "stream",
     "text": [
      "Epoch[12], mtid pred loss:167.6942\n"
     ]
    },
    {
     "name": "stderr",
     "output_type": "stream",
     "text": [
      "Training:  59%|█████████████████████████████████████████▎                            | 122/207 [00:07<00:05, 16.74it/s]"
     ]
    },
    {
     "name": "stdout",
     "output_type": "stream",
     "text": [
      "Epoch[12], mtid pred loss:162.4975\n"
     ]
    },
    {
     "name": "stderr",
     "output_type": "stream",
     "text": [
      "Training:  88%|█████████████████████████████████████████████████████████████▌        | 182/207 [00:12<00:02, 12.22it/s]"
     ]
    },
    {
     "name": "stdout",
     "output_type": "stream",
     "text": [
      "Epoch[12], mtid pred loss:175.3001\n"
     ]
    },
    {
     "name": "stderr",
     "output_type": "stream",
     "text": [
      "Training: 100%|██████████████████████████████████████████████████████████████████████| 207/207 [00:14<00:00, 14.56it/s]\n",
      "Training:   1%|▋                                                                       | 2/207 [00:00<00:13, 14.93it/s]"
     ]
    },
    {
     "name": "stdout",
     "output_type": "stream",
     "text": [
      "Epoch[13], mtid pred loss:162.6935\n"
     ]
    },
    {
     "name": "stderr",
     "output_type": "stream",
     "text": [
      "Training:  30%|█████████████████████▎                                                 | 62/207 [00:05<00:12, 11.65it/s]"
     ]
    },
    {
     "name": "stdout",
     "output_type": "stream",
     "text": [
      "Epoch[13], mtid pred loss:162.9698\n"
     ]
    },
    {
     "name": "stderr",
     "output_type": "stream",
     "text": [
      "Training:  59%|█████████████████████████████████████████▎                            | 122/207 [00:09<00:06, 12.62it/s]"
     ]
    },
    {
     "name": "stdout",
     "output_type": "stream",
     "text": [
      "Epoch[13], mtid pred loss:160.0733\n"
     ]
    },
    {
     "name": "stderr",
     "output_type": "stream",
     "text": [
      "Training:  88%|█████████████████████████████████████████████████████████████▌        | 182/207 [00:14<00:01, 12.52it/s]"
     ]
    },
    {
     "name": "stdout",
     "output_type": "stream",
     "text": [
      "Epoch[13], mtid pred loss:151.6348\n"
     ]
    },
    {
     "name": "stderr",
     "output_type": "stream",
     "text": [
      "Training: 100%|██████████████████████████████████████████████████████████████████████| 207/207 [00:16<00:00, 12.52it/s]\n",
      "Training:   2%|█▍                                                                      | 4/207 [00:00<00:13, 15.37it/s]"
     ]
    },
    {
     "name": "stdout",
     "output_type": "stream",
     "text": [
      "Epoch[14], mtid pred loss:161.9637\n"
     ]
    },
    {
     "name": "stderr",
     "output_type": "stream",
     "text": [
      "Training:  30%|█████████████████████▎                                                 | 62/207 [00:04<00:11, 12.19it/s]"
     ]
    },
    {
     "name": "stdout",
     "output_type": "stream",
     "text": [
      "Epoch[14], mtid pred loss:151.0613\n"
     ]
    },
    {
     "name": "stderr",
     "output_type": "stream",
     "text": [
      "Training:  59%|█████████████████████████████████████████▎                            | 122/207 [00:09<00:06, 12.62it/s]"
     ]
    },
    {
     "name": "stdout",
     "output_type": "stream",
     "text": [
      "Epoch[14], mtid pred loss:165.3916\n"
     ]
    },
    {
     "name": "stderr",
     "output_type": "stream",
     "text": [
      "Training:  88%|█████████████████████████████████████████████████████████████▌        | 182/207 [00:14<00:02, 12.47it/s]"
     ]
    },
    {
     "name": "stdout",
     "output_type": "stream",
     "text": [
      "Epoch[14], mtid pred loss:173.1030\n"
     ]
    },
    {
     "name": "stderr",
     "output_type": "stream",
     "text": [
      "Training: 100%|██████████████████████████████████████████████████████████████████████| 207/207 [00:16<00:00, 12.67it/s]\n",
      "Training:   1%|▋                                                                       | 2/207 [00:00<00:14, 14.64it/s]"
     ]
    },
    {
     "name": "stdout",
     "output_type": "stream",
     "text": [
      "Epoch[15], mtid pred loss:176.3559\n"
     ]
    },
    {
     "name": "stderr",
     "output_type": "stream",
     "text": [
      "Training:  30%|█████████████████████▎                                                 | 62/207 [00:04<00:10, 13.43it/s]"
     ]
    },
    {
     "name": "stdout",
     "output_type": "stream",
     "text": [
      "Epoch[15], mtid pred loss:173.4278\n"
     ]
    },
    {
     "name": "stderr",
     "output_type": "stream",
     "text": [
      "Training:  59%|█████████████████████████████████████████▎                            | 122/207 [00:09<00:06, 13.51it/s]"
     ]
    },
    {
     "name": "stdout",
     "output_type": "stream",
     "text": [
      "Epoch[15], mtid pred loss:176.4822\n"
     ]
    },
    {
     "name": "stderr",
     "output_type": "stream",
     "text": [
      "Training:  88%|█████████████████████████████████████████████████████████████▌        | 182/207 [00:13<00:01, 13.46it/s]"
     ]
    },
    {
     "name": "stdout",
     "output_type": "stream",
     "text": [
      "Epoch[15], mtid pred loss:159.3449\n"
     ]
    },
    {
     "name": "stderr",
     "output_type": "stream",
     "text": [
      "Training: 100%|██████████████████████████████████████████████████████████████████████| 207/207 [00:15<00:00, 13.37it/s]\n",
      "Training:   2%|█▍                                                                      | 4/207 [00:00<00:12, 16.76it/s]"
     ]
    },
    {
     "name": "stdout",
     "output_type": "stream",
     "text": [
      "Epoch[16], mtid pred loss:165.9338\n"
     ]
    },
    {
     "name": "stderr",
     "output_type": "stream",
     "text": [
      "Training:  30%|█████████████████████▎                                                 | 62/207 [00:04<00:10, 13.68it/s]"
     ]
    },
    {
     "name": "stdout",
     "output_type": "stream",
     "text": [
      "Epoch[16], mtid pred loss:170.0376\n"
     ]
    },
    {
     "name": "stderr",
     "output_type": "stream",
     "text": [
      "Training:  59%|█████████████████████████████████████████▎                            | 122/207 [00:08<00:06, 13.43it/s]"
     ]
    },
    {
     "name": "stdout",
     "output_type": "stream",
     "text": [
      "Epoch[16], mtid pred loss:168.1778\n"
     ]
    },
    {
     "name": "stderr",
     "output_type": "stream",
     "text": [
      "Training:  88%|█████████████████████████████████████████████████████████████▌        | 182/207 [00:13<00:01, 13.52it/s]"
     ]
    },
    {
     "name": "stdout",
     "output_type": "stream",
     "text": [
      "Epoch[16], mtid pred loss:154.1914\n"
     ]
    },
    {
     "name": "stderr",
     "output_type": "stream",
     "text": [
      "Training: 100%|██████████████████████████████████████████████████████████████████████| 207/207 [00:15<00:00, 13.68it/s]\n",
      "Training:   2%|█▍                                                                      | 4/207 [00:00<00:12, 16.34it/s]"
     ]
    },
    {
     "name": "stdout",
     "output_type": "stream",
     "text": [
      "Epoch[17], mtid pred loss:157.9294\n"
     ]
    },
    {
     "name": "stderr",
     "output_type": "stream",
     "text": [
      "Training:  30%|█████████████████████▎                                                 | 62/207 [00:04<00:10, 13.77it/s]"
     ]
    },
    {
     "name": "stdout",
     "output_type": "stream",
     "text": [
      "Epoch[17], mtid pred loss:158.7463\n"
     ]
    },
    {
     "name": "stderr",
     "output_type": "stream",
     "text": [
      "Training:  59%|█████████████████████████████████████████▎                            | 122/207 [00:08<00:06, 13.69it/s]"
     ]
    },
    {
     "name": "stdout",
     "output_type": "stream",
     "text": [
      "Epoch[17], mtid pred loss:161.8061\n"
     ]
    },
    {
     "name": "stderr",
     "output_type": "stream",
     "text": [
      "Training:  88%|█████████████████████████████████████████████████████████████▌        | 182/207 [00:13<00:01, 13.70it/s]"
     ]
    },
    {
     "name": "stdout",
     "output_type": "stream",
     "text": [
      "Epoch[17], mtid pred loss:153.9052\n"
     ]
    },
    {
     "name": "stderr",
     "output_type": "stream",
     "text": [
      "Training: 100%|██████████████████████████████████████████████████████████████████████| 207/207 [00:15<00:00, 13.60it/s]\n",
      "Training:   1%|▋                                                                       | 2/207 [00:00<00:14, 14.19it/s]"
     ]
    },
    {
     "name": "stdout",
     "output_type": "stream",
     "text": [
      "Epoch[18], mtid pred loss:165.1473\n"
     ]
    },
    {
     "name": "stderr",
     "output_type": "stream",
     "text": [
      "Training:  30%|█████████████████████▎                                                 | 62/207 [00:04<00:11, 12.69it/s]"
     ]
    },
    {
     "name": "stdout",
     "output_type": "stream",
     "text": [
      "Epoch[18], mtid pred loss:154.6776\n"
     ]
    },
    {
     "name": "stderr",
     "output_type": "stream",
     "text": [
      "Training:  59%|█████████████████████████████████████████▎                            | 122/207 [00:09<00:06, 13.02it/s]"
     ]
    },
    {
     "name": "stdout",
     "output_type": "stream",
     "text": [
      "Epoch[18], mtid pred loss:159.8134\n"
     ]
    },
    {
     "name": "stderr",
     "output_type": "stream",
     "text": [
      "Training:  88%|█████████████████████████████████████████████████████████████▌        | 182/207 [00:14<00:01, 12.58it/s]"
     ]
    },
    {
     "name": "stdout",
     "output_type": "stream",
     "text": [
      "Epoch[18], mtid pred loss:159.6208\n"
     ]
    },
    {
     "name": "stderr",
     "output_type": "stream",
     "text": [
      "Training: 100%|██████████████████████████████████████████████████████████████████████| 207/207 [00:16<00:00, 12.75it/s]\n",
      "Training:   2%|█▍                                                                      | 4/207 [00:00<00:13, 14.63it/s]"
     ]
    },
    {
     "name": "stdout",
     "output_type": "stream",
     "text": [
      "Epoch[19], mtid pred loss:154.8785\n"
     ]
    },
    {
     "name": "stderr",
     "output_type": "stream",
     "text": [
      "Training:  30%|█████████████████████▎                                                 | 62/207 [00:04<00:10, 13.66it/s]"
     ]
    },
    {
     "name": "stdout",
     "output_type": "stream",
     "text": [
      "Epoch[19], mtid pred loss:156.8271\n"
     ]
    },
    {
     "name": "stderr",
     "output_type": "stream",
     "text": [
      "Training:  59%|█████████████████████████████████████████▎                            | 122/207 [00:09<00:06, 13.45it/s]"
     ]
    },
    {
     "name": "stdout",
     "output_type": "stream",
     "text": [
      "Epoch[19], mtid pred loss:147.5163\n"
     ]
    },
    {
     "name": "stderr",
     "output_type": "stream",
     "text": [
      "Training:  88%|█████████████████████████████████████████████████████████████▌        | 182/207 [00:13<00:01, 13.62it/s]"
     ]
    },
    {
     "name": "stdout",
     "output_type": "stream",
     "text": [
      "Epoch[19], mtid pred loss:144.3923\n"
     ]
    },
    {
     "name": "stderr",
     "output_type": "stream",
     "text": [
      "Training: 100%|██████████████████████████████████████████████████████████████████████| 207/207 [00:15<00:00, 13.41it/s]\n",
      "Training:   1%|▋                                                                       | 2/207 [00:00<00:13, 14.86it/s]"
     ]
    },
    {
     "name": "stdout",
     "output_type": "stream",
     "text": [
      "Epoch[20], mtid pred loss:138.8285\n"
     ]
    },
    {
     "name": "stderr",
     "output_type": "stream",
     "text": [
      "Training:  30%|█████████████████████▎                                                 | 62/207 [00:04<00:11, 13.06it/s]"
     ]
    },
    {
     "name": "stdout",
     "output_type": "stream",
     "text": [
      "Epoch[20], mtid pred loss:151.7440\n"
     ]
    },
    {
     "name": "stderr",
     "output_type": "stream",
     "text": [
      "Training:  59%|█████████████████████████████████████████▎                            | 122/207 [00:09<00:06, 12.29it/s]"
     ]
    },
    {
     "name": "stdout",
     "output_type": "stream",
     "text": [
      "Epoch[20], mtid pred loss:146.1499\n"
     ]
    },
    {
     "name": "stderr",
     "output_type": "stream",
     "text": [
      "Training:  88%|█████████████████████████████████████████████████████████████▌        | 182/207 [00:14<00:01, 12.75it/s]"
     ]
    },
    {
     "name": "stdout",
     "output_type": "stream",
     "text": [
      "Epoch[20], mtid pred loss:145.3707\n"
     ]
    },
    {
     "name": "stderr",
     "output_type": "stream",
     "text": [
      "Training: 100%|██████████████████████████████████████████████████████████████████████| 207/207 [00:16<00:00, 12.81it/s]\n",
      "Training:   2%|█▍                                                                      | 4/207 [00:00<00:13, 15.12it/s]"
     ]
    },
    {
     "name": "stdout",
     "output_type": "stream",
     "text": [
      "Epoch[21], mtid pred loss:155.7833\n"
     ]
    },
    {
     "name": "stderr",
     "output_type": "stream",
     "text": [
      "Training:  30%|█████████████████████▎                                                 | 62/207 [00:04<00:11, 12.77it/s]"
     ]
    },
    {
     "name": "stdout",
     "output_type": "stream",
     "text": [
      "Epoch[21], mtid pred loss:153.8840\n"
     ]
    },
    {
     "name": "stderr",
     "output_type": "stream",
     "text": [
      "Training:  59%|█████████████████████████████████████████▎                            | 122/207 [00:09<00:06, 12.55it/s]"
     ]
    },
    {
     "name": "stdout",
     "output_type": "stream",
     "text": [
      "Epoch[21], mtid pred loss:149.9062\n"
     ]
    },
    {
     "name": "stderr",
     "output_type": "stream",
     "text": [
      "Training:  88%|█████████████████████████████████████████████████████████████▌        | 182/207 [00:14<00:01, 12.86it/s]"
     ]
    },
    {
     "name": "stdout",
     "output_type": "stream",
     "text": [
      "Epoch[21], mtid pred loss:158.3705\n"
     ]
    },
    {
     "name": "stderr",
     "output_type": "stream",
     "text": [
      "Training: 100%|██████████████████████████████████████████████████████████████████████| 207/207 [00:16<00:00, 12.76it/s]\n",
      "Training:   2%|█▍                                                                      | 4/207 [00:00<00:13, 15.09it/s]"
     ]
    },
    {
     "name": "stdout",
     "output_type": "stream",
     "text": [
      "Epoch[22], mtid pred loss:136.6688\n"
     ]
    },
    {
     "name": "stderr",
     "output_type": "stream",
     "text": [
      "Training:  30%|█████████████████████▎                                                 | 62/207 [00:04<00:11, 12.61it/s]"
     ]
    },
    {
     "name": "stdout",
     "output_type": "stream",
     "text": [
      "Epoch[22], mtid pred loss:156.3842\n"
     ]
    },
    {
     "name": "stderr",
     "output_type": "stream",
     "text": [
      "Training:  59%|█████████████████████████████████████████▎                            | 122/207 [00:09<00:06, 12.83it/s]"
     ]
    },
    {
     "name": "stdout",
     "output_type": "stream",
     "text": [
      "Epoch[22], mtid pred loss:146.0547\n"
     ]
    },
    {
     "name": "stderr",
     "output_type": "stream",
     "text": [
      "Training:  88%|█████████████████████████████████████████████████████████████▌        | 182/207 [00:14<00:01, 12.61it/s]"
     ]
    },
    {
     "name": "stdout",
     "output_type": "stream",
     "text": [
      "Epoch[22], mtid pred loss:184.6463\n"
     ]
    },
    {
     "name": "stderr",
     "output_type": "stream",
     "text": [
      "Training: 100%|██████████████████████████████████████████████████████████████████████| 207/207 [00:16<00:00, 12.75it/s]"
     ]
    },
    {
     "name": "stdout",
     "output_type": "stream",
     "text": [
      "============== END TRAINING ==============\n"
     ]
    },
    {
     "name": "stderr",
     "output_type": "stream",
     "text": [
      "\n"
     ]
    }
   ],
   "source": [
    "history1 = []\n",
    "for epoch_id in range(configs[\"fit\"][\"epochs\"]):\n",
    "    # ---------------------------\n",
    "    # -----------TRAIN-----------\n",
    "    # ---------------------------\n",
    "    model.train()\n",
    "    for x_idx, (x_wav, y_label, _) in enumerate(tqdm(train_loader, desc=\"Training\")):\n",
    "        x_mel = w2m(x_wav).transpose(1,2).unsqueeze(1).to(device)\n",
    "        y_label = torch.tensor(y_label, device=device)\n",
    "        # print(\"shape of x_mel:\", x_mel.shape)\n",
    "        optimizer.zero_grad()\n",
    "        recon_mel, _, mean_latent, logvar_latent = model(x=x_mel)\n",
    "        # recon_loss = self.recon_loss(recon_spec, x_mel)\n",
    "        pred_loss = vae_loss(x_mel, recon_mel, mean_latent, logvar_latent)\n",
    "        pred_loss.backward()\n",
    "        optimizer.step()\n",
    "\n",
    "        if x_idx > 2:\n",
    "            history1.append(pred_loss.item())\n",
    "        if x_idx % 60 == 0:\n",
    "            print(f\"Epoch[{epoch_id}], mtid pred loss:{pred_loss.item():.4f}\")\n",
    "    if epoch_id >= configs[\"fit\"][\"start_scheduler_epoch\"]:\n",
    "        scheduler.step()\n",
    "\n",
    "    # ---------------------------\n",
    "    # -----------SAVE------------\n",
    "    # ---------------------------\n",
    "    plt.figure(0)\n",
    "    plt.plot(range(len(history1)), history1, c=\"green\", alpha=0.7)\n",
    "    plt.savefig(run_save_dir + f'cls_loss_iter_{epoch_id}.png')\n",
    "    plt.close()\n",
    "    # if epoch > 6 and epoch % 2 == 0:\n",
    "    os.makedirs(run_save_dir + f\"model_epoch_{epoch_id}/\", exist_ok=True)\n",
    "    tmp_model_path = \"{model}model_{epoch}.pth\".format(\n",
    "        model=run_save_dir + f\"model_epoch_{epoch_id}/\",\n",
    "        epoch=epoch_id)\n",
    "    torch.save(model.state_dict(), tmp_model_path)\n",
    "    # ---------------------------\n",
    "    # -----------TEST------------\n",
    "    # ---------------------------\n",
    "    # model.eval()\n",
    "    # heatmap_input = None\n",
    "    # labels = None\n",
    "    # for x_idx, (x_wav, y_label, _) in enumerate(tqdm(valid_loader, desc=\"Validate\")):\n",
    "    #     x_mel = w2m(x_wav).transpose(1,2).unsqueeze(1).to(device)\n",
    "    #     y_label = torch.tensor(y_label, device=device)\n",
    "    #     recon_mel, _, mean_latent, logvar_latent = model(x=x_mel)\n",
    "    #     # recon_loss = self.recon_loss(recon_spec, x_mel)\n",
    "    #     pred_loss = vae_loss(x_mel, recon_mel, mean_latent, logvar_latent)\n",
    "    #     if x_idx == 0:\n",
    "    #         heatmap_input, labels = y_pred, y_label\n",
    "    #     else:\n",
    "    #         heatmap_input = torch.concat((heatmap_input, y_pred), dim=0)\n",
    "    #         labels = torch.concat((labels, y_label), dim=0)\n",
    "    #     # if x_idx * configs[\"fit\"][\"batch_size\"] > 800:\n",
    "    #     #     break\n",
    "    # print(\"heatmap_input shape:\", heatmap_input.shape)\n",
    "    # print(\"lables shape:\", labels.shape)\n",
    "    # # if epoch > 3:\n",
    "    # #     self.plot_reduction(resume_path=\"\", load_epoch=epoch, reducers=[\"heatmap\"])\n",
    "    # heatmap_input = heatmap_input.detach().cpu().numpy()\n",
    "    # labels = labels.detach().cpu().numpy()\n",
    "    # calc_accuracy(pred_matrix=heatmap_input, label_vec=labels,\n",
    "    #               save_path=run_save_dir + f\"/accuracy_epoch_{epoch_id}.txt\")\n",
    "    # plot_heatmap(pred_matrix=heatmap_input, label_vec=labels,\n",
    "    #              ticks=[\"healthy\", \"symptomatic\", \"COVID-19\"],\n",
    "    #              save_path=run_save_dir + f\"/heatmap_epoch_{epoch_id}.png\")\n",
    "print(\"============== END TRAINING ==============\")"
   ]
  },
  {
   "cell_type": "markdown",
   "id": "d3026c34-9b89-4886-8e89-37ffc52bda1d",
   "metadata": {},
   "source": [
    "# End"
   ]
  }
 ],
 "metadata": {
  "kernelspec": {
   "display_name": "Python 3 (ipykernel)",
   "language": "python",
   "name": "python3"
  },
  "language_info": {
   "codemirror_mode": {
    "name": "ipython",
    "version": 3
   },
   "file_extension": ".py",
   "mimetype": "text/x-python",
   "name": "python",
   "nbconvert_exporter": "python",
   "pygments_lexer": "ipython3",
   "version": "3.8.5"
  }
 },
 "nbformat": 4,
 "nbformat_minor": 5
}
