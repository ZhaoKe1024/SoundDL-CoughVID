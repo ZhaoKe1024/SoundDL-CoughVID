{
 "cells": [
  {
   "cell_type": "code",
   "execution_count": 1,
   "id": "255c8dea-596d-4d95-a154-f1c4a151068d",
   "metadata": {},
   "outputs": [],
   "source": [
    "import sys\n",
    "sys.path.append(r'C:/Program Files (zk)/PythonFiles/AClassification/AudioClassification-CoughVID')\n",
    "import os\n",
    "import yaml\n",
    "import time\n",
    "import numpy as np\n",
    "import matplotlib.pyplot as plt\n",
    "from tqdm import tqdm\n",
    "import torch\n",
    "from torch import nn\n",
    "import torch.optim as optim\n",
    "from torch.utils.data import DataLoader\n",
    "import torchaudio\n",
    "from models.conv_vae import ConvVAE\n",
    "from readers.coughvid_reader import CoughVID_NormalAnomaly, CoughVID_Dataset\n",
    "from readers.featurizer import Wave2Mel\n",
    "from readers.collate_fn import collate_fn"
   ]
  },
  {
   "cell_type": "markdown",
   "id": "39164a6f-15ea-4f5e-a1f0-622c3beb6504",
   "metadata": {},
   "source": [
    "## 读取数据集"
   ]
  },
  {
   "cell_type": "code",
   "execution_count": 3,
   "id": "efd780a1-a0dc-4f78-8800-9e6c4dd330fa",
   "metadata": {},
   "outputs": [
    {
     "name": "stdout",
     "output_type": "stream",
     "text": [
      "13503 4173\n",
      "13503 4173\n",
      "13000 13000\n",
      "1006 1006\n"
     ]
    }
   ],
   "source": [
    "healthy_p_list, healthy_label_list, unhealthy_p_list, unhealthy_label_list = CoughVID_NormalAnomaly()\n",
    "print(len(healthy_p_list), len(unhealthy_p_list))\n",
    "print(len(healthy_label_list), len(unhealthy_label_list))\n",
    "# 训练集取健康样本的13000个，剩下503个和非健康样本的503个一起组成验证集，测试集就是验证集。\n",
    "trp, trl, vap, val = healthy_p_list[:13000], healthy_label_list[:13000], healthy_p_list[13000:], healthy_label_list[13000:]\n",
    "vap.extend(unhealthy_p_list[:503])\n",
    "val.extend(unhealthy_label_list[:503])\n",
    "print(len(trp), len(trl))\n",
    "print(len(vap), len(val))"
   ]
  },
  {
   "cell_type": "markdown",
   "id": "5218ffd4-3e1d-4f8f-a96f-f44d6d9be2f2",
   "metadata": {},
   "source": [
    "## 最耗时的读取"
   ]
  },
  {
   "cell_type": "code",
   "execution_count": 4,
   "id": "630954a4-d9af-4046-8e38-90037a38753c",
   "metadata": {},
   "outputs": [
    {
     "name": "stderr",
     "output_type": "stream",
     "text": [
      "Loading:   0%|                                                                               | 0/13000 [00:00<?, ?it/s]C:\\Program Files (zk)\\PythonFiles\\AClassification\\SoundDL-CoughVID\\readers\\audio.py:120: UserWarning: PySoundFile failed. Trying audioread instead.\n",
      "  samples, sample_rate = librosa.load(file)  # , dtype='float32')\n",
      "C:\\Users\\zhaoke\\miniconda3\\envs\\torch-0\\lib\\site-packages\\librosa\\core\\audio.py:183: FutureWarning: librosa.core.audio.__audioread_load\n",
      "\tDeprecated as of librosa version 0.10.0.\n",
      "\tIt will be removed in librosa version 1.0.\n",
      "  y, sr_native = __audioread_load(path, offset, duration, dtype)\n",
      "Loading:   0%|                                                                     | 1/13000 [00:01<3:46:34,  1.05s/it]C:\\Program Files (zk)\\PythonFiles\\AClassification\\SoundDL-CoughVID\\readers\\audio.py:120: UserWarning: PySoundFile failed. Trying audioread instead.\n",
      "  samples, sample_rate = librosa.load(file)  # , dtype='float32')\n",
      "C:\\Users\\zhaoke\\miniconda3\\envs\\torch-0\\lib\\site-packages\\librosa\\core\\audio.py:183: FutureWarning: librosa.core.audio.__audioread_load\n",
      "\tDeprecated as of librosa version 0.10.0.\n",
      "\tIt will be removed in librosa version 1.0.\n",
      "  y, sr_native = __audioread_load(path, offset, duration, dtype)\n",
      "Loading:   0%|                                                                       | 7/13000 [00:01<30:47,  7.03it/s]C:\\Program Files (zk)\\PythonFiles\\AClassification\\SoundDL-CoughVID\\readers\\audio.py:120: UserWarning: PySoundFile failed. Trying audioread instead.\n",
      "  samples, sample_rate = librosa.load(file)  # , dtype='float32')\n",
      "C:\\Users\\zhaoke\\miniconda3\\envs\\torch-0\\lib\\site-packages\\librosa\\core\\audio.py:183: FutureWarning: librosa.core.audio.__audioread_load\n",
      "\tDeprecated as of librosa version 0.10.0.\n",
      "\tIt will be removed in librosa version 1.0.\n",
      "  y, sr_native = __audioread_load(path, offset, duration, dtype)\n",
      "Loading: 100%|███████████████████████████████████████████████████████████████████| 13000/13000 [15:26<00:00, 14.03it/s]\n"
     ]
    },
    {
     "name": "stdout",
     "output_type": "stream",
     "text": [
      "Train Dataset Creat Completely, cost time: 926.6890480518341\n"
     ]
    },
    {
     "name": "stderr",
     "output_type": "stream",
     "text": [
      "Loading: 100%|█████████████████████████████████████████████████████████████████████| 1006/1006 [01:12<00:00, 13.85it/s]"
     ]
    },
    {
     "name": "stdout",
     "output_type": "stream",
     "text": [
      "Valid Dataset Creat Completely, cost time: 999.3521203994751\n"
     ]
    },
    {
     "name": "stderr",
     "output_type": "stream",
     "text": [
      "\n"
     ]
    }
   ],
   "source": [
    "tic = time.time()\n",
    "train_dataset = CoughVID_Dataset(path_list=trp, label_list=trl)\n",
    "toc = time.time()\n",
    "print(\"Train Dataset Creat Completely, cost time:\", toc-tic)\n",
    "valid_dataset = CoughVID_Dataset(path_list=vap, label_list=val)\n",
    "toc = time.time()\n",
    "print(\"Valid Dataset Creat Completely, cost time:\", toc-tic)"
   ]
  },
  {
   "cell_type": "markdown",
   "id": "6182c20a-b507-4815-9eb4-c196b7372180",
   "metadata": {},
   "source": [
    "## 基本参数配置"
   ]
  },
  {
   "cell_type": "code",
   "execution_count": 5,
   "id": "01b00884-d8d5-4b7e-8ba1-39de78147e72",
   "metadata": {},
   "outputs": [],
   "source": [
    "configs = {\n",
    "    \"run_save_dir\": \"./runs/tdnn_coughvid/\",\n",
    "    \"model\":{\n",
    "        \"num_class\": 3,\n",
    "        \"input_length\": 94,\n",
    "        \"wav_length\": 48000,\n",
    "        \"input_dim\": 512,\n",
    "        \"n_mels\": 80,\n",
    "        },\n",
    "    \"fit\":{\n",
    "        \"batch_size\": 64,\n",
    "        \"epochs\" : 23,\n",
    "        \"start_scheduler_epoch\": 6\n",
    "        },\n",
    "}\n",
    "\n",
    "device = torch.device(\"cuda\") if torch.cuda.is_available() else \"cpu\"\n",
    "num_epoch = configs[\"fit\"][\"epochs\"]\n",
    "klw = 0.00025\n",
    "# istrain: 如果是评估环节，设为False，读取测试集，并且不创建optimizer\n",
    "# isdemo: 如果只是测试一下，设为True，仅读取32条数据方便快速测试是否有bug\n",
    "istrain, isdemo = True, False"
   ]
  },
  {
   "cell_type": "code",
   "execution_count": null,
   "id": "f39aeeff-8592-42c0-addc-3107be420ab6",
   "metadata": {},
   "outputs": [],
   "source": [
    "# model loss_function optimizer scheduler\n",
    "print(\"All model and loss are on device:\", device)\n",
    "model = ConvVAE(shape=(1, 94, 128), flat=True).to(device)\n",
    "optimizer = optim.Adam(model.parameters(), lr=1e-3)\n",
    "scheduler = torch.optim.lr_scheduler.CosineAnnealingLR(optimizer, T_max=5, eta_min=5e-5)\n",
    "print(\"Create TDNN, Adam with lr=1e-3, CosineAnnealingLR Shceduler\")\n",
    "\n",
    "MSE_loss = nn.MSELoss(reduction=\"mean\")\n",
    "def vae_loss(X, X_hat, mean, logvar, kl_weight=0.0001):\n",
    "    reconstruction_loss = MSE_loss(X_hat, X)\n",
    "    KL_divergence = 0.5 * torch.sum(-1 - logvar + torch.exp(logvar) + mean ** 2)\n",
    "    # print(reconstruction_loss.item(), KL_divergence.item())\n",
    "    return reconstruction_loss + kl_weight * KL_divergence\n",
    "\n",
    "print(\"Create VAELoss...\")\n",
    "\n",
    "w2m = Wave2Mel(sr=16000)"
   ]
  },
  {
   "cell_type": "markdown",
   "id": "276aadeb-4ea9-48cd-a254-c11593c22d96",
   "metadata": {},
   "source": [
    "### 测试模型正确性"
   ]
  },
  {
   "cell_type": "code",
   "execution_count": 8,
   "id": "5003d8c6-ecb7-4b61-9a6b-3c07f00b60cd",
   "metadata": {},
   "outputs": [
    {
     "name": "stdout",
     "output_type": "stream",
     "text": [
      "torch.Size([16, 1, 94, 128])\n",
      "tensor([[-0.2590, -0.3112, -0.4815,  ...,  0.3014, -0.0775, -0.0698],\n",
      "        [ 0.1674, -0.8358, -0.0267,  ..., -0.3281, -0.1714,  0.5831],\n",
      "        [ 0.4262, -0.1466, -0.8161,  ..., -0.2738, -0.2146,  0.6505],\n",
      "        ...,\n",
      "        [ 0.1519,  0.1511,  0.0544,  ...,  0.0386, -0.3849, -0.2341],\n",
      "        [-0.5821, -0.0683, -0.1159,  ..., -0.4339,  0.3537, -0.3093],\n",
      "        [-0.1273, -0.5743, -0.8791,  ..., -0.9140, -0.0521,  0.0253]],\n",
      "       device='cuda:0', grad_fn=<AddmmBackward0>)\n"
     ]
    }
   ],
   "source": [
    "device = torch.device(\"cuda\") if torch.cuda.is_available() else \"cpu\"\n",
    "m = ConvVAE(shape=(1, 94, 128), flat=True).to(device)\n",
    "x = torch.randn(size=(16, 1, 94, 128)).to(device)\n",
    "\n",
    "# print(m(x).shape)\n",
    "recon_mel, z, mean_lant, logvar_lant = m(x)  # (28-3+2p)/2+1\n",
    "print(recon_mel.shape)\n",
    "print(mean_lant)"
   ]
  },
  {
   "cell_type": "code",
   "execution_count": 10,
   "id": "3acd3107-9a52-40f5-9ba9-0e6062001a3b",
   "metadata": {},
   "outputs": [
    {
     "name": "stdout",
     "output_type": "stream",
     "text": [
      "Create Training Loader and Valid Loader.\n"
     ]
    }
   ],
   "source": [
    "train_loader = DataLoader(train_dataset, batch_size=32, shuffle=True,\n",
    "                              collate_fn=collate_fn)\n",
    "valid_loader = DataLoader(valid_dataset, batch_size=32, shuffle=True,\n",
    "                              collate_fn=collate_fn)\n",
    "print(\"Create Training Loader and Valid Loader.\")"
   ]
  },
  {
   "cell_type": "markdown",
   "id": "01bf753d-dd42-49e6-9421-e03e9cbf297d",
   "metadata": {},
   "source": [
    "## 运行保存目录"
   ]
  },
  {
   "cell_type": "code",
   "execution_count": 11,
   "id": "1b0e8e71-eefe-4c81-8cd7-691c951a1402",
   "metadata": {},
   "outputs": [
    {
     "name": "stdout",
     "output_type": "stream",
     "text": [
      "创建运行保存文件 ./runs/tdnn_coughvid/202404261420_tdnn_focalloss/\n"
     ]
    }
   ],
   "source": [
    "timestr = time.strftime(\"%Y%m%d%H%M\", time.localtime())\n",
    "if istrain:\n",
    "    run_save_dir = configs[\"run_save_dir\"] + timestr + f'_tdnn_focalloss/'\n",
    "if not isdemo:\n",
    "    os.makedirs(run_save_dir, exist_ok=True)\n",
    "    print(\"创建运行保存文件\", run_save_dir)"
   ]
  },
  {
   "cell_type": "code",
   "execution_count": 14,
   "id": "6048bc7b-28c2-43d0-9b24-a245ee8d1cea",
   "metadata": {},
   "outputs": [
    {
     "name": "stderr",
     "output_type": "stream",
     "text": [
      "Training:   0%|                                                                                | 0/407 [00:00<?, ?it/s]C:\\Users\\zhaoke\\AppData\\Local\\Temp\\ipykernel_30868\\2723303609.py:9: UserWarning: To copy construct from a tensor, it is recommended to use sourceTensor.clone().detach() or sourceTensor.clone().detach().requires_grad_(True), rather than torch.tensor(sourceTensor).\n",
      "  y_label = torch.tensor(y_label, device=device)\n",
      "Training:   0%|▎                                                                       | 2/407 [00:00<00:20, 19.32it/s]"
     ]
    },
    {
     "name": "stdout",
     "output_type": "stream",
     "text": [
      "Epoch[0], mtid pred loss:253.6730\n"
     ]
    },
    {
     "name": "stderr",
     "output_type": "stream",
     "text": [
      "Training:  16%|███████████▏                                                           | 64/407 [00:02<00:13, 24.51it/s]"
     ]
    },
    {
     "name": "stdout",
     "output_type": "stream",
     "text": [
      "Epoch[0], mtid pred loss:223.1687\n"
     ]
    },
    {
     "name": "stderr",
     "output_type": "stream",
     "text": [
      "Training:  30%|█████████████████████▎                                                | 124/407 [00:05<00:12, 21.82it/s]"
     ]
    },
    {
     "name": "stdout",
     "output_type": "stream",
     "text": [
      "Epoch[0], mtid pred loss:219.8356\n"
     ]
    },
    {
     "name": "stderr",
     "output_type": "stream",
     "text": [
      "Training:  45%|███████████████████████████████▋                                      | 184/407 [00:08<00:09, 23.17it/s]"
     ]
    },
    {
     "name": "stdout",
     "output_type": "stream",
     "text": [
      "Epoch[0], mtid pred loss:214.9875\n"
     ]
    },
    {
     "name": "stderr",
     "output_type": "stream",
     "text": [
      "Training:  60%|█████████████████████████████████████████▉                            | 244/407 [00:10<00:06, 24.60it/s]"
     ]
    },
    {
     "name": "stdout",
     "output_type": "stream",
     "text": [
      "Epoch[0], mtid pred loss:211.5185\n"
     ]
    },
    {
     "name": "stderr",
     "output_type": "stream",
     "text": [
      "Training:  75%|████████████████████████████████████████████████████▎                 | 304/407 [00:13<00:04, 24.74it/s]"
     ]
    },
    {
     "name": "stdout",
     "output_type": "stream",
     "text": [
      "Epoch[0], mtid pred loss:215.2682\n"
     ]
    },
    {
     "name": "stderr",
     "output_type": "stream",
     "text": [
      "Training:  89%|██████████████████████████████████████████████████████████████▌       | 364/407 [00:15<00:01, 24.52it/s]"
     ]
    },
    {
     "name": "stdout",
     "output_type": "stream",
     "text": [
      "Epoch[0], mtid pred loss:205.1445\n"
     ]
    },
    {
     "name": "stderr",
     "output_type": "stream",
     "text": [
      "Training: 100%|██████████████████████████████████████████████████████████████████████| 407/407 [00:17<00:00, 23.68it/s]\n",
      "Training:   1%|█                                                                       | 6/407 [00:00<00:15, 26.43it/s]"
     ]
    },
    {
     "name": "stdout",
     "output_type": "stream",
     "text": [
      "Epoch[1], mtid pred loss:233.2257\n"
     ]
    },
    {
     "name": "stderr",
     "output_type": "stream",
     "text": [
      "Training:  15%|██████████▉                                                            | 63/407 [00:02<00:14, 23.93it/s]"
     ]
    },
    {
     "name": "stdout",
     "output_type": "stream",
     "text": [
      "Epoch[1], mtid pred loss:224.9050\n"
     ]
    },
    {
     "name": "stderr",
     "output_type": "stream",
     "text": [
      "Training:  30%|█████████████████████▏                                                | 123/407 [00:05<00:12, 22.84it/s]"
     ]
    },
    {
     "name": "stdout",
     "output_type": "stream",
     "text": [
      "Epoch[1], mtid pred loss:198.4038\n"
     ]
    },
    {
     "name": "stderr",
     "output_type": "stream",
     "text": [
      "Training:  45%|███████████████████████████████▍                                      | 183/407 [00:07<00:09, 22.75it/s]"
     ]
    },
    {
     "name": "stdout",
     "output_type": "stream",
     "text": [
      "Epoch[1], mtid pred loss:202.3049\n"
     ]
    },
    {
     "name": "stderr",
     "output_type": "stream",
     "text": [
      "Training:  60%|█████████████████████████████████████████▊                            | 243/407 [00:10<00:06, 23.56it/s]"
     ]
    },
    {
     "name": "stdout",
     "output_type": "stream",
     "text": [
      "Epoch[1], mtid pred loss:205.2745\n"
     ]
    },
    {
     "name": "stderr",
     "output_type": "stream",
     "text": [
      "Training:  74%|████████████████████████████████████████████████████                  | 303/407 [00:13<00:04, 23.72it/s]"
     ]
    },
    {
     "name": "stdout",
     "output_type": "stream",
     "text": [
      "Epoch[1], mtid pred loss:198.8945\n"
     ]
    },
    {
     "name": "stderr",
     "output_type": "stream",
     "text": [
      "Training:  89%|██████████████████████████████████████████████████████████████▍       | 363/407 [00:15<00:01, 23.00it/s]"
     ]
    },
    {
     "name": "stdout",
     "output_type": "stream",
     "text": [
      "Epoch[1], mtid pred loss:204.8903\n"
     ]
    },
    {
     "name": "stderr",
     "output_type": "stream",
     "text": [
      "Training: 100%|██████████████████████████████████████████████████████████████████████| 407/407 [00:17<00:00, 23.08it/s]\n",
      "Training:   1%|▌                                                                       | 3/407 [00:00<00:15, 26.82it/s]"
     ]
    },
    {
     "name": "stdout",
     "output_type": "stream",
     "text": [
      "Epoch[2], mtid pred loss:197.5058\n"
     ]
    },
    {
     "name": "stderr",
     "output_type": "stream",
     "text": [
      "Training:  15%|██████████▉                                                            | 63/407 [00:02<00:14, 23.09it/s]"
     ]
    },
    {
     "name": "stdout",
     "output_type": "stream",
     "text": [
      "Epoch[2], mtid pred loss:211.3734\n"
     ]
    },
    {
     "name": "stderr",
     "output_type": "stream",
     "text": [
      "Training:  30%|█████████████████████▏                                                | 123/407 [00:05<00:11, 23.74it/s]"
     ]
    },
    {
     "name": "stdout",
     "output_type": "stream",
     "text": [
      "Epoch[2], mtid pred loss:194.0408\n"
     ]
    },
    {
     "name": "stderr",
     "output_type": "stream",
     "text": [
      "Training:  45%|███████████████████████████████▍                                      | 183/407 [00:08<00:09, 23.05it/s]"
     ]
    },
    {
     "name": "stdout",
     "output_type": "stream",
     "text": [
      "Epoch[2], mtid pred loss:185.3806\n"
     ]
    },
    {
     "name": "stderr",
     "output_type": "stream",
     "text": [
      "Training:  60%|█████████████████████████████████████████▊                            | 243/407 [00:10<00:07, 22.52it/s]"
     ]
    },
    {
     "name": "stdout",
     "output_type": "stream",
     "text": [
      "Epoch[2], mtid pred loss:208.3212\n"
     ]
    },
    {
     "name": "stderr",
     "output_type": "stream",
     "text": [
      "Training:  74%|████████████████████████████████████████████████████                  | 303/407 [00:13<00:04, 23.16it/s]"
     ]
    },
    {
     "name": "stdout",
     "output_type": "stream",
     "text": [
      "Epoch[2], mtid pred loss:213.8286\n"
     ]
    },
    {
     "name": "stderr",
     "output_type": "stream",
     "text": [
      "Training:  89%|██████████████████████████████████████████████████████████████▍       | 363/407 [00:15<00:01, 23.65it/s]"
     ]
    },
    {
     "name": "stdout",
     "output_type": "stream",
     "text": [
      "Epoch[2], mtid pred loss:198.1788\n"
     ]
    },
    {
     "name": "stderr",
     "output_type": "stream",
     "text": [
      "Training: 100%|██████████████████████████████████████████████████████████████████████| 407/407 [00:17<00:00, 22.77it/s]\n",
      "Training:   1%|▌                                                                       | 3/407 [00:00<00:14, 27.30it/s]"
     ]
    },
    {
     "name": "stdout",
     "output_type": "stream",
     "text": [
      "Epoch[3], mtid pred loss:189.3056\n"
     ]
    },
    {
     "name": "stderr",
     "output_type": "stream",
     "text": [
      "Training:  15%|██████████▉                                                            | 63/407 [00:02<00:15, 22.80it/s]"
     ]
    },
    {
     "name": "stdout",
     "output_type": "stream",
     "text": [
      "Epoch[3], mtid pred loss:195.2203\n"
     ]
    },
    {
     "name": "stderr",
     "output_type": "stream",
     "text": [
      "Training:  30%|█████████████████████▏                                                | 123/407 [00:05<00:11, 23.75it/s]"
     ]
    },
    {
     "name": "stdout",
     "output_type": "stream",
     "text": [
      "Epoch[3], mtid pred loss:184.8670\n"
     ]
    },
    {
     "name": "stderr",
     "output_type": "stream",
     "text": [
      "Training:  45%|███████████████████████████████▍                                      | 183/407 [00:08<00:10, 21.24it/s]"
     ]
    },
    {
     "name": "stdout",
     "output_type": "stream",
     "text": [
      "Epoch[3], mtid pred loss:195.6375\n"
     ]
    },
    {
     "name": "stderr",
     "output_type": "stream",
     "text": [
      "Training:  60%|█████████████████████████████████████████▊                            | 243/407 [00:10<00:07, 21.91it/s]"
     ]
    },
    {
     "name": "stdout",
     "output_type": "stream",
     "text": [
      "Epoch[3], mtid pred loss:196.6840\n"
     ]
    },
    {
     "name": "stderr",
     "output_type": "stream",
     "text": [
      "Training:  74%|████████████████████████████████████████████████████                  | 303/407 [00:13<00:04, 23.50it/s]"
     ]
    },
    {
     "name": "stdout",
     "output_type": "stream",
     "text": [
      "Epoch[3], mtid pred loss:194.8715\n"
     ]
    },
    {
     "name": "stderr",
     "output_type": "stream",
     "text": [
      "Training:  89%|██████████████████████████████████████████████████████████████▍       | 363/407 [00:16<00:01, 22.92it/s]"
     ]
    },
    {
     "name": "stdout",
     "output_type": "stream",
     "text": [
      "Epoch[3], mtid pred loss:178.9567\n"
     ]
    },
    {
     "name": "stderr",
     "output_type": "stream",
     "text": [
      "Training: 100%|██████████████████████████████████████████████████████████████████████| 407/407 [00:17<00:00, 22.77it/s]\n",
      "Training:   1%|█                                                                       | 6/407 [00:00<00:13, 29.29it/s]"
     ]
    },
    {
     "name": "stdout",
     "output_type": "stream",
     "text": [
      "Epoch[4], mtid pred loss:168.7523\n"
     ]
    },
    {
     "name": "stderr",
     "output_type": "stream",
     "text": [
      "Training:  15%|██████████▊                                                            | 62/407 [00:02<00:15, 21.82it/s]"
     ]
    },
    {
     "name": "stdout",
     "output_type": "stream",
     "text": [
      "Epoch[4], mtid pred loss:194.3366\n"
     ]
    },
    {
     "name": "stderr",
     "output_type": "stream",
     "text": [
      "Training:  31%|█████████████████████▍                                                | 125/407 [00:04<00:08, 32.64it/s]"
     ]
    },
    {
     "name": "stdout",
     "output_type": "stream",
     "text": [
      "Epoch[4], mtid pred loss:187.1666\n"
     ]
    },
    {
     "name": "stderr",
     "output_type": "stream",
     "text": [
      "Training:  45%|███████████████████████████████▊                                      | 185/407 [00:06<00:07, 30.82it/s]"
     ]
    },
    {
     "name": "stdout",
     "output_type": "stream",
     "text": [
      "Epoch[4], mtid pred loss:194.2182\n"
     ]
    },
    {
     "name": "stderr",
     "output_type": "stream",
     "text": [
      "Training:  60%|██████████████████████████████████████████▏                           | 245/407 [00:08<00:06, 25.60it/s]"
     ]
    },
    {
     "name": "stdout",
     "output_type": "stream",
     "text": [
      "Epoch[4], mtid pred loss:174.0840\n"
     ]
    },
    {
     "name": "stderr",
     "output_type": "stream",
     "text": [
      "Training:  75%|████████████████████████████████████████████████████▎                 | 304/407 [00:10<00:03, 27.37it/s]"
     ]
    },
    {
     "name": "stdout",
     "output_type": "stream",
     "text": [
      "Epoch[4], mtid pred loss:186.0270\n"
     ]
    },
    {
     "name": "stderr",
     "output_type": "stream",
     "text": [
      "Training:  89%|██████████████████████████████████████████████████████████████▌       | 364/407 [00:13<00:01, 23.18it/s]"
     ]
    },
    {
     "name": "stdout",
     "output_type": "stream",
     "text": [
      "Epoch[4], mtid pred loss:167.7013\n"
     ]
    },
    {
     "name": "stderr",
     "output_type": "stream",
     "text": [
      "Training: 100%|██████████████████████████████████████████████████████████████████████| 407/407 [00:14<00:00, 27.38it/s]\n",
      "Training:   1%|▌                                                                       | 3/407 [00:00<00:16, 24.09it/s]"
     ]
    },
    {
     "name": "stdout",
     "output_type": "stream",
     "text": [
      "Epoch[5], mtid pred loss:186.5243\n"
     ]
    },
    {
     "name": "stderr",
     "output_type": "stream",
     "text": [
      "Training:  15%|██████████▉                                                            | 63/407 [00:02<00:14, 23.55it/s]"
     ]
    },
    {
     "name": "stdout",
     "output_type": "stream",
     "text": [
      "Epoch[5], mtid pred loss:174.0777\n"
     ]
    },
    {
     "name": "stderr",
     "output_type": "stream",
     "text": [
      "Training:  30%|█████████████████████▏                                                | 123/407 [00:05<00:12, 23.15it/s]"
     ]
    },
    {
     "name": "stdout",
     "output_type": "stream",
     "text": [
      "Epoch[5], mtid pred loss:188.2880\n"
     ]
    },
    {
     "name": "stderr",
     "output_type": "stream",
     "text": [
      "Training:  45%|███████████████████████████████▍                                      | 183/407 [00:07<00:09, 24.02it/s]"
     ]
    },
    {
     "name": "stdout",
     "output_type": "stream",
     "text": [
      "Epoch[5], mtid pred loss:181.7436\n"
     ]
    },
    {
     "name": "stderr",
     "output_type": "stream",
     "text": [
      "Training:  60%|█████████████████████████████████████████▊                            | 243/407 [00:10<00:07, 23.41it/s]"
     ]
    },
    {
     "name": "stdout",
     "output_type": "stream",
     "text": [
      "Epoch[5], mtid pred loss:188.9045\n"
     ]
    },
    {
     "name": "stderr",
     "output_type": "stream",
     "text": [
      "Training:  74%|████████████████████████████████████████████████████                  | 303/407 [00:13<00:04, 24.24it/s]"
     ]
    },
    {
     "name": "stdout",
     "output_type": "stream",
     "text": [
      "Epoch[5], mtid pred loss:192.3934\n"
     ]
    },
    {
     "name": "stderr",
     "output_type": "stream",
     "text": [
      "Training:  89%|██████████████████████████████████████████████████████████████▍       | 363/407 [00:15<00:02, 21.96it/s]"
     ]
    },
    {
     "name": "stdout",
     "output_type": "stream",
     "text": [
      "Epoch[5], mtid pred loss:187.4236\n"
     ]
    },
    {
     "name": "stderr",
     "output_type": "stream",
     "text": [
      "Training: 100%|██████████████████████████████████████████████████████████████████████| 407/407 [00:17<00:00, 22.89it/s]\n",
      "Training:   1%|▌                                                                       | 3/407 [00:00<00:16, 24.74it/s]"
     ]
    },
    {
     "name": "stdout",
     "output_type": "stream",
     "text": [
      "Epoch[6], mtid pred loss:174.6329\n"
     ]
    },
    {
     "name": "stderr",
     "output_type": "stream",
     "text": [
      "Training:  15%|██████████▉                                                            | 63/407 [00:02<00:14, 23.13it/s]"
     ]
    },
    {
     "name": "stdout",
     "output_type": "stream",
     "text": [
      "Epoch[6], mtid pred loss:171.9111\n"
     ]
    },
    {
     "name": "stderr",
     "output_type": "stream",
     "text": [
      "Training:  30%|█████████████████████▏                                                | 123/407 [00:05<00:11, 23.79it/s]"
     ]
    },
    {
     "name": "stdout",
     "output_type": "stream",
     "text": [
      "Epoch[6], mtid pred loss:196.6342\n"
     ]
    },
    {
     "name": "stderr",
     "output_type": "stream",
     "text": [
      "Training:  45%|███████████████████████████████▊                                      | 185/407 [00:08<00:08, 27.40it/s]"
     ]
    },
    {
     "name": "stdout",
     "output_type": "stream",
     "text": [
      "Epoch[6], mtid pred loss:184.7116\n"
     ]
    },
    {
     "name": "stderr",
     "output_type": "stream",
     "text": [
      "Training:  60%|██████████████████████████████████████████▏                           | 245/407 [00:10<00:05, 31.21it/s]"
     ]
    },
    {
     "name": "stdout",
     "output_type": "stream",
     "text": [
      "Epoch[6], mtid pred loss:177.2149\n"
     ]
    },
    {
     "name": "stderr",
     "output_type": "stream",
     "text": [
      "Training:  75%|████████████████████████████████████████████████████▍                 | 305/407 [00:12<00:04, 23.70it/s]"
     ]
    },
    {
     "name": "stdout",
     "output_type": "stream",
     "text": [
      "Epoch[6], mtid pred loss:188.0825\n"
     ]
    },
    {
     "name": "stderr",
     "output_type": "stream",
     "text": [
      "Training:  90%|██████████████████████████████████████████████████████████████▊       | 365/407 [00:14<00:01, 22.52it/s]"
     ]
    },
    {
     "name": "stdout",
     "output_type": "stream",
     "text": [
      "Epoch[6], mtid pred loss:187.9058\n"
     ]
    },
    {
     "name": "stderr",
     "output_type": "stream",
     "text": [
      "Training: 100%|██████████████████████████████████████████████████████████████████████| 407/407 [00:16<00:00, 24.39it/s]\n",
      "Training:   1%|▌                                                                       | 3/407 [00:00<00:15, 26.56it/s]"
     ]
    },
    {
     "name": "stdout",
     "output_type": "stream",
     "text": [
      "Epoch[7], mtid pred loss:167.4886\n"
     ]
    },
    {
     "name": "stderr",
     "output_type": "stream",
     "text": [
      "Training:  16%|███████████▏                                                           | 64/407 [00:02<00:15, 22.77it/s]"
     ]
    },
    {
     "name": "stdout",
     "output_type": "stream",
     "text": [
      "Epoch[7], mtid pred loss:173.9423\n"
     ]
    },
    {
     "name": "stderr",
     "output_type": "stream",
     "text": [
      "Training:  30%|█████████████████████▎                                                | 124/407 [00:05<00:12, 23.48it/s]"
     ]
    },
    {
     "name": "stdout",
     "output_type": "stream",
     "text": [
      "Epoch[7], mtid pred loss:182.0768\n"
     ]
    },
    {
     "name": "stderr",
     "output_type": "stream",
     "text": [
      "Training:  45%|███████████████████████████████▋                                      | 184/407 [00:08<00:10, 21.65it/s]"
     ]
    },
    {
     "name": "stdout",
     "output_type": "stream",
     "text": [
      "Epoch[7], mtid pred loss:172.0033\n"
     ]
    },
    {
     "name": "stderr",
     "output_type": "stream",
     "text": [
      "Training:  60%|█████████████████████████████████████████▉                            | 244/407 [00:11<00:07, 22.64it/s]"
     ]
    },
    {
     "name": "stdout",
     "output_type": "stream",
     "text": [
      "Epoch[7], mtid pred loss:172.7047\n"
     ]
    },
    {
     "name": "stderr",
     "output_type": "stream",
     "text": [
      "Training:  75%|████████████████████████████████████████████████████▎                 | 304/407 [00:13<00:04, 23.33it/s]"
     ]
    },
    {
     "name": "stdout",
     "output_type": "stream",
     "text": [
      "Epoch[7], mtid pred loss:183.5852\n"
     ]
    },
    {
     "name": "stderr",
     "output_type": "stream",
     "text": [
      "Training:  89%|██████████████████████████████████████████████████████████████▌       | 364/407 [00:16<00:01, 22.68it/s]"
     ]
    },
    {
     "name": "stdout",
     "output_type": "stream",
     "text": [
      "Epoch[7], mtid pred loss:169.3629\n"
     ]
    },
    {
     "name": "stderr",
     "output_type": "stream",
     "text": [
      "Training: 100%|██████████████████████████████████████████████████████████████████████| 407/407 [00:18<00:00, 22.30it/s]\n",
      "Training:   1%|▌                                                                       | 3/407 [00:00<00:16, 24.22it/s]"
     ]
    },
    {
     "name": "stdout",
     "output_type": "stream",
     "text": [
      "Epoch[8], mtid pred loss:194.2423\n"
     ]
    },
    {
     "name": "stderr",
     "output_type": "stream",
     "text": [
      "Training:  15%|██████████▉                                                            | 63/407 [00:02<00:16, 21.26it/s]"
     ]
    },
    {
     "name": "stdout",
     "output_type": "stream",
     "text": [
      "Epoch[8], mtid pred loss:188.3677\n"
     ]
    },
    {
     "name": "stderr",
     "output_type": "stream",
     "text": [
      "Training:  30%|█████████████████████▏                                                | 123/407 [00:05<00:11, 23.79it/s]"
     ]
    },
    {
     "name": "stdout",
     "output_type": "stream",
     "text": [
      "Epoch[8], mtid pred loss:172.1230\n"
     ]
    },
    {
     "name": "stderr",
     "output_type": "stream",
     "text": [
      "Training:  45%|███████████████████████████████▍                                      | 183/407 [00:08<00:10, 22.31it/s]"
     ]
    },
    {
     "name": "stdout",
     "output_type": "stream",
     "text": [
      "Epoch[8], mtid pred loss:188.6719\n"
     ]
    },
    {
     "name": "stderr",
     "output_type": "stream",
     "text": [
      "Training:  60%|█████████████████████████████████████████▊                            | 243/407 [00:10<00:07, 23.32it/s]"
     ]
    },
    {
     "name": "stdout",
     "output_type": "stream",
     "text": [
      "Epoch[8], mtid pred loss:169.6919\n"
     ]
    },
    {
     "name": "stderr",
     "output_type": "stream",
     "text": [
      "Training:  74%|████████████████████████████████████████████████████                  | 303/407 [00:13<00:04, 22.71it/s]"
     ]
    },
    {
     "name": "stdout",
     "output_type": "stream",
     "text": [
      "Epoch[8], mtid pred loss:163.5727\n"
     ]
    },
    {
     "name": "stderr",
     "output_type": "stream",
     "text": [
      "Training:  90%|██████████████████████████████████████████████████████████████▊       | 365/407 [00:15<00:01, 32.39it/s]"
     ]
    },
    {
     "name": "stdout",
     "output_type": "stream",
     "text": [
      "Epoch[8], mtid pred loss:169.6303\n"
     ]
    },
    {
     "name": "stderr",
     "output_type": "stream",
     "text": [
      "Training: 100%|██████████████████████████████████████████████████████████████████████| 407/407 [00:17<00:00, 23.24it/s]\n",
      "Training:   1%|▋                                                                       | 4/407 [00:00<00:13, 30.77it/s]"
     ]
    },
    {
     "name": "stdout",
     "output_type": "stream",
     "text": [
      "Epoch[9], mtid pred loss:165.8938\n"
     ]
    },
    {
     "name": "stderr",
     "output_type": "stream",
     "text": [
      "Training:  16%|███████████▏                                                           | 64/407 [00:02<00:12, 28.10it/s]"
     ]
    },
    {
     "name": "stdout",
     "output_type": "stream",
     "text": [
      "Epoch[9], mtid pred loss:167.5151\n"
     ]
    },
    {
     "name": "stderr",
     "output_type": "stream",
     "text": [
      "Training:  30%|█████████████████████▎                                                | 124/407 [00:04<00:10, 25.89it/s]"
     ]
    },
    {
     "name": "stdout",
     "output_type": "stream",
     "text": [
      "Epoch[9], mtid pred loss:184.7874\n"
     ]
    },
    {
     "name": "stderr",
     "output_type": "stream",
     "text": [
      "Training:  45%|███████████████████████████████▋                                      | 184/407 [00:06<00:10, 22.23it/s]"
     ]
    },
    {
     "name": "stdout",
     "output_type": "stream",
     "text": [
      "Epoch[9], mtid pred loss:160.5508\n"
     ]
    },
    {
     "name": "stderr",
     "output_type": "stream",
     "text": [
      "Training:  60%|█████████████████████████████████████████▉                            | 244/407 [00:09<00:07, 22.57it/s]"
     ]
    },
    {
     "name": "stdout",
     "output_type": "stream",
     "text": [
      "Epoch[9], mtid pred loss:181.7317\n"
     ]
    },
    {
     "name": "stderr",
     "output_type": "stream",
     "text": [
      "Training:  75%|████████████████████████████████████████████████████▎                 | 304/407 [00:12<00:04, 23.70it/s]"
     ]
    },
    {
     "name": "stdout",
     "output_type": "stream",
     "text": [
      "Epoch[9], mtid pred loss:172.7242\n"
     ]
    },
    {
     "name": "stderr",
     "output_type": "stream",
     "text": [
      "Training:  89%|██████████████████████████████████████████████████████████████▌       | 364/407 [00:14<00:02, 20.65it/s]"
     ]
    },
    {
     "name": "stdout",
     "output_type": "stream",
     "text": [
      "Epoch[9], mtid pred loss:170.9143\n"
     ]
    },
    {
     "name": "stderr",
     "output_type": "stream",
     "text": [
      "Training: 100%|██████████████████████████████████████████████████████████████████████| 407/407 [00:16<00:00, 24.74it/s]\n",
      "Training:   1%|▋                                                                       | 4/407 [00:00<00:12, 32.01it/s]"
     ]
    },
    {
     "name": "stdout",
     "output_type": "stream",
     "text": [
      "Epoch[10], mtid pred loss:169.8619\n"
     ]
    },
    {
     "name": "stderr",
     "output_type": "stream",
     "text": [
      "Training:  16%|███████████▏                                                           | 64/407 [00:02<00:11, 29.43it/s]"
     ]
    },
    {
     "name": "stdout",
     "output_type": "stream",
     "text": [
      "Epoch[10], mtid pred loss:161.2128\n"
     ]
    },
    {
     "name": "stderr",
     "output_type": "stream",
     "text": [
      "Training:  30%|█████████████████████▎                                                | 124/407 [00:04<00:12, 23.11it/s]"
     ]
    },
    {
     "name": "stdout",
     "output_type": "stream",
     "text": [
      "Epoch[10], mtid pred loss:159.8621\n"
     ]
    },
    {
     "name": "stderr",
     "output_type": "stream",
     "text": [
      "Training:  46%|███████████████████████████████▉                                      | 186/407 [00:07<00:07, 31.43it/s]"
     ]
    },
    {
     "name": "stdout",
     "output_type": "stream",
     "text": [
      "Epoch[10], mtid pred loss:165.3407\n"
     ]
    },
    {
     "name": "stderr",
     "output_type": "stream",
     "text": [
      "Training:  60%|██████████████████████████████████████████▎                           | 246/407 [00:08<00:05, 32.20it/s]"
     ]
    },
    {
     "name": "stdout",
     "output_type": "stream",
     "text": [
      "Epoch[10], mtid pred loss:167.7044\n"
     ]
    },
    {
     "name": "stderr",
     "output_type": "stream",
     "text": [
      "Training:  75%|████████████████████████████████████████████████████▎                 | 304/407 [00:10<00:03, 28.42it/s]"
     ]
    },
    {
     "name": "stdout",
     "output_type": "stream",
     "text": [
      "Epoch[10], mtid pred loss:166.0509\n"
     ]
    },
    {
     "name": "stderr",
     "output_type": "stream",
     "text": [
      "Training:  90%|██████████████████████████████████████████████████████████████▊       | 365/407 [00:12<00:01, 33.16it/s]"
     ]
    },
    {
     "name": "stdout",
     "output_type": "stream",
     "text": [
      "Epoch[10], mtid pred loss:180.2065\n"
     ]
    },
    {
     "name": "stderr",
     "output_type": "stream",
     "text": [
      "Training: 100%|██████████████████████████████████████████████████████████████████████| 407/407 [00:14<00:00, 28.46it/s]\n",
      "Training:   1%|▋                                                                       | 4/407 [00:00<00:12, 31.08it/s]"
     ]
    },
    {
     "name": "stdout",
     "output_type": "stream",
     "text": [
      "Epoch[11], mtid pred loss:164.7900\n"
     ]
    },
    {
     "name": "stderr",
     "output_type": "stream",
     "text": [
      "Training:  16%|███████████▌                                                           | 66/407 [00:02<00:13, 24.54it/s]"
     ]
    },
    {
     "name": "stdout",
     "output_type": "stream",
     "text": [
      "Epoch[11], mtid pred loss:160.5339\n"
     ]
    },
    {
     "name": "stderr",
     "output_type": "stream",
     "text": [
      "Training:  30%|█████████████████████▎                                                | 124/407 [00:04<00:13, 21.53it/s]"
     ]
    },
    {
     "name": "stdout",
     "output_type": "stream",
     "text": [
      "Epoch[11], mtid pred loss:163.8976\n"
     ]
    },
    {
     "name": "stderr",
     "output_type": "stream",
     "text": [
      "Training:  45%|███████████████████████████████▍                                      | 183/407 [00:07<00:10, 21.39it/s]"
     ]
    },
    {
     "name": "stdout",
     "output_type": "stream",
     "text": [
      "Epoch[11], mtid pred loss:178.5700\n"
     ]
    },
    {
     "name": "stderr",
     "output_type": "stream",
     "text": [
      "Training:  60%|█████████████████████████████████████████▉                            | 244/407 [00:10<00:05, 27.88it/s]"
     ]
    },
    {
     "name": "stdout",
     "output_type": "stream",
     "text": [
      "Epoch[11], mtid pred loss:160.4926\n"
     ]
    },
    {
     "name": "stderr",
     "output_type": "stream",
     "text": [
      "Training:  75%|████████████████████████████████████████████████████▎                 | 304/407 [00:12<00:03, 32.43it/s]"
     ]
    },
    {
     "name": "stdout",
     "output_type": "stream",
     "text": [
      "Epoch[11], mtid pred loss:162.0257\n"
     ]
    },
    {
     "name": "stderr",
     "output_type": "stream",
     "text": [
      "Training:  89%|██████████████████████████████████████████████████████████████▎       | 362/407 [00:14<00:01, 29.68it/s]"
     ]
    },
    {
     "name": "stdout",
     "output_type": "stream",
     "text": [
      "Epoch[11], mtid pred loss:145.3597\n"
     ]
    },
    {
     "name": "stderr",
     "output_type": "stream",
     "text": [
      "Training: 100%|██████████████████████████████████████████████████████████████████████| 407/407 [00:15<00:00, 25.60it/s]\n",
      "Training:   1%|█                                                                       | 6/407 [00:00<00:14, 27.40it/s]"
     ]
    },
    {
     "name": "stdout",
     "output_type": "stream",
     "text": [
      "Epoch[12], mtid pred loss:162.3530\n"
     ]
    },
    {
     "name": "stderr",
     "output_type": "stream",
     "text": [
      "Training:  15%|██████████▊                                                            | 62/407 [00:02<00:16, 21.41it/s]"
     ]
    },
    {
     "name": "stdout",
     "output_type": "stream",
     "text": [
      "Epoch[12], mtid pred loss:165.1036\n"
     ]
    },
    {
     "name": "stderr",
     "output_type": "stream",
     "text": [
      "Training:  31%|█████████████████████▍                                                | 125/407 [00:05<00:11, 23.68it/s]"
     ]
    },
    {
     "name": "stdout",
     "output_type": "stream",
     "text": [
      "Epoch[12], mtid pred loss:160.2745\n"
     ]
    },
    {
     "name": "stderr",
     "output_type": "stream",
     "text": [
      "Training:  45%|███████████████████████████████▊                                      | 185/407 [00:08<00:09, 22.97it/s]"
     ]
    },
    {
     "name": "stdout",
     "output_type": "stream",
     "text": [
      "Epoch[12], mtid pred loss:157.6700\n"
     ]
    },
    {
     "name": "stderr",
     "output_type": "stream",
     "text": [
      "Training:  59%|█████████████████████████████████████████▌                            | 242/407 [00:10<00:07, 23.04it/s]"
     ]
    },
    {
     "name": "stdout",
     "output_type": "stream",
     "text": [
      "Epoch[12], mtid pred loss:165.2323\n"
     ]
    },
    {
     "name": "stderr",
     "output_type": "stream",
     "text": [
      "Training:  74%|███████████████████████████████████████████████████▉                  | 302/407 [00:13<00:04, 22.56it/s]"
     ]
    },
    {
     "name": "stdout",
     "output_type": "stream",
     "text": [
      "Epoch[12], mtid pred loss:168.6455\n"
     ]
    },
    {
     "name": "stderr",
     "output_type": "stream",
     "text": [
      "Training:  90%|██████████████████████████████████████████████████████████████▊       | 365/407 [00:16<00:01, 23.77it/s]"
     ]
    },
    {
     "name": "stdout",
     "output_type": "stream",
     "text": [
      "Epoch[12], mtid pred loss:159.4410\n"
     ]
    },
    {
     "name": "stderr",
     "output_type": "stream",
     "text": [
      "Training: 100%|██████████████████████████████████████████████████████████████████████| 407/407 [00:18<00:00, 22.26it/s]\n",
      "Training:   1%|▌                                                                       | 3/407 [00:00<00:15, 25.28it/s]"
     ]
    },
    {
     "name": "stdout",
     "output_type": "stream",
     "text": [
      "Epoch[13], mtid pred loss:153.9712\n"
     ]
    },
    {
     "name": "stderr",
     "output_type": "stream",
     "text": [
      "Training:  16%|███████████▏                                                           | 64/407 [00:03<00:16, 21.31it/s]"
     ]
    },
    {
     "name": "stdout",
     "output_type": "stream",
     "text": [
      "Epoch[13], mtid pred loss:175.8917\n"
     ]
    },
    {
     "name": "stderr",
     "output_type": "stream",
     "text": [
      "Training:  30%|█████████████████████▎                                                | 124/407 [00:05<00:12, 23.48it/s]"
     ]
    },
    {
     "name": "stdout",
     "output_type": "stream",
     "text": [
      "Epoch[13], mtid pred loss:182.3212\n"
     ]
    },
    {
     "name": "stderr",
     "output_type": "stream",
     "text": [
      "Training:  45%|███████████████████████████████▍                                      | 183/407 [00:08<00:07, 29.10it/s]"
     ]
    },
    {
     "name": "stdout",
     "output_type": "stream",
     "text": [
      "Epoch[13], mtid pred loss:161.4583\n"
     ]
    },
    {
     "name": "stderr",
     "output_type": "stream",
     "text": [
      "Training:  60%|█████████████████████████████████████████▉                            | 244/407 [00:10<00:07, 23.01it/s]"
     ]
    },
    {
     "name": "stdout",
     "output_type": "stream",
     "text": [
      "Epoch[13], mtid pred loss:165.0833\n"
     ]
    },
    {
     "name": "stderr",
     "output_type": "stream",
     "text": [
      "Training:  75%|████████████████████████████████████████████████████▎                 | 304/407 [00:13<00:04, 22.45it/s]"
     ]
    },
    {
     "name": "stdout",
     "output_type": "stream",
     "text": [
      "Epoch[13], mtid pred loss:176.4123\n"
     ]
    },
    {
     "name": "stderr",
     "output_type": "stream",
     "text": [
      "Training:  89%|██████████████████████████████████████████████████████████████▌       | 364/407 [00:16<00:01, 21.84it/s]"
     ]
    },
    {
     "name": "stdout",
     "output_type": "stream",
     "text": [
      "Epoch[13], mtid pred loss:158.9581\n"
     ]
    },
    {
     "name": "stderr",
     "output_type": "stream",
     "text": [
      "Training: 100%|██████████████████████████████████████████████████████████████████████| 407/407 [00:18<00:00, 22.61it/s]\n",
      "Training:   1%|▌                                                                       | 3/407 [00:00<00:16, 24.34it/s]"
     ]
    },
    {
     "name": "stdout",
     "output_type": "stream",
     "text": [
      "Epoch[14], mtid pred loss:169.5683\n"
     ]
    },
    {
     "name": "stderr",
     "output_type": "stream",
     "text": [
      "Training:  15%|██████████▊                                                            | 62/407 [00:02<00:15, 22.17it/s]"
     ]
    },
    {
     "name": "stdout",
     "output_type": "stream",
     "text": [
      "Epoch[14], mtid pred loss:175.4310\n"
     ]
    },
    {
     "name": "stderr",
     "output_type": "stream",
     "text": [
      "Training:  30%|████████████████████▉                                                 | 122/407 [00:05<00:12, 22.42it/s]"
     ]
    },
    {
     "name": "stdout",
     "output_type": "stream",
     "text": [
      "Epoch[14], mtid pred loss:172.5284\n"
     ]
    },
    {
     "name": "stderr",
     "output_type": "stream",
     "text": [
      "Training:  45%|███████████████████████████████▊                                      | 185/407 [00:08<00:09, 22.55it/s]"
     ]
    },
    {
     "name": "stdout",
     "output_type": "stream",
     "text": [
      "Epoch[14], mtid pred loss:167.8567\n"
     ]
    },
    {
     "name": "stderr",
     "output_type": "stream",
     "text": [
      "Training:  60%|██████████████████████████████████████████▏                           | 245/407 [00:11<00:07, 22.83it/s]"
     ]
    },
    {
     "name": "stdout",
     "output_type": "stream",
     "text": [
      "Epoch[14], mtid pred loss:165.9571\n"
     ]
    },
    {
     "name": "stderr",
     "output_type": "stream",
     "text": [
      "Training:  75%|████████████████████████████████████████████████████▍                 | 305/407 [00:13<00:04, 22.66it/s]"
     ]
    },
    {
     "name": "stdout",
     "output_type": "stream",
     "text": [
      "Epoch[14], mtid pred loss:155.8695\n"
     ]
    },
    {
     "name": "stderr",
     "output_type": "stream",
     "text": [
      "Training:  90%|██████████████████████████████████████████████████████████████▊       | 365/407 [00:16<00:01, 22.96it/s]"
     ]
    },
    {
     "name": "stdout",
     "output_type": "stream",
     "text": [
      "Epoch[14], mtid pred loss:187.0306\n"
     ]
    },
    {
     "name": "stderr",
     "output_type": "stream",
     "text": [
      "Training: 100%|██████████████████████████████████████████████████████████████████████| 407/407 [00:18<00:00, 22.39it/s]\n",
      "Training:   1%|▌                                                                       | 3/407 [00:00<00:16, 24.95it/s]"
     ]
    },
    {
     "name": "stdout",
     "output_type": "stream",
     "text": [
      "Epoch[15], mtid pred loss:165.2762\n"
     ]
    },
    {
     "name": "stderr",
     "output_type": "stream",
     "text": [
      "Training:  15%|██████████▉                                                            | 63/407 [00:03<00:18, 18.61it/s]"
     ]
    },
    {
     "name": "stdout",
     "output_type": "stream",
     "text": [
      "Epoch[15], mtid pred loss:162.4534\n"
     ]
    },
    {
     "name": "stderr",
     "output_type": "stream",
     "text": [
      "Training:  30%|█████████████████████▎                                                | 124/407 [00:06<00:12, 22.03it/s]"
     ]
    },
    {
     "name": "stdout",
     "output_type": "stream",
     "text": [
      "Epoch[15], mtid pred loss:171.7738\n"
     ]
    },
    {
     "name": "stderr",
     "output_type": "stream",
     "text": [
      "Training:  45%|███████████████████████████████▎                                      | 182/407 [00:09<00:13, 16.82it/s]"
     ]
    },
    {
     "name": "stdout",
     "output_type": "stream",
     "text": [
      "Epoch[15], mtid pred loss:180.0562\n"
     ]
    },
    {
     "name": "stderr",
     "output_type": "stream",
     "text": [
      "Training:  60%|██████████████████████████████████████████▏                           | 245/407 [00:12<00:07, 21.04it/s]"
     ]
    },
    {
     "name": "stdout",
     "output_type": "stream",
     "text": [
      "Epoch[15], mtid pred loss:169.1302\n"
     ]
    },
    {
     "name": "stderr",
     "output_type": "stream",
     "text": [
      "Training:  74%|████████████████████████████████████████████████████                  | 303/407 [00:15<00:04, 23.83it/s]"
     ]
    },
    {
     "name": "stdout",
     "output_type": "stream",
     "text": [
      "Epoch[15], mtid pred loss:186.3573\n"
     ]
    },
    {
     "name": "stderr",
     "output_type": "stream",
     "text": [
      "Training:  89%|██████████████████████████████████████████████████████████████▍       | 363/407 [00:17<00:01, 23.12it/s]"
     ]
    },
    {
     "name": "stdout",
     "output_type": "stream",
     "text": [
      "Epoch[15], mtid pred loss:176.0994\n"
     ]
    },
    {
     "name": "stderr",
     "output_type": "stream",
     "text": [
      "Training: 100%|██████████████████████████████████████████████████████████████████████| 407/407 [00:19<00:00, 20.61it/s]\n",
      "Training:   1%|▌                                                                       | 3/407 [00:00<00:18, 21.90it/s]"
     ]
    },
    {
     "name": "stdout",
     "output_type": "stream",
     "text": [
      "Epoch[16], mtid pred loss:162.2318\n"
     ]
    },
    {
     "name": "stderr",
     "output_type": "stream",
     "text": [
      "Training:  15%|██████████▊                                                            | 62/407 [00:03<00:15, 22.45it/s]"
     ]
    },
    {
     "name": "stdout",
     "output_type": "stream",
     "text": [
      "Epoch[16], mtid pred loss:180.2435\n"
     ]
    },
    {
     "name": "stderr",
     "output_type": "stream",
     "text": [
      "Training:  31%|█████████████████████▍                                                | 125/407 [00:05<00:12, 23.32it/s]"
     ]
    },
    {
     "name": "stdout",
     "output_type": "stream",
     "text": [
      "Epoch[16], mtid pred loss:178.5240\n"
     ]
    },
    {
     "name": "stderr",
     "output_type": "stream",
     "text": [
      "Training:  45%|███████████████████████████████▎                                      | 182/407 [00:08<00:10, 22.19it/s]"
     ]
    },
    {
     "name": "stdout",
     "output_type": "stream",
     "text": [
      "Epoch[16], mtid pred loss:172.6586\n"
     ]
    },
    {
     "name": "stderr",
     "output_type": "stream",
     "text": [
      "Training:  60%|█████████████████████████████████████████▉                            | 244/407 [00:11<00:07, 21.06it/s]"
     ]
    },
    {
     "name": "stdout",
     "output_type": "stream",
     "text": [
      "Epoch[16], mtid pred loss:160.8578\n"
     ]
    },
    {
     "name": "stderr",
     "output_type": "stream",
     "text": [
      "Training:  75%|████████████████████████████████████████████████████▎                 | 304/407 [00:14<00:04, 22.23it/s]"
     ]
    },
    {
     "name": "stdout",
     "output_type": "stream",
     "text": [
      "Epoch[16], mtid pred loss:180.4276\n"
     ]
    },
    {
     "name": "stderr",
     "output_type": "stream",
     "text": [
      "Training:  90%|██████████████████████████████████████████████████████████████▊       | 365/407 [00:16<00:01, 32.26it/s]"
     ]
    },
    {
     "name": "stdout",
     "output_type": "stream",
     "text": [
      "Epoch[16], mtid pred loss:160.9659\n"
     ]
    },
    {
     "name": "stderr",
     "output_type": "stream",
     "text": [
      "Training: 100%|██████████████████████████████████████████████████████████████████████| 407/407 [00:17<00:00, 22.69it/s]\n",
      "Training:   1%|▋                                                                       | 4/407 [00:00<00:12, 33.10it/s]"
     ]
    },
    {
     "name": "stdout",
     "output_type": "stream",
     "text": [
      "Epoch[17], mtid pred loss:166.9204\n"
     ]
    },
    {
     "name": "stderr",
     "output_type": "stream",
     "text": [
      "Training:  15%|██████████▊                                                            | 62/407 [00:02<00:15, 21.79it/s]"
     ]
    },
    {
     "name": "stdout",
     "output_type": "stream",
     "text": [
      "Epoch[17], mtid pred loss:174.0704\n"
     ]
    },
    {
     "name": "stderr",
     "output_type": "stream",
     "text": [
      "Training:  31%|█████████████████████▍                                                | 125/407 [00:04<00:10, 27.94it/s]"
     ]
    },
    {
     "name": "stdout",
     "output_type": "stream",
     "text": [
      "Epoch[17], mtid pred loss:164.5342\n"
     ]
    },
    {
     "name": "stderr",
     "output_type": "stream",
     "text": [
      "Training:  45%|███████████████████████████████▊                                      | 185/407 [00:07<00:10, 22.09it/s]"
     ]
    },
    {
     "name": "stdout",
     "output_type": "stream",
     "text": [
      "Epoch[17], mtid pred loss:186.2896\n"
     ]
    },
    {
     "name": "stderr",
     "output_type": "stream",
     "text": [
      "Training:  60%|██████████████████████████████████████████▏                           | 245/407 [00:10<00:07, 21.96it/s]"
     ]
    },
    {
     "name": "stdout",
     "output_type": "stream",
     "text": [
      "Epoch[17], mtid pred loss:165.6637\n"
     ]
    },
    {
     "name": "stderr",
     "output_type": "stream",
     "text": [
      "Training:  75%|████████████████████████████████████████████████████▍                 | 305/407 [00:12<00:04, 22.60it/s]"
     ]
    },
    {
     "name": "stdout",
     "output_type": "stream",
     "text": [
      "Epoch[17], mtid pred loss:169.7523\n"
     ]
    },
    {
     "name": "stderr",
     "output_type": "stream",
     "text": [
      "Training:  90%|██████████████████████████████████████████████████████████████▊       | 365/407 [00:15<00:01, 22.81it/s]"
     ]
    },
    {
     "name": "stdout",
     "output_type": "stream",
     "text": [
      "Epoch[17], mtid pred loss:176.5156\n"
     ]
    },
    {
     "name": "stderr",
     "output_type": "stream",
     "text": [
      "Training: 100%|██████████████████████████████████████████████████████████████████████| 407/407 [00:17<00:00, 23.67it/s]\n",
      "Training:   1%|▌                                                                       | 3/407 [00:00<00:15, 25.83it/s]"
     ]
    },
    {
     "name": "stdout",
     "output_type": "stream",
     "text": [
      "Epoch[18], mtid pred loss:171.6324\n"
     ]
    },
    {
     "name": "stderr",
     "output_type": "stream",
     "text": [
      "Training:  16%|███████████▎                                                           | 65/407 [00:02<00:13, 25.96it/s]"
     ]
    },
    {
     "name": "stdout",
     "output_type": "stream",
     "text": [
      "Epoch[18], mtid pred loss:164.0839\n"
     ]
    },
    {
     "name": "stderr",
     "output_type": "stream",
     "text": [
      "Training:  31%|█████████████████████▍                                                | 125/407 [00:04<00:08, 33.51it/s]"
     ]
    },
    {
     "name": "stdout",
     "output_type": "stream",
     "text": [
      "Epoch[18], mtid pred loss:149.1173\n"
     ]
    },
    {
     "name": "stderr",
     "output_type": "stream",
     "text": [
      "Training:  45%|███████████████████████████████▍                                      | 183/407 [00:06<00:08, 25.84it/s]"
     ]
    },
    {
     "name": "stdout",
     "output_type": "stream",
     "text": [
      "Epoch[18], mtid pred loss:163.6913\n"
     ]
    },
    {
     "name": "stderr",
     "output_type": "stream",
     "text": [
      "Training:  60%|█████████████████████████████████████████▊                            | 243/407 [00:08<00:06, 26.57it/s]"
     ]
    },
    {
     "name": "stdout",
     "output_type": "stream",
     "text": [
      "Epoch[18], mtid pred loss:151.4503\n"
     ]
    },
    {
     "name": "stderr",
     "output_type": "stream",
     "text": [
      "Training:  74%|████████████████████████████████████████████████████                  | 303/407 [00:11<00:04, 24.72it/s]"
     ]
    },
    {
     "name": "stdout",
     "output_type": "stream",
     "text": [
      "Epoch[18], mtid pred loss:188.3688\n"
     ]
    },
    {
     "name": "stderr",
     "output_type": "stream",
     "text": [
      "Training:  89%|██████████████████████████████████████████████████████████████▍       | 363/407 [00:13<00:01, 22.50it/s]"
     ]
    },
    {
     "name": "stdout",
     "output_type": "stream",
     "text": [
      "Epoch[18], mtid pred loss:172.5959\n"
     ]
    },
    {
     "name": "stderr",
     "output_type": "stream",
     "text": [
      "Training: 100%|██████████████████████████████████████████████████████████████████████| 407/407 [00:15<00:00, 25.54it/s]\n",
      "Training:   1%|▌                                                                       | 3/407 [00:00<00:17, 23.49it/s]"
     ]
    },
    {
     "name": "stdout",
     "output_type": "stream",
     "text": [
      "Epoch[19], mtid pred loss:157.5873\n"
     ]
    },
    {
     "name": "stderr",
     "output_type": "stream",
     "text": [
      "Training:  15%|██████████▉                                                            | 63/407 [00:02<00:15, 22.38it/s]"
     ]
    },
    {
     "name": "stdout",
     "output_type": "stream",
     "text": [
      "Epoch[19], mtid pred loss:159.7471\n"
     ]
    },
    {
     "name": "stderr",
     "output_type": "stream",
     "text": [
      "Training:  30%|█████████████████████▏                                                | 123/407 [00:05<00:12, 22.58it/s]"
     ]
    },
    {
     "name": "stdout",
     "output_type": "stream",
     "text": [
      "Epoch[19], mtid pred loss:161.3679\n"
     ]
    },
    {
     "name": "stderr",
     "output_type": "stream",
     "text": [
      "Training:  45%|███████████████████████████████▍                                      | 183/407 [00:08<00:10, 21.56it/s]"
     ]
    },
    {
     "name": "stdout",
     "output_type": "stream",
     "text": [
      "Epoch[19], mtid pred loss:142.1443\n"
     ]
    },
    {
     "name": "stderr",
     "output_type": "stream",
     "text": [
      "Training:  59%|█████████████████████████████████████████▌                            | 242/407 [00:11<00:09, 17.18it/s]"
     ]
    },
    {
     "name": "stdout",
     "output_type": "stream",
     "text": [
      "Epoch[19], mtid pred loss:145.7047\n"
     ]
    },
    {
     "name": "stderr",
     "output_type": "stream",
     "text": [
      "Training:  75%|████████████████████████████████████████████████████▎                 | 304/407 [00:13<00:04, 24.20it/s]"
     ]
    },
    {
     "name": "stdout",
     "output_type": "stream",
     "text": [
      "Epoch[19], mtid pred loss:160.7901\n"
     ]
    },
    {
     "name": "stderr",
     "output_type": "stream",
     "text": [
      "Training:  89%|██████████████████████████████████████████████████████████████▌       | 364/407 [00:16<00:01, 22.54it/s]"
     ]
    },
    {
     "name": "stdout",
     "output_type": "stream",
     "text": [
      "Epoch[19], mtid pred loss:141.3737\n"
     ]
    },
    {
     "name": "stderr",
     "output_type": "stream",
     "text": [
      "Training: 100%|██████████████████████████████████████████████████████████████████████| 407/407 [00:18<00:00, 22.43it/s]\n",
      "Training:   1%|▌                                                                       | 3/407 [00:00<00:16, 23.79it/s]"
     ]
    },
    {
     "name": "stdout",
     "output_type": "stream",
     "text": [
      "Epoch[20], mtid pred loss:160.2362\n"
     ]
    },
    {
     "name": "stderr",
     "output_type": "stream",
     "text": [
      "Training:  15%|██████████▉                                                            | 63/407 [00:02<00:15, 22.84it/s]"
     ]
    },
    {
     "name": "stdout",
     "output_type": "stream",
     "text": [
      "Epoch[20], mtid pred loss:148.8258\n"
     ]
    },
    {
     "name": "stderr",
     "output_type": "stream",
     "text": [
      "Training:  30%|█████████████████████▏                                                | 123/407 [00:05<00:12, 22.73it/s]"
     ]
    },
    {
     "name": "stdout",
     "output_type": "stream",
     "text": [
      "Epoch[20], mtid pred loss:161.9285\n"
     ]
    },
    {
     "name": "stderr",
     "output_type": "stream",
     "text": [
      "Training:  45%|███████████████████████████████▍                                      | 183/407 [00:08<00:10, 22.06it/s]"
     ]
    },
    {
     "name": "stdout",
     "output_type": "stream",
     "text": [
      "Epoch[20], mtid pred loss:173.5473\n"
     ]
    },
    {
     "name": "stderr",
     "output_type": "stream",
     "text": [
      "Training:  60%|█████████████████████████████████████████▊                            | 243/407 [00:10<00:07, 23.07it/s]"
     ]
    },
    {
     "name": "stdout",
     "output_type": "stream",
     "text": [
      "Epoch[20], mtid pred loss:148.6001\n"
     ]
    },
    {
     "name": "stderr",
     "output_type": "stream",
     "text": [
      "Training:  74%|████████████████████████████████████████████████████                  | 303/407 [00:13<00:04, 21.36it/s]"
     ]
    },
    {
     "name": "stdout",
     "output_type": "stream",
     "text": [
      "Epoch[20], mtid pred loss:147.4762\n"
     ]
    },
    {
     "name": "stderr",
     "output_type": "stream",
     "text": [
      "Training:  89%|██████████████████████████████████████████████████████████████▍       | 363/407 [00:16<00:02, 21.48it/s]"
     ]
    },
    {
     "name": "stdout",
     "output_type": "stream",
     "text": [
      "Epoch[20], mtid pred loss:151.7276\n"
     ]
    },
    {
     "name": "stderr",
     "output_type": "stream",
     "text": [
      "Training: 100%|██████████████████████████████████████████████████████████████████████| 407/407 [00:18<00:00, 22.54it/s]\n",
      "Training:   1%|▌                                                                       | 3/407 [00:00<00:14, 27.98it/s]"
     ]
    },
    {
     "name": "stdout",
     "output_type": "stream",
     "text": [
      "Epoch[21], mtid pred loss:139.9063\n"
     ]
    },
    {
     "name": "stderr",
     "output_type": "stream",
     "text": [
      "Training:  15%|██████████▉                                                            | 63/407 [00:02<00:15, 22.46it/s]"
     ]
    },
    {
     "name": "stdout",
     "output_type": "stream",
     "text": [
      "Epoch[21], mtid pred loss:156.4855\n"
     ]
    },
    {
     "name": "stderr",
     "output_type": "stream",
     "text": [
      "Training:  30%|█████████████████████▏                                                | 123/407 [00:05<00:12, 23.07it/s]"
     ]
    },
    {
     "name": "stdout",
     "output_type": "stream",
     "text": [
      "Epoch[21], mtid pred loss:145.2386\n"
     ]
    },
    {
     "name": "stderr",
     "output_type": "stream",
     "text": [
      "Training:  45%|███████████████████████████████▍                                      | 183/407 [00:08<00:10, 21.50it/s]"
     ]
    },
    {
     "name": "stdout",
     "output_type": "stream",
     "text": [
      "Epoch[21], mtid pred loss:150.8881\n"
     ]
    },
    {
     "name": "stderr",
     "output_type": "stream",
     "text": [
      "Training:  60%|█████████████████████████████████████████▊                            | 243/407 [00:10<00:07, 22.61it/s]"
     ]
    },
    {
     "name": "stdout",
     "output_type": "stream",
     "text": [
      "Epoch[21], mtid pred loss:154.4847\n"
     ]
    },
    {
     "name": "stderr",
     "output_type": "stream",
     "text": [
      "Training:  74%|████████████████████████████████████████████████████                  | 303/407 [00:13<00:04, 23.17it/s]"
     ]
    },
    {
     "name": "stdout",
     "output_type": "stream",
     "text": [
      "Epoch[21], mtid pred loss:165.4906\n"
     ]
    },
    {
     "name": "stderr",
     "output_type": "stream",
     "text": [
      "Training:  89%|██████████████████████████████████████████████████████████████▍       | 363/407 [00:16<00:02, 21.69it/s]"
     ]
    },
    {
     "name": "stdout",
     "output_type": "stream",
     "text": [
      "Epoch[21], mtid pred loss:150.9193\n"
     ]
    },
    {
     "name": "stderr",
     "output_type": "stream",
     "text": [
      "Training: 100%|██████████████████████████████████████████████████████████████████████| 407/407 [00:18<00:00, 22.59it/s]\n",
      "Training:   1%|▌                                                                       | 3/407 [00:00<00:15, 26.83it/s]"
     ]
    },
    {
     "name": "stdout",
     "output_type": "stream",
     "text": [
      "Epoch[22], mtid pred loss:164.0660\n"
     ]
    },
    {
     "name": "stderr",
     "output_type": "stream",
     "text": [
      "Training:  15%|██████████▉                                                            | 63/407 [00:02<00:14, 23.11it/s]"
     ]
    },
    {
     "name": "stdout",
     "output_type": "stream",
     "text": [
      "Epoch[22], mtid pred loss:144.2420\n"
     ]
    },
    {
     "name": "stderr",
     "output_type": "stream",
     "text": [
      "Training:  30%|█████████████████████▏                                                | 123/407 [00:05<00:12, 22.58it/s]"
     ]
    },
    {
     "name": "stdout",
     "output_type": "stream",
     "text": [
      "Epoch[22], mtid pred loss:151.0411\n"
     ]
    },
    {
     "name": "stderr",
     "output_type": "stream",
     "text": [
      "Training:  45%|███████████████████████████████▍                                      | 183/407 [00:08<00:10, 21.78it/s]"
     ]
    },
    {
     "name": "stdout",
     "output_type": "stream",
     "text": [
      "Epoch[22], mtid pred loss:145.0997\n"
     ]
    },
    {
     "name": "stderr",
     "output_type": "stream",
     "text": [
      "Training:  60%|█████████████████████████████████████████▊                            | 243/407 [00:10<00:07, 21.50it/s]"
     ]
    },
    {
     "name": "stdout",
     "output_type": "stream",
     "text": [
      "Epoch[22], mtid pred loss:149.7032\n"
     ]
    },
    {
     "name": "stderr",
     "output_type": "stream",
     "text": [
      "Training:  75%|████████████████████████████████████████████████████▋                 | 306/407 [00:13<00:04, 23.76it/s]"
     ]
    },
    {
     "name": "stdout",
     "output_type": "stream",
     "text": [
      "Epoch[22], mtid pred loss:158.1978\n"
     ]
    },
    {
     "name": "stderr",
     "output_type": "stream",
     "text": [
      "Training:  89%|██████████████████████████████████████████████████████████████▎       | 362/407 [00:15<00:01, 23.97it/s]"
     ]
    },
    {
     "name": "stdout",
     "output_type": "stream",
     "text": [
      "Epoch[22], mtid pred loss:157.0493\n"
     ]
    },
    {
     "name": "stderr",
     "output_type": "stream",
     "text": [
      "Training: 100%|██████████████████████████████████████████████████████████████████████| 407/407 [00:17<00:00, 23.17it/s]\n"
     ]
    },
    {
     "name": "stdout",
     "output_type": "stream",
     "text": [
      "============== END TRAINING ==============\n"
     ]
    }
   ],
   "source": [
    "history1 = []\n",
    "for epoch_id in range(configs[\"fit\"][\"epochs\"]):\n",
    "    # ---------------------------\n",
    "    # -----------TRAIN-----------\n",
    "    # ---------------------------\n",
    "    model.train()\n",
    "    for x_idx, (x_wav, y_label, _) in enumerate(tqdm(train_loader, desc=\"Training\")):\n",
    "        x_mel = w2m(x_wav).transpose(1,2).unsqueeze(1).to(device)\n",
    "        y_label = torch.tensor(y_label, device=device)\n",
    "        # print(\"shape of x_mel:\", x_mel.shape)\n",
    "        optimizer.zero_grad()\n",
    "        recon_mel, _, mean_latent, logvar_latent = model(x=x_mel)\n",
    "        # recon_loss = self.recon_loss(recon_spec, x_mel)\n",
    "        pred_loss = vae_loss(x_mel, recon_mel, mean_latent, logvar_latent)\n",
    "        pred_loss.backward()\n",
    "        optimizer.step()\n",
    "\n",
    "        if x_idx > 2:\n",
    "            history1.append(pred_loss.item())\n",
    "        if x_idx % 60 == 0:\n",
    "            print(f\"Epoch[{epoch_id}], mtid pred loss:{pred_loss.item():.4f}\")\n",
    "    if epoch_id >= configs[\"fit\"][\"start_scheduler_epoch\"]:\n",
    "        scheduler.step()\n",
    "\n",
    "    # ---------------------------\n",
    "    # -----------SAVE------------\n",
    "    # ---------------------------\n",
    "    plt.figure(0)\n",
    "    plt.plot(range(len(history1)), history1, c=\"green\", alpha=0.7)\n",
    "    plt.savefig(run_save_dir + f'cls_loss_iter_{epoch_id}.png')\n",
    "    plt.close()\n",
    "    # if epoch > 6 and epoch % 2 == 0:\n",
    "    os.makedirs(run_save_dir + f\"model_epoch_{epoch_id}/\", exist_ok=True)\n",
    "    tmp_model_path = \"{model}model_{epoch}.pth\".format(\n",
    "        model=run_save_dir + f\"model_epoch_{epoch_id}/\",\n",
    "        epoch=epoch_id)\n",
    "    torch.save(model.state_dict(), tmp_model_path)\n",
    "    # ---------------------------\n",
    "    # -----------TEST------------\n",
    "    # ---------------------------\n",
    "    # model.eval()\n",
    "    # heatmap_input = None\n",
    "    # labels = None\n",
    "    # for x_idx, (x_wav, y_label, _) in enumerate(tqdm(valid_loader, desc=\"Validate\")):\n",
    "    #     x_mel = w2m(x_wav).transpose(1,2).unsqueeze(1).to(device)\n",
    "    #     y_label = torch.tensor(y_label, device=device)\n",
    "    #     recon_mel, _, mean_latent, logvar_latent = model(x=x_mel)\n",
    "    #     # recon_loss = self.recon_loss(recon_spec, x_mel)\n",
    "    #     pred_loss = vae_loss(x_mel, recon_mel, mean_latent, logvar_latent)\n",
    "    #     if x_idx == 0:\n",
    "    #         heatmap_input, labels = y_pred, y_label\n",
    "    #     else:\n",
    "    #         heatmap_input = torch.concat((heatmap_input, y_pred), dim=0)\n",
    "    #         labels = torch.concat((labels, y_label), dim=0)\n",
    "    #     # if x_idx * configs[\"fit\"][\"batch_size\"] > 800:\n",
    "    #     #     break\n",
    "    # print(\"heatmap_input shape:\", heatmap_input.shape)\n",
    "    # print(\"lables shape:\", labels.shape)\n",
    "    # # if epoch > 3:\n",
    "    # #     self.plot_reduction(resume_path=\"\", load_epoch=epoch, reducers=[\"heatmap\"])\n",
    "    # heatmap_input = heatmap_input.detach().cpu().numpy()\n",
    "    # labels = labels.detach().cpu().numpy()\n",
    "    # calc_accuracy(pred_matrix=heatmap_input, label_vec=labels,\n",
    "    #               save_path=run_save_dir + f\"/accuracy_epoch_{epoch_id}.txt\")\n",
    "    # plot_heatmap(pred_matrix=heatmap_input, label_vec=labels,\n",
    "    #              ticks=[\"healthy\", \"symptomatic\", \"COVID-19\"],\n",
    "    #              save_path=run_save_dir + f\"/heatmap_epoch_{epoch_id}.png\")\n",
    "print(\"============== END TRAINING ==============\")"
   ]
  },
  {
   "cell_type": "markdown",
   "id": "d3026c34-9b89-4886-8e89-37ffc52bda1d",
   "metadata": {},
   "source": [
    "# End"
   ]
  }
 ],
 "metadata": {
  "kernelspec": {
   "display_name": "Python 3 (ipykernel)",
   "language": "python",
   "name": "python3"
  },
  "language_info": {
   "codemirror_mode": {
    "name": "ipython",
    "version": 3
   },
   "file_extension": ".py",
   "mimetype": "text/x-python",
   "name": "python",
   "nbconvert_exporter": "python",
   "pygments_lexer": "ipython3",
   "version": "3.8.5"
  }
 },
 "nbformat": 4,
 "nbformat_minor": 5
}
