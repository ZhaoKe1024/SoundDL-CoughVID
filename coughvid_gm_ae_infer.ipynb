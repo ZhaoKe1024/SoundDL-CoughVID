{
 "cells": [
  {
   "cell_type": "code",
   "execution_count": null,
   "id": "4969513c-e213-4a2f-8b8c-0c6257cf86cb",
   "metadata": {},
   "outputs": [],
   "source": [
    "from models.conv_vae import ConvVAE\n",
    "from readers.coughvid_reader import CoughVID_Dataset\n",
    "from readers.featurizer import Wave2Mel\n",
    "from tools.utils import load_ckpt"
   ]
  },
  {
   "cell_type": "code",
   "execution_count": null,
   "id": "24943c1b-47d9-492d-a854-4bf8698ecf9b",
   "metadata": {},
   "outputs": [],
   "source": [
    "# 测试集读取和测试"
   ]
  },
  {
   "cell_type": "code",
   "execution_count": null,
   "id": "a90fd006-1e82-4826-ba58-c3fcd65f60a0",
   "metadata": {},
   "outputs": [],
   "source": [
    "tep, tel = CoughVID_Lists(filename=\"./datasets/waveinfo_annotation.csv\", istrain=False, isdemo=False)\n",
    "print(len(tep), len(tel))"
   ]
  },
  {
   "cell_type": "code",
   "execution_count": null,
   "id": "fc2c1201-f18b-45d5-b112-d5e181f450ca",
   "metadata": {},
   "outputs": [],
   "source": [
    "tic = time.time()\n",
    "test_dataset = CoughVID_Dataset(path_list=tep, label_list=tel)\n",
    "toc = time.time()\n",
    "print(\"Test Dataset Creat Completely, cost time:\", toc-tic)"
   ]
  },
  {
   "cell_type": "code",
   "execution_count": null,
   "id": "28105409-dd59-4e95-a30c-ab50a37450f5",
   "metadata": {},
   "outputs": [],
   "source": []
  }
 ],
 "metadata": {
  "kernelspec": {
   "display_name": "Python 3 (ipykernel)",
   "language": "python",
   "name": "python3"
  },
  "language_info": {
   "codemirror_mode": {
    "name": "ipython",
    "version": 3
   },
   "file_extension": ".py",
   "mimetype": "text/x-python",
   "name": "python",
   "nbconvert_exporter": "python",
   "pygments_lexer": "ipython3",
   "version": "3.8.5"
  }
 },
 "nbformat": 4,
 "nbformat_minor": 5
}
