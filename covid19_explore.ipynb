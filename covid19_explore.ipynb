{
 "cells": [
  {
   "cell_type": "code",
   "execution_count": null,
   "id": "6271fb01-b714-4dae-b953-30e615a9ccae",
   "metadata": {},
   "outputs": [],
   "source": [
    "import os\n",
    "import numpy as np\n",
    "import pandas as pd\n",
    "from tqdm import tqdm\n",
    "import soundfile\n",
    "# root_path = \"F:/DATAS/covid-19-main/dataset-main/\"\n",
    "# metafilename = \"metadata.json\"\n",
    "df_f = pd.read_pickle(\"F:/DATAS/covid-19-main/dataset-main/covid19_split_balancevalid_df.pkl\")\n",
    "#df_f = pd.read_json(root_path + metafilename)"
   ]
  },
  {
   "cell_type": "markdown",
   "id": "7211b4fb-d425-4a56-8347-078041e5703f",
   "metadata": {},
   "source": [
    "# 随机地抽取出100正100负样本"
   ]
  },
  {
   "cell_type": "code",
   "execution_count": null,
   "id": "e0a78d2e-2328-4e12-891b-f8d9bb9d86bd",
   "metadata": {},
   "outputs": [],
   "source": [
    "import random\n",
    "neg_list = list(range(100)) + list(range(200, 1109))\n",
    "pos_list = list(range(100, 200)) + list(range(1109, 2733))\n",
    "random.shuffle(neg_list)\n",
    "random.shuffle(pos_list)\n",
    "valid_list = neg_list[:100] + pos_list[:100]\n",
    "train_list = neg_list[100:] + pos_list[100:]\n",
    "train_df = self.us8k_df.iloc[train_list, :]\n",
    "valid_df = self.us8k_df.iloc[valid_list, :]"
   ]
  },
  {
   "cell_type": "markdown",
   "id": "030cbe39-1293-425b-8ab8-781842f46ce4",
   "metadata": {},
   "source": [
    "# The metadata.json file contains a description of samples using the following fields:\n",
    "\r",
    "1. filename - name of the file which is in the directory raw\r",
    "2. \n",
    "start_at - the beginning of an induced cough, se\n",
    "3. \r\n",
    "end_at - end of induced cough, s\n",
    "4. c\r\n",
    "verified - record verified (optional fie\n",
    "5. d)\r\n",
    "asymptomatic - asymptomatic (optional fi\n",
    "6. ld)\r\n",
    "comment - co\n",
    "7. ment\r\n",
    "covid19 - feature of existing C  \n",
    "8. VID19\r\n",
    "source - source of seedf seed"
   ]
  },
  {
   "cell_type": "code",
   "execution_count": null,
   "id": "10c1eb8f-a8a8-4722-af57-d9bf9dd29252",
   "metadata": {},
   "outputs": [],
   "source": [
    "\n",
    "df_f = pd.read_json(root_path + metafilename)\n",
    "# df_f[\"asymptomatic\"] = df_f[\"asymptomatic\"].fillna(2)\n",
    "df_f"
   ]
  },
  {
   "cell_type": "code",
   "execution_count": null,
   "id": "f9c0ec7d-3ffb-4b61-a3fe-dea3403d7985",
   "metadata": {},
   "outputs": [],
   "source": [
    "# df_f = df_f.dropna(subset=[\"verified\"])\n",
    "print(\"--> shape:\", df_f.shape)  # 1324 7\n",
    "print(df_f.groupby(\"verified\")[\"filename\"].count())  # sum to 1120\n",
    "print(df_f.groupby(\"asymptomatic\")[\"filename\"].count())  # sum to 674\n",
    "print(df_f.groupby(\"covid19\")[\"filename\"].count())  # sum to 1324\n",
    "print(df_f.groupby(\"source\")[\"filename\"].count())  # sum to 1324\n",
    "print(df_f.groupby(\"kind\")[\"filename\"].count())  # sum to 204"
   ]
  },
  {
   "cell_type": "markdown",
   "id": "6a323ac6-4740-4d7b-9cfa-3e1115187c74",
   "metadata": {},
   "source": [
    "# 计算每个音频的时长然后保存csv"
   ]
  },
  {
   "cell_type": "code",
   "execution_count": null,
   "id": "78889a38-8fb8-4d56-a2fe-5179e54132f0",
   "metadata": {},
   "outputs": [],
   "source": [
    "dura_list = []\n",
    "\n",
    "# for idx, row in tqdm(enumerate(df_f.iterrows()), total=len(df_f)):\n",
    "for idx, row in tqdm(enumerate(df_f.itertuples()), total=len(df_f)):\n",
    "    # print(idx, row)\n",
    "    fname = root_path + \"raw/\" +getattr(row, \"filename\")\n",
    "    try:\n",
    "        samples, sample_rate = soundfile.read(fname, dtype='float32')\n",
    "        duration = samples.shape[0] / float(sample_rate)\n",
    "        print(sample_rate, end=', ')\n",
    "        dura_list.append(duration)\n",
    "    except Exception as e:\n",
    "        print(e)\n",
    "        print(fname)\n",
    "        dura_list.append(99999)\n",
    "print(dura_list)"
   ]
  },
  {
   "cell_type": "code",
   "execution_count": null,
   "id": "f86c2c5d-6364-4760-b8ac-d2ede589df2f",
   "metadata": {},
   "outputs": [],
   "source": [
    "len(dura_list)"
   ]
  },
  {
   "cell_type": "code",
   "execution_count": null,
   "id": "3ee0f5a6-11ad-4abd-806d-468e685329aa",
   "metadata": {},
   "outputs": [],
   "source": [
    "df_f[\"dura\"] = dura_list\n",
    "df_f.to_csv(\"F:/DATAS/covid-19-main/dataset-main/covid19-cough_metadata.csv\", sep=',')"
   ]
  },
  {
   "cell_type": "markdown",
   "id": "e745c465-0578-4a66-b0f2-e2b99c82bf21",
   "metadata": {},
   "source": [
    "# 切分音频然后保存csv"
   ]
  },
  {
   "cell_type": "code",
   "execution_count": null,
   "id": "7f6d8840-249f-4e2b-9b9c-5cc0f0e9ffa0",
   "metadata": {},
   "outputs": [],
   "source": [
    "import os\n",
    "import numpy as np\n",
    "import pandas as pd\n",
    "from tqdm import tqdm\n",
    "import soundfile\n",
    "root_path = \"F:/DATAS/covid-19-main/dataset-main/\"\n",
    "metafilename = \"metadata.json\"\n",
    "df_f = pd.read_json(root_path + metafilename)\n",
    "m2l = {True:0, False:1}\n",
    "df_f[\"covid19\"] = df_f[\"covid19\"].apply(lambda x:m2l[x])\n",
    "print(df_f)\n",
    "print(df_f.groupby(\"covid19\")[\"filename\"].count())  # sum to 1324"
   ]
  },
  {
   "cell_type": "code",
   "execution_count": null,
   "id": "8a8a5cc1-97bd-48e2-b2b7-4daee8b23260",
   "metadata": {},
   "outputs": [],
   "source": [
    "import librosa\n",
    "def segment_cough(x,fs, cough_padding=0.2,min_cough_len=0.2, th_l_multiplier = 0.1, th_h_multiplier = 2):\n",
    "    #Preprocess the data by segmenting each file into individual coughs using a hysteresis comparator on the signal power                \n",
    "    cough_mask = np.array([False]*len(x))\n",
    "    \n",
    "    #Define hysteresis thresholds\n",
    "    rms = np.sqrt(np.mean(np.square(x)))\n",
    "    seg_th_l = th_l_multiplier * rms\n",
    "    seg_th_h =  th_h_multiplier*rms\n",
    "\n",
    "    #Segment coughs\n",
    "    coughSegments = []\n",
    "    padding = round(fs*cough_padding)\n",
    "    min_cough_samples = round(fs*min_cough_len)\n",
    "    cough_start = 0\n",
    "    cough_end = 0\n",
    "    cough_in_progress = False\n",
    "    tolerance = round(0.01*fs)\n",
    "    below_th_counter = 0\n",
    "    \n",
    "    for i, sample in enumerate(x**2):\n",
    "        if cough_in_progress:\n",
    "            if sample<seg_th_l:\n",
    "                below_th_counter += 1\n",
    "                if below_th_counter > tolerance:\n",
    "                    cough_end = i+padding if (i+padding < len(x)) else len(x)-1\n",
    "                    cough_in_progress = False\n",
    "                    if (cough_end+1-cough_start-2*padding>min_cough_samples):\n",
    "                        coughSegments.append(x[cough_start:cough_end+1])\n",
    "                        cough_mask[cough_start:cough_end+1] = True\n",
    "            elif i == (len(x)-1):\n",
    "                cough_end=i\n",
    "                cough_in_progress = False\n",
    "                if (cough_end+1-cough_start-2*padding>min_cough_samples):\n",
    "                    coughSegments.append(x[cough_start:cough_end+1])\n",
    "            else:\n",
    "                below_th_counter = 0\n",
    "        else:\n",
    "            if sample>seg_th_h:\n",
    "                cough_start = i-padding if (i-padding >=0) else 0\n",
    "                cough_in_progress = True\n",
    "    \n",
    "    return coughSegments, cough_mask"
   ]
  },
  {
   "cell_type": "code",
   "execution_count": null,
   "id": "ff5d5927-6532-48ba-a0ff-7f6f316eda6f",
   "metadata": {},
   "outputs": [],
   "source": [
    "HOP_LENGTH = 512        # number of samples between successive frames\n",
    "WINDOW_LENGTH = 512     # length of the window in samples\n",
    "N_MEL = 128             # number of Mel bands to generate\n",
    "\n",
    "\n",
    "def compute_melspectrogram_with_fixed_length(audio, sampling_rate, num_of_samples=128):\n",
    "    try:\n",
    "        # compute a mel-scaled spectrogram\n",
    "        melspectrogram = librosa.feature.melspectrogram(y=audio, \n",
    "                                                        sr=sampling_rate, \n",
    "                                                        hop_length=HOP_LENGTH,\n",
    "                                                        win_length=WINDOW_LENGTH, \n",
    "                                                        n_mels=N_MEL)\n",
    "\n",
    "        # convert a power spectrogram to decibel units (log-mel spectrogram)\n",
    "        melspectrogram_db = librosa.power_to_db(melspectrogram, ref=np.max)\n",
    "        \n",
    "        melspectrogram_length = melspectrogram_db.shape[1]\n",
    "        \n",
    "        # # pad or fix the length of spectrogram \n",
    "        # if melspectrogram_length != num_of_samples:\n",
    "        #     melspectrogram_db = librosa.util.fix_length(melspectrogram_db, \n",
    "        #                                                 size=num_of_samples, \n",
    "        #                                                 axis=1, \n",
    "        #                                                 constant_values=(0, -80.0))\n",
    "    except Exception as e:\n",
    "        print(\"\\nError encountered while parsing files\\n>>\", e)\n",
    "        return None \n",
    "    \n",
    "    return melspectrogram_db"
   ]
  },
  {
   "cell_type": "markdown",
   "id": "f69910a1-d0c1-4d8d-a467-d1f010f4a9e6",
   "metadata": {},
   "source": [
    "## 切分咳嗽数据并复制标签"
   ]
  },
  {
   "cell_type": "code",
   "execution_count": null,
   "id": "1ad7a8db-e287-46c0-80f8-9ae474bda105",
   "metadata": {},
   "outputs": [],
   "source": [
    "audio_length = 32306\n",
    "# sample_rate = 22050\n",
    "all_data = []\n",
    "all_fname = []\n",
    "all_sr = []\n",
    "all_labels = []\n",
    "new_df = df_f\n",
    "maxi, mini = 0, 999999\n",
    "for idx, row in tqdm(enumerate(df_f.itertuples()), total=len(df_f)):\n",
    "    fname = root_path + \"raw/\" +getattr(row, \"filename\")\n",
    "    label = getattr(row, \"covid19\")\n",
    "    # load sound sample\n",
    "    try:\n",
    "        audio, sample_rate = librosa.load(fname, mono=True)\n",
    "    except Exception as e:\n",
    "        # print(e)\n",
    "        print(\"Error file:\", fname)\n",
    "        continue\n",
    "    maxi = max(maxi, audio.shape[0]/sample_rate)\n",
    "    mini = min(mini, audio.shape[0]/sample_rate)\n",
    "    # Segment each audio into individual coughs using a hysteresis comparator on the signal power\n",
    "    cough_segments, cough_mask = segment_cough(audio, sample_rate, min_cough_len=0.1, cough_padding=0.1, th_l_multiplier = 0.1, th_h_multiplier = 2)\n",
    "\n",
    "    # For each segment, resize to the same length(11025)\n",
    "    if len(cough_segments) > 0 :\n",
    "        i = 0\n",
    "        for audio in cough_segments:\n",
    "            i+=1\n",
    "            if len(audio) > 8000:\n",
    "                if len(audio) < audio_length:\n",
    "                    audio_pad = librosa.util.pad_center(data=audio, size=audio_length)\n",
    "                else:\n",
    "                    audio_pad = audio[:audio_length]\n",
    "                # audio_pad = audio\n",
    "\n",
    "            # feature = extract_features(audio_pad, sample_rate)\n",
    "            #print(len(feature))\n",
    "            # all_data.append(feature)\n",
    "            all_data.append(audio_pad)\n",
    "            all_fname.append(fname)\n",
    "            all_labels.append(label)\n",
    "            all_sr.append(sample_rate)\n",
    "            new_df = pd.concat([new_df, df_f.iloc[[idx], :]], axis=0)\n",
    "new_df = new_df.iloc[len(df_f):, :]"
   ]
  },
  {
   "cell_type": "code",
   "execution_count": null,
   "id": "70164734-6d96-4982-b27b-c5ba21b93331",
   "metadata": {},
   "outputs": [],
   "source": [
    "print(maxi, mini)\n",
    "print(len(new_df))\n",
    "print(len(all_data))\n",
    "print(max([item.shape[0] for item in all_data]))"
   ]
  },
  {
   "cell_type": "markdown",
   "id": "8b0befe8-93b1-4c96-bf58-e88a9376e235",
   "metadata": {},
   "source": [
    "# fold标签的生成\n",
    "- 这里不再随机了，而是根据label的0 和 1 分为两份，然后按照数目较少的一组进行双指针分配。\n",
    "- 这么做不行：设置一个计数器，保证每个fold里面的正负标签数目一致，然后最终选0号fold作为测试集。因为政府并不均衡。"
   ]
  },
  {
   "cell_type": "code",
   "execution_count": null,
   "id": "2d6a5295-cc0b-4a85-a582-84772a8494ab",
   "metadata": {},
   "outputs": [],
   "source": [
    "# melspects = []\n",
    "# import random\n",
    "features_1 = []\n",
    "features_2 = []\n",
    "# \n",
    "for i in tqdm(range(len(all_data)),desc=\"calc..\"):\n",
    "    melspect = compute_melspectrogram_with_fixed_length(all_data[i], all_sr[i])\n",
    "    # print(melspec.shape)\n",
    "    # melspects.append(melspect)\n",
    "    # print(neg_idx, pos_idx)\n",
    "    if all_labels[i] == 0:\n",
    "        features_1.append([melspect, 0])\n",
    "    else:\n",
    "        features_2.append([melspect, 1])"
   ]
  },
  {
   "cell_type": "code",
   "execution_count": null,
   "id": "cb42c3b4-b280-4ae7-9c71-a8605ca4c949",
   "metadata": {},
   "outputs": [],
   "source": [
    "print(len(features_1), len(features_2))\n",
    "# 2733 "
   ]
  },
  {
   "cell_type": "code",
   "execution_count": null,
   "id": "9c5864f0-7327-4fa7-bb50-12d83393354d",
   "metadata": {},
   "outputs": [],
   "source": [
    "features = []\n",
    "fold1 = []\n",
    "fold2 = []\n",
    "for i in range(len(features_1)):\n",
    "    if i < 100:\n",
    "        fold1.append([features_1[i][0], features_1[i][1], 0])\n",
    "    else:\n",
    "        fold2.append([features_1[i][0], features_1[i][1], random.randint(1, 9)])\n",
    "        \n",
    "import random\n",
    "for i in range(len(features_2)):\n",
    "    if i < 100:\n",
    "        fold1.append([features_2[i][0], features_2[i][1], 0])\n",
    "    else:\n",
    "        fold2.append([features_2[i][0], features_2[i][1], random.randint(1, 9)])\n",
    "for j, item in enumerate(fold1):\n",
    "    print(j, item[0].shape, item[1], item[2])\n",
    "for j, item in enumerate(fold2):\n",
    "    print(j, item[0].shape, item[1], item[2])"
   ]
  },
  {
   "cell_type": "code",
   "execution_count": null,
   "id": "b7bc17c2-43bd-45d6-9e92-1e6df0294728",
   "metadata": {},
   "outputs": [],
   "source": [
    "features = []\n",
    "features.extend(fold1)\n",
    "features.extend(fold2)"
   ]
  },
  {
   "cell_type": "code",
   "execution_count": null,
   "id": "f06a9c46-3513-404d-93bd-c0be3149be17",
   "metadata": {},
   "outputs": [],
   "source": [
    "us8k_df = pd.DataFrame(features, columns=[\"melspectrogram\", \"label\", \"fold\"])\n",
    "us8k_df.to_pickle(root_path+\"covid19_split_balancevalid_df.pkl\")"
   ]
  },
  {
   "cell_type": "code",
   "execution_count": null,
   "id": "7203b581-1837-4c9e-894d-795d2bca5b66",
   "metadata": {},
   "outputs": [],
   "source": [
    "train_df = us8k_df[us8k_df['fold'] != 0]\n",
    "valid_df = us8k_df[us8k_df['fold'] == 0]"
   ]
  },
  {
   "cell_type": "code",
   "execution_count": null,
   "id": "37b0b63b-81bd-4bce-bcfc-0363bc7c2a5a",
   "metadata": {},
   "outputs": [],
   "source": [
    "valid_df"
   ]
  },
  {
   "cell_type": "code",
   "execution_count": null,
   "id": "e7506584-0132-4024-a617-8ffdb9d190d4",
   "metadata": {},
   "outputs": [],
   "source": [
    "new_df[\"filename\"] = new_fnames\n",
    "new_df.to_csv(root_path+\"covid19_split_df.csv\", sep=',')"
   ]
  },
  {
   "cell_type": "markdown",
   "id": "9687e401-b0e3-4fdd-b353-419c11c9fe6b",
   "metadata": {},
   "source": [
    "# test pkl"
   ]
  },
  {
   "cell_type": "code",
   "execution_count": null,
   "id": "e9eb6eff-c651-4398-bf78-71e9940d582e",
   "metadata": {},
   "outputs": [],
   "source": [
    "import pandas as pd\n",
    "df = pd.read_pickle(\"F:/DATAS/covid-19-main/dataset-main/covid19_split_df.pkl\")"
   ]
  },
  {
   "cell_type": "code",
   "execution_count": null,
   "id": "5d953c0e-1adc-4f13-b62d-3d4ae3d825a4",
   "metadata": {},
   "outputs": [],
   "source": [
    "print(df.groupby(\"label\")[\"melspectrogram\"].count())"
   ]
  },
  {
   "cell_type": "code",
   "execution_count": null,
   "id": "f4db59a8-e18a-4ba1-a972-664fa060a2e4",
   "metadata": {},
   "outputs": [],
   "source": []
  },
  {
   "cell_type": "code",
   "execution_count": null,
   "id": "29be402c-127a-466d-b998-36ab8bf9e3e0",
   "metadata": {},
   "outputs": [],
   "source": [
    "for item in df.itertuples():\n",
    "    print(getattr(item, \"melspectrogram\").shape)"
   ]
  },
  {
   "cell_type": "code",
   "execution_count": null,
   "id": "b9f1d4de-14e9-4548-b157-dc36d0e9ef98",
   "metadata": {},
   "outputs": [],
   "source": []
  },
  {
   "cell_type": "markdown",
   "id": "6d5f105a-8e77-4929-997b-1d27d2c6402e",
   "metadata": {},
   "source": [
    "# End"
   ]
  },
  {
   "cell_type": "code",
   "execution_count": null,
   "id": "ac8cd90d-46b7-4946-932a-cf49152c2c9f",
   "metadata": {},
   "outputs": [],
   "source": [
    "import numpy as np\n",
    "mini, maxi = np.floor(min(dura_list)), np.ceil(max(dura_list))\n",
    "print(mini, maxi)\n",
    "L = maxi - mini\n",
    "cnt = [0] * int(L)\n",
    "for item in dura_list:\n",
    "    cnt[int(item)] += 1\n",
    "print(cnt)"
   ]
  },
  {
   "cell_type": "code",
   "execution_count": null,
   "id": "11698a9a-4974-424c-b145-6a9f1f0e1864",
   "metadata": {},
   "outputs": [],
   "source": [
    "import matplotlib.pyplot as plt\n",
    "plt.hist(cnt, bins=30, color='skyblue', alpha=0.8)\n",
    "\n",
    "# 设置图表属性\n",
    "plt.title('RUNOOB hist() Test')\n",
    "plt.xlabel('Value')\n",
    "plt.ylabel('Frequency')\n",
    "\n",
    "# 显示图表\n",
    "plt.show()"
   ]
  },
  {
   "cell_type": "code",
   "execution_count": null,
   "id": "a4e2bbe2-cbd5-402a-9569-0e1ab5135376",
   "metadata": {},
   "outputs": [],
   "source": [
    "duras = []\n",
    "for item in all_data:\n",
    "    print(item.shape)"
   ]
  }
 ],
 "metadata": {
  "kernelspec": {
   "display_name": "Python 3 (ipykernel)",
   "language": "python",
   "name": "python3"
  },
  "language_info": {
   "codemirror_mode": {
    "name": "ipython",
    "version": 3
   },
   "file_extension": ".py",
   "mimetype": "text/x-python",
   "name": "python",
   "nbconvert_exporter": "python",
   "pygments_lexer": "ipython3",
   "version": "3.8.5"
  }
 },
 "nbformat": 4,
 "nbformat_minor": 5
}
