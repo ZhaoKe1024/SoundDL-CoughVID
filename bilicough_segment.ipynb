{
 "cells": [
  {
   "cell_type": "code",
   "execution_count": 8,
   "id": "6859a56d-8ab2-4463-9152-86516521f4fa",
   "metadata": {},
   "outputs": [],
   "source": [
    "import os\n",
    "import numpy as np\n",
    "import matplotlib.pyplot as plt\n",
    "import pandas as pd\n",
    "import librosa\n",
    "from tqdm import tqdm\n",
    "import seaborn\n",
    "import torch\n",
    "import torch.nn as nn\n",
    "BILICOUGH_ROOT = \"G:/DATAS-Medical/BILIBILICOUGH/\""
   ]
  },
  {
   "cell_type": "markdown",
   "id": "4eb19b5b-e149-4b11-a5f8-f58a246c428b",
   "metadata": {},
   "source": [
    "# 从mp4中提取wav音频"
   ]
  },
  {
   "cell_type": "code",
   "execution_count": 13,
   "id": "d6f212d8-c5dc-4ec8-bdb4-7df727c3ce34",
   "metadata": {},
   "outputs": [],
   "source": [
    "names = [\"金_属_音_咳_嗽\",\"剧烈的咳嗽。\",\"女孩感冒哮喘发作\",\"四个常见咳嗽声音最后一个要重视_听一下你属于哪一种\",\"我咳嗽的样子\", \"小朋友哮喘发作（看着好痛苦）\"]\n",
    "for name in names:\n",
    "    filename = BILICOUGH_ROOT + name + \".mp4\"\n",
    "    outname = BILICOUGH_ROOT + name + \".wav\"\n",
    "    os.system(\"ffmpeg -i {} -f wav -ar 44100 {}\".format(filename, outname))"
   ]
  },
  {
   "cell_type": "code",
   "execution_count": null,
   "id": "d4e23dd9-814f-485e-9d76-1bad3f9eb29a",
   "metadata": {},
   "outputs": [],
   "source": [
    "file_list = []\n",
    "for item in os.listdir(BILICOUGH_ROOT):\n",
    "    if item[-3:] == \"ass\":\n",
    "        file_list.append(item)\n",
    "name_mapper = open(BILICOUGH_ROOT + \"filename2index.txt\", 'w')\n",
    "for idx, item in enumerate(file_list):\n",
    "    print(BILICOUGH_ROOT+item)\n",
    "    name_mapper.write(\"bilicough_{},\".format((\"00\"+str(idx))[-3:])+item[:-4]+\"\\n\")\n",
    "name_mapper.close()"
   ]
  },
  {
   "cell_type": "markdown",
   "id": "886cd55d-7be7-4c93-ab8c-a502f9b46899",
   "metadata": {},
   "source": [
    "# 读取整个音频并标注其咳嗽段"
   ]
  },
  {
   "cell_type": "code",
   "execution_count": 2,
   "id": "a6810d0e-49f0-4371-a760-05a03e6f15c5",
   "metadata": {},
   "outputs": [
    {
     "name": "stdout",
     "output_type": "stream",
     "text": [
      "['bilicough_000', 'bilicough_001', 'bilicough_002', 'bilicough_003', 'bilicough_004', 'bilicough_005', 'bilicough_006', 'bilicough_007', 'bilicough_008', 'bilicough_009', 'bilicough_010', 'bilicough_011', 'bilicough_012', 'bilicough_013', 'bilicough_014', 'bilicough_015', 'bilicough_016', 'bilicough_017', 'bilicough_018']\n"
     ]
    }
   ],
   "source": [
    "wavfin = open(BILICOUGH_ROOT + \"filename2index.txt\", 'r')\n",
    "name_list = []\n",
    "wavfin.readline()\n",
    "line = wavfin.readline()\n",
    "while line:\n",
    "    name_list.append(line.strip())\n",
    "    line = wavfin.readline()\n",
    "print(name_list)"
   ]
  },
  {
   "cell_type": "code",
   "execution_count": 3,
   "id": "8ce785ab-ddd6-42c9-b895-a6768e4cd8fb",
   "metadata": {},
   "outputs": [],
   "source": [
    "def min2sec(t: str):\n",
    "    parts = t.split(':')\n",
    "    res = float(parts[-1])\n",
    "    f = 60\n",
    "    for i in range(len(parts)-1):\n",
    "        res += int(parts[len(parts)-2-i]) * f\n",
    "        f *= 60\n",
    "    return res\n",
    "\n",
    "def wav_plot(wavfile, label_list, idx=0):\n",
    "    y, sr = librosa.load(BILICOUGH_ROOT + wavfile)\n",
    "    print(\"sample rate:\", sr)\n",
    "    y_plt = np.array([])\n",
    "    for item in label_list:\n",
    "        st, en = int(min2sec(item[0])*sr), int(min2sec(item[1])*sr+1)\n",
    "        print(\"st, en:\", st, en)\n",
    "        seg = y[st: en]\n",
    "        y_plt = np.concatenate((y_plt, seg, np.zeros(8000)), axis=0)\n",
    "    plt.figure(idx)\n",
    "    plt.plot(y_plt)"
   ]
  },
  {
   "cell_type": "code",
   "execution_count": null,
   "id": "44c99014-200b-4550-a320-9580457fa07f",
   "metadata": {},
   "outputs": [],
   "source": [
    "idx = 17\n",
    "wavtest = name_list[idx] + \".wav\"\n",
    "asstest = name_list[idx] + \".ass\"\n",
    "print(wavtest, asstest)\n",
    "assfin = open(BILICOUGH_ROOT + asstest, 'r', encoding=\"utf-8\")\n",
    "label_list = []\n",
    "line = assfin.readline()\n",
    "while line.strip()!=\"[Events]\":\n",
    "    line = assfin.readline()\n",
    "    # print(line)\n",
    "assfin.readline()\n",
    "line = assfin.readline()\n",
    "while line:\n",
    "    # print(line)\n",
    "    parts = line.split(',')\n",
    "    if parts[9].strip() == \"useless\":\n",
    "        pass\n",
    "    else:\n",
    "        label_list.append([parts[1], parts[2], parts[9].strip()])\n",
    "    line = assfin.readline()\n",
    "for item in label_list:\n",
    "    print(item)\n",
    "wav_plot(wavtest, label_list, idx)"
   ]
  },
  {
   "cell_type": "markdown",
   "id": "44fdd3ba-f90a-4fbc-b8e8-977304ffce92",
   "metadata": {},
   "source": [
    "### 批量绘图"
   ]
  },
  {
   "cell_type": "code",
   "execution_count": null,
   "id": "34b286e9-e058-44e3-9fdd-a85096df280c",
   "metadata": {},
   "outputs": [],
   "source": [
    "for idx, name in enumerate(name_list):\n",
    "    wavtest = name_list[idx] + \".wav\"\n",
    "    asstest = name_list[idx] + \".ass\"\n",
    "\n",
    "    assfin = open(BILICOUGH_ROOT + asstest, 'r', encoding=\"utf-8\")\n",
    "    label_list = []\n",
    "    line = assfin.readline()\n",
    "    while line.strip()!=\"[Events]\":\n",
    "        line = assfin.readline()\n",
    "        # print(line)\n",
    "    assfin.readline()\n",
    "    line = assfin.readline()\n",
    "    while line:\n",
    "        # print(line)\n",
    "        parts = line.split(',')\n",
    "        if parts[9].strip() == \"useless\":\n",
    "            pass\n",
    "        else:\n",
    "            label_list.append([parts[1], parts[2], parts[9].strip()])\n",
    "        line = assfin.readline()\n",
    "    for item in label_list:\n",
    "        print(item)\n",
    "    \n",
    "    wav_plot(wavtest, label_list, idx)"
   ]
  },
  {
   "cell_type": "markdown",
   "id": "640a4ecf-a529-4701-a5f2-56253347f4fb",
   "metadata": {},
   "source": [
    "# 二分类及其标注\n",
    "- 非咳嗽的标注：0，\"useless\", \"silence\", \"noise\"\n",
    "- 咳嗽的标注：1，其他都是"
   ]
  },
  {
   "cell_type": "markdown",
   "id": "af9ae047-e107-43fe-bc63-2afd66cc2b29",
   "metadata": {},
   "source": [
    "### 第一步，读取所有的ass文件\n",
    "- 查看标签有哪些，来自哪些文件\n",
    "- 查看标签的个数\n",
    "- 查看时长分布"
   ]
  },
  {
   "cell_type": "code",
   "execution_count": 1,
   "id": "c2f97303-8e39-43a4-8519-aacbceb27a43",
   "metadata": {},
   "outputs": [
    {
     "name": "stdout",
     "output_type": "stream",
     "text": [
      "['bilicough_000', 'bilicough_001', 'bilicough_002', 'bilicough_003', 'bilicough_004', 'bilicough_005', 'bilicough_006', 'bilicough_007', 'bilicough_008', 'bilicough_009', 'bilicough_010', 'bilicough_011', 'bilicough_012', 'bilicough_013', 'bilicough_014', 'bilicough_015', 'bilicough_016', 'bilicough_017', 'bilicough_018']\n"
     ]
    }
   ],
   "source": [
    "wavfin = open(\"G:/DATAS-Medical/BILIBILICOUGH/filename2index.txt\", 'r')\n",
    "name_list = []\n",
    "wavfin.readline()\n",
    "line = wavfin.readline()\n",
    "while line:\n",
    "    name_list.append(line.strip())\n",
    "    line = wavfin.readline()\n",
    "print(name_list)"
   ]
  },
  {
   "cell_type": "markdown",
   "id": "74f86afd-b890-4401-b288-5f294824f54a",
   "metadata": {},
   "source": [
    "### 注意！此处有重要文件“bilicough_metainfo.csv”的创建和写入"
   ]
  },
  {
   "cell_type": "code",
   "execution_count": 5,
   "id": "e6bf10f3-2085-4ae0-9bf5-43fc1d96ee73",
   "metadata": {},
   "outputs": [
    {
     "name": "stdout",
     "output_type": "stream",
     "text": [
      "['bilicough_000', 'bilicough_001', 'bilicough_002', 'bilicough_003', 'bilicough_004', 'bilicough_005', 'bilicough_006', 'bilicough_007', 'bilicough_008', 'bilicough_009', 'bilicough_010', 'bilicough_011', 'bilicough_012', 'bilicough_013', 'bilicough_014', 'bilicough_015', 'bilicough_016', 'bilicough_017', 'bilicough_018']\n",
      "标签分布：\n",
      "key:cough,\tcount:270\n",
      "key:inhale,\tcount:72\n",
      "key:whooping,\tcount:82\n",
      "key:clearthroat,\tcount:15\n",
      "key:sniff,\tcount:13\n",
      "key:noise,\tcount:75\n",
      "key:cough+speech,\tcount:10\n",
      "key:cough(whooping),\tcount:194\n",
      "key:speech,\tcount:41\n",
      "key:whooping+speech,\tcount:5\n",
      "key:silence,\tcount:11\n",
      "key:hum,\tcount:19\n",
      "key:breathe,\tcount:3\n",
      "key:cough(unknown),\tcount:168\n",
      "key:cough(asthma),\tcount:87\n",
      "key:cough(laryngitis),\tcount:8\n",
      "key:cough(dry),\tcount:14\n",
      "key:cough(dry)+noise,\tcount:12\n",
      "key:cough(wet),\tcount:15\n",
      "key:cough(severe),\tcount:11\n",
      "key:inhale(asthma),\tcount:19\n",
      "key:vomit,\tcount:7\n",
      "key:exhale,\tcount:31\n",
      "key:vomit+speech,\tcount:2\n",
      "key:exhale(asthma),\tcount:18\n",
      "key:cough(pneumonia),\tcount:54\n",
      "key:cough(bronchitis),\tcount:9\n",
      "key:cough(whooping）,\tcount:1\n",
      "key:cough(whooping)+speech,\tcount:2\n",
      "key:cough(barking),\tcount:2\n",
      "key:cough(metal)+noise,\tcount:1\n",
      "---------------=============----------------\n",
      "key:cough,\tcount:858\n",
      "key:inhale,\tcount:91\n",
      "key:whooping,\tcount:87\n",
      "key:clearthroat,\tcount:15\n",
      "key:sniff,\tcount:13\n",
      "key:noise,\tcount:75\n",
      "key:speech,\tcount:41\n",
      "key:silence,\tcount:11\n",
      "key:hum,\tcount:19\n",
      "key:breathe,\tcount:3\n",
      "key:vomit,\tcount:9\n",
      "key:exhale,\tcount:49\n"
     ]
    }
   ],
   "source": [
    "print(name_list)\n",
    "label_dict = dict()\n",
    "label_names = [\"breathe\", \"cough\",\"clearthroat\",\"exhale\", \"hum\", \"inhale\",\"noise\", \"silence\", \"sniff\",\"speech\", \"vomit\",\"whooping\"]\n",
    "label_cnt = dict()\n",
    "name2label = {\"breathe\":0, \"cough\":2,\"clearthroat\":1,\"exhale\":3, \"hum\":4, \"inhale\":5,\"noise\":6, \"silence\":7, \"sniff\":8,\"speech\":9, \"vomit\":10,\"whooping\":11}\n",
    "# metainfo_file = open(\"G:/DATAS-Medical/BILIBILICOUGH/bilicough_metainfo.csv\", 'w')\n",
    "# metainfo_file.write(\"filename,st,en,labelfull,labelname,label\\n\")\n",
    "for idx, name in enumerate(name_list):\n",
    "    wavtest = name_list[idx] + \".wav\"\n",
    "    asstest = name_list[idx] + \".ass\"\n",
    "    assfin = open(\"G:/DATAS-Medical/BILIBILICOUGH/\" + asstest, 'r', encoding=\"utf-8\")\n",
    "    label_list = []\n",
    "    line = assfin.readline()\n",
    "    while line.strip()!=\"[Events]\":\n",
    "        line = assfin.readline()\n",
    "        # print(line)\n",
    "    assfin.readline()\n",
    "    line = assfin.readline()\n",
    "    while line:\n",
    "        # print(line)\n",
    "        parts = line.split(',')\n",
    "        lab_tmp = parts[9].strip()\n",
    "        if lab_tmp == \"useless\":\n",
    "            pass\n",
    "        # if lab_tmp == \"clearingthroat\":\n",
    "        #     print(name_list[idx])\n",
    "        else:\n",
    "            label_list.append([parts[1], parts[2], lab_tmp])\n",
    "            if lab_tmp not in label_dict:\n",
    "                label_dict[lab_tmp] = 1\n",
    "            else:\n",
    "                label_dict[lab_tmp] = label_dict.get(lab_tmp)+1\n",
    "            \n",
    "            label = None\n",
    "            if lab_tmp[:3] == \"hum\":\n",
    "                label = lab_tmp[:3]\n",
    "            elif lab_tmp[:5] in [\"cough\", \"noise\", \"sniff\", \"vomit\"]:\n",
    "                label = lab_tmp[:5]\n",
    "            elif lab_tmp[:6] in [\"inhale\", \"exhale\", \"speech\"]:\n",
    "                label = lab_tmp[:6]\n",
    "            elif lab_tmp[:7] in [\"breathe\",\"silence\"]:\n",
    "                label = lab_tmp[:7]\n",
    "            elif lab_tmp[:8] in [\"whooping\"]:\n",
    "                label = lab_tmp[:8]\n",
    "            elif lab_tmp[:11] in [\"clearthroat\"]:\n",
    "                label = lab_tmp[:11]\n",
    "            else:\n",
    "                print(lab_tmp, name_list[idx])\n",
    "                raise Exception(\"Unknown Class.\")\n",
    "                \n",
    "            if label not in label_cnt:\n",
    "                label_cnt[label] = 1\n",
    "            else:\n",
    "                label_cnt[label] = label_cnt.get(label)+1\n",
    "            # metainfo_file.write(\"{},{},{},{},{},{}\\n\".format(name_list[idx], parts[1], parts[2] ,lab_tmp, label,name2label[label]))\n",
    "        line = assfin.readline()\n",
    "# metainfo_file.close()\n",
    "# for item in label_list:\n",
    "#     print(item)\n",
    "print(\"标签分布：\")\n",
    "for k,v in label_dict.items():\n",
    "    print(\"key:{},\\tcount:{}\".format(k,v))\n",
    "print(\"---------------=============----------------\")\n",
    "for k,v in label_cnt.items():\n",
    "    print(\"key:{},\\tcount:{}\".format(k,v))\n"
   ]
  },
  {
   "cell_type": "markdown",
   "id": "60827187-b175-4f71-8956-7d8f8919f6e2",
   "metadata": {},
   "source": [
    "## 读取metainfo文件，创建不同任务的标注"
   ]
  },
  {
   "cell_type": "code",
   "execution_count": 9,
   "id": "15b246fe-6f74-4bf1-8511-ef846f34b2ae",
   "metadata": {},
   "outputs": [],
   "source": [
    "import os\n",
    "import numpy as np\n",
    "import pandas as pd\n",
    "import matplotlib.pyplot as plt\n",
    "import seaborn as sns\n",
    "import librosa"
   ]
  },
  {
   "cell_type": "code",
   "execution_count": null,
   "id": "76fa64cd-a052-474e-ae95-2ace3bc1419e",
   "metadata": {},
   "outputs": [],
   "source": [
    "metadf = pd.read_csv(\"G:/DATAS-Medical/BILIBILICOUGH/bilicough_metainfo.csv\", delimiter=',', header=0, index_col=None, encoding=\"ansi\")\n",
    "print(metadf)\n",
    "newdf = metadf\n",
    "newdf[\"binlab\"] = newdf[\"label\"].apply(lambda x:2 if x==2 else 0)\n",
    "newdf"
   ]
  },
  {
   "cell_type": "code",
   "execution_count": 6,
   "id": "ac3935d8-d97a-4928-81d8-e01175cb97a4",
   "metadata": {},
   "outputs": [],
   "source": [
    "def min2sec(t: str):\n",
    "    parts = t.split(':')\n",
    "    res = float(parts[-1])\n",
    "    f = 60\n",
    "    for i in range(len(parts)-1):\n",
    "        res += int(parts[len(parts)-2-i]) * f\n",
    "        f *= 60\n",
    "    return res\n"
   ]
  },
  {
   "cell_type": "code",
   "execution_count": null,
   "id": "31951ffd-14a8-43cf-b695-1f606dd3d9b7",
   "metadata": {},
   "outputs": [],
   "source": [
    "sn_list = []\n",
    "sr = 22050\n",
    "for ind, item in enumerate(metadf.itertuples()):\n",
    "    # print(\"key:{},\\tcount:{}, st:{}, en:{}, {}, {}\".format(ind, item[1], item[2], item[3], item[5], item[6]))\n",
    "    if item[6] == 2:\n",
    "        st, en = int(min2sec(item[2])*sr), int(min2sec(item[3])*sr+1)\n",
    "        sn = en - st\n",
    "        sn_list.append((en - st)/22050)\n",
    "\n",
    "# plt.hist(sn_list, bins=12)"
   ]
  },
  {
   "cell_type": "code",
   "execution_count": 17,
   "id": "1cbe1780-6833-4eed-901f-ad799a0f6983",
   "metadata": {},
   "outputs": [
    {
     "data": {
      "text/plain": [
       "<BarContainer object of 10 artists>"
      ]
     },
     "execution_count": 17,
     "metadata": {},
     "output_type": "execute_result"
    },
    {
     "data": {
      "image/png": "[encoded data removed]",
      "text/plain": [
       "<Figure size 640x480 with 1 Axes>"
      ]
     },
     "metadata": {},
     "output_type": "display_data"
    }
   ],
   "source": [
    "trs = [0.3, 0.5, 0.8, 1.0, 1.2, 1.5, 1.7, 2.0, 2.5, 10]\n",
    "cnt_list = [0] * len(trs)\n",
    "for sn in sn_list:\n",
    "    for i in range(len(trs)):\n",
    "        if sn < trs[i]+0.1:\n",
    "            cnt_list[i] += 1\n",
    "            break\n",
    "plt.figure(0)\n",
    "plt.bar([str(item) for item in trs], cnt_list, width=0.2)"
   ]
  },
  {
   "cell_type": "markdown",
   "id": "3e5216f0-c083-4ccc-a333-44fbfa07591f",
   "metadata": {},
   "source": [
    "# 通过滑动窗口截取数据片段\n",
    "## 创建静音片段及其标注"
   ]
  },
  {
   "cell_type": "code",
   "execution_count": null,
   "id": "9181ef48-ad29-4c58-8b52-fee976e2238e",
   "metadata": {},
   "outputs": [],
   "source": [
    "# newdf.groupby(\"binlab\").count()\n",
    "\n",
    "def min2sec(t: str):\n",
    "    parts = t.split(':')\n",
    "    res = float(parts[-1])\n",
    "    f = 60\n",
    "    for i in range(len(parts)-1):\n",
    "        res += int(parts[len(parts)-2-i]) * f\n",
    "        f *= 60\n",
    "    return res\n",
    "\n",
    "def wav_plot(wavfile, label_list, idx=0):\n",
    "    y, sr = librosa.load(BILICOUGH_ROOT + wavfile)\n",
    "    print(\"sample rate:\", sr)\n",
    "    y_plt = np.array([])\n",
    "    for item in label_list:\n",
    "        st, en = int(min2sec(item[0])*sr), int(min2sec(item[1])*sr+1)\n",
    "        print(\"st, en:\", st, en)\n",
    "        seg = y[st: en]\n",
    "        y_plt = np.concatenate((y_plt, seg, np.zeros(8000)), axis=0)\n",
    "    plt.figure(idx)\n",
    "    plt.plot(y_plt)"
   ]
  },
  {
   "cell_type": "code",
   "execution_count": null,
   "id": "c5f0cd30-4a0e-4254-b328-cf0dd2de3a88",
   "metadata": {},
   "outputs": [],
   "source": [
    "# 通过秒到采样点的转换，截取数据\n"
   ]
  },
  {
   "cell_type": "code",
   "execution_count": null,
   "id": "ab9cae46-52f1-49ee-b4b0-b9b330a756d2",
   "metadata": {},
   "outputs": [],
   "source": [
    "for ind, item in enumerate(metadf.itertuples()):\n",
    "    print(\"key:{},\\tcount:{}, st:{}, en:{}, {}, {}\".format(ind, item[1], item[2], item[3], item[5], item[6]))"
   ]
  },
  {
   "cell_type": "markdown",
   "id": "6b59d85b-1441-4c0c-ab38-b266f30cd0a1",
   "metadata": {},
   "source": [
    "# 创建神经网络\n",
    "\n",
    "## 注意到，频域决定类别、幅值和时长是干扰因素，因为想办法在这里入手\n",
    "### 频域多用全连接而不是卷积池化\n",
    "### 幅值多用normalization\n",
    "### 时长采用多尺度叠加"
   ]
  },
  {
   "cell_type": "code",
   "execution_count": 13,
   "id": "fea7f630-9535-4746-b068-742a6195ee0a",
   "metadata": {},
   "outputs": [
    {
     "name": "stdout",
     "output_type": "stream",
     "text": [
      "[ 1.  2. 43.  5. 76.  8.  4.  8.  6.]\n"
     ]
    }
   ],
   "source": [
    "a = np.array([1,2,43,])\n",
    "b = np.array([5,76,8,])\n",
    "c = np.array([4,8,6])\n",
    "print(np.concatenate((np.array([]), a, b,c), axis=0))"
   ]
  }
 ],
 "metadata": {
  "kernelspec": {
   "display_name": "Python 3 (ipykernel)",
   "language": "python",
   "name": "python3"
  },
  "language_info": {
   "codemirror_mode": {
    "name": "ipython",
    "version": 3
   },
   "file_extension": ".py",
   "mimetype": "text/x-python",
   "name": "python",
   "nbconvert_exporter": "python",
   "pygments_lexer": "ipython3",
   "version": "3.8.5"
  }
 },
 "nbformat": 4,
 "nbformat_minor": 5
}
