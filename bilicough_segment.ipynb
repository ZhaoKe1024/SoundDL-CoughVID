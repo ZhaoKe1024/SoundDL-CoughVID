{
 "cells": [
  {
   "cell_type": "code",
   "execution_count": 1,
   "id": "6859a56d-8ab2-4463-9152-86516521f4fa",
   "metadata": {},
   "outputs": [],
   "source": [
    "import os\n",
    "import numpy as np\n",
    "import matplotlib.pyplot as plt\n",
    "import pandas as pd\n",
    "import librosa\n",
    "from tqdm import tqdm\n",
    "import seaborn\n",
    "import torch\n",
    "import torch.nn as nn\n",
    "BILICOUGH_ROOT = \"G:/DATAS-Medical/BILIBILICOUGH/\""
   ]
  },
  {
   "cell_type": "markdown",
   "id": "4eb19b5b-e149-4b11-a5f8-f58a246c428b",
   "metadata": {},
   "source": [
    "# 从mp4中提取wav音频"
   ]
  },
  {
   "cell_type": "code",
   "execution_count": 13,
   "id": "d6f212d8-c5dc-4ec8-bdb4-7df727c3ce34",
   "metadata": {},
   "outputs": [],
   "source": [
    "names = [\"金_属_音_咳_嗽\",\"剧烈的咳嗽。\",\"女孩感冒哮喘发作\",\"四个常见咳嗽声音最后一个要重视_听一下你属于哪一种\",\"我咳嗽的样子\", \"小朋友哮喘发作（看着好痛苦）\"]\n",
    "for name in names:\n",
    "    filename = BILICOUGH_ROOT + name + \".mp4\"\n",
    "    outname = BILICOUGH_ROOT + name + \".wav\"\n",
    "    os.system(\"ffmpeg -i {} -f wav -ar 44100 {}\".format(filename, outname))"
   ]
  },
  {
   "cell_type": "code",
   "execution_count": 17,
   "id": "d4e23dd9-814f-485e-9d76-1bad3f9eb29a",
   "metadata": {},
   "outputs": [
    {
     "name": "stdout",
     "output_type": "stream",
     "text": [
      "G:/DATAS-Medical/BILIBILICOUGH/【噪音反击】男人的咳嗽声（1）.ass\n",
      "G:/DATAS-Medical/BILIBILICOUGH/一个患上百日咳的女孩.ass\n",
      "G:/DATAS-Medical/BILIBILICOUGH/剧烈的咳嗽。.ass\n",
      "G:/DATAS-Medical/BILIBILICOUGH/咳嗽吐痰的声音 Coughing and spitting sound.ass\n",
      "G:/DATAS-Medical/BILIBILICOUGH/咳嗽声这样的，小心百日咳.ass\n",
      "G:/DATAS-Medical/BILIBILICOUGH/喘鸣音、鸡鸣音，这些都代表什么疾病？.ass\n",
      "G:/DATAS-Medical/BILIBILICOUGH/四个常见咳嗽声音最后一个要重视  听一下你属于哪一种.ass\n",
      "G:/DATAS-Medical/BILIBILICOUGH/女孩感冒哮喘发作.ass\n",
      "G:/DATAS-Medical/BILIBILICOUGH/小朋友哮喘发作（看着好痛苦）.ass\n",
      "G:/DATAS-Medical/BILIBILICOUGH/得了肺炎是什么感觉？看看这个就知道了.ass\n",
      "G:/DATAS-Medical/BILIBILICOUGH/患了百日咳的女孩.ass\n",
      "G:/DATAS-Medical/BILIBILICOUGH/患百日咳的小孩.ass\n",
      "G:/DATAS-Medical/BILIBILICOUGH/我咳嗽的样子.ass\n",
      "G:/DATAS-Medical/BILIBILICOUGH/滚蛋吧 肺癌君 听懂咳嗽的声音.ass\n",
      "G:/DATAS-Medical/BILIBILICOUGH/百日咳.ass\n",
      "G:/DATAS-Medical/BILIBILICOUGH/第一视角哮喘夜间发作.ass\n",
      "G:/DATAS-Medical/BILIBILICOUGH/这样的咳嗽声音要小心，这样的面色要小心.ass\n",
      "G:/DATAS-Medical/BILIBILICOUGH/金 属 音 咳 嗽.ass\n",
      "G:/DATAS-Medical/BILIBILICOUGH/鸡鸣样的百日咳到底怎么咳？.ass\n"
     ]
    }
   ],
   "source": [
    "file_list = []\n",
    "for item in os.listdir(BILICOUGH_ROOT):\n",
    "    if item[-3:] == \"ass\":\n",
    "        file_list.append(item)\n",
    "name_mapper = open(BILICOUGH_ROOT + \"filename2index.txt\", 'w')\n",
    "for idx, item in enumerate(file_list):\n",
    "    print(BILICOUGH_ROOT+item)\n",
    "    name_mapper.write(\"bilicough_{},\".format((\"00\"+str(idx))[-3:])+item[:-4]+\"\\n\")\n",
    "name_mapper.close()"
   ]
  },
  {
   "cell_type": "markdown",
   "id": "886cd55d-7be7-4c93-ab8c-a502f9b46899",
   "metadata": {},
   "source": [
    "# 读取整个音频并标注其咳嗽段"
   ]
  },
  {
   "cell_type": "code",
   "execution_count": 2,
   "id": "a6810d0e-49f0-4371-a760-05a03e6f15c5",
   "metadata": {},
   "outputs": [
    {
     "name": "stdout",
     "output_type": "stream",
     "text": [
      "['bilicough_000', 'bilicough_001', 'bilicough_002', 'bilicough_003', 'bilicough_004', 'bilicough_005', 'bilicough_006', 'bilicough_007', 'bilicough_008', 'bilicough_009', 'bilicough_010', 'bilicough_011', 'bilicough_012', 'bilicough_013', 'bilicough_014', 'bilicough_015', 'bilicough_016', 'bilicough_017', 'bilicough_018']\n"
     ]
    }
   ],
   "source": [
    "wavfin = open(BILICOUGH_ROOT + \"filename2index.txt\", 'r')\n",
    "name_list = []\n",
    "wavfin.readline()\n",
    "line = wavfin.readline()\n",
    "while line:\n",
    "    name_list.append(line.strip())\n",
    "    line = wavfin.readline()\n",
    "print(name_list)"
   ]
  },
  {
   "cell_type": "code",
   "execution_count": null,
   "id": "8ce785ab-ddd6-42c9-b895-a6768e4cd8fb",
   "metadata": {},
   "outputs": [],
   "source": [
    "def min2sec(t: str):\n",
    "    parts = t.split(':')\n",
    "    res = float(parts[-1])\n",
    "    f = 60\n",
    "    for i in range(len(parts)-1):\n",
    "        res += int(parts[len(parts)-2-i]) * f\n",
    "        f *= 60\n",
    "    return res\n",
    "\n",
    "def wav_plot(wavfile, label_list, idx=0):\n",
    "    y, sr = librosa.load(BILICOUGH_ROOT + wavfile)\n",
    "    print(\"sample rate:\", sr)\n",
    "    y_plt = np.array([])\n",
    "    for item in label_list:\n",
    "        st, en = int(min2sec(item[0])*sr), int(min2sec(item[1])*sr+1)\n",
    "        print(\"st, en:\", st, en)\n",
    "        seg = y[st: en]\n",
    "        y_plt = np.concatenate((y_plt, seg, np.zeros(8000)), axis=0)\n",
    "    plt.figure(idx)\n",
    "    plt.plot(y_plt)"
   ]
  },
  {
   "cell_type": "code",
   "execution_count": 1,
   "id": "44c99014-200b-4550-a320-9580457fa07f",
   "metadata": {},
   "outputs": [
    {
     "ename": "NameError",
     "evalue": "name 'name_list' is not defined",
     "output_type": "error",
     "traceback": [
      "\u001b[1;31m---------------------------------------------------------------------------\u001b[0m",
      "\u001b[1;31mNameError\u001b[0m                                 Traceback (most recent call last)",
      "Cell \u001b[1;32mIn[1], line 2\u001b[0m\n\u001b[0;32m      1\u001b[0m idx \u001b[38;5;241m=\u001b[39m \u001b[38;5;241m17\u001b[39m\n\u001b[1;32m----> 2\u001b[0m wavtest \u001b[38;5;241m=\u001b[39m \u001b[43mname_list\u001b[49m[idx] \u001b[38;5;241m+\u001b[39m \u001b[38;5;124m\"\u001b[39m\u001b[38;5;124m.wav\u001b[39m\u001b[38;5;124m\"\u001b[39m\n\u001b[0;32m      3\u001b[0m asstest \u001b[38;5;241m=\u001b[39m name_list[idx] \u001b[38;5;241m+\u001b[39m \u001b[38;5;124m\"\u001b[39m\u001b[38;5;124m.ass\u001b[39m\u001b[38;5;124m\"\u001b[39m\n\u001b[0;32m      4\u001b[0m \u001b[38;5;28mprint\u001b[39m(wavtest, asstest)\n",
      "\u001b[1;31mNameError\u001b[0m: name 'name_list' is not defined"
     ]
    }
   ],
   "source": [
    "idx = 17\n",
    "wavtest = name_list[idx] + \".wav\"\n",
    "asstest = name_list[idx] + \".ass\"\n",
    "print(wavtest, asstest)\n",
    "assfin = open(BILICOUGH_ROOT + asstest, 'r', encoding=\"utf-8\")\n",
    "label_list = []\n",
    "line = assfin.readline()\n",
    "while line.strip()!=\"[Events]\":\n",
    "    line = assfin.readline()\n",
    "    # print(line)\n",
    "assfin.readline()\n",
    "line = assfin.readline()\n",
    "while line:\n",
    "    # print(line)\n",
    "    parts = line.split(',')\n",
    "    label_list.append([parts[1], parts[2], parts[9].strip()])\n",
    "    line = assfin.readline()\n",
    "for item in label_list:\n",
    "    print(item)\n",
    "wav_plot(wavtest, label_list, idx)"
   ]
  },
  {
   "cell_type": "code",
   "execution_count": null,
   "id": "34b286e9-e058-44e3-9fdd-a85096df280c",
   "metadata": {},
   "outputs": [],
   "source": [
    "for idx, name in enumerate(name_list):\n",
    "    wavtest = name_list[idx] + \".wav\"\n",
    "    asstest = name_list[idx] + \".ass\"\n",
    "\n",
    "    assfin = open(BILICOUGH_ROOT + asstest, 'r', encoding=\"utf-8\")\n",
    "    label_list = []\n",
    "    line = assfin.readline()\n",
    "    while line.strip()!=\"[Events]\":\n",
    "        line = assfin.readline()\n",
    "        # print(line)\n",
    "    assfin.readline()\n",
    "    line = assfin.readline()\n",
    "    while line:\n",
    "        # print(line)\n",
    "        parts = line.split(',')\n",
    "        label_list.append([parts[1], parts[2], parts[9].strip()])\n",
    "        line = assfin.readline()\n",
    "    for item in label_list:\n",
    "        print(item)\n",
    "    \n",
    "    wav_plot(wavtest, label_list, idx)"
   ]
  },
  {
   "cell_type": "code",
   "execution_count": 13,
   "id": "fea7f630-9535-4746-b068-742a6195ee0a",
   "metadata": {},
   "outputs": [
    {
     "name": "stdout",
     "output_type": "stream",
     "text": [
      "[ 1.  2. 43.  5. 76.  8.  4.  8.  6.]\n"
     ]
    }
   ],
   "source": [
    "a = np.array([1,2,43,])\n",
    "b = np.array([5,76,8,])\n",
    "c = np.array([4,8,6])\n",
    "print(np.concatenate((np.array([]), a, b,c), axis=0))"
   ]
  }
 ],
 "metadata": {
  "kernelspec": {
   "display_name": "Python 3 (ipykernel)",
   "language": "python",
   "name": "python3"
  },
  "language_info": {
   "codemirror_mode": {
    "name": "ipython",
    "version": 3
   },
   "file_extension": ".py",
   "mimetype": "text/x-python",
   "name": "python",
   "nbconvert_exporter": "python",
   "pygments_lexer": "ipython3",
   "version": "3.8.5"
  }
 },
 "nbformat": 4,
 "nbformat_minor": 5
}
