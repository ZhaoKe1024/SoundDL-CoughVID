{
 "cells": [
  {
   "cell_type": "code",
   "execution_count": 1,
   "id": "f444b8fd",
   "metadata": {},
   "outputs": [],
   "source": [
    "import os\n",
    "import numpy as np\n",
    "import matplotlib.pyplot as plt\n",
    "import pandas as pd\n",
    "import librosa\n",
    "from tqdm import tqdm\n",
    "import seaborn\n",
    "import torch\n",
    "import torch.nn as nn\n",
    "BILICOUGH_ROOT = \"E:/DATAS-Medical/BILIBILICOUGH/\""
   ]
  },
  {
   "cell_type": "markdown",
   "id": "06f48838",
   "metadata": {},
   "source": [
    "# explore"
   ]
  },
  {
   "cell_type": "code",
   "execution_count": 2,
   "id": "e4183839",
   "metadata": {},
   "outputs": [
    {
     "name": "stdout",
     "output_type": "stream",
     "text": [
      "           filename       st       en        labelfull labelname  label\n",
      "0     bilicough_000  00:01.0  00:01.7            cough     cough      2\n",
      "1     bilicough_000  00:01.7  00:02.2            cough     cough      2\n",
      "2     bilicough_000  00:02.2  00:02.7            cough     cough      2\n",
      "3     bilicough_000  00:03.0  00:03.4            cough     cough      2\n",
      "4     bilicough_000  00:03.4  00:04.0            cough     cough      2\n",
      "...             ...      ...      ...              ...       ...    ...\n",
      "1266  bilicough_018  01:51.3  01:52.3         whooping  whooping     11\n",
      "1267  bilicough_018  01:52.5  01:52.8  cough(whooping)     cough      2\n",
      "1268  bilicough_018  01:52.8  01:53.1  cough(whooping)     cough      2\n",
      "1269  bilicough_018  01:53.1  01:53.5  cough(whooping)     cough      2\n",
      "1270  bilicough_018  01:54.1  01:55.4           speech    speech      9\n",
      "\n",
      "[1271 rows x 6 columns]\n"
     ]
    },
    {
     "data": {
      "text/html": [
       "<div>\n",
       "<style scoped>\n",
       "    .dataframe tbody tr th:only-of-type {\n",
       "        vertical-align: middle;\n",
       "    }\n",
       "\n",
       "    .dataframe tbody tr th {\n",
       "        vertical-align: top;\n",
       "    }\n",
       "\n",
       "    .dataframe thead th {\n",
       "        text-align: right;\n",
       "    }\n",
       "</style>\n",
       "<table border=\"1\" class=\"dataframe\">\n",
       "  <thead>\n",
       "    <tr style=\"text-align: right;\">\n",
       "      <th></th>\n",
       "      <th>filename</th>\n",
       "      <th>st</th>\n",
       "      <th>en</th>\n",
       "      <th>labelfull</th>\n",
       "      <th>labelname</th>\n",
       "      <th>label</th>\n",
       "      <th>binlab</th>\n",
       "    </tr>\n",
       "  </thead>\n",
       "  <tbody>\n",
       "    <tr>\n",
       "      <th>0</th>\n",
       "      <td>bilicough_000</td>\n",
       "      <td>00:01.0</td>\n",
       "      <td>00:01.7</td>\n",
       "      <td>cough</td>\n",
       "      <td>cough</td>\n",
       "      <td>2</td>\n",
       "      <td>2</td>\n",
       "    </tr>\n",
       "    <tr>\n",
       "      <th>1</th>\n",
       "      <td>bilicough_000</td>\n",
       "      <td>00:01.7</td>\n",
       "      <td>00:02.2</td>\n",
       "      <td>cough</td>\n",
       "      <td>cough</td>\n",
       "      <td>2</td>\n",
       "      <td>2</td>\n",
       "    </tr>\n",
       "    <tr>\n",
       "      <th>2</th>\n",
       "      <td>bilicough_000</td>\n",
       "      <td>00:02.2</td>\n",
       "      <td>00:02.7</td>\n",
       "      <td>cough</td>\n",
       "      <td>cough</td>\n",
       "      <td>2</td>\n",
       "      <td>2</td>\n",
       "    </tr>\n",
       "    <tr>\n",
       "      <th>3</th>\n",
       "      <td>bilicough_000</td>\n",
       "      <td>00:03.0</td>\n",
       "      <td>00:03.4</td>\n",
       "      <td>cough</td>\n",
       "      <td>cough</td>\n",
       "      <td>2</td>\n",
       "      <td>2</td>\n",
       "    </tr>\n",
       "    <tr>\n",
       "      <th>4</th>\n",
       "      <td>bilicough_000</td>\n",
       "      <td>00:03.4</td>\n",
       "      <td>00:04.0</td>\n",
       "      <td>cough</td>\n",
       "      <td>cough</td>\n",
       "      <td>2</td>\n",
       "      <td>2</td>\n",
       "    </tr>\n",
       "    <tr>\n",
       "      <th>...</th>\n",
       "      <td>...</td>\n",
       "      <td>...</td>\n",
       "      <td>...</td>\n",
       "      <td>...</td>\n",
       "      <td>...</td>\n",
       "      <td>...</td>\n",
       "      <td>...</td>\n",
       "    </tr>\n",
       "    <tr>\n",
       "      <th>1266</th>\n",
       "      <td>bilicough_018</td>\n",
       "      <td>01:51.3</td>\n",
       "      <td>01:52.3</td>\n",
       "      <td>whooping</td>\n",
       "      <td>whooping</td>\n",
       "      <td>11</td>\n",
       "      <td>0</td>\n",
       "    </tr>\n",
       "    <tr>\n",
       "      <th>1267</th>\n",
       "      <td>bilicough_018</td>\n",
       "      <td>01:52.5</td>\n",
       "      <td>01:52.8</td>\n",
       "      <td>cough(whooping)</td>\n",
       "      <td>cough</td>\n",
       "      <td>2</td>\n",
       "      <td>2</td>\n",
       "    </tr>\n",
       "    <tr>\n",
       "      <th>1268</th>\n",
       "      <td>bilicough_018</td>\n",
       "      <td>01:52.8</td>\n",
       "      <td>01:53.1</td>\n",
       "      <td>cough(whooping)</td>\n",
       "      <td>cough</td>\n",
       "      <td>2</td>\n",
       "      <td>2</td>\n",
       "    </tr>\n",
       "    <tr>\n",
       "      <th>1269</th>\n",
       "      <td>bilicough_018</td>\n",
       "      <td>01:53.1</td>\n",
       "      <td>01:53.5</td>\n",
       "      <td>cough(whooping)</td>\n",
       "      <td>cough</td>\n",
       "      <td>2</td>\n",
       "      <td>2</td>\n",
       "    </tr>\n",
       "    <tr>\n",
       "      <th>1270</th>\n",
       "      <td>bilicough_018</td>\n",
       "      <td>01:54.1</td>\n",
       "      <td>01:55.4</td>\n",
       "      <td>speech</td>\n",
       "      <td>speech</td>\n",
       "      <td>9</td>\n",
       "      <td>0</td>\n",
       "    </tr>\n",
       "  </tbody>\n",
       "</table>\n",
       "<p>1271 rows × 7 columns</p>\n",
       "</div>"
      ],
      "text/plain": [
       "           filename       st       en        labelfull labelname  label  \\\n",
       "0     bilicough_000  00:01.0  00:01.7            cough     cough      2   \n",
       "1     bilicough_000  00:01.7  00:02.2            cough     cough      2   \n",
       "2     bilicough_000  00:02.2  00:02.7            cough     cough      2   \n",
       "3     bilicough_000  00:03.0  00:03.4            cough     cough      2   \n",
       "4     bilicough_000  00:03.4  00:04.0            cough     cough      2   \n",
       "...             ...      ...      ...              ...       ...    ...   \n",
       "1266  bilicough_018  01:51.3  01:52.3         whooping  whooping     11   \n",
       "1267  bilicough_018  01:52.5  01:52.8  cough(whooping)     cough      2   \n",
       "1268  bilicough_018  01:52.8  01:53.1  cough(whooping)     cough      2   \n",
       "1269  bilicough_018  01:53.1  01:53.5  cough(whooping)     cough      2   \n",
       "1270  bilicough_018  01:54.1  01:55.4           speech    speech      9   \n",
       "\n",
       "      binlab  \n",
       "0          2  \n",
       "1          2  \n",
       "2          2  \n",
       "3          2  \n",
       "4          2  \n",
       "...      ...  \n",
       "1266       0  \n",
       "1267       2  \n",
       "1268       2  \n",
       "1269       2  \n",
       "1270       0  \n",
       "\n",
       "[1271 rows x 7 columns]"
      ]
     },
     "execution_count": 2,
     "metadata": {},
     "output_type": "execute_result"
    }
   ],
   "source": [
    "metadf = pd.read_csv(BILICOUGH_ROOT+\"bilicough_metainfo.csv\", delimiter=',', header=0, index_col=None, encoding=\"ansi\")\n",
    "print(metadf)\n",
    "newdf = metadf\n",
    "newdf[\"binlab\"] = newdf[\"label\"].apply(lambda x:2 if x==2 else 0)\n",
    "newdf"
   ]
  },
  {
   "cell_type": "code",
   "execution_count": 3,
   "id": "ed3a9ce1",
   "metadata": {},
   "outputs": [
    {
     "data": {
      "text/plain": [
       "<BarContainer object of 10 artists>"
      ]
     },
     "execution_count": 3,
     "metadata": {},
     "output_type": "execute_result"
    },
    {
     "data": {
      "image/png": "[encoded data removed]",
      "text/plain": [
       "<Figure size 640x480 with 1 Axes>"
      ]
     },
     "metadata": {},
     "output_type": "display_data"
    }
   ],
   "source": [
    "def min2sec(t: str):\n",
    "    parts = t.split(':')\n",
    "    res = float(parts[-1])\n",
    "    f = 60\n",
    "    for i in range(len(parts)-1):\n",
    "        res += int(parts[len(parts)-2-i]) * f\n",
    "        f *= 60\n",
    "    return res\n",
    "sn_list = []\n",
    "sr = 22050\n",
    "for ind, item in enumerate(metadf.itertuples()):\n",
    "    # print(\"key:{},\\tcount:{}, st:{}, en:{}, {}, {}\".format(ind, item[1], item[2], item[3], item[5], item[6]))\n",
    "    if item[6] == 2:\n",
    "        st, en = int(min2sec(item[2])*sr), int(min2sec(item[3])*sr+1)\n",
    "        sn = en - st\n",
    "        sn_list.append((en - st)/22050)\n",
    "\n",
    "# plt.hist(sn_list, bins=12)\n",
    "\n",
    "trs = [0.3, 0.5, 0.8, 1.0, 1.2, 1.5, 1.7, 2.0, 2.5, 10]\n",
    "cnt_list = [0] * len(trs)\n",
    "for sn in sn_list:\n",
    "    for i in range(len(trs)):\n",
    "        if sn < trs[i]+0.1:\n",
    "            cnt_list[i] += 1\n",
    "            break\n",
    "plt.figure(0)\n",
    "plt.bar([str(item) for item in trs], cnt_list, width=0.2)"
   ]
  },
  {
   "cell_type": "markdown",
   "id": "8a31fe2d",
   "metadata": {},
   "source": [
    "# Train Start"
   ]
  },
  {
   "cell_type": "code",
   "execution_count": 1,
   "id": "8cf7b45c-76f4-49cd-942c-574b1c09801c",
   "metadata": {},
   "outputs": [],
   "source": [
    "import os\n",
    "import random\n",
    "import numpy as np\n",
    "import pandas as pd\n",
    "import librosa\n",
    "WAVE_ROOT = \"G:/DATAS-Medical/BILIBILICOUGH/\"\n",
    "NOISE_ROOT = \"G:/DATAS-Medical/BILINOISE/\"\n",
    "name2label = {\"breathe\":0, \"cough\":2,\"clearthroat\":1,\"exhale\":3, \"hum\":4, \"inhale\":5,\"noise\":6, \"silence\":7, \"sniff\":8,\"speech\":9, \"vomit\":10,\"whooping\":11}"
   ]
  },
  {
   "cell_type": "code",
   "execution_count": 2,
   "id": "22c45154-75a4-482d-a53b-97402a627075",
   "metadata": {},
   "outputs": [],
   "source": [
    "def min2sec(t: str):\n",
    "    parts = t.split(':')\n",
    "    res = float(parts[-1])\n",
    "    f = 60\n",
    "    for i in range(len(parts)-1):\n",
    "        res += int(parts[len(parts)-2-i]) * f\n",
    "        f *= 60\n",
    "    return res\n",
    "def get_bilicough_dataset():\n",
    "    metadf = pd.read_csv(WAVE_ROOT+\"bilicough_metainfo.csv\", delimiter=',', header=0, index_col=None, usecols=[0,1,2,5], encoding=\"ansi\")\n",
    "    print(metadf)\n",
    "    cur_fname = None\n",
    "    cur_wav = None\n",
    "    data_length = None\n",
    "    sample_list = []\n",
    "    label_list = []\n",
    "    sr_list = []\n",
    "    pre_st, pre_en = None, None\n",
    "    # filename\tst\ten\tlabelfull\tlabelname\tlabel\tbinlab\n",
    "    for ind, item in enumerate(metadf.itertuples()):\n",
    "        if (cur_fname != item[1]) or (cur_fname is None):\n",
    "            cur_fname = item[1]\n",
    "            cur_wav, sr = librosa.load(WAVE_ROOT+cur_fname+\".wav\")\n",
    "            if sr not in sr_list:\n",
    "                sr_list.append(sr)\n",
    "            data_length = sr\n",
    "        st, en = int(min2sec(item[2])*sr), int(min2sec(item[3])*sr+1)\n",
    "        if en > len(cur_wav):\n",
    "            en = len(cur_wav)\n",
    "        if en - st < 100:\n",
    "            raise Exception(\"Error Index.\")\n",
    "        sn = en - st\n",
    "        # sec = (en - st)/22050\n",
    "        if (pre_en is None):\n",
    "            if st >= data_length:\n",
    "                st_pos = 0\n",
    "                ind = 0\n",
    "                while st_pos + data_length <= st:\n",
    "                    # if len(cur_wav[st_pos:st_pos+data_length]) != sr:\n",
    "                    #     raise Exception(\"Error Length.\")\n",
    "                    sample_list.append(cur_wav[st_pos:st_pos+data_length])\n",
    "                    label_list.append(0)\n",
    "                    st_pos += data_length\n",
    "                    ind += 1\n",
    "                    if ind >2:\n",
    "                        break\n",
    "                sample_list.append(cur_wav[st-data_length:st])\n",
    "                label_list.append(0)\n",
    "        else:\n",
    "            if st - pre_en >= sr:\n",
    "                st_pos = pre_en\n",
    "                ind = 0\n",
    "                while st_pos + data_length <= st:\n",
    "                    # if len(cur_wav[st_pos:st_pos+data_length]) != sr:\n",
    "                    #     raise Exception(\"Error Length.\")\n",
    "                    sample_list.append(cur_wav[st_pos:st_pos+data_length])\n",
    "                    label_list.append(0)\n",
    "                    st_pos += data_length\n",
    "                    ind += 1\n",
    "                    if ind > 2:\n",
    "                        break\n",
    "                sample_list.append(cur_wav[st-data_length:st])\n",
    "                label_list.append(0)\n",
    "        label = int(item[4])\n",
    "        if sn==data_length:\n",
    "            # if len(cur_wav[st:en]) != sr:\n",
    "            #     raise Exception(\"Error Length.\")\n",
    "            sample_list.append(cur_wav[st:en])\n",
    "            if label in [6, 7]:\n",
    "                label_list.append(0)\n",
    "            else:\n",
    "                label_list.append(1)\n",
    "        elif sn < data_length:\n",
    "            new_sample = np.zeros(data_length)\n",
    "            # print(st, en, sn, len(cur_wav), item[1])\n",
    "            if en <= len(cur_wav):\n",
    "                new_sample[:sn] = cur_wav[st:en]\n",
    "            else:\n",
    "                new_sample[:sn] = cur_wav[len(cur_wav)-sn:len(cur_wav)]\n",
    "            # if len(new_sample) != sr:\n",
    "            #     raise Exception(\"Error Length.\")\n",
    "            sample_list.append(new_sample)\n",
    "            if label in [6, 7]:\n",
    "                label_list.append(0)\n",
    "            else:\n",
    "                label_list.append(1)\n",
    "        else:\n",
    "            cnt_sum = sn // data_length + 1\n",
    "            res = cnt_sum * data_length - sn\n",
    "            overlap = res // (cnt_sum-1)\n",
    "            st_pos = st\n",
    "            while st_pos + data_length < en:\n",
    "                # if len(cur_wav[st_pos:st_pos+data_length]) < data_length: \n",
    "                #     tmp_length = len(cur_wav[st_pos:st_pos+data_length])\n",
    "                #     print(data_length, tmp_length)\n",
    "                #     # raise Exception(\"Error Length.\")\n",
    "                #     print(\"Error Length.\")\n",
    "                #     new_sample = np.zeros(data_length)\n",
    "                #     new_sample[:tmp_length] = cur_wav[st_pos:st_pos+data_length]\n",
    "                #     sample_list.append(new_sample)\n",
    "                # else:\n",
    "                #     sample_list.append(cur_wav[st_pos:st_pos+data_length])  \n",
    "                sample_list.append(cur_wav[st_pos:st_pos+data_length])                \n",
    "                if label in [6, 7]:\n",
    "                    label_list.append(0)\n",
    "                else:\n",
    "                    label_list.append(1)\n",
    "                st_pos += data_length - overlap\n",
    "            sample_list.append(cur_wav[en-data_length:en])\n",
    "            label_list.append(1)\n",
    "        pre_st, pre_en = st, en\n",
    "    print(\"sound count:{}, all count:{}.\".format(sum(label_list), len(label_list)))\n",
    "    print(\"sample rate of waveform:\", sr_list)\n",
    "    return sample_list, label_list\n",
    "# 添加噪声数据\n",
    "def load_bilinoise_dataset(noise_length=22050, number=1):\n",
    "    # noise_length = None\n",
    "    filter_length = 25\n",
    "    new_noise_list = []\n",
    "    new_label_list = []\n",
    "    flist = []\n",
    "    for item in os.listdir(NOISE_ROOT):\n",
    "        if item[-4:] == \".wav\" and len(item)>=filter_length:\n",
    "            flist.append(item)\n",
    "    random.shuffle(flist)\n",
    "    ind = 0\n",
    "    for item in flist:\n",
    "        cur_fname = NOISE_ROOT+item\n",
    "        cur_wav, sr = librosa.load(cur_fname)\n",
    "        noise_length = sr\n",
    "        L = len(cur_wav)\n",
    "        st_pos = np.random.randint(0, L-noise_length)\n",
    "        new_noise_list.append(cur_wav[st_pos:st_pos+noise_length])\n",
    "        new_label_list.append(0)\n",
    "        # print(NOISE_ROOT+item)\n",
    "        ind += 1\n",
    "        if ind == number:\n",
    "            break\n",
    "    return new_noise_list, new_label_list\n",
    "def addnoise(w, a):\n",
    "    if len(w) != len(a):\n",
    "        raise ValueError(\"The length of waveform and noise are not equal, and can't be added together!\")\n",
    "    return w+a"
   ]
  },
  {
   "cell_type": "markdown",
   "id": "cfe3ec48",
   "metadata": {},
   "source": [
    "### 读取数据"
   ]
  },
  {
   "cell_type": "code",
   "execution_count": null,
   "id": "86b69171-6c36-4940-be78-b0deb25c907a",
   "metadata": {},
   "outputs": [],
   "source": [
    "sample_list, label_list = get_bilicough_dataset()\n",
    "length_list = []\n",
    "for item in sample_list:\n",
    "    if len(item) not in length_list:\n",
    "        length_list.append(len(item))\n",
    "print(\"length of sample:\", length_list)\n",
    "\n",
    "data_length = length_list[0]\n",
    "print(\"data length:\", data_length)"
   ]
  },
  {
   "cell_type": "markdown",
   "id": "b373b0d0-0687-4d33-8337-a3fc61b64b7c",
   "metadata": {},
   "source": [
    "### 创建新的数据平衡标签数 "
   ]
  },
  {
   "cell_type": "code",
   "execution_count": 5,
   "id": "09b90244-0f40-440f-829d-323ef1e8f9c6",
   "metadata": {},
   "outputs": [
    {
     "name": "stdout",
     "output_type": "stream",
     "text": [
      "need new negative sample of number 970\n",
      "number of wave 2796 and label 2796.\n"
     ]
    }
   ],
   "source": [
    "diff_num = 2*sum(label_list) - len(label_list)\n",
    "print(\"need new negative sample of number {}\".format(diff_num))\n",
    "if diff_num > 0:\n",
    "    new_noise_list, new_label_list = load_bilinoise_dataset(noise_length=data_length, number = diff_num)\n",
    "    sample_list.extend(new_noise_list)\n",
    "    label_list.extend(new_label_list)\n",
    "elif diff_num < 0:\n",
    "    # 正样本少就无所谓了\n",
    "    pass\n",
    "print(\"number of wave {} and label {}.\".format(len(sample_list), len(label_list)))\n",
    "print(\"number of positive sample {} and label {}.\".format(len(label_list), sum(label_list)))"
   ]
  },
  {
   "cell_type": "markdown",
   "id": "495f60d7-298c-4810-aff9-821f4428817e",
   "metadata": {},
   "source": [
    "# Cheak End, Detection Start"
   ]
  },
  {
   "cell_type": "markdown",
   "id": "17952ade",
   "metadata": {},
   "source": [
    "# 创建神经网络\n",
    "\n",
    "## 注意到，频域决定类别、幅值和时长是干扰因素，因为想办法在这里入手\n",
    "### 频域多用全连接而不是卷积池化\n",
    "### 幅值多用normalization\n",
    "### 时长采用多尺度叠加"
   ]
  },
  {
   "cell_type": "code",
   "execution_count": 1,
   "id": "468dec9f-c765-4dcc-a2f9-0633c3c1c433",
   "metadata": {},
   "outputs": [
    {
     "name": "stdout",
     "output_type": "stream",
     "text": [
      "The first Layer of the TDNN: kernel_size:1024, stride:488, padding:512\n",
      "Build TDNN Extractor with 6 Conv1d Layers.\n"
     ]
    },
    {
     "data": {
      "text/plain": [
       "VADModel(\n",
       "  (mel_extractor): MelSpectrogram(\n",
       "    (spectrogram): Spectrogram()\n",
       "    (mel_scale): MelScale()\n",
       "  )\n",
       "  (wave_conv): TDNN_Extractor(\n",
       "    (wav2mel): Conv1d(1, 128, kernel_size=(1024,), stride=(488,), padding=(512,), bias=False)\n",
       "    (layer_norm): LayerNorm((46,), eps=1e-05, elementwise_affine=True)\n",
       "    (td_layer1): Conv1d(128, 512, kernel_size=(5,), stride=(1,))\n",
       "    (bn1): LayerNorm((42,), eps=1e-05, elementwise_affine=True)\n",
       "    (td_layer2): Conv1d(512, 512, kernel_size=(3,), stride=(1,), dilation=(2,), groups=512)\n",
       "    (bn2): LayerNorm((38,), eps=1e-05, elementwise_affine=True)\n",
       "    (td_layer3): Conv1d(512, 512, kernel_size=(3,), stride=(1,), dilation=(3,), groups=512)\n",
       "    (bn3): LayerNorm((32,), eps=1e-05, elementwise_affine=True)\n",
       "    (td_layer4): Conv1d(512, 512, kernel_size=(1,), stride=(1,), groups=512)\n",
       "    (bn4): LayerNorm((32,), eps=1e-05, elementwise_affine=True)\n",
       "    (td_layer5): Conv1d(512, 1024, kernel_size=(1,), stride=(1,), groups=512)\n",
       "    (leakyrelu): LeakyReLU(negative_slope=0.2, inplace=True)\n",
       "  )\n",
       "  (mel_conv): Sequential(\n",
       "    (0): Conv2d(1, 16, kernel_size=(3, 3), stride=(1, 1), padding=(1, 1))\n",
       "    (1): BatchNorm2d(16, eps=1e-05, momentum=0.1, affine=True, track_running_stats=True)\n",
       "    (2): SiLU()\n",
       "    (3): Conv2d(16, 16, kernel_size=(3, 3), stride=(1, 1), padding=(1, 1))\n",
       "    (4): BatchNorm2d(16, eps=1e-05, momentum=0.1, affine=True, track_running_stats=True)\n",
       "    (5): SiLU()\n",
       "    (6): AdaptiveAvgPool2d(output_size=(None, 32))\n",
       "  )\n",
       "  (pool): MaxPool1d(kernel_size=4, stride=4, padding=0, dilation=1, ceil_mode=False)\n",
       "  (classifier): Sequential(\n",
       "    (0): Linear(in_features=512, out_features=64, bias=True)\n",
       "    (1): SiLU()\n",
       "    (2): Linear(in_features=64, out_features=32, bias=True)\n",
       "    (3): SiLU()\n",
       "    (4): Linear(in_features=32, out_features=2, bias=True)\n",
       "  )\n",
       ")"
      ]
     },
     "execution_count": 1,
     "metadata": {},
     "output_type": "execute_result"
    }
   ],
   "source": [
    "import sys\n",
    "import os\n",
    "import numpy as np\n",
    "import matplotlib.pyplot as plt\n",
    "import librosa\n",
    "import torch\n",
    "import torch.nn as nn\n",
    "# sys.path.append(r'D:/PythonTorchVITS/MedicalSignal/SoundDL-CoughVID')\n",
    "sys.path.append(r'C:/Program Files (zk)/PythonFiles/AClassification/SoundDL-CoughVID')\n",
    "from chapter2_VADmodel import VADModel\n",
    "save_dir = \"./runs/c2vadmodel/\"\n",
    "device = torch.device(\"cuda\") if torch.cuda.is_available() else torch.device(\"cpu\")\n",
    "vad_model = VADModel()\n",
    "vad_model.load_state_dict(torch.load(save_dir+\"202502141500/vad_model_epoch30.pth\"))\n",
    "vad_model.to(device)\n",
    "vad_model.eval()"
   ]
  },
  {
   "cell_type": "code",
   "execution_count": 29,
   "id": "a636866a-b2aa-417b-bd4f-18be1a5dd222",
   "metadata": {},
   "outputs": [
    {
     "name": "stdout",
     "output_type": "stream",
     "text": [
      "273\n",
      "batch num:9, batch shape:torch.Size([32, 22050])\n"
     ]
    }
   ],
   "source": [
    "# WAVE_ROOT = \"G:/DATAS-Medical/BILIBILICOUGH/\"\n",
    "# testwav, sr = librosa.load(WAVE_ROOT+\"bilicough_009.wav\")\n",
    "testwav, sr = librosa.load(\"F:/DATAS/NEUCOUGHDATA_FULL/20240921133332_audiodata_元音字母a.wav\")\n",
    "N = len(testwav)\n",
    "maxv = max(testwav)\n",
    "seg_list = []\n",
    "st, step, overlap = 0, 22050, 22050//3\n",
    "while st+step<=N:\n",
    "    seg_list.append(testwav[st:st+step])\n",
    "    st = st+step-overlap\n",
    "tmp = testwav[st:]\n",
    "new_tmp = np.zeros(step)\n",
    "st = (step-len(tmp))//2\n",
    "new_tmp[st:st+len(tmp)] = tmp\n",
    "seg_list.append(new_tmp)\n",
    "print(len(seg_list))\n",
    "\n",
    "seg_list = [torch.from_numpy(it) for it in seg_list]\n",
    "\n",
    "batch_size = 32\n",
    "x_batchs = []\n",
    "ind = 0\n",
    "while ind+batch_size < len(seg_list):\n",
    "    x_batchs.append(torch.stack(seg_list[ind:ind+batch_size], dim=0))\n",
    "    ind += batch_size\n",
    "x_batchs.append(torch.stack(seg_list[ind:], dim=0))\n",
    "print(\"batch num:{}, batch shape:{}\".format(len(x_batchs), x_batchs[0].shape))"
   ]
  },
  {
   "cell_type": "code",
   "execution_count": 31,
   "id": "2d0b868f-7b64-4c3d-b30d-302febae4eb2",
   "metadata": {},
   "outputs": [],
   "source": [
    "pred_list = None\n",
    "for batch_id, x_wav in enumerate(x_batchs):\n",
    "    with torch.no_grad():\n",
    "        y_pred = vad_model(x=x_wav.to(device).unsqueeze(1).to(torch.float32))\n",
    "        if pred_list is None:\n",
    "            pred_list = y_pred\n",
    "        else:\n",
    "            pred_list = torch.concat((pred_list, y_pred), dim=0)\n",
    "pred_list = np.argmax(pred_list.data.cpu().numpy(), axis=1)"
   ]
  },
  {
   "cell_type": "code",
   "execution_count": 32,
   "id": "98affce7-4afe-48c9-81bd-3e928d7db44c",
   "metadata": {},
   "outputs": [
    {
     "data": {
      "text/plain": [
       "array([0, 0, 0, 1, 1, 0, 0, 0, 0, 0, 0, 0, 0, 0, 1, 1, 0, 0, 0, 0, 0, 0,\n",
       "       0, 1, 1, 0, 0, 0, 0, 0, 0, 0, 0, 0, 0, 0, 0, 1, 1, 0, 0, 0, 0, 0,\n",
       "       0, 0, 0, 0, 1, 1, 0, 0, 0, 0, 0, 0, 0, 1, 1, 0, 0, 0, 0, 0, 0, 0,\n",
       "       0, 1, 1, 0, 0, 0, 0, 0, 0, 0, 1, 1, 1, 0, 0, 0, 0, 0, 0, 0, 0, 0,\n",
       "       1, 1, 0, 0, 0, 0, 0, 0, 1, 1, 0, 0, 0, 0, 0, 0, 0, 0, 1, 0, 0, 0,\n",
       "       0, 0, 0, 1, 1, 1, 1, 0, 0, 0, 0, 0, 0, 0, 0, 0, 1, 1, 0, 0, 0, 0,\n",
       "       0, 0, 0, 1, 1, 0, 0, 0, 0, 0, 0, 0, 1, 1, 0, 0, 0, 0, 0, 0, 0, 0,\n",
       "       1, 1, 1, 0, 0, 0, 0, 0, 0, 0, 0, 0, 1, 1, 0, 0, 0, 0, 0, 0, 0, 1,\n",
       "       1, 0, 0, 0, 0, 0, 0, 0, 1, 1, 0, 0, 0, 0, 0, 0, 0, 0, 1, 1, 0, 0,\n",
       "       0, 0, 0, 0, 0, 0, 0, 0, 0, 0, 1, 1, 1, 1, 1, 0, 0, 0, 0, 0, 0, 0,\n",
       "       0, 0, 1, 1, 1, 1, 0, 0, 0, 0, 0, 1, 1, 1, 1, 0, 0, 0, 0, 0, 1, 1,\n",
       "       1, 1, 1, 0, 0, 0, 0, 1, 1, 1, 1, 1, 0, 0, 0, 0, 0, 0, 0, 1, 0, 1,\n",
       "       1, 0, 0, 0, 0, 0, 0, 0, 0], dtype=int64)"
      ]
     },
     "execution_count": 32,
     "metadata": {},
     "output_type": "execute_result"
    }
   ],
   "source": [
    "pred_list"
   ]
  },
  {
   "cell_type": "code",
   "execution_count": 18,
   "id": "7c6fceee-1146-4ca3-8dd1-86cef1cfb964",
   "metadata": {},
   "outputs": [],
   "source": [
    "from copy import copy"
   ]
  },
  {
   "cell_type": "code",
   "execution_count": 35,
   "id": "35e6d7e7-741e-45ed-a719-786c47a60b0b",
   "metadata": {},
   "outputs": [
    {
     "name": "stdout",
     "output_type": "stream",
     "text": [
      "data_length: [0 0 0 1 1 0 0 0 0 0 0 0 0 0 1 1 0 0 0 0 0 0 0 1 1 0 0 0 0 0 0 0 0 0 0 0 0\n",
      " 1 1 0 0 0 0 0 0 0 0 0 1 1 0 0 0 0 0 0 0 1 1 0 0 0 0 0 0 0 0 1 1 0 0 0 0 0\n",
      " 0 0 1 1 1 0 0 0 0 0 0 0 0 0 1 1 0 0 0 0 0 0 1 1 0 0 0 0 0 0 0 0 1 0 0 0 0\n",
      " 0 0 1 1 1 1 0 0 0 0 0 0 0 0 0 1 1 0 0 0 0 0 0 0 1 1 0 0 0 0 0 0 0 1 1 0 0\n",
      " 0 0 0 0 0 0 1 1 1 0 0 0 0 0 0 0 0 0 1 1 0 0 0 0 0 0 0 1 1 0 0 0 0 0 0 0 1\n",
      " 1 0 0 0 0 0 0 0 0 1 1 0 0 0 0 0 0 0 0 0 0 0 0 1 1 1 1 1 0 0 0 0 0 0 0 0 0\n",
      " 1 1 1 1 0 0 0 0 0 1 1 1 1 0 0 0 0 0 1 1 1 1 1 0 0 0 0 1 1 1 1 1 0 0 0 0 0\n",
      " 0 0 1 0 1 1 0 0 0 0 0 0 0 0]\n"
     ]
    }
   ],
   "source": [
    "print(\"data_length:\", pred_list)\n",
    "new_pred = copy(pred_list)\n",
    "flag = False\n",
    "for i in range(len(pred_list)):\n",
    "    if pred_list[i] > 0:\n",
    "        if not flag:\n",
    "            new_pred[i-1:i+1] = 1\n",
    "            flag = True\n",
    "        else:\n",
    "            continue\n",
    "    else:\n",
    "        if flag:\n",
    "            new_pred[i:i+1] = 1\n",
    "            # new_pred[i+1] = 0\n",
    "            flag = False\n",
    "        else:\n",
    "            continue\n",
    "for i in range(len(pred_list)-1):\n",
    "    new_pred[i] = new_pred[i+1]\n",
    "new_pred[-1] = 0\n",
    "new_pred = new_pred*maxv\n"
   ]
  },
  {
   "cell_type": "code",
   "execution_count": 37,
   "id": "9cfd41b9-bdc8-445d-8974-f4b9cf55dd6f",
   "metadata": {},
   "outputs": [
    {
     "name": "stdout",
     "output_type": "stream",
     "text": [
      "4020194 4020198\n"
     ]
    },
    {
     "data": {
      "image/png": "[encoded data removed]",
      "text/plain": [
       "<Figure size 640x480 with 1 Axes>"
      ]
     },
     "metadata": {},
     "output_type": "display_data"
    }
   ],
   "source": [
    "plt.figure(1)\n",
    "sig_len = N // len(pred_list)+1\n",
    "curve = []\n",
    "for it in new_pred:\n",
    "    curve.extend([it]*(sig_len))\n",
    "    \n",
    "print(N, len(curve))\n",
    "\n",
    "plt.plot(range(N), testwav)\n",
    "plt.plot(range(len(curve)), curve, c=\"orange\")\n",
    "\n",
    "plt.savefig(save_dir+\"202502141500/vad_detection_neu20240921133332.png\", dpi=300, format=\"png\")"
   ]
  },
  {
   "cell_type": "markdown",
   "id": "2a3abdda-deaf-4791-83a6-8670d2f97627",
   "metadata": {},
   "source": [
    "# End Detection"
   ]
  }
 ],
 "metadata": {
  "kernelspec": {
   "display_name": "Python 3 (ipykernel)",
   "language": "python",
   "name": "python3"
  },
  "language_info": {
   "codemirror_mode": {
    "name": "ipython",
    "version": 3
   },
   "file_extension": ".py",
   "mimetype": "text/x-python",
   "name": "python",
   "nbconvert_exporter": "python",
   "pygments_lexer": "ipython3",
   "version": "3.8.5"
  }
 },
 "nbformat": 4,
 "nbformat_minor": 5
}
