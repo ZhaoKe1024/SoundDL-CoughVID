{
 "cells": [
  {
   "cell_type": "code",
   "execution_count": 1,
   "id": "ed071b00-b39b-4943-943c-9267a6792db4",
   "metadata": {},
   "outputs": [],
   "source": [
    "import sys\n",
    "sys.path.append(r'C:/Program Files (zk)/PythonFiles/AClassification/SoundDL-CoughVID')\n",
    "import os\n",
    "import yaml\n",
    "import time\n",
    "import numpy as np\n",
    "import matplotlib.pyplot as plt\n",
    "from tqdm import tqdm\n",
    "import torch\n",
    "from torch import nn\n",
    "import torch.optim as optim\n",
    "from torch.utils.data import DataLoader\n",
    "import torchaudio\n",
    "from pretrained.wav2vec import Wav2Vec\n",
    "\n",
    "from models.conv_vae import ConvVAE, vae_loss\n",
    "from models.classifiers import LSTM_Classifier, LSTM_Attn_Classifier\n",
    "\n",
    "from modules.loss import FocalLoss\n",
    "from readers.coughvid_reader import CoughVID_Class, CoughVID_Dataset\n",
    "from readers.featurizer import Wave2Mel\n",
    "from readers.collate_fn import collate_fn\n",
    "from tools.plotter import calc_accuracy, plot_heatmap"
   ]
  },
  {
   "cell_type": "code",
   "execution_count": 2,
   "id": "5fddc10a-aa1d-4dc8-942e-402529d24f37",
   "metadata": {},
   "outputs": [],
   "source": [
    "class ConvEncoder(nn.Module):\n",
    "    def __init__(self, inp_shape=(1, 298, 512), n_class=3):\n",
    "        super().__init__()\n",
    "        c, h, w = inp_shape\n",
    "        hh, ww = h, w\n",
    "        self.shapes = [(hh, ww)]\n",
    "        self.encoder = nn.Sequential()\n",
    "        cl = [16, 32, -1, 64, 128, -1, 512]\n",
    "        ksp = [(4, 2, 1), ((5,4),2,1), (2, 2, -1), (4, (1, 2), 1), (4, 2, 1), (2, 2, -1), (3, 2, 0)]\n",
    "        pre_c = 1\n",
    "        for i, (k, s, p) in enumerate(ksp):\n",
    "            if cl[i] == -1:            \n",
    "                self.encoder.append(nn.MaxPool2d(kernel_size=k, stride=s, return_indices=False))\n",
    "                hh /= 2\n",
    "                ww /= 2\n",
    "            else:\n",
    "                self.encoder.append(nn.Conv2d(pre_c, cl[i], kernel_size=k, stride=s, padding=p))\n",
    "                self.encoder.append(nn.BatchNorm2d(cl[i]))\n",
    "                self.encoder.append(nn.ReLU(inplace=True))\n",
    "                pre_c = cl[i]\n",
    "                if isinstance(k, tuple):\n",
    "                    hh = (hh-k[0]+2*p) // s + 1\n",
    "                    ww = (ww-k[1]+2*p) // s + 1\n",
    "                elif isinstance(s, tuple):\n",
    "                    hh = (hh-k+2*p) // s[0] + 1\n",
    "                    ww = (ww-k+2*p) // s[1] + 1\n",
    "                else:\n",
    "                    hh = (hh-k+2*p) // s + 1\n",
    "                    ww = (ww-k+2*p) // s + 1\n",
    "            self.shapes.append((hh, ww))\n",
    "        print(self.shapes)\n",
    "\n",
    "        self.flatten = nn.Flatten(start_dim=1)\n",
    "        print(\"zero later:\", cl[-1]*hh*ww)\n",
    "        hidden_size = [int(cl[-1]*hh*ww), 256, 64, n_class]\n",
    "        self.cls = nn.Sequential()\n",
    "        for i in range(len(hidden_size) - 1):\n",
    "            in_dim = hidden_size[i]\n",
    "            out_dim = hidden_size[i + 1]\n",
    "            self.cls.append(nn.Linear(in_dim, out_dim))\n",
    "            if (i < len(hidden_size) - 2):\n",
    "                self.cls.append(nn.BatchNorm1d(out_dim))\n",
    "                self.cls.append(nn.ReLU(inplace=True))\n",
    "            elif (i == len(hidden_size) - 2):\n",
    "                self.cls.append(nn.BatchNorm1d(out_dim))\n",
    "        \n",
    "        self.softmax = nn.Softmax(dim=1)\n",
    "    def forward(self, x_input):\n",
    "        # feat = self.mp1(self.encoder_conv1(x_input))\n",
    "        # print(feat.shape)\n",
    "        # feat = self.mp2(self.encoder_conv2(feat))\n",
    "        # feat = self.encoder_conv3(feat)\n",
    "        feat = self.encoder(x_input)\n",
    "        # print(\"after encoder:\", feat.shape)\n",
    "        feat = self.flatten(feat)\n",
    "        # print(\"after flatten:\", feat.shape)\n",
    "        feat = self.cls(feat)\n",
    "        # print(\"after cls:\", feat.shape)\n",
    "        pred = self.softmax(feat)\n",
    "        # print(\"after softmax:\", pred.shape)\n",
    "        return pred\n",
    "\n",
    "# x_mel = torch.randn(size=(16, 1, 298, 512))\n",
    "# # print(x_mel.shape)\n",
    "# model = ConvEncoder()\n",
    "# out = model(x_mel)\n",
    "# out.shape"
   ]
  },
  {
   "cell_type": "code",
   "execution_count": 3,
   "id": "10066a04-88cf-4089-8ce1-65f9d569acad",
   "metadata": {},
   "outputs": [
    {
     "name": "stdout",
     "output_type": "stream",
     "text": [
      "原始数据： (6341, 7)\n",
      "             filename\n",
      "status_full          \n",
      "0                2114\n",
      "1                3288\n",
      "2                 939\n",
      "Load Pretrained model Wav2Vec...\n",
      "Create CrossEntropyLoss...\n",
      "All model and loss are on device: cuda\n",
      "[(298, 512), (149, 256), (74, 128), (37.0, 64.0), (36.0, 32.0), (18.0, 16.0), (9.0, 8.0), (4.0, 3.0)]\n",
      "zero later: 6144.0\n",
      "Create TDNN, Adam with lr=1e-3, CosineAnnealingLR Shceduler\n"
     ]
    }
   ],
   "source": [
    "import pandas as pd\n",
    "src_data = pd.read_csv(\"./datasets/waveinfo_labedfine_forcls.csv\", header=0, index_col=0, delimiter=',')\n",
    "print(\"原始数据：\", src_data.shape)\n",
    "print(src_data.iloc[:, [0, 6]].groupby(\"status_full\").count())\n",
    "\n",
    "device = torch.device(\"cuda\") if torch.cuda.is_available() else \"cpu\"\n",
    "\n",
    "encoder = Wav2Vec(pretrained=True).to(device)\n",
    "print(\"Load Pretrained model Wav2Vec...\")\n",
    "\n",
    "criterion = FocalLoss(class_num=3)\n",
    "print(\"Create CrossEntropyLoss...\")\n",
    "\n",
    "print(\"All model and loss are on device:\", device)\n",
    "\n",
    "shapes, class_num = [298, 512], 3\n",
    "\n",
    "model = ConvEncoder().to(device)\n",
    "\n",
    "# model loss_function optimizer scheduler\n",
    "optimizer = torch.optim.SGD(model.parameters(), lr=1e-3)\n",
    "scheduler = torch.optim.lr_scheduler.CyclicLR(optimizer, base_lr=1e-4, max_lr=1e-1, step_size_up=10)\n",
    "print(\"Create TDNN, Adam with lr=1e-3, CosineAnnealingLR Shceduler\")"
   ]
  },
  {
   "cell_type": "code",
   "execution_count": 4,
   "id": "2dea6ed6-386e-4c3f-92c2-dfcc26b3d551",
   "metadata": {},
   "outputs": [
    {
     "name": "stdout",
     "output_type": "stream",
     "text": [
      "num of trainingset:  6044 6044\n",
      "num of testingset: 297 297\n"
     ]
    },
    {
     "name": "stderr",
     "output_type": "stream",
     "text": [
      "Loading:   0%|                                                                                | 0/6044 [00:00<?, ?it/s]C:\\Program Files (zk)\\PythonFiles\\AClassification\\SoundDL-CoughVID\\readers\\audio.py:120: UserWarning: PySoundFile failed. Trying audioread instead.\n",
      "  samples, sample_rate = librosa.load(file)  # , dtype='float32')\n",
      "C:\\Users\\zhaoke\\miniconda3\\envs\\torch-0\\lib\\site-packages\\librosa\\core\\audio.py:183: FutureWarning: librosa.core.audio.__audioread_load\n",
      "\tDeprecated as of librosa version 0.10.0.\n",
      "\tIt will be removed in librosa version 1.0.\n",
      "  y, sr_native = __audioread_load(path, offset, duration, dtype)\n",
      "Loading:   0%|                                                                      | 1/6044 [00:00<1:39:18,  1.01it/s]C:\\Program Files (zk)\\PythonFiles\\AClassification\\SoundDL-CoughVID\\readers\\audio.py:120: UserWarning: PySoundFile failed. Trying audioread instead.\n",
      "  samples, sample_rate = librosa.load(file)  # , dtype='float32')\n",
      "C:\\Users\\zhaoke\\miniconda3\\envs\\torch-0\\lib\\site-packages\\librosa\\core\\audio.py:183: FutureWarning: librosa.core.audio.__audioread_load\n",
      "\tDeprecated as of librosa version 0.10.0.\n",
      "\tIt will be removed in librosa version 1.0.\n",
      "  y, sr_native = __audioread_load(path, offset, duration, dtype)\n",
      "Loading:   0%|                                                                        | 5/6044 [00:01<18:04,  5.57it/s]C:\\Program Files (zk)\\PythonFiles\\AClassification\\SoundDL-CoughVID\\readers\\audio.py:120: UserWarning: PySoundFile failed. Trying audioread instead.\n",
      "  samples, sample_rate = librosa.load(file)  # , dtype='float32')\n",
      "C:\\Users\\zhaoke\\miniconda3\\envs\\torch-0\\lib\\site-packages\\librosa\\core\\audio.py:183: FutureWarning: librosa.core.audio.__audioread_load\n",
      "\tDeprecated as of librosa version 0.10.0.\n",
      "\tIt will be removed in librosa version 1.0.\n",
      "  y, sr_native = __audioread_load(path, offset, duration, dtype)\n",
      "Loading: 100%|█████████████████████████████████████████████████████████████████████| 6044/6044 [06:52<00:00, 14.66it/s]\n"
     ]
    },
    {
     "name": "stdout",
     "output_type": "stream",
     "text": [
      "Train Dataset Creat Completely, cost time: 412.3014051914215\n"
     ]
    },
    {
     "name": "stderr",
     "output_type": "stream",
     "text": [
      "Loading: 100%|███████████████████████████████████████████████████████████████████████| 297/297 [00:20<00:00, 14.37it/s]"
     ]
    },
    {
     "name": "stdout",
     "output_type": "stream",
     "text": [
      "Valid Dataset Creat Completely, cost time: 20.67452073097229\n"
     ]
    },
    {
     "name": "stderr",
     "output_type": "stream",
     "text": [
      "\n"
     ]
    }
   ],
   "source": [
    "from torch.utils.data import DataLoader\n",
    "train_x, train_y, test_x, test_y = CoughVID_Class(isdemo=False)\n",
    "\n",
    "tic = time.time()\n",
    "cough_dataset = CoughVID_Dataset(path_list=train_x, label_list=train_y)\n",
    "toc = time.time()\n",
    "print(\"Train Dataset Creat Completely, cost time:\", toc-tic)\n",
    "\n",
    "tic = time.time()\n",
    "valid_dataset = CoughVID_Dataset(path_list=test_x, label_list=test_y)\n",
    "toc = time.time()\n",
    "print(\"Valid Dataset Creat Completely, cost time:\", toc-tic)"
   ]
  },
  {
   "cell_type": "code",
   "execution_count": 5,
   "id": "8859e808-dd9d-4250-a167-4ddd1372cb34",
   "metadata": {},
   "outputs": [],
   "source": [
    "configs = {\n",
    "    \"run_save_dir\": \"./runs/wav2vec_coughvid/\",\n",
    "    \"model\":{\n",
    "        \"num_class\": 3,\n",
    "        \"input_length\": 94,\n",
    "        \"wav_length\": 48000,\n",
    "        \"input_dim\": 512,\n",
    "        \"n_mels\": 128,\n",
    "        },\n",
    "    \"fit\":{\n",
    "        \"batch_size\": 64,\n",
    "        \"epochs\" : 23,\n",
    "        \"start_scheduler_epoch\": 6\n",
    "        },\n",
    "}\n",
    "\n",
    "num_epoch = configs[\"fit\"][\"epochs\"]"
   ]
  },
  {
   "cell_type": "code",
   "execution_count": 6,
   "id": "cff1e287-db31-4141-85c6-214f186ea6f1",
   "metadata": {},
   "outputs": [
    {
     "name": "stdout",
     "output_type": "stream",
     "text": [
      "Create Training Loader and Valid Loader.\n"
     ]
    }
   ],
   "source": [
    "train_loader = DataLoader(cough_dataset, batch_size=configs[\"fit\"][\"batch_size\"], shuffle=True,\n",
    "                          collate_fn=collate_fn)\n",
    "valid_loader = DataLoader(valid_dataset, batch_size=configs[\"fit\"][\"batch_size\"], shuffle=True,\n",
    "                          collate_fn=collate_fn)\n",
    "print(\"Create Training Loader and Valid Loader.\")"
   ]
  },
  {
   "cell_type": "code",
   "execution_count": 7,
   "id": "80992f6f-f216-43b1-961f-1e15bc44b32b",
   "metadata": {},
   "outputs": [
    {
     "name": "stdout",
     "output_type": "stream",
     "text": [
      "tensor([1, 2, 1, 1, 1, 1, 1, 1, 2, 1, 2, 1, 2, 0, 1, 1, 2, 0, 1, 2, 1, 1, 1, 1,\n",
      "        1, 2, 1, 0, 1, 2, 1, 0, 0, 1, 0, 1, 2, 0, 0, 1, 0, 1, 1, 0, 2, 0, 0, 0,\n",
      "        0, 1, 0, 0, 2, 0, 0, 0, 2, 1, 1, 1, 1, 1, 2, 2])\n",
      "torch.Size([64, 1, 298, 512])\n",
      "torch.Size([64, 3])\n",
      "tensor([1, 0, 0, 0, 1, 1, 1, 1, 1, 0, 0, 1, 0, 1, 1, 1, 1, 0, 0, 0, 0, 0, 1, 0,\n",
      "        2, 0, 0, 0, 0, 1, 0, 0, 1, 1, 1, 1, 1, 1, 1, 0, 1, 1, 1, 1, 2, 0, 1, 1,\n",
      "        1, 1, 0, 1, 0, 1, 1, 1, 1, 1, 1, 2, 1, 0, 0, 1])\n",
      "torch.Size([64, 1, 298, 512])\n",
      "torch.Size([64, 3])\n",
      "tensor([2, 1, 0, 1, 0, 0, 2, 1, 1, 1, 1, 2, 0, 1, 1, 1, 1, 1, 0, 1, 1, 1, 2, 0,\n",
      "        1, 1, 1, 1, 1, 1, 1, 1, 1, 0, 2, 1, 1, 1, 0, 0, 1, 0, 1, 0, 0, 0, 0, 0,\n",
      "        2, 1, 2, 1, 1, 0, 1, 1, 0, 1, 0, 0, 1, 1, 0, 1])\n",
      "torch.Size([64, 1, 298, 512])\n",
      "torch.Size([64, 3])\n"
     ]
    }
   ],
   "source": [
    "for i, (x_wav, y_label, max_len_rate) in enumerate(train_loader):\n",
    "    # print(x_wav.shape)\n",
    "    print(y_label)\n",
    "    # print(max_len_rate)\n",
    "    x_wav = x_wav.to(device)\n",
    "    x_mel = encoder(x_wav).transpose(1,2).unsqueeze(1)\n",
    "    print(x_mel.shape)\n",
    "    print(model(x_mel).shape)\n",
    "    if i>1:\n",
    "        break"
   ]
  },
  {
   "cell_type": "code",
   "execution_count": 8,
   "id": "ad552013-80d2-4205-8a40-32c912e49011",
   "metadata": {},
   "outputs": [
    {
     "name": "stdout",
     "output_type": "stream",
     "text": [
      "创建运行保存文件 ./runs/wav2vec_coughvid/202404301457_cnn_focalloss_bs64/\n"
     ]
    }
   ],
   "source": [
    "timestr = time.strftime(\"%Y%m%d%H%M\", time.localtime())\n",
    "run_save_dir = configs[\"run_save_dir\"] + timestr + f'_cnn_focalloss_bs64/'\n",
    "os.makedirs(run_save_dir, exist_ok=True)\n",
    "print(\"创建运行保存文件\", run_save_dir)\n",
    "with open(\"setting.txt\", 'w', encoding=\"utf_8\") as fout:\n",
    "    fout.write(\"这次def __getitem__(self, ind):里面写几行：\\n\")\n",
    "    fout.write(\"tmpseg = copy(self.wav_list[ind])\\n\")\n",
    "    fout.write(\"tmpseg.crop(duration=3.0, mode=\\\"train\\\")\\n\")\n",
    "    fout.write(\"tmpseg.wav_padding()\\n\")\n",
    "    fout.write(\"assert len(tmpseg) == 48000, \\\"Error Length\\\"\\n\")\n",
    "    fout.write(\"return tmpseg.samples, self.label_list[ind]\\n\")\n",
    "    fout.write(\"，虽然慢，但是随机切片是必要的，或者先读，后续再切似乎更快吧？\")\n",
    "    fout.write(\"batch_size调到64，希望能缓解样本标签不均衡的问题？\")"
   ]
  },
  {
   "cell_type": "code",
   "execution_count": 9,
   "id": "c6ef0799-5578-4cd4-bc67-805247399647",
   "metadata": {},
   "outputs": [
    {
     "name": "stderr",
     "output_type": "stream",
     "text": [
      "Training:   0%|                                                                                 | 0/95 [00:00<?, ?it/s]C:\\Users\\zhaoke\\AppData\\Local\\Temp\\ipykernel_13772\\2534320187.py:10: UserWarning: To copy construct from a tensor, it is recommended to use sourceTensor.clone().detach() or sourceTensor.clone().detach().requires_grad_(True), rather than torch.tensor(sourceTensor).\n",
      "  y_label = torch.tensor(y_label, device=device)\n",
      "Training:   1%|▊                                                                        | 1/95 [00:00<01:01,  1.52it/s]"
     ]
    },
    {
     "name": "stdout",
     "output_type": "stream",
     "text": [
      "Epoch[0], mtid pred loss:0.5371\n"
     ]
    },
    {
     "name": "stderr",
     "output_type": "stream",
     "text": [
      "Training:  65%|██████████████████████████████████████████████▉                         | 62/95 [00:09<00:04,  6.67it/s]"
     ]
    },
    {
     "name": "stdout",
     "output_type": "stream",
     "text": [
      "Epoch[0], mtid pred loss:0.5383\n"
     ]
    },
    {
     "name": "stderr",
     "output_type": "stream",
     "text": [
      "Training: 100%|████████████████████████████████████████████████████████████████████████| 95/95 [00:14<00:00,  6.49it/s]\n",
      "Validate:   0%|                                                                                  | 0/5 [00:00<?, ?it/s]C:\\Users\\zhaoke\\AppData\\Local\\Temp\\ipykernel_13772\\2534320187.py:49: UserWarning: To copy construct from a tensor, it is recommended to use sourceTensor.clone().detach() or sourceTensor.clone().detach().requires_grad_(True), rather than torch.tensor(sourceTensor).\n",
      "  y_label = torch.tensor(y_label, device=device)\n",
      "Validate:  40%|█████████████████████████████▌                                            | 2/5 [00:00<00:00, 17.29it/s]"
     ]
    },
    {
     "name": "stdout",
     "output_type": "stream",
     "text": [
      "torch.Size([64, 1, 298, 512])\n",
      "torch.Size([64, 1, 298, 512])\n",
      "torch.Size([64, 1, 298, 512])\n"
     ]
    },
    {
     "name": "stderr",
     "output_type": "stream",
     "text": [
      "Validate: 100%|██████████████████████████████████████████████████████████████████████████| 5/5 [00:00<00:00, 10.81it/s]"
     ]
    },
    {
     "name": "stdout",
     "output_type": "stream",
     "text": [
      "torch.Size([64, 1, 298, 512])\n",
      "torch.Size([41, 1, 298, 512])\n"
     ]
    },
    {
     "name": "stderr",
     "output_type": "stream",
     "text": [
      "\n"
     ]
    },
    {
     "name": "stdout",
     "output_type": "stream",
     "text": [
      "heatmap_input shape: torch.Size([297, 3])\n",
      "lables shape: torch.Size([297])\n",
      "(297, 3)\n",
      "acc: 0.32996632996632996\n",
      "precision: ['0.3491', '0.3200', '0.3190']\n",
      "recall: ['0.3737', '0.2424', '0.3737']\n"
     ]
    },
    {
     "name": "stderr",
     "output_type": "stream",
     "text": [
      "Training:   0%|                                                                                 | 0/95 [00:00<?, ?it/s]C:\\Users\\zhaoke\\AppData\\Local\\Temp\\ipykernel_13772\\2534320187.py:10: UserWarning: To copy construct from a tensor, it is recommended to use sourceTensor.clone().detach() or sourceTensor.clone().detach().requires_grad_(True), rather than torch.tensor(sourceTensor).\n",
      "  y_label = torch.tensor(y_label, device=device)\n",
      "Training:   3%|██▎                                                                      | 3/95 [00:00<00:10,  8.76it/s]"
     ]
    },
    {
     "name": "stdout",
     "output_type": "stream",
     "text": [
      "Epoch[1], mtid pred loss:0.4825\n"
     ]
    },
    {
     "name": "stderr",
     "output_type": "stream",
     "text": [
      "Training:  65%|██████████████████████████████████████████████▉                         | 62/95 [00:09<00:04,  6.74it/s]"
     ]
    },
    {
     "name": "stdout",
     "output_type": "stream",
     "text": [
      "Epoch[1], mtid pred loss:0.4817\n"
     ]
    },
    {
     "name": "stderr",
     "output_type": "stream",
     "text": [
      "Training: 100%|████████████████████████████████████████████████████████████████████████| 95/95 [00:14<00:00,  6.72it/s]\n",
      "Validate:   0%|                                                                                  | 0/5 [00:00<?, ?it/s]C:\\Users\\zhaoke\\AppData\\Local\\Temp\\ipykernel_13772\\2534320187.py:49: UserWarning: To copy construct from a tensor, it is recommended to use sourceTensor.clone().detach() or sourceTensor.clone().detach().requires_grad_(True), rather than torch.tensor(sourceTensor).\n",
      "  y_label = torch.tensor(y_label, device=device)\n",
      "Validate:  40%|█████████████████████████████▌                                            | 2/5 [00:00<00:00, 18.08it/s]"
     ]
    },
    {
     "name": "stdout",
     "output_type": "stream",
     "text": [
      "torch.Size([64, 1, 298, 512])\n",
      "torch.Size([64, 1, 298, 512])\n",
      "torch.Size([64, 1, 298, 512])\n",
      "torch.Size([64, 1, 298, 512])\n"
     ]
    },
    {
     "name": "stderr",
     "output_type": "stream",
     "text": [
      "Validate: 100%|██████████████████████████████████████████████████████████████████████████| 5/5 [00:00<00:00, 18.44it/s]\n"
     ]
    },
    {
     "name": "stdout",
     "output_type": "stream",
     "text": [
      "torch.Size([41, 1, 298, 512])\n",
      "heatmap_input shape: torch.Size([297, 3])\n",
      "lables shape: torch.Size([297])\n",
      "(297, 3)\n",
      "acc: 0.36363636363636365\n",
      "precision: ['0.3920', '0.3678', '0.3176']\n",
      "recall: ['0.4949', '0.3232', '0.2727']\n"
     ]
    },
    {
     "name": "stderr",
     "output_type": "stream",
     "text": [
      "Training:   0%|                                                                                 | 0/95 [00:00<?, ?it/s]C:\\Users\\zhaoke\\AppData\\Local\\Temp\\ipykernel_13772\\2534320187.py:10: UserWarning: To copy construct from a tensor, it is recommended to use sourceTensor.clone().detach() or sourceTensor.clone().detach().requires_grad_(True), rather than torch.tensor(sourceTensor).\n",
      "  y_label = torch.tensor(y_label, device=device)\n",
      "Training:   3%|██▎                                                                      | 3/95 [00:00<00:10,  8.92it/s]"
     ]
    },
    {
     "name": "stdout",
     "output_type": "stream",
     "text": [
      "Epoch[2], mtid pred loss:0.4184\n"
     ]
    },
    {
     "name": "stderr",
     "output_type": "stream",
     "text": [
      "Training:  65%|██████████████████████████████████████████████▉                         | 62/95 [00:09<00:04,  6.66it/s]"
     ]
    },
    {
     "name": "stdout",
     "output_type": "stream",
     "text": [
      "Epoch[2], mtid pred loss:0.4286\n"
     ]
    },
    {
     "name": "stderr",
     "output_type": "stream",
     "text": [
      "Training: 100%|████████████████████████████████████████████████████████████████████████| 95/95 [00:13<00:00,  6.80it/s]\n",
      "Validate:   0%|                                                                                  | 0/5 [00:00<?, ?it/s]C:\\Users\\zhaoke\\AppData\\Local\\Temp\\ipykernel_13772\\2534320187.py:49: UserWarning: To copy construct from a tensor, it is recommended to use sourceTensor.clone().detach() or sourceTensor.clone().detach().requires_grad_(True), rather than torch.tensor(sourceTensor).\n",
      "  y_label = torch.tensor(y_label, device=device)\n",
      "Validate:  40%|█████████████████████████████▌                                            | 2/5 [00:00<00:00, 18.02it/s]"
     ]
    },
    {
     "name": "stdout",
     "output_type": "stream",
     "text": [
      "torch.Size([64, 1, 298, 512])\n",
      "torch.Size([64, 1, 298, 512])\n",
      "torch.Size([64, 1, 298, 512])\n",
      "torch.Size([64, 1, 298, 512])\n"
     ]
    },
    {
     "name": "stderr",
     "output_type": "stream",
     "text": [
      "Validate: 100%|██████████████████████████████████████████████████████████████████████████| 5/5 [00:00<00:00, 19.16it/s]\n"
     ]
    },
    {
     "name": "stdout",
     "output_type": "stream",
     "text": [
      "torch.Size([41, 1, 298, 512])\n",
      "heatmap_input shape: torch.Size([297, 3])\n",
      "lables shape: torch.Size([297])\n",
      "(297, 3)\n",
      "acc: 0.367003367003367\n",
      "precision: ['0.3852', '0.3875', '0.3263']\n",
      "recall: ['0.4747', '0.3131', '0.3131']\n"
     ]
    },
    {
     "name": "stderr",
     "output_type": "stream",
     "text": [
      "Training:   0%|                                                                                 | 0/95 [00:00<?, ?it/s]C:\\Users\\zhaoke\\AppData\\Local\\Temp\\ipykernel_13772\\2534320187.py:10: UserWarning: To copy construct from a tensor, it is recommended to use sourceTensor.clone().detach() or sourceTensor.clone().detach().requires_grad_(True), rather than torch.tensor(sourceTensor).\n",
      "  y_label = torch.tensor(y_label, device=device)\n",
      "Training:   1%|▊                                                                        | 1/95 [00:00<00:14,  6.43it/s]"
     ]
    },
    {
     "name": "stdout",
     "output_type": "stream",
     "text": [
      "Epoch[3], mtid pred loss:0.4295\n"
     ]
    },
    {
     "name": "stderr",
     "output_type": "stream",
     "text": [
      "Training:  65%|██████████████████████████████████████████████▉                         | 62/95 [00:09<00:04,  6.73it/s]"
     ]
    },
    {
     "name": "stdout",
     "output_type": "stream",
     "text": [
      "Epoch[3], mtid pred loss:0.4205\n"
     ]
    },
    {
     "name": "stderr",
     "output_type": "stream",
     "text": [
      "Training: 100%|████████████████████████████████████████████████████████████████████████| 95/95 [00:14<00:00,  6.69it/s]\n",
      "Validate:   0%|                                                                                  | 0/5 [00:00<?, ?it/s]C:\\Users\\zhaoke\\AppData\\Local\\Temp\\ipykernel_13772\\2534320187.py:49: UserWarning: To copy construct from a tensor, it is recommended to use sourceTensor.clone().detach() or sourceTensor.clone().detach().requires_grad_(True), rather than torch.tensor(sourceTensor).\n",
      "  y_label = torch.tensor(y_label, device=device)\n",
      "Validate:  40%|█████████████████████████████▌                                            | 2/5 [00:00<00:00, 19.05it/s]"
     ]
    },
    {
     "name": "stdout",
     "output_type": "stream",
     "text": [
      "torch.Size([64, 1, 298, 512])\n",
      "torch.Size([64, 1, 298, 512])\n",
      "torch.Size([64, 1, 298, 512])\n",
      "torch.Size([64, 1, 298, 512])\n"
     ]
    },
    {
     "name": "stderr",
     "output_type": "stream",
     "text": [
      "Validate: 100%|██████████████████████████████████████████████████████████████████████████| 5/5 [00:00<00:00, 18.61it/s]\n"
     ]
    },
    {
     "name": "stdout",
     "output_type": "stream",
     "text": [
      "torch.Size([41, 1, 298, 512])\n",
      "heatmap_input shape: torch.Size([297, 3])\n",
      "lables shape: torch.Size([297])\n",
      "(297, 3)\n",
      "acc: 0.38047138047138046\n",
      "precision: ['0.3879', '0.4062', '0.3412']\n",
      "recall: ['0.4545', '0.3939', '0.2929']\n"
     ]
    },
    {
     "name": "stderr",
     "output_type": "stream",
     "text": [
      "Training:   0%|                                                                                 | 0/95 [00:00<?, ?it/s]C:\\Users\\zhaoke\\AppData\\Local\\Temp\\ipykernel_13772\\2534320187.py:10: UserWarning: To copy construct from a tensor, it is recommended to use sourceTensor.clone().detach() or sourceTensor.clone().detach().requires_grad_(True), rather than torch.tensor(sourceTensor).\n",
      "  y_label = torch.tensor(y_label, device=device)\n",
      "Training:   3%|██▎                                                                      | 3/95 [00:00<00:10,  8.65it/s]"
     ]
    },
    {
     "name": "stdout",
     "output_type": "stream",
     "text": [
      "Epoch[4], mtid pred loss:0.3601\n"
     ]
    },
    {
     "name": "stderr",
     "output_type": "stream",
     "text": [
      "Training:  65%|██████████████████████████████████████████████▉                         | 62/95 [00:09<00:05,  6.59it/s]"
     ]
    },
    {
     "name": "stdout",
     "output_type": "stream",
     "text": [
      "Epoch[4], mtid pred loss:0.3534\n"
     ]
    },
    {
     "name": "stderr",
     "output_type": "stream",
     "text": [
      "Training: 100%|████████████████████████████████████████████████████████████████████████| 95/95 [00:14<00:00,  6.69it/s]\n",
      "Validate:   0%|                                                                                  | 0/5 [00:00<?, ?it/s]C:\\Users\\zhaoke\\AppData\\Local\\Temp\\ipykernel_13772\\2534320187.py:49: UserWarning: To copy construct from a tensor, it is recommended to use sourceTensor.clone().detach() or sourceTensor.clone().detach().requires_grad_(True), rather than torch.tensor(sourceTensor).\n",
      "  y_label = torch.tensor(y_label, device=device)\n",
      "Validate:  40%|█████████████████████████████▌                                            | 2/5 [00:00<00:00, 17.85it/s]"
     ]
    },
    {
     "name": "stdout",
     "output_type": "stream",
     "text": [
      "torch.Size([64, 1, 298, 512])\n",
      "torch.Size([64, 1, 298, 512])\n",
      "torch.Size([64, 1, 298, 512])\n",
      "torch.Size([64, 1, 298, 512])\n"
     ]
    },
    {
     "name": "stderr",
     "output_type": "stream",
     "text": [
      "Validate: 100%|██████████████████████████████████████████████████████████████████████████| 5/5 [00:00<00:00, 18.82it/s]\n"
     ]
    },
    {
     "name": "stdout",
     "output_type": "stream",
     "text": [
      "torch.Size([41, 1, 298, 512])\n",
      "heatmap_input shape: torch.Size([297, 3])\n",
      "lables shape: torch.Size([297])\n",
      "(297, 3)\n",
      "acc: 0.39057239057239057\n",
      "precision: ['0.4153', '0.3854', '0.3614']\n",
      "recall: ['0.4949', '0.3737', '0.3030']\n"
     ]
    },
    {
     "name": "stderr",
     "output_type": "stream",
     "text": [
      "Training:   0%|                                                                                 | 0/95 [00:00<?, ?it/s]C:\\Users\\zhaoke\\AppData\\Local\\Temp\\ipykernel_13772\\2534320187.py:10: UserWarning: To copy construct from a tensor, it is recommended to use sourceTensor.clone().detach() or sourceTensor.clone().detach().requires_grad_(True), rather than torch.tensor(sourceTensor).\n",
      "  y_label = torch.tensor(y_label, device=device)\n",
      "Training:   3%|██▎                                                                      | 3/95 [00:00<00:10,  8.82it/s]"
     ]
    },
    {
     "name": "stdout",
     "output_type": "stream",
     "text": [
      "Epoch[5], mtid pred loss:0.3622\n"
     ]
    },
    {
     "name": "stderr",
     "output_type": "stream",
     "text": [
      "Training:  65%|██████████████████████████████████████████████▉                         | 62/95 [00:09<00:04,  6.70it/s]"
     ]
    },
    {
     "name": "stdout",
     "output_type": "stream",
     "text": [
      "Epoch[5], mtid pred loss:0.3654\n"
     ]
    },
    {
     "name": "stderr",
     "output_type": "stream",
     "text": [
      "Training: 100%|████████████████████████████████████████████████████████████████████████| 95/95 [00:13<00:00,  6.82it/s]\n",
      "Validate:   0%|                                                                                  | 0/5 [00:00<?, ?it/s]C:\\Users\\zhaoke\\AppData\\Local\\Temp\\ipykernel_13772\\2534320187.py:49: UserWarning: To copy construct from a tensor, it is recommended to use sourceTensor.clone().detach() or sourceTensor.clone().detach().requires_grad_(True), rather than torch.tensor(sourceTensor).\n",
      "  y_label = torch.tensor(y_label, device=device)\n",
      "Validate:  40%|█████████████████████████████▌                                            | 2/5 [00:00<00:00, 17.24it/s]"
     ]
    },
    {
     "name": "stdout",
     "output_type": "stream",
     "text": [
      "torch.Size([64, 1, 298, 512])\n",
      "torch.Size([64, 1, 298, 512])\n",
      "torch.Size([64, 1, 298, 512])\n",
      "torch.Size([64, 1, 298, 512])\n"
     ]
    },
    {
     "name": "stderr",
     "output_type": "stream",
     "text": [
      "Validate: 100%|██████████████████████████████████████████████████████████████████████████| 5/5 [00:00<00:00, 18.49it/s]\n"
     ]
    },
    {
     "name": "stdout",
     "output_type": "stream",
     "text": [
      "torch.Size([41, 1, 298, 512])\n",
      "heatmap_input shape: torch.Size([297, 3])\n",
      "lables shape: torch.Size([297])\n",
      "(297, 3)\n",
      "acc: 0.3569023569023569\n",
      "precision: ['0.3667', '0.3933', '0.3068']\n",
      "recall: ['0.4444', '0.3535', '0.2727']\n"
     ]
    },
    {
     "name": "stderr",
     "output_type": "stream",
     "text": [
      "Training:   0%|                                                                                 | 0/95 [00:00<?, ?it/s]C:\\Users\\zhaoke\\AppData\\Local\\Temp\\ipykernel_13772\\2534320187.py:10: UserWarning: To copy construct from a tensor, it is recommended to use sourceTensor.clone().detach() or sourceTensor.clone().detach().requires_grad_(True), rather than torch.tensor(sourceTensor).\n",
      "  y_label = torch.tensor(y_label, device=device)\n",
      "Training:   1%|▊                                                                        | 1/95 [00:00<00:14,  6.69it/s]"
     ]
    },
    {
     "name": "stdout",
     "output_type": "stream",
     "text": [
      "Epoch[6], mtid pred loss:0.3393\n"
     ]
    },
    {
     "name": "stderr",
     "output_type": "stream",
     "text": [
      "Training:  65%|██████████████████████████████████████████████▉                         | 62/95 [00:09<00:05,  6.39it/s]"
     ]
    },
    {
     "name": "stdout",
     "output_type": "stream",
     "text": [
      "Epoch[6], mtid pred loss:0.3054\n"
     ]
    },
    {
     "name": "stderr",
     "output_type": "stream",
     "text": [
      "Training: 100%|████████████████████████████████████████████████████████████████████████| 95/95 [00:14<00:00,  6.71it/s]\n",
      "Validate:   0%|                                                                                  | 0/5 [00:00<?, ?it/s]C:\\Users\\zhaoke\\AppData\\Local\\Temp\\ipykernel_13772\\2534320187.py:49: UserWarning: To copy construct from a tensor, it is recommended to use sourceTensor.clone().detach() or sourceTensor.clone().detach().requires_grad_(True), rather than torch.tensor(sourceTensor).\n",
      "  y_label = torch.tensor(y_label, device=device)\n",
      "Validate:  40%|█████████████████████████████▌                                            | 2/5 [00:00<00:00, 18.12it/s]"
     ]
    },
    {
     "name": "stdout",
     "output_type": "stream",
     "text": [
      "torch.Size([64, 1, 298, 512])\n",
      "torch.Size([64, 1, 298, 512])\n",
      "torch.Size([64, 1, 298, 512])\n",
      "torch.Size([64, 1, 298, 512])\n"
     ]
    },
    {
     "name": "stderr",
     "output_type": "stream",
     "text": [
      "Validate: 100%|██████████████████████████████████████████████████████████████████████████| 5/5 [00:00<00:00, 19.58it/s]\n"
     ]
    },
    {
     "name": "stdout",
     "output_type": "stream",
     "text": [
      "torch.Size([41, 1, 298, 512])\n",
      "heatmap_input shape: torch.Size([297, 3])\n",
      "lables shape: torch.Size([297])\n",
      "(297, 3)\n",
      "acc: 0.38047138047138046\n",
      "precision: ['0.3879', '0.4286', '0.3222']\n",
      "recall: ['0.4545', '0.3939', '0.2929']\n"
     ]
    },
    {
     "name": "stderr",
     "output_type": "stream",
     "text": [
      "Training:   0%|                                                                                 | 0/95 [00:00<?, ?it/s]C:\\Users\\zhaoke\\AppData\\Local\\Temp\\ipykernel_13772\\2534320187.py:10: UserWarning: To copy construct from a tensor, it is recommended to use sourceTensor.clone().detach() or sourceTensor.clone().detach().requires_grad_(True), rather than torch.tensor(sourceTensor).\n",
      "  y_label = torch.tensor(y_label, device=device)\n",
      "Training:   3%|██▎                                                                      | 3/95 [00:00<00:10,  8.66it/s]"
     ]
    },
    {
     "name": "stdout",
     "output_type": "stream",
     "text": [
      "Epoch[7], mtid pred loss:0.3203\n"
     ]
    },
    {
     "name": "stderr",
     "output_type": "stream",
     "text": [
      "Training:  65%|██████████████████████████████████████████████▉                         | 62/95 [00:09<00:04,  6.81it/s]"
     ]
    },
    {
     "name": "stdout",
     "output_type": "stream",
     "text": [
      "Epoch[7], mtid pred loss:0.4361\n"
     ]
    },
    {
     "name": "stderr",
     "output_type": "stream",
     "text": [
      "Training: 100%|████████████████████████████████████████████████████████████████████████| 95/95 [00:14<00:00,  6.72it/s]\n",
      "Validate:   0%|                                                                                  | 0/5 [00:00<?, ?it/s]C:\\Users\\zhaoke\\AppData\\Local\\Temp\\ipykernel_13772\\2534320187.py:49: UserWarning: To copy construct from a tensor, it is recommended to use sourceTensor.clone().detach() or sourceTensor.clone().detach().requires_grad_(True), rather than torch.tensor(sourceTensor).\n",
      "  y_label = torch.tensor(y_label, device=device)\n",
      "Validate:  40%|█████████████████████████████▌                                            | 2/5 [00:00<00:00, 17.43it/s]"
     ]
    },
    {
     "name": "stdout",
     "output_type": "stream",
     "text": [
      "torch.Size([64, 1, 298, 512])\n",
      "torch.Size([64, 1, 298, 512])\n",
      "torch.Size([64, 1, 298, 512])\n",
      "torch.Size([64, 1, 298, 512])\n"
     ]
    },
    {
     "name": "stderr",
     "output_type": "stream",
     "text": [
      "Validate: 100%|██████████████████████████████████████████████████████████████████████████| 5/5 [00:00<00:00, 18.65it/s]\n"
     ]
    },
    {
     "name": "stdout",
     "output_type": "stream",
     "text": [
      "torch.Size([41, 1, 298, 512])\n",
      "heatmap_input shape: torch.Size([297, 3])\n",
      "lables shape: torch.Size([297])\n",
      "(297, 3)\n",
      "acc: 0.42424242424242425\n",
      "precision: ['0.3952', '0.4508', '0.6250']\n",
      "recall: ['0.6667', '0.5556', '0.0505']\n"
     ]
    },
    {
     "name": "stderr",
     "output_type": "stream",
     "text": [
      "Training:   0%|                                                                                 | 0/95 [00:00<?, ?it/s]C:\\Users\\zhaoke\\AppData\\Local\\Temp\\ipykernel_13772\\2534320187.py:10: UserWarning: To copy construct from a tensor, it is recommended to use sourceTensor.clone().detach() or sourceTensor.clone().detach().requires_grad_(True), rather than torch.tensor(sourceTensor).\n",
      "  y_label = torch.tensor(y_label, device=device)\n",
      "Training:   3%|██▎                                                                      | 3/95 [00:00<00:10,  8.97it/s]"
     ]
    },
    {
     "name": "stdout",
     "output_type": "stream",
     "text": [
      "Epoch[8], mtid pred loss:0.3582\n"
     ]
    },
    {
     "name": "stderr",
     "output_type": "stream",
     "text": [
      "Training:  65%|██████████████████████████████████████████████▉                         | 62/95 [00:09<00:04,  6.73it/s]"
     ]
    },
    {
     "name": "stdout",
     "output_type": "stream",
     "text": [
      "Epoch[8], mtid pred loss:0.4629\n"
     ]
    },
    {
     "name": "stderr",
     "output_type": "stream",
     "text": [
      "Training: 100%|████████████████████████████████████████████████████████████████████████| 95/95 [00:13<00:00,  6.81it/s]\n",
      "Validate:   0%|                                                                                  | 0/5 [00:00<?, ?it/s]C:\\Users\\zhaoke\\AppData\\Local\\Temp\\ipykernel_13772\\2534320187.py:49: UserWarning: To copy construct from a tensor, it is recommended to use sourceTensor.clone().detach() or sourceTensor.clone().detach().requires_grad_(True), rather than torch.tensor(sourceTensor).\n",
      "  y_label = torch.tensor(y_label, device=device)\n",
      "Validate:  40%|█████████████████████████████▌                                            | 2/5 [00:00<00:00, 18.08it/s]"
     ]
    },
    {
     "name": "stdout",
     "output_type": "stream",
     "text": [
      "torch.Size([64, 1, 298, 512])\n",
      "torch.Size([64, 1, 298, 512])\n",
      "torch.Size([64, 1, 298, 512])\n",
      "torch.Size([64, 1, 298, 512])\n"
     ]
    },
    {
     "name": "stderr",
     "output_type": "stream",
     "text": [
      "Validate: 100%|██████████████████████████████████████████████████████████████████████████| 5/5 [00:00<00:00, 19.19it/s]\n"
     ]
    },
    {
     "name": "stdout",
     "output_type": "stream",
     "text": [
      "torch.Size([41, 1, 298, 512])\n",
      "heatmap_input shape: torch.Size([297, 3])\n",
      "lables shape: torch.Size([297])\n",
      "(297, 3)\n",
      "acc: 0.38047138047138046\n",
      "precision: ['0.5200', '0.3541', '0.6000']\n",
      "recall: ['0.1313', '0.9192', '0.0909']\n"
     ]
    },
    {
     "name": "stderr",
     "output_type": "stream",
     "text": [
      "Training:   0%|                                                                                 | 0/95 [00:00<?, ?it/s]C:\\Users\\zhaoke\\AppData\\Local\\Temp\\ipykernel_13772\\2534320187.py:10: UserWarning: To copy construct from a tensor, it is recommended to use sourceTensor.clone().detach() or sourceTensor.clone().detach().requires_grad_(True), rather than torch.tensor(sourceTensor).\n",
      "  y_label = torch.tensor(y_label, device=device)\n",
      "Training:   3%|██▎                                                                      | 3/95 [00:00<00:10,  8.81it/s]"
     ]
    },
    {
     "name": "stdout",
     "output_type": "stream",
     "text": [
      "Epoch[9], mtid pred loss:0.3903\n"
     ]
    },
    {
     "name": "stderr",
     "output_type": "stream",
     "text": [
      "Training:  65%|██████████████████████████████████████████████▉                         | 62/95 [00:09<00:04,  6.77it/s]"
     ]
    },
    {
     "name": "stdout",
     "output_type": "stream",
     "text": [
      "Epoch[9], mtid pred loss:0.3844\n"
     ]
    },
    {
     "name": "stderr",
     "output_type": "stream",
     "text": [
      "Training: 100%|████████████████████████████████████████████████████████████████████████| 95/95 [00:14<00:00,  6.78it/s]\n",
      "Validate:   0%|                                                                                  | 0/5 [00:00<?, ?it/s]C:\\Users\\zhaoke\\AppData\\Local\\Temp\\ipykernel_13772\\2534320187.py:49: UserWarning: To copy construct from a tensor, it is recommended to use sourceTensor.clone().detach() or sourceTensor.clone().detach().requires_grad_(True), rather than torch.tensor(sourceTensor).\n",
      "  y_label = torch.tensor(y_label, device=device)\n",
      "Validate:  40%|█████████████████████████████▌                                            | 2/5 [00:00<00:00, 18.24it/s]"
     ]
    },
    {
     "name": "stdout",
     "output_type": "stream",
     "text": [
      "torch.Size([64, 1, 298, 512])\n",
      "torch.Size([64, 1, 298, 512])\n",
      "torch.Size([64, 1, 298, 512])\n",
      "torch.Size([64, 1, 298, 512])\n"
     ]
    },
    {
     "name": "stderr",
     "output_type": "stream",
     "text": [
      "Validate: 100%|██████████████████████████████████████████████████████████████████████████| 5/5 [00:00<00:00, 19.18it/s]\n"
     ]
    },
    {
     "name": "stdout",
     "output_type": "stream",
     "text": [
      "torch.Size([41, 1, 298, 512])\n",
      "heatmap_input shape: torch.Size([297, 3])\n",
      "lables shape: torch.Size([297])\n",
      "(297, 3)\n",
      "acc: 0.3872053872053872\n",
      "precision: ['0.3571', '0.4245', '0.5556']\n",
      "recall: ['0.6566', '0.4545', '0.0505']\n"
     ]
    },
    {
     "name": "stderr",
     "output_type": "stream",
     "text": [
      "Training:   0%|                                                                                 | 0/95 [00:00<?, ?it/s]C:\\Users\\zhaoke\\AppData\\Local\\Temp\\ipykernel_13772\\2534320187.py:10: UserWarning: To copy construct from a tensor, it is recommended to use sourceTensor.clone().detach() or sourceTensor.clone().detach().requires_grad_(True), rather than torch.tensor(sourceTensor).\n",
      "  y_label = torch.tensor(y_label, device=device)\n",
      "Training:   3%|██▎                                                                      | 3/95 [00:00<00:10,  8.77it/s]"
     ]
    },
    {
     "name": "stdout",
     "output_type": "stream",
     "text": [
      "Epoch[10], mtid pred loss:0.3503\n"
     ]
    },
    {
     "name": "stderr",
     "output_type": "stream",
     "text": [
      "Training:  65%|██████████████████████████████████████████████▉                         | 62/95 [00:09<00:04,  6.72it/s]"
     ]
    },
    {
     "name": "stdout",
     "output_type": "stream",
     "text": [
      "Epoch[10], mtid pred loss:0.3885\n"
     ]
    },
    {
     "name": "stderr",
     "output_type": "stream",
     "text": [
      "Training: 100%|████████████████████████████████████████████████████████████████████████| 95/95 [00:14<00:00,  6.77it/s]\n",
      "Validate:   0%|                                                                                  | 0/5 [00:00<?, ?it/s]C:\\Users\\zhaoke\\AppData\\Local\\Temp\\ipykernel_13772\\2534320187.py:49: UserWarning: To copy construct from a tensor, it is recommended to use sourceTensor.clone().detach() or sourceTensor.clone().detach().requires_grad_(True), rather than torch.tensor(sourceTensor).\n",
      "  y_label = torch.tensor(y_label, device=device)\n",
      "Validate:  40%|█████████████████████████████▌                                            | 2/5 [00:00<00:00, 17.86it/s]"
     ]
    },
    {
     "name": "stdout",
     "output_type": "stream",
     "text": [
      "torch.Size([64, 1, 298, 512])\n",
      "torch.Size([64, 1, 298, 512])\n",
      "torch.Size([64, 1, 298, 512])\n",
      "torch.Size([64, 1, 298, 512])\n"
     ]
    },
    {
     "name": "stderr",
     "output_type": "stream",
     "text": [
      "Validate: 100%|██████████████████████████████████████████████████████████████████████████| 5/5 [00:00<00:00, 19.11it/s]\n"
     ]
    },
    {
     "name": "stdout",
     "output_type": "stream",
     "text": [
      "torch.Size([41, 1, 298, 512])\n",
      "heatmap_input shape: torch.Size([297, 3])\n",
      "lables shape: torch.Size([297])\n",
      "(297, 3)\n",
      "acc: 0.4276094276094276\n",
      "precision: ['0.4118', '0.4354', '0.5000']\n",
      "recall: ['0.5657', '0.6465', '0.0707']\n"
     ]
    },
    {
     "name": "stderr",
     "output_type": "stream",
     "text": [
      "Training:   0%|                                                                                 | 0/95 [00:00<?, ?it/s]C:\\Users\\zhaoke\\AppData\\Local\\Temp\\ipykernel_13772\\2534320187.py:10: UserWarning: To copy construct from a tensor, it is recommended to use sourceTensor.clone().detach() or sourceTensor.clone().detach().requires_grad_(True), rather than torch.tensor(sourceTensor).\n",
      "  y_label = torch.tensor(y_label, device=device)\n",
      "Training:   1%|▊                                                                        | 1/95 [00:00<00:14,  6.54it/s]"
     ]
    },
    {
     "name": "stdout",
     "output_type": "stream",
     "text": [
      "Epoch[11], mtid pred loss:0.2855\n"
     ]
    },
    {
     "name": "stderr",
     "output_type": "stream",
     "text": [
      "Training:  65%|██████████████████████████████████████████████▉                         | 62/95 [00:09<00:04,  6.78it/s]"
     ]
    },
    {
     "name": "stdout",
     "output_type": "stream",
     "text": [
      "Epoch[11], mtid pred loss:0.2866\n"
     ]
    },
    {
     "name": "stderr",
     "output_type": "stream",
     "text": [
      "Training: 100%|████████████████████████████████████████████████████████████████████████| 95/95 [00:14<00:00,  6.78it/s]\n",
      "Validate:   0%|                                                                                  | 0/5 [00:00<?, ?it/s]C:\\Users\\zhaoke\\AppData\\Local\\Temp\\ipykernel_13772\\2534320187.py:49: UserWarning: To copy construct from a tensor, it is recommended to use sourceTensor.clone().detach() or sourceTensor.clone().detach().requires_grad_(True), rather than torch.tensor(sourceTensor).\n",
      "  y_label = torch.tensor(y_label, device=device)\n",
      "Validate:  40%|█████████████████████████████▌                                            | 2/5 [00:00<00:00, 17.86it/s]"
     ]
    },
    {
     "name": "stdout",
     "output_type": "stream",
     "text": [
      "torch.Size([64, 1, 298, 512])\n",
      "torch.Size([64, 1, 298, 512])\n",
      "torch.Size([64, 1, 298, 512])\n",
      "torch.Size([64, 1, 298, 512])\n"
     ]
    },
    {
     "name": "stderr",
     "output_type": "stream",
     "text": [
      "Validate: 100%|██████████████████████████████████████████████████████████████████████████| 5/5 [00:00<00:00, 18.90it/s]\n"
     ]
    },
    {
     "name": "stdout",
     "output_type": "stream",
     "text": [
      "torch.Size([41, 1, 298, 512])\n",
      "heatmap_input shape: torch.Size([297, 3])\n",
      "lables shape: torch.Size([297])\n",
      "(297, 3)\n",
      "acc: 0.4444444444444444\n",
      "precision: ['0.4359', '0.4151', '0.7143']\n",
      "recall: ['0.5152', '0.6667', '0.1515']\n"
     ]
    },
    {
     "name": "stderr",
     "output_type": "stream",
     "text": [
      "Training:   0%|                                                                                 | 0/95 [00:00<?, ?it/s]C:\\Users\\zhaoke\\AppData\\Local\\Temp\\ipykernel_13772\\2534320187.py:10: UserWarning: To copy construct from a tensor, it is recommended to use sourceTensor.clone().detach() or sourceTensor.clone().detach().requires_grad_(True), rather than torch.tensor(sourceTensor).\n",
      "  y_label = torch.tensor(y_label, device=device)\n",
      "Training:   3%|██▎                                                                      | 3/95 [00:00<00:10,  9.06it/s]"
     ]
    },
    {
     "name": "stdout",
     "output_type": "stream",
     "text": [
      "Epoch[12], mtid pred loss:0.2520\n"
     ]
    },
    {
     "name": "stderr",
     "output_type": "stream",
     "text": [
      "Training:  65%|██████████████████████████████████████████████▉                         | 62/95 [00:09<00:04,  6.76it/s]"
     ]
    },
    {
     "name": "stdout",
     "output_type": "stream",
     "text": [
      "Epoch[12], mtid pred loss:0.2327\n"
     ]
    },
    {
     "name": "stderr",
     "output_type": "stream",
     "text": [
      "Training: 100%|████████████████████████████████████████████████████████████████████████| 95/95 [00:13<00:00,  6.79it/s]\n",
      "Validate:   0%|                                                                                  | 0/5 [00:00<?, ?it/s]C:\\Users\\zhaoke\\AppData\\Local\\Temp\\ipykernel_13772\\2534320187.py:49: UserWarning: To copy construct from a tensor, it is recommended to use sourceTensor.clone().detach() or sourceTensor.clone().detach().requires_grad_(True), rather than torch.tensor(sourceTensor).\n",
      "  y_label = torch.tensor(y_label, device=device)\n",
      "Validate:  40%|█████████████████████████████▌                                            | 2/5 [00:00<00:00, 17.24it/s]"
     ]
    },
    {
     "name": "stdout",
     "output_type": "stream",
     "text": [
      "torch.Size([64, 1, 298, 512])\n",
      "torch.Size([64, 1, 298, 512])\n",
      "torch.Size([64, 1, 298, 512])\n",
      "torch.Size([64, 1, 298, 512])\n"
     ]
    },
    {
     "name": "stderr",
     "output_type": "stream",
     "text": [
      "Validate: 100%|██████████████████████████████████████████████████████████████████████████| 5/5 [00:00<00:00, 19.18it/s]\n"
     ]
    },
    {
     "name": "stdout",
     "output_type": "stream",
     "text": [
      "torch.Size([41, 1, 298, 512])\n",
      "heatmap_input shape: torch.Size([297, 3])\n",
      "lables shape: torch.Size([297])\n",
      "(297, 3)\n",
      "acc: 0.39730639730639733\n",
      "precision: ['0.3879', '0.3983', '0.5000']\n",
      "recall: ['0.6465', '0.4747', '0.0707']\n"
     ]
    },
    {
     "name": "stderr",
     "output_type": "stream",
     "text": [
      "Training:   0%|                                                                                 | 0/95 [00:00<?, ?it/s]C:\\Users\\zhaoke\\AppData\\Local\\Temp\\ipykernel_13772\\2534320187.py:10: UserWarning: To copy construct from a tensor, it is recommended to use sourceTensor.clone().detach() or sourceTensor.clone().detach().requires_grad_(True), rather than torch.tensor(sourceTensor).\n",
      "  y_label = torch.tensor(y_label, device=device)\n",
      "Training:   3%|██▎                                                                      | 3/95 [00:00<00:10,  8.83it/s]"
     ]
    },
    {
     "name": "stdout",
     "output_type": "stream",
     "text": [
      "Epoch[13], mtid pred loss:0.2759\n"
     ]
    },
    {
     "name": "stderr",
     "output_type": "stream",
     "text": [
      "Training:  65%|██████████████████████████████████████████████▉                         | 62/95 [00:09<00:04,  6.75it/s]"
     ]
    },
    {
     "name": "stdout",
     "output_type": "stream",
     "text": [
      "Epoch[13], mtid pred loss:0.2830\n"
     ]
    },
    {
     "name": "stderr",
     "output_type": "stream",
     "text": [
      "Training: 100%|████████████████████████████████████████████████████████████████████████| 95/95 [00:14<00:00,  6.77it/s]\n",
      "Validate:   0%|                                                                                  | 0/5 [00:00<?, ?it/s]C:\\Users\\zhaoke\\AppData\\Local\\Temp\\ipykernel_13772\\2534320187.py:49: UserWarning: To copy construct from a tensor, it is recommended to use sourceTensor.clone().detach() or sourceTensor.clone().detach().requires_grad_(True), rather than torch.tensor(sourceTensor).\n",
      "  y_label = torch.tensor(y_label, device=device)\n",
      "Validate:  40%|█████████████████████████████▌                                            | 2/5 [00:00<00:00, 17.86it/s]"
     ]
    },
    {
     "name": "stdout",
     "output_type": "stream",
     "text": [
      "torch.Size([64, 1, 298, 512])\n",
      "torch.Size([64, 1, 298, 512])\n",
      "torch.Size([64, 1, 298, 512])\n",
      "torch.Size([64, 1, 298, 512])\n"
     ]
    },
    {
     "name": "stderr",
     "output_type": "stream",
     "text": [
      "Validate: 100%|██████████████████████████████████████████████████████████████████████████| 5/5 [00:00<00:00, 19.11it/s]\n"
     ]
    },
    {
     "name": "stdout",
     "output_type": "stream",
     "text": [
      "torch.Size([41, 1, 298, 512])\n",
      "heatmap_input shape: torch.Size([297, 3])\n",
      "lables shape: torch.Size([297])\n",
      "(297, 3)\n",
      "acc: 0.3838383838383838\n",
      "precision: ['0.4328', '0.3636', '0.4062']\n",
      "recall: ['0.2929', '0.7273', '0.1313']\n"
     ]
    },
    {
     "name": "stderr",
     "output_type": "stream",
     "text": [
      "Training:   0%|                                                                                 | 0/95 [00:00<?, ?it/s]C:\\Users\\zhaoke\\AppData\\Local\\Temp\\ipykernel_13772\\2534320187.py:10: UserWarning: To copy construct from a tensor, it is recommended to use sourceTensor.clone().detach() or sourceTensor.clone().detach().requires_grad_(True), rather than torch.tensor(sourceTensor).\n",
      "  y_label = torch.tensor(y_label, device=device)\n",
      "Training:   3%|██▎                                                                      | 3/95 [00:00<00:10,  9.10it/s]"
     ]
    },
    {
     "name": "stdout",
     "output_type": "stream",
     "text": [
      "Epoch[14], mtid pred loss:0.1793\n"
     ]
    },
    {
     "name": "stderr",
     "output_type": "stream",
     "text": [
      "Training:  65%|██████████████████████████████████████████████▉                         | 62/95 [00:09<00:04,  6.74it/s]"
     ]
    },
    {
     "name": "stdout",
     "output_type": "stream",
     "text": [
      "Epoch[14], mtid pred loss:0.2817\n"
     ]
    },
    {
     "name": "stderr",
     "output_type": "stream",
     "text": [
      "Training: 100%|████████████████████████████████████████████████████████████████████████| 95/95 [00:14<00:00,  6.77it/s]\n",
      "Validate:   0%|                                                                                  | 0/5 [00:00<?, ?it/s]C:\\Users\\zhaoke\\AppData\\Local\\Temp\\ipykernel_13772\\2534320187.py:49: UserWarning: To copy construct from a tensor, it is recommended to use sourceTensor.clone().detach() or sourceTensor.clone().detach().requires_grad_(True), rather than torch.tensor(sourceTensor).\n",
      "  y_label = torch.tensor(y_label, device=device)\n",
      "Validate:  40%|█████████████████████████████▌                                            | 2/5 [00:00<00:00, 17.73it/s]"
     ]
    },
    {
     "name": "stdout",
     "output_type": "stream",
     "text": [
      "torch.Size([64, 1, 298, 512])\n",
      "torch.Size([64, 1, 298, 512])\n",
      "torch.Size([64, 1, 298, 512])\n",
      "torch.Size([64, 1, 298, 512])\n"
     ]
    },
    {
     "name": "stderr",
     "output_type": "stream",
     "text": [
      "Validate: 100%|██████████████████████████████████████████████████████████████████████████| 5/5 [00:00<00:00, 19.47it/s]\n"
     ]
    },
    {
     "name": "stdout",
     "output_type": "stream",
     "text": [
      "torch.Size([41, 1, 298, 512])\n",
      "heatmap_input shape: torch.Size([297, 3])\n",
      "lables shape: torch.Size([297])\n",
      "(297, 3)\n",
      "acc: 0.4074074074074074\n",
      "precision: ['0.4495', '0.3704', '0.4615']\n",
      "recall: ['0.4949', '0.6061', '0.1212']\n"
     ]
    },
    {
     "name": "stderr",
     "output_type": "stream",
     "text": [
      "Training:   0%|                                                                                 | 0/95 [00:00<?, ?it/s]C:\\Users\\zhaoke\\AppData\\Local\\Temp\\ipykernel_13772\\2534320187.py:10: UserWarning: To copy construct from a tensor, it is recommended to use sourceTensor.clone().detach() or sourceTensor.clone().detach().requires_grad_(True), rather than torch.tensor(sourceTensor).\n",
      "  y_label = torch.tensor(y_label, device=device)\n",
      "Training:   3%|██▎                                                                      | 3/95 [00:00<00:10,  9.00it/s]"
     ]
    },
    {
     "name": "stdout",
     "output_type": "stream",
     "text": [
      "Epoch[15], mtid pred loss:0.1573\n"
     ]
    },
    {
     "name": "stderr",
     "output_type": "stream",
     "text": [
      "Training:  65%|██████████████████████████████████████████████▉                         | 62/95 [00:09<00:05,  6.58it/s]"
     ]
    },
    {
     "name": "stdout",
     "output_type": "stream",
     "text": [
      "Epoch[15], mtid pred loss:0.2485\n"
     ]
    },
    {
     "name": "stderr",
     "output_type": "stream",
     "text": [
      "Training: 100%|████████████████████████████████████████████████████████████████████████| 95/95 [00:14<00:00,  6.70it/s]\n",
      "Validate:   0%|                                                                                  | 0/5 [00:00<?, ?it/s]C:\\Users\\zhaoke\\AppData\\Local\\Temp\\ipykernel_13772\\2534320187.py:49: UserWarning: To copy construct from a tensor, it is recommended to use sourceTensor.clone().detach() or sourceTensor.clone().detach().requires_grad_(True), rather than torch.tensor(sourceTensor).\n",
      "  y_label = torch.tensor(y_label, device=device)\n",
      "Validate:  40%|█████████████████████████████▌                                            | 2/5 [00:00<00:00, 17.70it/s]"
     ]
    },
    {
     "name": "stdout",
     "output_type": "stream",
     "text": [
      "torch.Size([64, 1, 298, 512])\n",
      "torch.Size([64, 1, 298, 512])\n",
      "torch.Size([64, 1, 298, 512])\n",
      "torch.Size([64, 1, 298, 512])\n"
     ]
    },
    {
     "name": "stderr",
     "output_type": "stream",
     "text": [
      "Validate: 100%|██████████████████████████████████████████████████████████████████████████| 5/5 [00:00<00:00, 17.88it/s]\n"
     ]
    },
    {
     "name": "stdout",
     "output_type": "stream",
     "text": [
      "torch.Size([41, 1, 298, 512])\n",
      "heatmap_input shape: torch.Size([297, 3])\n",
      "lables shape: torch.Size([297])\n",
      "(297, 3)\n",
      "acc: 0.36363636363636365\n",
      "precision: ['0.3605', '0.3537', '0.3953']\n",
      "recall: ['0.6263', '0.2929', '0.1717']\n"
     ]
    },
    {
     "name": "stderr",
     "output_type": "stream",
     "text": [
      "Training:   0%|                                                                                 | 0/95 [00:00<?, ?it/s]C:\\Users\\zhaoke\\AppData\\Local\\Temp\\ipykernel_13772\\2534320187.py:10: UserWarning: To copy construct from a tensor, it is recommended to use sourceTensor.clone().detach() or sourceTensor.clone().detach().requires_grad_(True), rather than torch.tensor(sourceTensor).\n",
      "  y_label = torch.tensor(y_label, device=device)\n",
      "Training:   3%|██▎                                                                      | 3/95 [00:00<00:10,  8.74it/s]"
     ]
    },
    {
     "name": "stdout",
     "output_type": "stream",
     "text": [
      "Epoch[16], mtid pred loss:0.1850\n"
     ]
    },
    {
     "name": "stderr",
     "output_type": "stream",
     "text": [
      "Training:  65%|██████████████████████████████████████████████▉                         | 62/95 [00:09<00:04,  6.90it/s]"
     ]
    },
    {
     "name": "stdout",
     "output_type": "stream",
     "text": [
      "Epoch[16], mtid pred loss:0.1830\n"
     ]
    },
    {
     "name": "stderr",
     "output_type": "stream",
     "text": [
      "Training: 100%|████████████████████████████████████████████████████████████████████████| 95/95 [00:14<00:00,  6.69it/s]\n",
      "Validate:   0%|                                                                                  | 0/5 [00:00<?, ?it/s]C:\\Users\\zhaoke\\AppData\\Local\\Temp\\ipykernel_13772\\2534320187.py:49: UserWarning: To copy construct from a tensor, it is recommended to use sourceTensor.clone().detach() or sourceTensor.clone().detach().requires_grad_(True), rather than torch.tensor(sourceTensor).\n",
      "  y_label = torch.tensor(y_label, device=device)\n",
      "Validate:  40%|█████████████████████████████▌                                            | 2/5 [00:00<00:00, 18.12it/s]"
     ]
    },
    {
     "name": "stdout",
     "output_type": "stream",
     "text": [
      "torch.Size([64, 1, 298, 512])\n",
      "torch.Size([64, 1, 298, 512])\n",
      "torch.Size([64, 1, 298, 512])\n",
      "torch.Size([64, 1, 298, 512])\n"
     ]
    },
    {
     "name": "stderr",
     "output_type": "stream",
     "text": [
      "Validate: 100%|██████████████████████████████████████████████████████████████████████████| 5/5 [00:00<00:00, 19.04it/s]\n"
     ]
    },
    {
     "name": "stdout",
     "output_type": "stream",
     "text": [
      "torch.Size([41, 1, 298, 512])\n",
      "heatmap_input shape: torch.Size([297, 3])\n",
      "lables shape: torch.Size([297])\n",
      "(297, 3)\n",
      "acc: 0.43097643097643096\n",
      "precision: ['0.4500', '0.4037', '0.5625']\n",
      "recall: ['0.5455', '0.6566', '0.0909']\n"
     ]
    },
    {
     "name": "stderr",
     "output_type": "stream",
     "text": [
      "Training:   0%|                                                                                 | 0/95 [00:00<?, ?it/s]C:\\Users\\zhaoke\\AppData\\Local\\Temp\\ipykernel_13772\\2534320187.py:10: UserWarning: To copy construct from a tensor, it is recommended to use sourceTensor.clone().detach() or sourceTensor.clone().detach().requires_grad_(True), rather than torch.tensor(sourceTensor).\n",
      "  y_label = torch.tensor(y_label, device=device)\n",
      "Training:   1%|▊                                                                        | 1/95 [00:00<00:14,  6.53it/s]"
     ]
    },
    {
     "name": "stdout",
     "output_type": "stream",
     "text": [
      "Epoch[17], mtid pred loss:0.1537\n"
     ]
    },
    {
     "name": "stderr",
     "output_type": "stream",
     "text": [
      "Training:  65%|██████████████████████████████████████████████▉                         | 62/95 [00:09<00:04,  6.72it/s]"
     ]
    },
    {
     "name": "stdout",
     "output_type": "stream",
     "text": [
      "Epoch[17], mtid pred loss:0.1782\n"
     ]
    },
    {
     "name": "stderr",
     "output_type": "stream",
     "text": [
      "Training: 100%|████████████████████████████████████████████████████████████████████████| 95/95 [00:13<00:00,  6.79it/s]\n",
      "Validate:   0%|                                                                                  | 0/5 [00:00<?, ?it/s]C:\\Users\\zhaoke\\AppData\\Local\\Temp\\ipykernel_13772\\2534320187.py:49: UserWarning: To copy construct from a tensor, it is recommended to use sourceTensor.clone().detach() or sourceTensor.clone().detach().requires_grad_(True), rather than torch.tensor(sourceTensor).\n",
      "  y_label = torch.tensor(y_label, device=device)\n",
      "Validate:  40%|█████████████████████████████▌                                            | 2/5 [00:00<00:00, 18.09it/s]"
     ]
    },
    {
     "name": "stdout",
     "output_type": "stream",
     "text": [
      "torch.Size([64, 1, 298, 512])\n",
      "torch.Size([64, 1, 298, 512])\n",
      "torch.Size([64, 1, 298, 512])\n",
      "torch.Size([64, 1, 298, 512])\n"
     ]
    },
    {
     "name": "stderr",
     "output_type": "stream",
     "text": [
      "Validate: 100%|██████████████████████████████████████████████████████████████████████████| 5/5 [00:00<00:00, 18.83it/s]\n"
     ]
    },
    {
     "name": "stdout",
     "output_type": "stream",
     "text": [
      "torch.Size([41, 1, 298, 512])\n",
      "heatmap_input shape: torch.Size([297, 3])\n",
      "lables shape: torch.Size([297])\n",
      "(297, 3)\n",
      "acc: 0.44107744107744107\n",
      "precision: ['0.5385', '0.3960', '0.5294']\n",
      "recall: ['0.4242', '0.8081', '0.0909']\n"
     ]
    },
    {
     "name": "stderr",
     "output_type": "stream",
     "text": [
      "Training:   0%|                                                                                 | 0/95 [00:00<?, ?it/s]C:\\Users\\zhaoke\\AppData\\Local\\Temp\\ipykernel_13772\\2534320187.py:10: UserWarning: To copy construct from a tensor, it is recommended to use sourceTensor.clone().detach() or sourceTensor.clone().detach().requires_grad_(True), rather than torch.tensor(sourceTensor).\n",
      "  y_label = torch.tensor(y_label, device=device)\n",
      "Training:   3%|██▎                                                                      | 3/95 [00:00<00:10,  8.88it/s]"
     ]
    },
    {
     "name": "stdout",
     "output_type": "stream",
     "text": [
      "Epoch[18], mtid pred loss:0.1324\n"
     ]
    },
    {
     "name": "stderr",
     "output_type": "stream",
     "text": [
      "Training:  65%|██████████████████████████████████████████████▉                         | 62/95 [00:09<00:04,  6.73it/s]"
     ]
    },
    {
     "name": "stdout",
     "output_type": "stream",
     "text": [
      "Epoch[18], mtid pred loss:0.1482\n"
     ]
    },
    {
     "name": "stderr",
     "output_type": "stream",
     "text": [
      "Training: 100%|████████████████████████████████████████████████████████████████████████| 95/95 [00:14<00:00,  6.76it/s]\n",
      "Validate:   0%|                                                                                  | 0/5 [00:00<?, ?it/s]C:\\Users\\zhaoke\\AppData\\Local\\Temp\\ipykernel_13772\\2534320187.py:49: UserWarning: To copy construct from a tensor, it is recommended to use sourceTensor.clone().detach() or sourceTensor.clone().detach().requires_grad_(True), rather than torch.tensor(sourceTensor).\n",
      "  y_label = torch.tensor(y_label, device=device)\n",
      "Validate:  40%|█████████████████████████████▌                                            | 2/5 [00:00<00:00, 16.81it/s]"
     ]
    },
    {
     "name": "stdout",
     "output_type": "stream",
     "text": [
      "torch.Size([64, 1, 298, 512])\n",
      "torch.Size([64, 1, 298, 512])\n",
      "torch.Size([64, 1, 298, 512])\n",
      "torch.Size([64, 1, 298, 512])\n"
     ]
    },
    {
     "name": "stderr",
     "output_type": "stream",
     "text": [
      "Validate: 100%|██████████████████████████████████████████████████████████████████████████| 5/5 [00:00<00:00, 18.17it/s]\n"
     ]
    },
    {
     "name": "stdout",
     "output_type": "stream",
     "text": [
      "torch.Size([41, 1, 298, 512])\n",
      "heatmap_input shape: torch.Size([297, 3])\n",
      "lables shape: torch.Size([297])\n",
      "(297, 3)\n",
      "acc: 0.4107744107744108\n",
      "precision: ['0.4714', '0.3738', '0.5714']\n",
      "recall: ['0.3333', '0.7778', '0.1212']\n"
     ]
    },
    {
     "name": "stderr",
     "output_type": "stream",
     "text": [
      "Training:   0%|                                                                                 | 0/95 [00:00<?, ?it/s]C:\\Users\\zhaoke\\AppData\\Local\\Temp\\ipykernel_13772\\2534320187.py:10: UserWarning: To copy construct from a tensor, it is recommended to use sourceTensor.clone().detach() or sourceTensor.clone().detach().requires_grad_(True), rather than torch.tensor(sourceTensor).\n",
      "  y_label = torch.tensor(y_label, device=device)\n",
      "Training:   1%|▊                                                                        | 1/95 [00:00<00:14,  6.30it/s]"
     ]
    },
    {
     "name": "stdout",
     "output_type": "stream",
     "text": [
      "Epoch[19], mtid pred loss:0.1399\n"
     ]
    },
    {
     "name": "stderr",
     "output_type": "stream",
     "text": [
      "Training:  65%|██████████████████████████████████████████████▉                         | 62/95 [00:09<00:05,  6.44it/s]"
     ]
    },
    {
     "name": "stdout",
     "output_type": "stream",
     "text": [
      "Epoch[19], mtid pred loss:0.1520\n"
     ]
    },
    {
     "name": "stderr",
     "output_type": "stream",
     "text": [
      "Training: 100%|████████████████████████████████████████████████████████████████████████| 95/95 [00:14<00:00,  6.48it/s]\n",
      "Validate:   0%|                                                                                  | 0/5 [00:00<?, ?it/s]C:\\Users\\zhaoke\\AppData\\Local\\Temp\\ipykernel_13772\\2534320187.py:49: UserWarning: To copy construct from a tensor, it is recommended to use sourceTensor.clone().detach() or sourceTensor.clone().detach().requires_grad_(True), rather than torch.tensor(sourceTensor).\n",
      "  y_label = torch.tensor(y_label, device=device)\n",
      "Validate:  40%|█████████████████████████████▌                                            | 2/5 [00:00<00:00, 18.18it/s]"
     ]
    },
    {
     "name": "stdout",
     "output_type": "stream",
     "text": [
      "torch.Size([64, 1, 298, 512])\n",
      "torch.Size([64, 1, 298, 512])\n",
      "torch.Size([64, 1, 298, 512])\n",
      "torch.Size([64, 1, 298, 512])\n"
     ]
    },
    {
     "name": "stderr",
     "output_type": "stream",
     "text": [
      "Validate: 100%|██████████████████████████████████████████████████████████████████████████| 5/5 [00:00<00:00, 19.30it/s]\n"
     ]
    },
    {
     "name": "stdout",
     "output_type": "stream",
     "text": [
      "torch.Size([41, 1, 298, 512])\n",
      "heatmap_input shape: torch.Size([297, 3])\n",
      "lables shape: torch.Size([297])\n",
      "(297, 3)\n",
      "acc: 0.4276094276094276\n",
      "precision: ['0.4884', '0.3927', '0.5000']\n",
      "recall: ['0.4242', '0.7576', '0.1010']\n"
     ]
    },
    {
     "name": "stderr",
     "output_type": "stream",
     "text": [
      "Training:   0%|                                                                                 | 0/95 [00:00<?, ?it/s]C:\\Users\\zhaoke\\AppData\\Local\\Temp\\ipykernel_13772\\2534320187.py:10: UserWarning: To copy construct from a tensor, it is recommended to use sourceTensor.clone().detach() or sourceTensor.clone().detach().requires_grad_(True), rather than torch.tensor(sourceTensor).\n",
      "  y_label = torch.tensor(y_label, device=device)\n",
      "Training:   1%|▊                                                                        | 1/95 [00:00<00:14,  6.35it/s]"
     ]
    },
    {
     "name": "stdout",
     "output_type": "stream",
     "text": [
      "Epoch[20], mtid pred loss:0.1513\n"
     ]
    },
    {
     "name": "stderr",
     "output_type": "stream",
     "text": [
      "Training:  65%|██████████████████████████████████████████████▉                         | 62/95 [00:09<00:04,  6.75it/s]"
     ]
    },
    {
     "name": "stdout",
     "output_type": "stream",
     "text": [
      "Epoch[20], mtid pred loss:0.1332\n"
     ]
    },
    {
     "name": "stderr",
     "output_type": "stream",
     "text": [
      "Training: 100%|████████████████████████████████████████████████████████████████████████| 95/95 [00:14<00:00,  6.75it/s]\n",
      "Validate:   0%|                                                                                  | 0/5 [00:00<?, ?it/s]C:\\Users\\zhaoke\\AppData\\Local\\Temp\\ipykernel_13772\\2534320187.py:49: UserWarning: To copy construct from a tensor, it is recommended to use sourceTensor.clone().detach() or sourceTensor.clone().detach().requires_grad_(True), rather than torch.tensor(sourceTensor).\n",
      "  y_label = torch.tensor(y_label, device=device)\n",
      "Validate:  40%|█████████████████████████████▌                                            | 2/5 [00:00<00:00, 17.83it/s]"
     ]
    },
    {
     "name": "stdout",
     "output_type": "stream",
     "text": [
      "torch.Size([64, 1, 298, 512])\n",
      "torch.Size([64, 1, 298, 512])\n",
      "torch.Size([64, 1, 298, 512])\n",
      "torch.Size([64, 1, 298, 512])\n"
     ]
    },
    {
     "name": "stderr",
     "output_type": "stream",
     "text": [
      "Validate: 100%|██████████████████████████████████████████████████████████████████████████| 5/5 [00:00<00:00, 19.22it/s]\n"
     ]
    },
    {
     "name": "stdout",
     "output_type": "stream",
     "text": [
      "torch.Size([41, 1, 298, 512])\n",
      "heatmap_input shape: torch.Size([297, 3])\n",
      "lables shape: torch.Size([297])\n",
      "(297, 3)\n",
      "acc: 0.43434343434343436\n",
      "precision: ['0.4787', '0.4033', '0.5000']\n",
      "recall: ['0.4545', '0.7374', '0.1111']\n"
     ]
    },
    {
     "name": "stderr",
     "output_type": "stream",
     "text": [
      "Training:   0%|                                                                                 | 0/95 [00:00<?, ?it/s]C:\\Users\\zhaoke\\AppData\\Local\\Temp\\ipykernel_13772\\2534320187.py:10: UserWarning: To copy construct from a tensor, it is recommended to use sourceTensor.clone().detach() or sourceTensor.clone().detach().requires_grad_(True), rather than torch.tensor(sourceTensor).\n",
      "  y_label = torch.tensor(y_label, device=device)\n",
      "Training:   3%|██▎                                                                      | 3/95 [00:00<00:10,  8.95it/s]"
     ]
    },
    {
     "name": "stdout",
     "output_type": "stream",
     "text": [
      "Epoch[21], mtid pred loss:0.1210\n"
     ]
    },
    {
     "name": "stderr",
     "output_type": "stream",
     "text": [
      "Training:  65%|██████████████████████████████████████████████▉                         | 62/95 [00:09<00:04,  6.63it/s]"
     ]
    },
    {
     "name": "stdout",
     "output_type": "stream",
     "text": [
      "Epoch[21], mtid pred loss:0.1276\n"
     ]
    },
    {
     "name": "stderr",
     "output_type": "stream",
     "text": [
      "Training: 100%|████████████████████████████████████████████████████████████████████████| 95/95 [00:14<00:00,  6.61it/s]\n",
      "Validate:   0%|                                                                                  | 0/5 [00:00<?, ?it/s]C:\\Users\\zhaoke\\AppData\\Local\\Temp\\ipykernel_13772\\2534320187.py:49: UserWarning: To copy construct from a tensor, it is recommended to use sourceTensor.clone().detach() or sourceTensor.clone().detach().requires_grad_(True), rather than torch.tensor(sourceTensor).\n",
      "  y_label = torch.tensor(y_label, device=device)\n",
      "Validate:  40%|█████████████████████████████▌                                            | 2/5 [00:00<00:00, 17.14it/s]"
     ]
    },
    {
     "name": "stdout",
     "output_type": "stream",
     "text": [
      "torch.Size([64, 1, 298, 512])\n",
      "torch.Size([64, 1, 298, 512])\n",
      "torch.Size([64, 1, 298, 512])\n",
      "torch.Size([64, 1, 298, 512])\n"
     ]
    },
    {
     "name": "stderr",
     "output_type": "stream",
     "text": [
      "Validate: 100%|██████████████████████████████████████████████████████████████████████████| 5/5 [00:00<00:00, 18.76it/s]\n"
     ]
    },
    {
     "name": "stdout",
     "output_type": "stream",
     "text": [
      "torch.Size([41, 1, 298, 512])\n",
      "heatmap_input shape: torch.Size([297, 3])\n",
      "lables shape: torch.Size([297])\n",
      "(297, 3)\n",
      "acc: 0.43434343434343436\n",
      "precision: ['0.4386', '0.4337', '0.4118']\n",
      "recall: ['0.5051', '0.7273', '0.0707']\n"
     ]
    },
    {
     "name": "stderr",
     "output_type": "stream",
     "text": [
      "Training:   0%|                                                                                 | 0/95 [00:00<?, ?it/s]C:\\Users\\zhaoke\\AppData\\Local\\Temp\\ipykernel_13772\\2534320187.py:10: UserWarning: To copy construct from a tensor, it is recommended to use sourceTensor.clone().detach() or sourceTensor.clone().detach().requires_grad_(True), rather than torch.tensor(sourceTensor).\n",
      "  y_label = torch.tensor(y_label, device=device)\n",
      "Training:   3%|██▎                                                                      | 3/95 [00:00<00:10,  8.83it/s]"
     ]
    },
    {
     "name": "stdout",
     "output_type": "stream",
     "text": [
      "Epoch[22], mtid pred loss:0.1055\n"
     ]
    },
    {
     "name": "stderr",
     "output_type": "stream",
     "text": [
      "Training:  65%|██████████████████████████████████████████████▉                         | 62/95 [00:09<00:05,  6.38it/s]"
     ]
    },
    {
     "name": "stdout",
     "output_type": "stream",
     "text": [
      "Epoch[22], mtid pred loss:0.1565\n"
     ]
    },
    {
     "name": "stderr",
     "output_type": "stream",
     "text": [
      "Training: 100%|████████████████████████████████████████████████████████████████████████| 95/95 [00:14<00:00,  6.65it/s]\n",
      "Validate:   0%|                                                                                  | 0/5 [00:00<?, ?it/s]C:\\Users\\zhaoke\\AppData\\Local\\Temp\\ipykernel_13772\\2534320187.py:49: UserWarning: To copy construct from a tensor, it is recommended to use sourceTensor.clone().detach() or sourceTensor.clone().detach().requires_grad_(True), rather than torch.tensor(sourceTensor).\n",
      "  y_label = torch.tensor(y_label, device=device)\n",
      "Validate:  40%|█████████████████████████████▌                                            | 2/5 [00:00<00:00, 18.35it/s]"
     ]
    },
    {
     "name": "stdout",
     "output_type": "stream",
     "text": [
      "torch.Size([64, 1, 298, 512])\n",
      "torch.Size([64, 1, 298, 512])\n",
      "torch.Size([64, 1, 298, 512])\n",
      "torch.Size([64, 1, 298, 512])\n"
     ]
    },
    {
     "name": "stderr",
     "output_type": "stream",
     "text": [
      "Validate: 100%|██████████████████████████████████████████████████████████████████████████| 5/5 [00:00<00:00, 19.25it/s]\n"
     ]
    },
    {
     "name": "stdout",
     "output_type": "stream",
     "text": [
      "torch.Size([41, 1, 298, 512])\n",
      "heatmap_input shape: torch.Size([297, 3])\n",
      "lables shape: torch.Size([297])\n",
      "(297, 3)\n",
      "acc: 0.468013468013468\n",
      "precision: ['0.5326', '0.4407', '0.4286']\n",
      "recall: ['0.4949', '0.7879', '0.1212']\n",
      "============== END TRAINING ==============\n"
     ]
    }
   ],
   "source": [
    "history1 = []\n",
    "for epoch_id in range(configs[\"fit\"][\"epochs\"]):\n",
    "    # ---------------------------\n",
    "    # -----------TRAIN-----------\n",
    "    # ---------------------------\n",
    "    model.train()\n",
    "    for x_idx, (x_wav, y_label, _) in enumerate(tqdm(train_loader, desc=\"Training\")):\n",
    "        x_wav = x_wav.to(device)\n",
    "        x_mel = encoder(x_wav).transpose(1,2).unsqueeze(1)\n",
    "        y_label = torch.tensor(y_label, device=device)\n",
    "        # print(\"shape of x_mel:\", x_mel.shape)\n",
    "        \n",
    "        optimizer.zero_grad()\n",
    "        y_hat = model(x_mel)\n",
    "        pred_loss = criterion(y_hat, y_label)\n",
    "        pred_loss.backward()\n",
    "        optimizer.step()\n",
    "\n",
    "        if x_idx > 2:\n",
    "            history1.append(pred_loss.item())\n",
    "        if x_idx % 60 == 0:\n",
    "            print(f\"Epoch[{epoch_id}], mtid pred loss:{pred_loss.item():.4f}\")\n",
    "    if epoch_id >= configs[\"fit\"][\"start_scheduler_epoch\"]:\n",
    "        scheduler.step()\n",
    "\n",
    "    # ---------------------------\n",
    "    # -----------SAVE------------\n",
    "    # ---------------------------\n",
    "    plt.figure(0)\n",
    "    plt.plot(range(len(history1)), history1, c=\"green\", alpha=0.7)\n",
    "    plt.savefig(run_save_dir + f'cls_loss_iter_{epoch_id}.png')\n",
    "    plt.close()\n",
    "    # if epoch > 6 and epoch % 2 == 0:\n",
    "    os.makedirs(run_save_dir + f\"model_epoch_{epoch_id}/\", exist_ok=True)\n",
    "    tmp_model_path = \"{model}model_{epoch}.pth\".format(\n",
    "        model=run_save_dir + f\"model_epoch_{epoch_id}/\",\n",
    "        epoch=epoch_id)\n",
    "    torch.save(model.state_dict(), tmp_model_path)\n",
    "    # ---------------------------\n",
    "    # -----------TEST------------\n",
    "    # ---------------------------\n",
    "    model.eval()\n",
    "    heatmap_input = None\n",
    "    labels = None\n",
    "    for x_idx, (x_wav, y_label, _) in enumerate(tqdm(valid_loader, desc=\"Validate\")):\n",
    "        x_wav = x_wav.to(device)\n",
    "        x_mel = encoder(x_wav).transpose(1,2).unsqueeze(1)\n",
    "        print(x_mel.shape)\n",
    "        y_label = torch.tensor(y_label, device=device)\n",
    "        \n",
    "        y_pred = model(x_mel)\n",
    "        pred_loss = criterion(y_pred, y_label)\n",
    "        \n",
    "        if x_idx == 0:\n",
    "            heatmap_input, labels = y_pred, y_label\n",
    "        else:\n",
    "            heatmap_input = torch.concat((heatmap_input, y_pred), dim=0)\n",
    "            labels = torch.concat((labels, y_label), dim=0)\n",
    "        # if x_idx * configs[\"fit\"][\"batch_size\"] > 800:\n",
    "        #     break\n",
    "    print(\"heatmap_input shape:\", heatmap_input.shape)\n",
    "    print(\"lables shape:\", labels.shape)\n",
    "    # if epoch > 3:\n",
    "    #     self.plot_reduction(resume_path=\"\", load_epoch=epoch, reducers=[\"heatmap\"])\n",
    "    heatmap_input = heatmap_input.detach().cpu().numpy()\n",
    "    labels = labels.detach().cpu().numpy()\n",
    "    calc_accuracy(pred_matrix=heatmap_input, label_vec=labels,\n",
    "                  save_path=run_save_dir + f\"/accuracy_epoch_{epoch_id}.txt\")\n",
    "    plot_heatmap(pred_matrix=heatmap_input, label_vec=labels,\n",
    "                 ticks=[\"healthy\", \"symptomatic\", \"COVID-19\"],\n",
    "                 save_path=run_save_dir + f\"/heatmap_epoch_{epoch_id}.png\")\n",
    "print(\"============== END TRAINING ==============\")"
   ]
  },
  {
   "cell_type": "markdown",
   "id": "01caeda8-9154-4553-aec7-9e3a2ba4f7b7",
   "metadata": {},
   "source": [
    "# End"
   ]
  }
 ],
 "metadata": {
  "kernelspec": {
   "display_name": "Python 3 (ipykernel)",
   "language": "python",
   "name": "python3"
  },
  "language_info": {
   "codemirror_mode": {
    "name": "ipython",
    "version": 3
   },
   "file_extension": ".py",
   "mimetype": "text/x-python",
   "name": "python",
   "nbconvert_exporter": "python",
   "pygments_lexer": "ipython3",
   "version": "3.8.5"
  }
 },
 "nbformat": 4,
 "nbformat_minor": 5
}
