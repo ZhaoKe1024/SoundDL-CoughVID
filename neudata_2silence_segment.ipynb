{
 "cells": [
  {
   "cell_type": "code",
   "execution_count": 1,
   "id": "6d187c82-8fee-4576-abfb-b47d317ce549",
   "metadata": {},
   "outputs": [],
   "source": [
    "import os\n",
    "import random\n",
    "import numpy as np\n",
    "import pandas as pd\n",
    "import matplotlib.pyplot as plt\n",
    "import seaborn as sns\n",
    "from tqdm import tqdm\n",
    "import librosa\n",
    "import torch\n",
    "import torchaudio\n",
    "from SED_CRNN import CRNN\n",
    "from readers.featurizer import Wave2Mel\n",
    "\n",
    "# import sys\n",
    "# sys.path.append(r'C:/Program Files (zk)/PythonFiles/AClassification/SoundDL-CoughVID')\n",
    "ROOT = \"F:/DATAS/NEUCOUGHDATA_COUGHSINGLE/\""
   ]
  },
  {
   "cell_type": "markdown",
   "id": "3b7515d3-673b-489c-8129-423bb7283510",
   "metadata": {},
   "source": [
    "# Step 1 观察数据集"
   ]
  },
  {
   "cell_type": "markdown",
   "id": "5cc182d8-391f-490d-863e-2f53c8e4edc5",
   "metadata": {},
   "source": [
    "## 1.1 尝试根据时间截取片段"
   ]
  },
  {
   "cell_type": "code",
   "execution_count": 2,
   "id": "49a384b0-824d-4c39-8cef-21123e9d9f80",
   "metadata": {},
   "outputs": [
    {
     "data": {
      "text/html": [
       "<div>\n",
       "<style scoped>\n",
       "    .dataframe tbody tr th:only-of-type {\n",
       "        vertical-align: middle;\n",
       "    }\n",
       "\n",
       "    .dataframe tbody tr th {\n",
       "        vertical-align: top;\n",
       "    }\n",
       "\n",
       "    .dataframe thead th {\n",
       "        text-align: right;\n",
       "    }\n",
       "</style>\n",
       "<table border=\"1\" class=\"dataframe\">\n",
       "  <thead>\n",
       "    <tr style=\"text-align: right;\">\n",
       "      <th></th>\n",
       "      <th>fileid</th>\n",
       "      <th>st</th>\n",
       "      <th>en</th>\n",
       "      <th>gender</th>\n",
       "      <th>issmoking</th>\n",
       "      <th>isalcohol</th>\n",
       "      <th>iscough</th>\n",
       "      <th>isfever</th>\n",
       "      <th>isrespill</th>\n",
       "      <th>iscovid19</th>\n",
       "      <th>...</th>\n",
       "      <th>q26</th>\n",
       "      <th>q31</th>\n",
       "      <th>q38</th>\n",
       "      <th>q60</th>\n",
       "      <th>q61</th>\n",
       "      <th>q62</th>\n",
       "      <th>q63</th>\n",
       "      <th>q64</th>\n",
       "      <th>duration</th>\n",
       "      <th>slice</th>\n",
       "    </tr>\n",
       "  </thead>\n",
       "  <tbody>\n",
       "    <tr>\n",
       "      <th>0</th>\n",
       "      <td>20240921104740</td>\n",
       "      <td>3:04.34</td>\n",
       "      <td>03:04.64</td>\n",
       "      <td>1</td>\n",
       "      <td>0</td>\n",
       "      <td>0</td>\n",
       "      <td>1</td>\n",
       "      <td>0</td>\n",
       "      <td>3</td>\n",
       "      <td>0</td>\n",
       "      <td>...</td>\n",
       "      <td>3</td>\n",
       "      <td>3</td>\n",
       "      <td>1</td>\n",
       "      <td>2</td>\n",
       "      <td>2</td>\n",
       "      <td>1</td>\n",
       "      <td>3</td>\n",
       "      <td>4</td>\n",
       "      <td>186.2269</td>\n",
       "      <td>0.299</td>\n",
       "    </tr>\n",
       "    <tr>\n",
       "      <th>1</th>\n",
       "      <td>20240921104740</td>\n",
       "      <td>3:04.62</td>\n",
       "      <td>03:04.88</td>\n",
       "      <td>1</td>\n",
       "      <td>0</td>\n",
       "      <td>0</td>\n",
       "      <td>1</td>\n",
       "      <td>0</td>\n",
       "      <td>3</td>\n",
       "      <td>0</td>\n",
       "      <td>...</td>\n",
       "      <td>3</td>\n",
       "      <td>3</td>\n",
       "      <td>1</td>\n",
       "      <td>2</td>\n",
       "      <td>2</td>\n",
       "      <td>1</td>\n",
       "      <td>3</td>\n",
       "      <td>4</td>\n",
       "      <td>186.2269</td>\n",
       "      <td>0.259</td>\n",
       "    </tr>\n",
       "    <tr>\n",
       "      <th>2</th>\n",
       "      <td>20240921104740</td>\n",
       "      <td>3:04.86</td>\n",
       "      <td>03:05.12</td>\n",
       "      <td>1</td>\n",
       "      <td>0</td>\n",
       "      <td>0</td>\n",
       "      <td>1</td>\n",
       "      <td>0</td>\n",
       "      <td>3</td>\n",
       "      <td>0</td>\n",
       "      <td>...</td>\n",
       "      <td>3</td>\n",
       "      <td>3</td>\n",
       "      <td>1</td>\n",
       "      <td>2</td>\n",
       "      <td>2</td>\n",
       "      <td>1</td>\n",
       "      <td>3</td>\n",
       "      <td>4</td>\n",
       "      <td>186.2269</td>\n",
       "      <td>0.259</td>\n",
       "    </tr>\n",
       "    <tr>\n",
       "      <th>3</th>\n",
       "      <td>20240921125652</td>\n",
       "      <td>3:01.50</td>\n",
       "      <td>03:01.93</td>\n",
       "      <td>0</td>\n",
       "      <td>0</td>\n",
       "      <td>0</td>\n",
       "      <td>0</td>\n",
       "      <td>0</td>\n",
       "      <td>0</td>\n",
       "      <td>0</td>\n",
       "      <td>...</td>\n",
       "      <td>3</td>\n",
       "      <td>1</td>\n",
       "      <td>1</td>\n",
       "      <td>1</td>\n",
       "      <td>2</td>\n",
       "      <td>3</td>\n",
       "      <td>2</td>\n",
       "      <td>1</td>\n",
       "      <td>185.0453</td>\n",
       "      <td>0.430</td>\n",
       "    </tr>\n",
       "    <tr>\n",
       "      <th>4</th>\n",
       "      <td>20240921125652</td>\n",
       "      <td>3:02.16</td>\n",
       "      <td>03:02.55</td>\n",
       "      <td>0</td>\n",
       "      <td>0</td>\n",
       "      <td>0</td>\n",
       "      <td>0</td>\n",
       "      <td>0</td>\n",
       "      <td>0</td>\n",
       "      <td>0</td>\n",
       "      <td>...</td>\n",
       "      <td>3</td>\n",
       "      <td>1</td>\n",
       "      <td>1</td>\n",
       "      <td>1</td>\n",
       "      <td>2</td>\n",
       "      <td>3</td>\n",
       "      <td>2</td>\n",
       "      <td>1</td>\n",
       "      <td>185.0453</td>\n",
       "      <td>0.390</td>\n",
       "    </tr>\n",
       "    <tr>\n",
       "      <th>...</th>\n",
       "      <td>...</td>\n",
       "      <td>...</td>\n",
       "      <td>...</td>\n",
       "      <td>...</td>\n",
       "      <td>...</td>\n",
       "      <td>...</td>\n",
       "      <td>...</td>\n",
       "      <td>...</td>\n",
       "      <td>...</td>\n",
       "      <td>...</td>\n",
       "      <td>...</td>\n",
       "      <td>...</td>\n",
       "      <td>...</td>\n",
       "      <td>...</td>\n",
       "      <td>...</td>\n",
       "      <td>...</td>\n",
       "      <td>...</td>\n",
       "      <td>...</td>\n",
       "      <td>...</td>\n",
       "      <td>...</td>\n",
       "      <td>...</td>\n",
       "    </tr>\n",
       "    <tr>\n",
       "      <th>316</th>\n",
       "      <td>20241008201738</td>\n",
       "      <td>3:36.63</td>\n",
       "      <td>3:37.03</td>\n",
       "      <td>1</td>\n",
       "      <td>0</td>\n",
       "      <td>0</td>\n",
       "      <td>0</td>\n",
       "      <td>0</td>\n",
       "      <td>0</td>\n",
       "      <td>0</td>\n",
       "      <td>...</td>\n",
       "      <td>1</td>\n",
       "      <td>1</td>\n",
       "      <td>1</td>\n",
       "      <td>1</td>\n",
       "      <td>2</td>\n",
       "      <td>1</td>\n",
       "      <td>1</td>\n",
       "      <td>1</td>\n",
       "      <td>219.6239</td>\n",
       "      <td>0.400</td>\n",
       "    </tr>\n",
       "    <tr>\n",
       "      <th>317</th>\n",
       "      <td>20241008201738</td>\n",
       "      <td>3:37.09</td>\n",
       "      <td>3:37.49</td>\n",
       "      <td>1</td>\n",
       "      <td>0</td>\n",
       "      <td>0</td>\n",
       "      <td>0</td>\n",
       "      <td>0</td>\n",
       "      <td>0</td>\n",
       "      <td>0</td>\n",
       "      <td>...</td>\n",
       "      <td>1</td>\n",
       "      <td>1</td>\n",
       "      <td>1</td>\n",
       "      <td>1</td>\n",
       "      <td>2</td>\n",
       "      <td>1</td>\n",
       "      <td>1</td>\n",
       "      <td>1</td>\n",
       "      <td>219.6239</td>\n",
       "      <td>0.400</td>\n",
       "    </tr>\n",
       "    <tr>\n",
       "      <th>318</th>\n",
       "      <td>20241008204801</td>\n",
       "      <td>3:30.95</td>\n",
       "      <td>3:31.16</td>\n",
       "      <td>0</td>\n",
       "      <td>0</td>\n",
       "      <td>0</td>\n",
       "      <td>0</td>\n",
       "      <td>0</td>\n",
       "      <td>0</td>\n",
       "      <td>0</td>\n",
       "      <td>...</td>\n",
       "      <td>3</td>\n",
       "      <td>4</td>\n",
       "      <td>1</td>\n",
       "      <td>2</td>\n",
       "      <td>2</td>\n",
       "      <td>2</td>\n",
       "      <td>2</td>\n",
       "      <td>2</td>\n",
       "      <td>217.0756</td>\n",
       "      <td>0.210</td>\n",
       "    </tr>\n",
       "    <tr>\n",
       "      <th>319</th>\n",
       "      <td>20241008204801</td>\n",
       "      <td>3:31.35</td>\n",
       "      <td>3:31.56</td>\n",
       "      <td>0</td>\n",
       "      <td>0</td>\n",
       "      <td>0</td>\n",
       "      <td>0</td>\n",
       "      <td>0</td>\n",
       "      <td>0</td>\n",
       "      <td>0</td>\n",
       "      <td>...</td>\n",
       "      <td>3</td>\n",
       "      <td>4</td>\n",
       "      <td>1</td>\n",
       "      <td>2</td>\n",
       "      <td>2</td>\n",
       "      <td>2</td>\n",
       "      <td>2</td>\n",
       "      <td>2</td>\n",
       "      <td>217.0756</td>\n",
       "      <td>0.210</td>\n",
       "    </tr>\n",
       "    <tr>\n",
       "      <th>320</th>\n",
       "      <td>20241008204801</td>\n",
       "      <td>3:31.69</td>\n",
       "      <td>3:31.87</td>\n",
       "      <td>0</td>\n",
       "      <td>0</td>\n",
       "      <td>0</td>\n",
       "      <td>0</td>\n",
       "      <td>0</td>\n",
       "      <td>0</td>\n",
       "      <td>0</td>\n",
       "      <td>...</td>\n",
       "      <td>3</td>\n",
       "      <td>4</td>\n",
       "      <td>1</td>\n",
       "      <td>2</td>\n",
       "      <td>2</td>\n",
       "      <td>2</td>\n",
       "      <td>2</td>\n",
       "      <td>2</td>\n",
       "      <td>217.0756</td>\n",
       "      <td>0.180</td>\n",
       "    </tr>\n",
       "  </tbody>\n",
       "</table>\n",
       "<p>321 rows × 23 columns</p>\n",
       "</div>"
      ],
      "text/plain": [
       "             fileid       st        en  gender  issmoking  isalcohol  iscough  \\\n",
       "0    20240921104740  3:04.34  03:04.64       1          0          0        1   \n",
       "1    20240921104740  3:04.62  03:04.88       1          0          0        1   \n",
       "2    20240921104740  3:04.86  03:05.12       1          0          0        1   \n",
       "3    20240921125652  3:01.50  03:01.93       0          0          0        0   \n",
       "4    20240921125652  3:02.16  03:02.55       0          0          0        0   \n",
       "..              ...      ...       ...     ...        ...        ...      ...   \n",
       "316  20241008201738  3:36.63   3:37.03       1          0          0        0   \n",
       "317  20241008201738  3:37.09   3:37.49       1          0          0        0   \n",
       "318  20241008204801  3:30.95   3:31.16       0          0          0        0   \n",
       "319  20241008204801  3:31.35   3:31.56       0          0          0        0   \n",
       "320  20241008204801  3:31.69   3:31.87       0          0          0        0   \n",
       "\n",
       "     isfever  isrespill  iscovid19  ...  q26  q31  q38  q60  q61  q62  q63  \\\n",
       "0          0          3          0  ...    3    3    1    2    2    1    3   \n",
       "1          0          3          0  ...    3    3    1    2    2    1    3   \n",
       "2          0          3          0  ...    3    3    1    2    2    1    3   \n",
       "3          0          0          0  ...    3    1    1    1    2    3    2   \n",
       "4          0          0          0  ...    3    1    1    1    2    3    2   \n",
       "..       ...        ...        ...  ...  ...  ...  ...  ...  ...  ...  ...   \n",
       "316        0          0          0  ...    1    1    1    1    2    1    1   \n",
       "317        0          0          0  ...    1    1    1    1    2    1    1   \n",
       "318        0          0          0  ...    3    4    1    2    2    2    2   \n",
       "319        0          0          0  ...    3    4    1    2    2    2    2   \n",
       "320        0          0          0  ...    3    4    1    2    2    2    2   \n",
       "\n",
       "     q64  duration  slice  \n",
       "0      4  186.2269  0.299  \n",
       "1      4  186.2269  0.259  \n",
       "2      4  186.2269  0.259  \n",
       "3      1  185.0453  0.430  \n",
       "4      1  185.0453  0.390  \n",
       "..   ...       ...    ...  \n",
       "316    1  219.6239  0.400  \n",
       "317    1  219.6239  0.400  \n",
       "318    2  217.0756  0.210  \n",
       "319    2  217.0756  0.210  \n",
       "320    2  217.0756  0.180  \n",
       "\n",
       "[321 rows x 23 columns]"
      ]
     },
     "execution_count": 2,
     "metadata": {},
     "output_type": "execute_result"
    }
   ],
   "source": [
    "slice_raw = pd.read_csv(ROOT+'neucough_metainfo_slice.txt', header=0, index_col=None)\n",
    "slice_raw"
   ]
  },
  {
   "cell_type": "markdown",
   "id": "0ae2eb18-7b26-4cc8-884d-30df7a5ad6a8",
   "metadata": {},
   "source": [
    "### 尝试一下标准化"
   ]
  },
  {
   "cell_type": "code",
   "execution_count": 4,
   "id": "9248e97a-5d8b-4f99-ad84-0f698ac7fb7a",
   "metadata": {},
   "outputs": [
    {
     "name": "stdout",
     "output_type": "stream",
     "text": [
      "F:/DATAS/NEUCOUGHDATA_FULL/20240921104740_audiodata_元音字母a.wav\n",
      "sample rate: 22050\n"
     ]
    },
    {
     "data": {
      "text/plain": [
       "[<matplotlib.lines.Line2D at 0x1a4e31b6be0>]"
      ]
     },
     "execution_count": 4,
     "metadata": {},
     "output_type": "execute_result"
    },
    {
     "data": {
      "image/png": "[encoded data removed]",
      "text/plain": [
       "<Figure size 640x480 with 1 Axes>"
      ]
     },
     "metadata": {},
     "output_type": "display_data"
    },
    {
     "data": {
      "image/png": "[encoded data removed]",
      "text/plain": [
       "<Figure size 640x480 with 1 Axes>"
      ]
     },
     "metadata": {},
     "output_type": "display_data"
    }
   ],
   "source": [
    "single_file = slice_raw.iloc[2, 0]\n",
    "single_file_name = \"F:/DATAS/NEUCOUGHDATA_FULL/{}_audiodata_元音字母a.wav\".format(single_file)\n",
    "print(single_file_name)\n",
    "x, sr = librosa.load(single_file_name)\n",
    "print(\"sample rate:\", sr)\n",
    "\n",
    "def rms_db(samples):\n",
    "    \"\"\"返回以分贝为单位的音频均方根能量\n",
    "\n",
    "    :return: Root mean square energy in decibels.\n",
    "    :rtype: float\n",
    "    \"\"\"\n",
    "    # square root => multiply by 10 instead of 20 for dBs\n",
    "    mean_square = np.mean(samples ** 2)\n",
    "    return 10 * np.log10(mean_square)\n",
    "\n",
    "def gain_db(sample, gain):\n",
    "    return sample * 10.**(gain/20.)\n",
    "\n",
    "def normalize(sample, target_db=-20, max_gain_db=300.0):\n",
    "    if -np.inf == rms_db(sample):\n",
    "        return\n",
    "    gain = target_db - rms_db(sample)\n",
    "    if gain > max_gain_db:\n",
    "        raise ValueError(\n",
    "            \"无法将段规范化到 %f dB，因为可能的增益已经超过max_gain_db (%f dB)\" % (target_db, max_gain_db))\n",
    "    return gain_db(sample, min(max_gain_db, target_db - rms_db(sample)))\n",
    "\n",
    "new_sample = normalize(x)\n",
    "plt.figure(0)\n",
    "plt.plot(x)\n",
    "plt.figure(1)\n",
    "plt.plot(new_sample)"
   ]
  },
  {
   "cell_type": "markdown",
   "id": "bb5b19f2-fa48-464a-817e-20522d9053c2",
   "metadata": {},
   "source": [
    "# 根据标注的音频，读取srt然后根据区间判断是否静音，用时间窗作为单位\n",
    "### 静音为01标注\n",
    "### 读取ass字幕文件"
   ]
  },
  {
   "cell_type": "markdown",
   "id": "322ef4fa-5b74-4b8a-824e-352b710d857f",
   "metadata": {},
   "source": [
    "## 读取单个文件的歌词和音频并切分出每个片段"
   ]
  },
  {
   "cell_type": "code",
   "execution_count": null,
   "id": "aa8d12e6-ea91-469b-af63-dd3434f2c31f",
   "metadata": {},
   "outputs": [],
   "source": [
    "def min2sec(t: str):\n",
    "    parts = t.split(':')\n",
    "    return int(parts[1]) * 60 + float(parts[2])\n",
    "\n",
    "def read_ass_to_segs(asspath):\n",
    "    fin = open(asspath, 'r', encoding=\"UTF-8\")\n",
    "    offset = 20\n",
    "    while offset>0:\n",
    "        fin.readline()\n",
    "        offset -= 1\n",
    "    intervals = []\n",
    "    line = fin.readline()\n",
    "    while line:\n",
    "        parts = line.strip().split(',')\n",
    "        # print(parts[1], parts[2], parts[-1])\n",
    "        intervals.append((min2sec(parts[1]), min2sec(parts[2])))\n",
    "        line = fin.readline()\n",
    "    fin.close()\n",
    "    return intervals"
   ]
  },
  {
   "cell_type": "markdown",
   "id": "77c99d03-4a0e-4d9d-bd05-185cf6655564",
   "metadata": {},
   "source": [
    "### 通过区间和IOU获取标注\n",
    "- 截取段的起讫分别为st_pos, en_pos\n",
    "- 判断段的起讫有三种，(st_pre, en_pre),(st_cur, en_cur),(st_tail, en_tail)\n",
    "- 如果st_pos > st_cur 且 en_pos<en_cur， 则直接赋值为1 ([])\n",
    "- 如果st_pos > st_cur 且 en_pos>en_cur，再判断en_pos和st_tail的大小 [(])\n",
    "- 如果en_pos > st_cur 且 st_pos < st_cur， 再判断st_pos和en_pre的大小 ([)]\n",
    "\n",
    "当st_cur, en_cur被扫过之后，更新每个的赋值"
   ]
  },
  {
   "cell_type": "code",
   "execution_count": 28,
   "id": "68c302d2-80b2-4322-ad8a-348c1293d386",
   "metadata": {},
   "outputs": [
    {
     "name": "stdout",
     "output_type": "stream",
     "text": [
      "[(2.48, 3.12), (8.91, 9.78), (14.87, 15.43), (22.48, 23.24), (23.28, 23.82), (23.82, 24.28), (30.87, 31.69), (35.51, 36.27), (40.55, 41.28), (47.17, 47.84), (47.81, 48.37), (48.4, 48.93), (55.94, 56.72), (62.29, 63.13), (68.27, 68.94), (74.53999999999999, 75.23), (75.25, 75.86), (75.88, 76.39), (82.74, 83.27), (88.16, 88.91), (94.05, 94.50999999999999), (100.38, 101.0), (100.96000000000001, 101.57), (101.59, 102.1), (106.97999999999999, 107.49000000000001), (114.97, 115.88), (120.89, 121.64), (127.37, 128.03), (127.99, 128.67), (128.68, 129.07), (137.55, 140.44), (148.43, 149.07999999999998), (149.16, 149.76), (149.76, 150.22), (150.32999999999998, 150.84), (155.88, 156.71), (156.68, 157.29), (157.51, 157.88), (158.16, 158.69), (162.27, 162.96), (162.99, 163.61), (163.71, 164.2), (164.45, 164.88), (170.04, 170.73), (170.74, 171.49), (171.53, 171.95), (172.17000000000002, 172.61), (176.89, 177.57999999999998), (177.77, 178.46), (178.42000000000002, 178.84), (179.15, 179.57), (185.28, 185.64), (185.6, 186.07), (186.22, 186.59)]\n",
      "516 \n",
      " [0, 0, 0, 0, 0, 0, 0, 1, 1, 0, 0, 0, 0, 0, 0, 0, 0, 0, 0, 0, 0, 0, 0, 0, 1, 1, 1, 0, 0, 0, 0, 0, 0, 0, 0, 0, 0, 0, 0, 0, 0, 1, 1, 0, 0, 0, 0, 0, 0, 0, 0, 0, 0, 0, 0, 0, 0, 0, 0, 0, 0, 0, 1, 1, 0, 1, 1, 0, 0, 0, 0, 0, 0, 0, 0, 0, 0, 0, 0, 0, 0, 0, 0, 0, 0, 1, 1, 0, 0, 0, 0, 0, 0, 0, 0, 0, 0, 0, 1, 1, 0, 0, 0, 0, 0, 0, 0, 0, 0, 0, 0, 0, 1, 1, 0, 0, 0, 0, 0, 0, 0, 0, 0, 0, 0, 0, 0, 0, 0, 0, 1, 1, 1, 0, 1, 0, 0, 0, 0, 0, 0, 0, 0, 0, 0, 0, 0, 0, 0, 0, 0, 0, 0, 0, 1, 1, 0, 0, 0, 0, 0, 0, 0, 0, 0, 0, 0, 0, 0, 0, 0, 0, 1, 1, 0, 0, 0, 0, 0, 0, 0, 0, 0, 0, 0, 0, 0, 0, 1, 1, 0, 0, 0, 0, 0, 0, 0, 0, 0, 0, 0, 0, 0, 0, 0, 1, 1, 0, 1, 0, 1, 0, 0, 0, 0, 0, 0, 0, 0, 0, 0, 0, 0, 0, 0, 0, 0, 0, 1, 1, 0, 0, 0, 0, 0, 0, 0, 0, 0, 0, 0, 0, 0, 1, 1, 0, 0, 0, 0, 0, 0, 0, 0, 0, 0, 0, 0, 0, 0, 1, 1, 0, 0, 0, 0, 0, 0, 0, 0, 0, 0, 0, 0, 0, 0, 0, 0, 1, 1, 1, 1, 1, 0, 0, 0, 0, 0, 0, 0, 0, 0, 0, 0, 0, 0, 1, 0, 0, 0, 0, 0, 0, 0, 0, 0, 0, 0, 0, 0, 0, 0, 0, 0, 0, 0, 0, 0, 1, 1, 1, 0, 0, 0, 0, 0, 0, 0, 0, 0, 0, 0, 0, 0, 1, 1, 0, 0, 0, 0, 0, 0, 0, 0, 0, 0, 0, 0, 0, 0, 0, 0, 1, 1, 1, 1, 1, 0, 0, 0, 0, 0, 0, 0, 0, 0, 0, 0, 0, 0, 0, 0, 0, 0, 0, 0, 0, 0, 0, 0, 1, 1, 1, 1, 1, 1, 1, 1, 0, 0, 0, 0, 0, 0, 0, 0, 0, 0, 0, 0, 0, 0, 0, 0, 0, 0, 0, 0, 0, 0, 1, 1, 1, 1, 1, 0, 1, 0, 0, 0, 0, 0, 0, 0, 0, 0, 0, 0, 0, 0, 0, 1, 1, 1, 1, 1, 0, 1, 1, 0, 0, 0, 0, 0, 0, 0, 0, 0, 1, 1, 0, 1, 1, 1, 1, 1, 0, 0, 0, 0, 0, 0, 0, 0, 0, 0, 0, 0, 0, 0, 1, 1, 1, 1, 1, 1, 1, 0, 0, 0, 0, 0, 0, 0, 0, 0, 0, 0, 1, 1, 1, 1, 1, 1, 0, 1, 0, 0, 0, 0, 0, 0, 0, 0, 0, 0, 0, 0, 0, 0, 0, 0, 1, 1, 1, 0, 0]\n"
     ]
    }
   ],
   "source": [
    "def read_audio_for_silence(wavname):\n",
    "    intervals = read_ass_to_segs(\"F:/DATAS/NEUCOUGHDATA_FULL/{}_annotations.ass\".format(wavname))\n",
    "    print(intervals)\n",
    "    sample, sr = librosa.load(\"F:/DATAS/NEUCOUGHDATA_FULL/{}_audiodata_元音字母a.wav\".format(wavname))\n",
    "    step, overlap = 8000, 2000\n",
    "    st_pos, en_pos = 0, step\n",
    "    st_pre, en_pre = -6001, -1\n",
    "    Length = len(sample)\n",
    "    st_cur, en_cur = int(intervals[0][0]*sr), int(intervals[0][1]*sr)\n",
    "    st_tail, en_tail = int(intervals[1][0]*sr), int(intervals[1][1]*sr)\n",
    "    jdx = 2\n",
    "    Segs_List = []\n",
    "    label_List = []\n",
    "    tr = 3000\n",
    "    while en_cur < Length:\n",
    "        if st_pos > st_cur:\n",
    "            if en_pos < en_cur:\n",
    "                label_List.append(1)  # ()([])()\n",
    "            elif st_pos < en_cur:\n",
    "                if en_cur - st_pos > tr:\n",
    "                    label_List.append(1)  # ()([)]()\n",
    "                else:\n",
    "                    label_List.append(0)\n",
    "            elif st_pos > en_cur:\n",
    "                if en_pos > st_tail:\n",
    "                    if en_pos - st_tail>tr:\n",
    "                        label_List.append(1)  # ()()[(])\n",
    "                    else:\n",
    "                        label_List.append(0)\n",
    "                else:\n",
    "                    label_List.append(0)  # ()()[]()\n",
    "        elif en_pos > st_cur:\n",
    "            if en_pos - st_cur > tr:\n",
    "                label_List.append(1)  # ()[(])()\n",
    "            else:\n",
    "                label_List.append(0)\n",
    "        elif st_pos < en_pre:\n",
    "            if en_pre - st_pos > tr:\n",
    "                label_List.append(1)  # ([)]()()\n",
    "            else:\n",
    "                label_List.append(0)\n",
    "        else:\n",
    "            label_List.append(0)  # ()[]()()\n",
    "        # print(\"st_pos:{}, en_pos:{},\\nst_cur:{}, en_cur:{},\\njdx:{}, interval:{},\\nlen(label_List):{}, Length / step:{}, Length:{}\".format(st_pos, en_pos, st_cur, en_cur, jdx, len(intervals), len(label_List), Length / step, Length))\n",
    "        Segs_List.append(sample[st_pos:en_pos+overlap])\n",
    "        if st_pos > en_cur:\n",
    "            st_pre, en_pre = st_cur, en_cur\n",
    "            st_cur, en_cur = st_tail, en_tail\n",
    "            if jdx < len(intervals):\n",
    "                st_tail, en_tail = int(intervals[jdx][0] * sr), int(intervals[jdx][1] * sr)\n",
    "                jdx += 1\n",
    "            else:\n",
    "                st_tail, en_tail = Length + 1, Length + step\n",
    "        st_pos, en_pos = en_pos, en_pos + step\n",
    "    return Segs_List, label_List\n",
    "\n",
    "Segs_List, label_List = read_audio_for_silence(wavname=\"20240921111118\")\n",
    "print(len(Segs_List),'\\n', label_List)"
   ]
  },
  {
   "cell_type": "code",
   "execution_count": 29,
   "id": "eced8c39-7299-41fa-8cad-ceab18eb3307",
   "metadata": {},
   "outputs": [
    {
     "data": {
      "text/plain": [
       "[<matplotlib.lines.Line2D at 0x1a5a1a0b1f0>]"
      ]
     },
     "execution_count": 29,
     "metadata": {},
     "output_type": "execute_result"
    },
    {
     "data": {
      "image/png": "[encoded data removed]",
      "text/plain": [
       "<Figure size 640x480 with 1 Axes>"
      ]
     },
     "metadata": {},
     "output_type": "display_data"
    }
   ],
   "source": [
    "sample, sr = librosa.load(\"F:/DATAS/NEUCOUGHDATA_FULL/20240921111118_audiodata_元音字母a.wav\")\n",
    "new_List = []\n",
    "repeat = len(sample) // len(label_List)\n",
    "for item in label_List:\n",
    "    for _ in range(repeat):\n",
    "        new_List.append(item)\n",
    "plt.figure(0)\n",
    "plt.plot(sample)\n",
    "plt.plot(new_List)"
   ]
  },
  {
   "cell_type": "code",
   "execution_count": 26,
   "id": "73d829c8-4152-45bd-94a6-e6ad56d4e084",
   "metadata": {},
   "outputs": [
    {
     "name": "stdout",
     "output_type": "stream",
     "text": [
      "F:/DATAS/NEUCOUGHDATA_FULL/20240927150832_audiodata_元音字母a.wav\n",
      "sample rate: 22050\n"
     ]
    },
    {
     "data": {
      "text/plain": [
       "[<matplotlib.lines.Line2D at 0x14668a8afd0>]"
      ]
     },
     "execution_count": 26,
     "metadata": {},
     "output_type": "execute_result"
    },
    {
     "data": {
      "image/png": "[encoded data removed]",
      "text/plain": [
       "<Figure size 640x480 with 1 Axes>"
      ]
     },
     "metadata": {},
     "output_type": "display_data"
    },
    {
     "data": {
      "image/png": "[encoded data removed]",
      "text/plain": [
       "<Figure size 640x480 with 1 Axes>"
      ]
     },
     "metadata": {},
     "output_type": "display_data"
    }
   ],
   "source": [
    "def segment_cough(x, fs, cough_padding=0.2, min_cough_len=0.2, th_l_multiplier=0.1, th_h_multiplier=2):\n",
    "    # Preprocess the data by segmenting each file into individual coughs using a hysteresis comparator on the signal power\n",
    "    cough_mask = np.array([False] * len(x))\n",
    "\n",
    "    # Define hysteresis thresholds\n",
    "    rms = np.sqrt(np.mean(np.square(x)))\n",
    "    seg_th_l = th_l_multiplier * rms\n",
    "    seg_th_h = th_h_multiplier * rms\n",
    "\n",
    "    # Segment coughs\n",
    "    coughSegments = []\n",
    "    padding = round(fs * cough_padding)\n",
    "    min_cough_samples = round(fs * min_cough_len)\n",
    "    cough_start = 0\n",
    "    cough_end = 0\n",
    "    cough_in_progress = False\n",
    "    tolerance = round(0.01 * fs)\n",
    "    below_th_counter = 0\n",
    "\n",
    "    for i, sample in enumerate(x ** 2):\n",
    "        if cough_in_progress:\n",
    "            if sample < seg_th_l:\n",
    "                below_th_counter += 1\n",
    "                if below_th_counter > tolerance:\n",
    "                    cough_end = i + padding if (i + padding < len(x)) else len(x) - 1\n",
    "                    cough_in_progress = False\n",
    "                    if (cough_end + 1 - cough_start - 2 * padding > min_cough_samples):\n",
    "                        coughSegments.append(x[cough_start:cough_end + 1])\n",
    "                        cough_mask[cough_start:cough_end + 1] = True\n",
    "            elif i == (len(x) - 1):\n",
    "                cough_end = i\n",
    "                cough_in_progress = False\n",
    "                if (cough_end + 1 - cough_start - 2 * padding > min_cough_samples):\n",
    "                    coughSegments.append(x[cough_start:cough_end + 1])\n",
    "            else:\n",
    "                below_th_counter = 0\n",
    "        else:\n",
    "            if sample > seg_th_h:\n",
    "                cough_start = i - padding if (i - padding >= 0) else 0\n",
    "                cough_in_progress = True\n",
    "\n",
    "    return coughSegments, cough_mask\n",
    "# ==================-----------------------------------======================\n",
    "single_file = slice_raw.iloc[55, 0]\n",
    "single_file_name = \"F:/DATAS/NEUCOUGHDATA_FULL/{}_audiodata_元音字母a.wav\".format(single_file)\n",
    "print(single_file_name)\n",
    "x, sr = librosa.load(single_file_name)\n",
    "print(\"sample rate:\", sr)\n",
    "step_length, full_length = 8000, len(x)\n",
    "st_pos, en_pos = 0, step_length\n",
    "if en_pos > full_length:\n",
    "    segs = [x]\n",
    "seg_List = []\n",
    "rms_List = []\n",
    "\n",
    "while en_pos < full_length:\n",
    "    seg_List.append(x[st_pos:en_pos])\n",
    "    rms_List.append(np.sqrt(np.mean(np.square(x[st_pos:en_pos]))))\n",
    "    "
   ]
  },
  {
   "cell_type": "code",
   "execution_count": null,
   "id": "ee387fcd-4744-4a40-b290-0f7dd516d6f5",
   "metadata": {},
   "outputs": [],
   "source": []
  },
  {
   "cell_type": "markdown",
   "id": "aa0af87e-2250-4c0d-b761-a795dfccbd52",
   "metadata": {},
   "source": [
    "# 粗暴且不好用的方法\n",
    "瞎猜一个参数区分割，显然完全不准确"
   ]
  },
  {
   "cell_type": "code",
   "execution_count": null,
   "id": "35929ab6-fd58-4224-a39a-562ac61761d4",
   "metadata": {},
   "outputs": [],
   "source": [
    "plt.figure(0)\n",
    "plt.plot(x)\n",
    "# aoeiu ×(4+4)=40, +1 +3\n",
    "segs, masks = segment_cough(x, fs, cough_padding=0.03, min_cough_len=0.16, th_l_multiplier=0.0001, th_h_multiplier=0.2)\n",
    "print(\"读取文件：\", single_file_name)\n",
    "print(\"非静音的段数：\", len(segs), \", 同长度掩码长度：\", len(masks))\n",
    "\n",
    "for jdx, seg in enumerate(segs):\n",
    "    plt.figure(jdx)\n",
    "    plt.plot(seg)\n",
    "\n",
    "test_seg = np.zeros(len(masks))\n",
    "for j in range(len(masks)):\n",
    "    if masks[j]:\n",
    "        test_seg[j] = 1\n",
    "\n",
    "plt.figure(44)\n",
    "plt.plot(test_seg)"
   ]
  },
  {
   "cell_type": "code",
   "execution_count": null,
   "id": "40a8a23f-88f9-4996-8798-1c9cb4855b63",
   "metadata": {},
   "outputs": [],
   "source": [
    "def read_audio(filepath: str, st=None, en=None):\n",
    "    # print(y.shape, sr)\n",
    "    # sr = 22050\n",
    "    if (st is not None) and (en is not None):\n",
    "        # st, en = int(st * sr), int(en * sr)\n",
    "        # print(\"st, en:\", st, en)\n",
    "        y, sr = librosa.load(filepath, offset=st, duration=en - st)\n",
    "        # print(\"y, sr:\", len(y), sr)\n",
    "    else:\n",
    "        y, sr = librosa.load(filepath, )\n",
    "        # print(\"y, sr:\", y, sr)\n",
    "    # print(y.shape)\n",
    "    # mel = w2m(torch.from_numpy(y))\n",
    "    return y, sr#  , mel"
   ]
  },
  {
   "cell_type": "code",
   "execution_count": null,
   "id": "9168857c-1027-467c-8a3e-23e07bd858d5",
   "metadata": {},
   "outputs": [],
   "source": [
    "for idx, item in enumerate(slice_raw.itertuples()):\n",
    "    if idx >0:\n",
    "        break\n",
    "    name, st, en = item[0], item[1], item[2]\n",
    "    print(name, st, en)\n",
    "    audio_path = \"F:/DATAS/NEUCOUGHDATA_FULL/{}_audiodata_元音字母a.wav\".format(name)\n",
    "    y = read_audio(audio_path, st=min2sec(st), en=min2sec(en))\n",
    "    # plt.subplot(5, 1, idx+1)\n",
    "    plt.figure(idx, figsize=(14, 5))\n",
    "    plt.plot(y)"
   ]
  },
  {
   "cell_type": "markdown",
   "id": "7d38db1f-5d1a-4f75-a39f-3c5ad4c7b4ab",
   "metadata": {},
   "source": [
    "## 1.2 统计波形长度直方图"
   ]
  },
  {
   "cell_type": "code",
   "execution_count": null,
   "id": "c20e6c6a-6325-4377-a571-c382d586e6eb",
   "metadata": {},
   "outputs": [],
   "source": [
    "\n",
    "sns.displot(slice_raw, x=\"slice\", bins=10, height=4, aspect=3)"
   ]
  },
  {
   "cell_type": "markdown",
   "id": "29349585-c3a1-4c57-b01d-4fad41b8543a",
   "metadata": {},
   "source": [
    "# Step 2 统计Mel谱图的形状，统一长度，长的Crop短的Padding"
   ]
  },
  {
   "cell_type": "markdown",
   "id": "0bef63e2-8741-4293-bbdc-ecae62c0deff",
   "metadata": {},
   "source": [
    "## 2.1 读取、按时间切分、转换Mel谱"
   ]
  },
  {
   "cell_type": "code",
   "execution_count": null,
   "id": "ab381b5b-dc64-4562-9346-d70852393c86",
   "metadata": {},
   "outputs": [],
   "source": [
    "\n",
    "class Wave2Mel(object):\n",
    "    def __init__(self, sr,\n",
    "                 n_fft=1024,\n",
    "                 n_mels=128,\n",
    "                 win_length=1024,\n",
    "                 hop_length=512,\n",
    "                 power=2.0\n",
    "                 ):\n",
    "        self.mel_transform = torchaudio.transforms.MelSpectrogram(sample_rate=sr,\n",
    "                                                                  win_length=win_length,\n",
    "                                                                  hop_length=hop_length,\n",
    "                                                                  n_fft=n_fft,\n",
    "                                                                  n_mels=n_mels,\n",
    "                                                                  power=power)\n",
    "        self.amplitude_to_db = torchaudio.transforms.AmplitudeToDB(stype='power')\n",
    "\n",
    "    def __call__(self, x):\n",
    "        return self.amplitude_to_db(self.mel_transform(x))"
   ]
  },
  {
   "cell_type": "code",
   "execution_count": null,
   "id": "bdf39b4a-9571-4284-9523-7d5584cd6e55",
   "metadata": {},
   "outputs": [],
   "source": [
    "mel_length_list = []\n",
    "sr_list = []\n",
    "w2m = Wave2Mel(sr=22050)\n",
    "fout = open(\"F:/DATAS/NEUCOUGHDATA_COUGHSINGLE/neucough_slicemel.txt\", 'w')\n",
    "fout.write(\"filename,duration,slice\\n\")\n",
    "for idx, item in tqdm(enumerate(slice_raw.itertuples()), desc=\"Wav2Mel:\"):\n",
    "    name, st, en = item[0], item[1], item[2]\n",
    "    audio_path = \"F:/DATAS/NEUCOUGHDATA_FULL/{}_audiodata_元音字母a.wav\".format(name)\n",
    "    y, sr = read_audio(audio_path, st=min2sec(st), en=min2sec(en))\n",
    "    sr_list.append(sr)\n",
    "\n",
    "    mel = w2m(torch.from_numpy(y))\n",
    "    dim, length = mel.data.numpy().shape\n",
    "    mel_length_list.append([name, len(y), length])\n",
    "    fout.write(\"{},{},{}\\n\".format(name, len(y), length))\n",
    "fout.close()"
   ]
  },
  {
   "cell_type": "code",
   "execution_count": null,
   "id": "0df18e87-980c-4412-9662-2b2bb06691b9",
   "metadata": {},
   "outputs": [],
   "source": [
    "mel_raw = pd.read_csv(ROOT+'neucough_slicemel.txt', header=0, index_col=0)\n",
    "mel_raw"
   ]
  },
  {
   "cell_type": "markdown",
   "id": "642f985a-fa11-43ad-a59d-019d548bc58b",
   "metadata": {},
   "source": [
    "## 2.2 统计Mel谱的长度统计直方图"
   ]
  },
  {
   "cell_type": "code",
   "execution_count": null,
   "id": "265cb7d1-e21b-40e9-9aec-9633d4f3e166",
   "metadata": {},
   "outputs": [],
   "source": [
    "mel_raw[\"slice\"].mean()"
   ]
  },
  {
   "cell_type": "code",
   "execution_count": null,
   "id": "9ea37154-07f6-4d4a-b293-5242367b389c",
   "metadata": {},
   "outputs": [],
   "source": [
    "sns.displot(mel_raw, x=\"slice\", bins=10, height=4, aspect=3)"
   ]
  },
  {
   "cell_type": "markdown",
   "id": "25d91a14-9e1c-4f4d-9a5a-47691afce044",
   "metadata": {},
   "source": [
    "## 2.3 统一长度，长的Crop短的Padding"
   ]
  },
  {
   "cell_type": "markdown",
   "id": "1405f82a-d936-48f6-a79c-9eacd726fc8e",
   "metadata": {},
   "source": [
    "### 当前存在一个问题：有的很长，可以随机截取多个，而不是只要一个"
   ]
  },
  {
   "cell_type": "code",
   "execution_count": null,
   "id": "7d63a734-9f97-4ab3-9994-bae919a5f8d2",
   "metadata": {},
   "outputs": [],
   "source": [
    "fixed_length = 16\n",
    "for idx, item in enumerate(slice_raw.itertuples()):\n",
    "    name, st, en = item[0], item[1], item[2]\n",
    "    st, en = min2sec(st), min2sec(en)\n",
    "    audio_path = \"F:/DATAS/NEUCOUGHDATA_FULL/{}_audiodata_元音字母a.wav\".format(name)\n",
    "    y, sr = read_audio(audio_path, st=min2sec(st), en=min2sec(en))\n",
    "    mel = w2m(torch.from_numpy(y)).data.numpy()\n",
    "    dim, length = mel.shape\n",
    "    if length < 16:\n",
    "        new_mel = np.zeros((128, 16))\n",
    "        st = np.random.randint(0, (fixed_length-length+1)//2)\n",
    "        new_mel[:, st:st+16] = mel\n",
    "    elif length>16:\n",
    "        st = np.random.randint(0, (length+1-fixed_length)//2)\n",
    "        new_mel = mel[:, st:st+16]\n",
    "    else:\n",
    "        new_mel = mel\n",
    "        # print(\"wav, mel length:\", len(y), mel.shape)\n",
    "    print(new_mel.shape)"
   ]
  },
  {
   "cell_type": "markdown",
   "id": "81b1042d-90bf-4b8f-a7cc-32607a8eb68e",
   "metadata": {},
   "source": [
    "# Step 3 从原始音频中随机截取一些负样本，作为训练，和Region Proposal"
   ]
  },
  {
   "cell_type": "markdown",
   "id": "bb1a42fe-aa57-467e-b829-47d33650293d",
   "metadata": {},
   "source": [
    "## 寻找切分多大的范围内，波形的mel谱才是16"
   ]
  },
  {
   "cell_type": "code",
   "execution_count": null,
   "id": "d72dee96-c059-4fe3-8fa0-3334fb645897",
   "metadata": {},
   "outputs": [],
   "source": [
    "def min2sec(t: str):\n",
    "    parts = t.split(':')\n",
    "    return int(parts[0]) * 60 + float(parts[1])\n",
    "\n",
    "def get_rand_start(sec: int, wav_length:int, mode=\"left\", full_length: int=None, sr=22050):\n",
    "    \"\"\" 除法/不要写成//，会导致算什么都是0 \"\"\"\n",
    "    if mode==\"left\":\n",
    "        return np.random.randint(0, sec*sr-wav_length) / sr\n",
    "    elif mode==\"right\":\n",
    "        return np.random.randint(sec*sr, full_length-wav_length) / sr\n",
    "    else:\n",
    "        raise Exception(\"Unknown mode of get_rand_start(mode=\\\"???\\\").\")\n",
    "\n",
    "def read_audio(filepath: str, st=None, en=None, duration=None):\n",
    "    # print(y.shape, sr)\n",
    "    # sr = 22050\n",
    "    if st is not None:\n",
    "        if en is not None:\n",
    "            # st, en = int(st * sr), int(en * sr)\n",
    "            # print(\"st, en:\", st, en)\n",
    "            y, sr = librosa.load(filepath, offset=st, duration=en - st)\n",
    "            # print(\"y, sr:\", len(y), sr)\n",
    "        elif duration is not None:\n",
    "            y, sr = librosa.load(filepath, offset=st, duration=duration)\n",
    "    else:\n",
    "        y, sr = librosa.load(filepath)\n",
    "            # print(\"y, sr:\", y, sr)\n",
    "    # print(y.shape)\n",
    "    # mel = w2m(torch.from_numpy(y))\n",
    "    return y, sr#  , mel"
   ]
  },
  {
   "cell_type": "code",
   "execution_count": null,
   "id": "2a5df510-f6fe-41fd-a4ad-3108a7199179",
   "metadata": {},
   "outputs": [],
   "source": [
    "def labelling_by_IOU(st1:int, en1:int, st2:int, d2:int, mode=\"left\"):\n",
    "    print(st1,en1,st2,d2)\n",
    "    if mode==\"left\":\n",
    "        if st2+d2<st1:\n",
    "            return 0  # other\n",
    "        elif (st2+d2-st1)/(en1-st2) > 0.2:\n",
    "            return 1\n",
    "        else:\n",
    "            return 0\n",
    "    else:\n",
    "        raise Exception(\"Unknown mode of labelling_by_IOU(mode=\\\"???\\\")\")"
   ]
  },
  {
   "cell_type": "code",
   "execution_count": null,
   "id": "ce2f94d7-d4e5-4e22-b885-26e9ab19a5db",
   "metadata": {},
   "outputs": [],
   "source": [
    "lab2name = {0: \"non-cough\", 1:\"cough\"}\n",
    "fixed_length = 16\n",
    "for idx, item in enumerate(slice_raw.itertuples()):\n",
    "    name, st, en = item[0], item[1], item[2]\n",
    "    st, en = min2sec(st), min2sec(en)\n",
    "    print(\"st, en:\", st, en)\n",
    "    audio_path = \"F:/DATAS/NEUCOUGHDATA_FULL/{}_audiodata_元音字母a.wav\".format(name)\n",
    "    pos_sample, sr = read_audio(audio_path, st=st, en=en)\n",
    "    pos_mel = w2m(torch.from_numpy(pos_sample).to(torch.float32))\n",
    "    print(\"pos_sample:\", pos_sample.shape, pos_mel.shape)\n",
    "    print(\"label:\", 1, lab2name[1])\n",
    "    \n",
    "    mel16_rand_wavlen = np.random.randint(7680, 8192)  # Mel length: 16\n",
    "    print(\"wavlen:\", mel16_rand_wavlen/sr)\n",
    "    rand_start = get_rand_start(sec=st, wav_length=mel16_rand_wavlen, mode=\"left\", full_length=None, sr=22050)\n",
    "    print(\"rand_start:\", rand_start)\n",
    "    neg_sample, _ = read_audio(audio_path, st=rand_start, duration=mel16_rand_wavlen/sr)  # 除法/不要写成//，会导致算什么都是0\n",
    "    neg_mel = w2m(torch.from_numpy(neg_sample).to(torch.float32))\n",
    "    print(\"neg_sample:\", neg_sample.shape, neg_mel.shape)\n",
    "    gen_label = labelling_by_IOU(st1=st,en1=en,st2=rand_start,d2=mel16_rand_wavlen/sr)\n",
    "    print(\"label:\", gen_label, lab2name[gen_label])\n",
    "    while gen_label==1:\n",
    "        mel16_rand_wavlen = np.random.randint(7680, 8192)  # Mel length: 16\n",
    "        print(\"wavlen:\", mel16_rand_wavlen/sr)\n",
    "        rand_start = get_rand_start(sec=st, wav_length=mel16_rand_wavlen, mode=\"left\", full_length=None, sr=22050)\n",
    "        print(\"rand_start:\", rand_start)\n",
    "        neg_sample, _ = read_audio(audio_path, st=rand_start, duration=mel16_rand_wavlen/sr)  # 除法/不要写成//，会导致算什么都是0\n",
    "        print(\"neg_sample:\", neg_sample.shape)\n",
    "        gen_label = labelling_by_IOU(st1=st,en1=en,st2=rand_start,d2=mel16_rand_wavlen/sr)\n",
    "        print(\"label:\", gen_label, lab2name[gen_label])\n",
    "    print()\n",
    "    if idx>2:\n",
    "        print(\"idx:\", idx, mel16_rand_wavlen)\n",
    "        break"
   ]
  },
  {
   "cell_type": "markdown",
   "id": "4e3f1f85-f511-42a1-bae6-6baa4a20a373",
   "metadata": {},
   "source": [
    "# Step 4 均等分割一条数据"
   ]
  },
  {
   "cell_type": "markdown",
   "id": "46d5b798-d152-4f10-a7b2-5f433814f818",
   "metadata": {},
   "source": [
    "## 4.1 KMeans聚类算法"
   ]
  },
  {
   "cell_type": "markdown",
   "id": "16ee3512-59cb-4e39-819d-46c5e544627a",
   "metadata": {},
   "source": [
    "### RMS能量计算\n",
    "- 想法：带重叠滑动窗口获取样本，然后画图看一看是否可分\n",
    "- 然后多个文件一起，线性判别分析"
   ]
  },
  {
   "cell_type": "code",
   "execution_count": null,
   "id": "eb199344-9ecf-4d4c-a3a0-5e42b9ffe129",
   "metadata": {},
   "outputs": [],
   "source": [
    "import os\n",
    "import numpy as np\n",
    "import random\n",
    "import librosa\n",
    "import matplotlib.pyplot as plt"
   ]
  },
  {
   "cell_type": "code",
   "execution_count": null,
   "id": "b4669210-bad0-422c-8273-16b8238407d1",
   "metadata": {
    "scrolled": true
   },
   "outputs": [],
   "source": [
    "def sig2rms(signal):\n",
    "    return np.sqrt(np.mean(np.square(signal)))\n",
    "\n",
    "def threshold2x(x, tr, mode=\"origin\"):\n",
    "    if mode==\"origin\":\n",
    "        return x if x > tr else 0\n",
    "    elif mode==\"label\":\n",
    "        return 1 if x > tr else 0\n",
    "    else:\n",
    "        raise Exception(\"Error mode of threshold2x {}, please choise from [\\\"origin\\\", \\\"label\\\"].\".format(mode))\n",
    "\n",
    "def file2rmslist(filepath):\n",
    "    fixed_length = 8191  # mel 16\n",
    "    overlap = 2048\n",
    "    wav_input, sr = librosa.load(sample_path)\n",
    "    N = len(wav_input)\n",
    "    st = 0\n",
    "    rms_list = []\n",
    "    while st < N:\n",
    "        sample = wav_input[st:st+fixed_length-overlap]\n",
    "        tmp_rms = sig2rms(sample)\n",
    "        rms_list.append(threshold2x(tmp_rms))\n",
    "        st += fixed_length\n",
    "    return rms\n",
    "fixed_length = 8191  # mel 16\n",
    "overlap = 2048"
   ]
  },
  {
   "cell_type": "code",
   "execution_count": null,
   "id": "143be8b6-7664-44f5-8272-285b7ef61bc8",
   "metadata": {
    "scrolled": true
   },
   "outputs": [],
   "source": [
    "data_dir = \"F:/DATAS/NEUCOUGHDATA_FULL/\"\n",
    "sample_path = \"F:/DATAS/NEUCOUGHDATA_FULL/20240921104740_audiodata_元音字母a.wav\"\n",
    "file_list = []\n",
    "for item in os.listdir(\"F:/DATAS/NEUCOUGHDATA_FULL/\"):\n",
    "    if item[-3:]==\"wav\":\n",
    "        file_list.append(item)\n",
    "len(file_list)"
   ]
  },
  {
   "cell_type": "code",
   "execution_count": null,
   "id": "18b8ca25-d23b-4ac3-9a6d-6a3b24678fbc",
   "metadata": {},
   "outputs": [],
   "source": [
    "def threshold2x(x, tr, mode=\"origin\"):\n",
    "    if mode==\"origin\":\n",
    "        return x if x > tr else 0\n",
    "    elif mode==\"label\":\n",
    "        return 1 if x > tr else 0\n",
    "    else:\n",
    "        raise Exception(\"Error mode of threshold2x {}, please choise from [\\\"origin\\\", \\\"label\\\"].\".format(mode))\n",
    "\n",
    "def scale01(signal):\n",
    "    rate = 1. / max(signal)\n",
    "    return rate * np.array(signal)\n",
    "\n",
    "sample_path = random.choice(file_list)\n",
    "file_path = data_dir+sample_path\n",
    "print(sample_path)\n",
    "def file2signal(file_path):\n",
    "    wav_input, sr = librosa.load(file_path)\n",
    "    N = len(wav_input)\n",
    "    st = 0\n",
    "    rms_list = []\n",
    "    tmp_rms = sig2rms(scale01(wav_input))\n",
    "    tr = np.mean(tmp_rms) / 6.7\n",
    "    print(\"tr:\", tr)\n",
    "    while st < N:\n",
    "        sample = wav_input[st:st+fixed_length-overlap]\n",
    "        tmp_rms = sig2rms(sample)\n",
    "        # print(np.mean(tmp_rms))\n",
    "        rms_list.append(threshold2x(tmp_rms, tr))\n",
    "        st += fixed_length\n",
    "    return rms_list\n",
    "rms_list = file2signal(file_path)\n",
    "plt.figure(0)\n",
    "plt.plot(range(len(wav_input)), wav_input, c=\"black\")\n",
    "plt.figure(1)\n",
    "plt.stem(range(len(rms_list)), rms_list)\n",
    "plt.show()"
   ]
  },
  {
   "cell_type": "code",
   "execution_count": 1,
   "id": "026a6fee-5400-4c7b-9695-50e5a07dfe06",
   "metadata": {},
   "outputs": [],
   "source": [
    "import os\n",
    "import numpy as np\n",
    "import random\n",
    "import librosa\n",
    "import matplotlib.pyplot as plt\n",
    "data_dir = \"F:/DATAS/NEUCOUGHDATA_FULL/\"\n",
    "sample_path = \"20240921104740_audiodata_元音字母a.wav\"\n",
    "# file_list = []\n",
    "# for item in os.listdir(\"F:/DATAS/NEUCOUGHDATA_FULL/\"):\n",
    "#     if item[-3:]==\"wav\":\n",
    "#         file_list.append(item)\n",
    "# len(file_list)"
   ]
  },
  {
   "cell_type": "code",
   "execution_count": 2,
   "id": "acb9e3bd-4cf4-47c8-8e02-4e8533e04217",
   "metadata": {},
   "outputs": [
    {
     "name": "stdout",
     "output_type": "stream",
     "text": [
      "20240921104740_audiodata_元音字母a.wav\n"
     ]
    }
   ],
   "source": [
    "# sample_path = random.choice(file_list)\n",
    "file_path = data_dir+sample_path\n",
    "print(sample_path)\n",
    "wav_input, sr = librosa.load(file_path)\n",
    "N = len(wav_input)"
   ]
  },
  {
   "cell_type": "code",
   "execution_count": 21,
   "id": "004668ce-c474-42ce-b4c6-24172dd1155d",
   "metadata": {},
   "outputs": [
    {
     "data": {
      "image/png": "[encoded data removed]",
      "text/plain": [
       "<Figure size 640x480 with 1 Axes>"
      ]
     },
     "metadata": {},
     "output_type": "display_data"
    },
    {
     "data": {
      "image/png": "[encoded data removed]",
      "text/plain": [
       "<Figure size 640x480 with 1 Axes>"
      ]
     },
     "metadata": {},
     "output_type": "display_data"
    }
   ],
   "source": [
    "fixed_length = 8191  # mel 16\n",
    "overlap = 2048\n",
    "step = fixed_length - overlap\n",
    "st = 0\n",
    "en = st + step\n",
    "zcs_list = []\n",
    "while en < N:\n",
    "    sample = wav_input[st:en]\n",
    "    # print(sample)\n",
    "    tmp_zcs = librosa.zero_crossings(sample, pad=False).sum()\n",
    "    # print(np.mean(tmp_rms))\n",
    "    if tmp_zcs < 1700:\n",
    "        tmp_zcs = 0\n",
    "    zcs_list.append(tmp_zcs)\n",
    "    st = en\n",
    "    en += step\n",
    "\n",
    "plt.figure(0)\n",
    "plt.plot(range(N), wav_input)\n",
    "plt.show()\n",
    "plt.figure(1)\n",
    "plt.stem(range(len(zcs_list)),zcs_list)\n",
    "plt.show()"
   ]
  },
  {
   "cell_type": "code",
   "execution_count": 8,
   "id": "ef441fe9-4b3f-4393-a23b-a36e392a0628",
   "metadata": {},
   "outputs": [
    {
     "name": "stdout",
     "output_type": "stream",
     "text": [
      "[False False False  True False False False False False False False False\n",
      " False False False  True False False  True False False False False False\n",
      " False]\n",
      "(25,)\n",
      "3\n"
     ]
    }
   ],
   "source": [
    "zcs = librosa.zero_crossings(y, pad=False)\n",
    "print(zcs)\n",
    "print(zcs.shape)\n",
    "print(zcs.sum())"
   ]
  },
  {
   "cell_type": "code",
   "execution_count": null,
   "id": "a8100287-1165-4658-9452-327f8e4c14f1",
   "metadata": {},
   "outputs": [],
   "source": []
  },
  {
   "cell_type": "markdown",
   "id": "db9f1d0b-ddc5-44c7-9793-23aed5823a19",
   "metadata": {},
   "source": [
    "## 4.2 尝试一下线性判别分析\n",
    "- 因为我需要的分类任务就是最精准的线性分类\n",
    "- 但是我感觉我不需要分类，我已经手动找阈值了，标签我都是通过阈值赋予的，那我还分什么类啊！！！\n",
    "- 说起来我的目标，不就是识别静音吗！！！"
   ]
  },
  {
   "cell_type": "code",
   "execution_count": null,
   "id": "e34754f5-0490-459a-93f1-f68ccb705c1a",
   "metadata": {},
   "outputs": [],
   "source": [
    "from sklearn import datasets\n",
    "from sklearn.decomposition import PCA\n",
    "from sklearn.discriminant_analysis import LinearDiscriminantAnalysis"
   ]
  },
  {
   "cell_type": "code",
   "execution_count": null,
   "id": "f39975ab-97f0-4696-8782-ee7eed4870d9",
   "metadata": {},
   "outputs": [],
   "source": []
  },
  {
   "cell_type": "markdown",
   "id": "5de5a689-5582-4867-ba2c-4a6ff824ba2f",
   "metadata": {},
   "source": [
    "## 进行Region Proposal的方法之我的想法\n",
    "- 根据我的调查，从RCNN开始就有的方法，先进行Region Proposal，具体方法，以及输出后的处理我不清楚，我怀疑不同region尺寸不一样大无法组成Batch。\n",
    "- 关注一下Bounding-Boxes的选取\n",
    "- YOLO里面提到了Anchor，锚框的选择值得关注\n",
    "- 我的想法则是最古老的方法，滑动窗口，带重叠。可以先试试。"
   ]
  },
  {
   "cell_type": "code",
   "execution_count": null,
   "id": "a9c03d1c-8433-406b-9270-fd1b67074a09",
   "metadata": {},
   "outputs": [],
   "source": [
    "wav2mel = Wave2Mel(sr=22050)"
   ]
  },
  {
   "cell_type": "code",
   "execution_count": null,
   "id": "35a38c11-ee5a-4b51-abb6-99db53ff36b4",
   "metadata": {},
   "outputs": [],
   "source": [
    "test_len = [8192, 4068, 6144, 7168, 7679, 7680, 7681, 8191, 8192]\n",
    "for length in test_len:\n",
    "    test_x = torch.from_numpy(np.random.rand(length)).to(torch.float32)\n",
    "    x_mel = wav2mel(test_x)\n",
    "    print(length, x_mel.shape)\n"
   ]
  },
  {
   "cell_type": "code",
   "execution_count": null,
   "id": "c0676ae4-a9d5-4f5f-8e2f-f5f7acdff009",
   "metadata": {},
   "outputs": [],
   "source": [
    "number = 8191\n",
    "for factor in range(2, int(np.sqrt(number))+2):\n",
    "    if number % factor == 0:\n",
    "        print(factor, number/factor)\n",
    "print(\"prime\")"
   ]
  },
  {
   "cell_type": "code",
   "execution_count": null,
   "id": "a1a527d6-3522-47cb-868b-c348eb612adb",
   "metadata": {},
   "outputs": [],
   "source": [
    "sample_path = \"F:/DATAS/NEUCOUGHDATA_FULL/20240921104740_audiodata_元音字母a.wav\"\n",
    "# pool_size = [8, 8, 2]\n",
    "params = {\"pool_size\": [8, 8, 2], \"dropout_rate\": 0.0, \"batch_size\": 32, \"nb_cnn2d_filt\": 64,\n",
    "          \"rnn_size\": [128, 128], \"fnn_size\": [256, 128, 32]}\n",
    "device = torch.device(\"cuda\")\n",
    "model = CRNN(params=params).to(device)\n",
    "model.load_state_dict(torch.load(\"./runs/sed_crnn/{}/epoch_{}_sedmodel.pth\".format(\"202411152222\", 19)))\n",
    "model.eval()\n",
    "print(model)\n",
    "\n",
    "# sample_list, label_list = read_fullwave_file()\n",
    "lab2name = {0: \"non-cough\", 1: \"cough\"}\n",
    "fixed_length = 8191  # mel 16\n",
    "overlap = 2048"
   ]
  },
  {
   "cell_type": "code",
   "execution_count": null,
   "id": "34e4f150-64f3-4ee4-aa4c-4add96625558",
   "metadata": {},
   "outputs": [],
   "source": [
    "wav_input, sr = librosa.load(sample_path)\n",
    "N = len(wav_input)\n",
    "st = 0\n",
    "st_list = []\n",
    "yhat_list = []\n",
    "while st < N:\n",
    "    sample = wav_input[st:st+fixed_length-overlap]\n",
    "    x_mel = wav2mel(torch.from_numpy(sample).to(torch.float32))\n",
    "    x_mel = x_mel.unsqueeze(0).to(device)\n",
    "    print(\"start:{}, x_mel.shape:{}\".format(st, x_mel.shape))\n",
    "    with torch.no_grad():\n",
    "        y_pred, _ = model(x_mel)\n",
    "        y_hat = torch.argmax(y_pred, dim=-1)\n",
    "        st_list.append(st)\n",
    "        yhat_list.append(y_hat)\n",
    "    st += fixed_length"
   ]
  },
  {
   "cell_type": "code",
   "execution_count": null,
   "id": "99fbb6f6-12fd-4cec-8d0d-e282d0f195d1",
   "metadata": {},
   "outputs": [],
   "source": [
    "yhat_list = [item.data.cpu().numpy() for item in yhat_list]"
   ]
  },
  {
   "cell_type": "code",
   "execution_count": null,
   "id": "3134d9b3-92a9-4ccd-a0f5-d301ba06a16b",
   "metadata": {},
   "outputs": [],
   "source": [
    "plt.figure(1)\n",
    "plt.stem(range(len(yhat_list)), yhat_list)\n",
    "plt.show()"
   ]
  },
  {
   "cell_type": "code",
   "execution_count": null,
   "id": "e6a81d7d-e3b8-4b44-b40c-af96e9684aa0",
   "metadata": {},
   "outputs": [],
   "source": []
  },
  {
   "cell_type": "markdown",
   "id": "3bc95c39-612f-4ba5-a818-28d351470351",
   "metadata": {},
   "source": [
    "# End"
   ]
  }
 ],
 "metadata": {
  "kernelspec": {
   "display_name": "Python 3 (ipykernel)",
   "language": "python",
   "name": "python3"
  },
  "language_info": {
   "codemirror_mode": {
    "name": "ipython",
    "version": 3
   },
   "file_extension": ".py",
   "mimetype": "text/x-python",
   "name": "python",
   "nbconvert_exporter": "python",
   "pygments_lexer": "ipython3",
   "version": "3.8.5"
  }
 },
 "nbformat": 4,
 "nbformat_minor": 5
}
