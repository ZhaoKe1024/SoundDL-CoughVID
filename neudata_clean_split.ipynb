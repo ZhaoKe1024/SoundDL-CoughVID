{
 "cells": [
  {
   "cell_type": "code",
   "execution_count": 42,
   "id": "6d187c82-8fee-4576-abfb-b47d317ce549",
   "metadata": {},
   "outputs": [],
   "source": [
    "import os\n",
    "import random\n",
    "import numpy as np\n",
    "import pandas as pd\n",
    "import matplotlib.pyplot as plt\n",
    "import seaborn as sns\n",
    "from tqdm import tqdm\n",
    "import librosa\n",
    "import torch\n",
    "import torchaudio\n",
    "\n",
    "# import sys\n",
    "# sys.path.append(r'C:/Program Files (zk)/PythonFiles/AClassification/SoundDL-CoughVID')\n",
    "ROOT = \"F:/DATAS/NEUCOUGHDATA_COUGHSINGLE/\""
   ]
  },
  {
   "cell_type": "markdown",
   "id": "3b7515d3-673b-489c-8129-423bb7283510",
   "metadata": {},
   "source": [
    "# Step 1 观察数据集"
   ]
  },
  {
   "cell_type": "markdown",
   "id": "5cc182d8-391f-490d-863e-2f53c8e4edc5",
   "metadata": {},
   "source": [
    "## 1.1 尝试根据时间截取片段"
   ]
  },
  {
   "cell_type": "code",
   "execution_count": null,
   "id": "49a384b0-824d-4c39-8cef-21123e9d9f80",
   "metadata": {},
   "outputs": [],
   "source": [
    "slice_raw = pd.read_csv(ROOT+'neucough_metainfo_slice.txt', header=0, index_col=0)\n",
    "slice_raw"
   ]
  },
  {
   "cell_type": "code",
   "execution_count": 43,
   "id": "40a8a23f-88f9-4996-8798-1c9cb4855b63",
   "metadata": {},
   "outputs": [],
   "source": [
    "def min2sec(t: str):\n",
    "    parts = t.split(':')\n",
    "    return int(parts[0]) * 60 + float(parts[1])\n",
    "\n",
    "def read_audio(filepath: str, st=None, en=None):\n",
    "    # print(y.shape, sr)\n",
    "    # sr = 22050\n",
    "    if (st is not None) and (en is not None):\n",
    "        # st, en = int(st * sr), int(en * sr)\n",
    "        # print(\"st, en:\", st, en)\n",
    "        y, sr = librosa.load(filepath, offset=st, duration=en - st)\n",
    "        # print(\"y, sr:\", len(y), sr)\n",
    "    else:\n",
    "        y, sr = librosa.load(filepath, )\n",
    "        # print(\"y, sr:\", y, sr)\n",
    "    # print(y.shape)\n",
    "    # mel = w2m(torch.from_numpy(y))\n",
    "    return y, sr#  , mel"
   ]
  },
  {
   "cell_type": "code",
   "execution_count": null,
   "id": "9168857c-1027-467c-8a3e-23e07bd858d5",
   "metadata": {},
   "outputs": [],
   "source": [
    "for idx, item in enumerate(slice_raw.itertuples()):\n",
    "    if idx >0:\n",
    "        break\n",
    "    name, st, en = item[0], item[1], item[2]\n",
    "    print(name, st, en)\n",
    "    audio_path = \"F:/DATAS/NEUCOUGHDATA_FULL/{}_audiodata_元音字母a.wav\".format(name)\n",
    "    y = read_audio(audio_path, st=min2sec(st), en=min2sec(en))\n",
    "    # plt.subplot(5, 1, idx+1)\n",
    "    plt.figure(idx, figsize=(14, 5))\n",
    "    plt.plot(y)"
   ]
  },
  {
   "cell_type": "markdown",
   "id": "7d38db1f-5d1a-4f75-a39f-3c5ad4c7b4ab",
   "metadata": {},
   "source": [
    "## 1.2 统计波形长度直方图"
   ]
  },
  {
   "cell_type": "code",
   "execution_count": null,
   "id": "c20e6c6a-6325-4377-a571-c382d586e6eb",
   "metadata": {},
   "outputs": [],
   "source": [
    "\n",
    "sns.displot(slice_raw, x=\"slice\", bins=10, height=4, aspect=3)"
   ]
  },
  {
   "cell_type": "markdown",
   "id": "29349585-c3a1-4c57-b01d-4fad41b8543a",
   "metadata": {},
   "source": [
    "# Step 2 统计Mel谱图的形状，统一长度，长的Crop短的Padding"
   ]
  },
  {
   "cell_type": "markdown",
   "id": "0bef63e2-8741-4293-bbdc-ecae62c0deff",
   "metadata": {},
   "source": [
    "## 2.1 读取、按时间切分、转换Mel谱"
   ]
  },
  {
   "cell_type": "code",
   "execution_count": null,
   "id": "ab381b5b-dc64-4562-9346-d70852393c86",
   "metadata": {},
   "outputs": [],
   "source": [
    "\n",
    "class Wave2Mel(object):\n",
    "    def __init__(self, sr,\n",
    "                 n_fft=1024,\n",
    "                 n_mels=128,\n",
    "                 win_length=1024,\n",
    "                 hop_length=512,\n",
    "                 power=2.0\n",
    "                 ):\n",
    "        self.mel_transform = torchaudio.transforms.MelSpectrogram(sample_rate=sr,\n",
    "                                                                  win_length=win_length,\n",
    "                                                                  hop_length=hop_length,\n",
    "                                                                  n_fft=n_fft,\n",
    "                                                                  n_mels=n_mels,\n",
    "                                                                  power=power)\n",
    "        self.amplitude_to_db = torchaudio.transforms.AmplitudeToDB(stype='power')\n",
    "\n",
    "    def __call__(self, x):\n",
    "        return self.amplitude_to_db(self.mel_transform(x))"
   ]
  },
  {
   "cell_type": "code",
   "execution_count": null,
   "id": "bdf39b4a-9571-4284-9523-7d5584cd6e55",
   "metadata": {},
   "outputs": [],
   "source": [
    "mel_length_list = []\n",
    "sr_list = []\n",
    "w2m = Wave2Mel(sr=22050)\n",
    "fout = open(\"F:/DATAS/NEUCOUGHDATA_COUGHSINGLE/neucough_slicemel.txt\", 'w')\n",
    "fout.write(\"filename,duration,slice\\n\")\n",
    "for idx, item in tqdm(enumerate(slice_raw.itertuples()), desc=\"Wav2Mel:\"):\n",
    "    name, st, en = item[0], item[1], item[2]\n",
    "    audio_path = \"F:/DATAS/NEUCOUGHDATA_FULL/{}_audiodata_元音字母a.wav\".format(name)\n",
    "    y, sr = read_audio(audio_path, st=min2sec(st), en=min2sec(en))\n",
    "    sr_list.append(sr)\n",
    "\n",
    "    mel = w2m(torch.from_numpy(y))\n",
    "    dim, length = mel.data.numpy().shape\n",
    "    mel_length_list.append([name, len(y), length])\n",
    "    fout.write(\"{},{},{}\\n\".format(name, len(y), length))\n",
    "fout.close()"
   ]
  },
  {
   "cell_type": "code",
   "execution_count": null,
   "id": "0df18e87-980c-4412-9662-2b2bb06691b9",
   "metadata": {},
   "outputs": [],
   "source": [
    "mel_raw = pd.read_csv(ROOT+'neucough_slicemel.txt', header=0, index_col=0)\n",
    "mel_raw"
   ]
  },
  {
   "cell_type": "markdown",
   "id": "642f985a-fa11-43ad-a59d-019d548bc58b",
   "metadata": {},
   "source": [
    "## 2.2 统计Mel谱的长度统计直方图"
   ]
  },
  {
   "cell_type": "code",
   "execution_count": 31,
   "id": "265cb7d1-e21b-40e9-9aec-9633d4f3e166",
   "metadata": {},
   "outputs": [
    {
     "data": {
      "text/plain": [
       "12.838006230529595"
      ]
     },
     "execution_count": 31,
     "metadata": {},
     "output_type": "execute_result"
    }
   ],
   "source": [
    "mel_raw[\"slice\"].mean()"
   ]
  },
  {
   "cell_type": "code",
   "execution_count": 30,
   "id": "9ea37154-07f6-4d4a-b293-5242367b389c",
   "metadata": {},
   "outputs": [
    {
     "name": "stderr",
     "output_type": "stream",
     "text": [
      "C:\\Users\\zhaoke\\miniconda3\\envs\\torch-0\\lib\\site-packages\\seaborn\\axisgrid.py:118: UserWarning: The figure layout has changed to tight\n",
      "  self._figure.tight_layout(*args, **kwargs)\n"
     ]
    },
    {
     "data": {
      "text/plain": [
       "<seaborn.axisgrid.FacetGrid at 0x2b701030e50>"
      ]
     },
     "execution_count": 30,
     "metadata": {},
     "output_type": "execute_result"
    },
    {
     "data": {
      "image/png": "[encoded data removed]",
      "text/plain": [
       "<Figure size 1200x400 with 1 Axes>"
      ]
     },
     "metadata": {},
     "output_type": "display_data"
    }
   ],
   "source": [
    "sns.displot(mel_raw, x=\"slice\", bins=10, height=4, aspect=3)"
   ]
  },
  {
   "cell_type": "markdown",
   "id": "25d91a14-9e1c-4f4d-9a5a-47691afce044",
   "metadata": {},
   "source": [
    "## 2.3 统一长度，长的Crop短的Padding"
   ]
  },
  {
   "cell_type": "markdown",
   "id": "1405f82a-d936-48f6-a79c-9eacd726fc8e",
   "metadata": {},
   "source": [
    "### 当前存在一个问题：有的很长，可以随机截取多个，而不是只要一个"
   ]
  },
  {
   "cell_type": "code",
   "execution_count": null,
   "id": "7d63a734-9f97-4ab3-9994-bae919a5f8d2",
   "metadata": {},
   "outputs": [],
   "source": [
    "fixed_length = 16\n",
    "for idx, item in enumerate(slice_raw.itertuples()):\n",
    "    name, st, en = item[0], item[1], item[2]\n",
    "    st, en = min2sec(st), min2sec(en)\n",
    "    audio_path = \"F:/DATAS/NEUCOUGHDATA_FULL/{}_audiodata_元音字母a.wav\".format(name)\n",
    "    y, sr = read_audio(audio_path, st=min2sec(st), en=min2sec(en))\n",
    "    mel = w2m(torch.from_numpy(y)).data.numpy()\n",
    "    dim, length = mel.shape\n",
    "    if length < 16:\n",
    "        new_mel = np.zeros((128, 16))\n",
    "        st = np.random.randint(0, (fixed_length-length+1)//2)\n",
    "        new_mel[:, st:st+16] = mel\n",
    "    elif length>16:\n",
    "        st = np.random.randint(0, (length+1-fixed_length)//2)\n",
    "        new_mel = mel[:, st:st+16]\n",
    "    else:\n",
    "        new_mel = mel\n",
    "        # print(\"wav, mel length:\", len(y), mel.shape)\n",
    "    print(new_mel.shape)"
   ]
  },
  {
   "cell_type": "markdown",
   "id": "81b1042d-90bf-4b8f-a7cc-32607a8eb68e",
   "metadata": {},
   "source": [
    "# Step 3 从原始音频中随机截取一些负样本，作为训练，和Region Proposal"
   ]
  },
  {
   "cell_type": "markdown",
   "id": "bb1a42fe-aa57-467e-b829-47d33650293d",
   "metadata": {},
   "source": [
    "## 寻找切分多大的范围内，波形的mel谱才是16"
   ]
  },
  {
   "cell_type": "code",
   "execution_count": null,
   "id": "99f9d49c-0f14-476d-ac96-944be4a431f1",
   "metadata": {},
   "outputs": [],
   "source": [
    "w2m = Wave2Mel(sr=22050)\n",
    "for i in range(7679, 8193):\n",
    "    x = np.random.rand((i))  # .astype(np.float64)\n",
    "    # print(x.shape)\n",
    "    mel = w2m(torch.from_numpy(x).to(torch.float32))\n",
    "    print(len(x), mel.shape)"
   ]
  },
  {
   "cell_type": "code",
   "execution_count": 76,
   "id": "d72dee96-c059-4fe3-8fa0-3334fb645897",
   "metadata": {},
   "outputs": [],
   "source": [
    "def min2sec(t: str):\n",
    "    parts = t.split(':')\n",
    "    return int(parts[0]) * 60 + float(parts[1])\n",
    "\n",
    "def get_rand_start(sec: int, wav_length:int, mode=\"left\", full_length: int=None, sr=22050):\n",
    "    \"\"\" 除法/不要写成//，会导致算什么都是0 \"\"\"\n",
    "    if mode==\"left\":\n",
    "        return np.random.randint(0, sec*sr-wav_length) / sr\n",
    "    elif mode==\"right\":\n",
    "        return np.random.randint(sec*sr, full_length-wav_length) / sr\n",
    "    else:\n",
    "        raise Exception(\"Unknown mode of get_rand_start(mode=\\\"???\\\").\")\n",
    "\n",
    "def read_audio(filepath: str, st=None, en=None, duration=None):\n",
    "    # print(y.shape, sr)\n",
    "    # sr = 22050\n",
    "    if st is not None:\n",
    "        if en is not None:\n",
    "            # st, en = int(st * sr), int(en * sr)\n",
    "            # print(\"st, en:\", st, en)\n",
    "            y, sr = librosa.load(filepath, offset=st, duration=en - st)\n",
    "            # print(\"y, sr:\", len(y), sr)\n",
    "        elif duration is not None:\n",
    "            y, sr = librosa.load(filepath, offset=st, duration=duration)\n",
    "    else:\n",
    "        y, sr = librosa.load(filepath)\n",
    "            # print(\"y, sr:\", y, sr)\n",
    "    # print(y.shape)\n",
    "    # mel = w2m(torch.from_numpy(y))\n",
    "    return y, sr#  , mel"
   ]
  },
  {
   "cell_type": "code",
   "execution_count": 81,
   "id": "2a5df510-f6fe-41fd-a4ad-3108a7199179",
   "metadata": {},
   "outputs": [],
   "source": [
    "\n",
    "def labelling_by_IOU(st1:int, en1:int, st2:int, d2:int, mode=\"left\"):\n",
    "    print(st1,en1,st2,d2)\n",
    "    if mode==\"left\":\n",
    "        if st2+d2<st1:\n",
    "            return 0  # other\n",
    "        elif (st2+d2-st1)/(en1-st2) > 0.2:\n",
    "            return 1\n",
    "        else:\n",
    "            return 0\n",
    "    else:\n",
    "        raise Exception(\"Unknown mode of labelling_by_IOU(mode=\\\"???\\\")\")"
   ]
  },
  {
   "cell_type": "code",
   "execution_count": 84,
   "id": "ce2f94d7-d4e5-4e22-b885-26e9ab19a5db",
   "metadata": {},
   "outputs": [
    {
     "name": "stdout",
     "output_type": "stream",
     "text": [
      "st, en: 184.34 184.64\n",
      "pos_sample: (6615,) torch.Size([128, 13])\n",
      "label: 1 cough\n",
      "wavlen: 0.3672108843537415\n",
      "rand_start: 36.81414965986394\n",
      "neg_sample: (8097,) torch.Size([128, 16])\n",
      "184.34 184.64 36.81414965986394 0.3672108843537415\n",
      "label: 0 non-cough\n",
      "\n",
      "st, en: 184.62 184.88\n",
      "pos_sample: (5733,) torch.Size([128, 12])\n",
      "label: 1 cough\n",
      "wavlen: 0.3658956916099773\n",
      "rand_start: 85.08036281179139\n",
      "neg_sample: (8068,) torch.Size([128, 16])\n",
      "184.62 184.88 85.08036281179139 0.3658956916099773\n",
      "label: 0 non-cough\n",
      "\n",
      "st, en: 184.86 185.12\n",
      "pos_sample: (5733,) torch.Size([128, 12])\n",
      "label: 1 cough\n",
      "wavlen: 0.3495238095238095\n",
      "rand_start: 107.61786848072562\n",
      "neg_sample: (7707,) torch.Size([128, 16])\n",
      "184.86 185.12 107.61786848072562 0.3495238095238095\n",
      "label: 0 non-cough\n",
      "\n",
      "st, en: 181.5 181.93\n",
      "pos_sample: (9482,) torch.Size([128, 19])\n",
      "label: 1 cough\n",
      "wavlen: 0.35306122448979593\n",
      "rand_start: 46.34988662131519\n",
      "neg_sample: (7785,) torch.Size([128, 16])\n",
      "181.5 181.93 46.34988662131519 0.35306122448979593\n",
      "label: 0 non-cough\n",
      "\n",
      "idx: 3 7785\n"
     ]
    }
   ],
   "source": [
    "lab2name = {0: \"non-cough\", 1:\"cough\"}\n",
    "fixed_length = 16\n",
    "for idx, item in enumerate(slice_raw.itertuples()):\n",
    "    name, st, en = item[0], item[1], item[2]\n",
    "    st, en = min2sec(st), min2sec(en)\n",
    "    print(\"st, en:\", st, en)\n",
    "    audio_path = \"F:/DATAS/NEUCOUGHDATA_FULL/{}_audiodata_元音字母a.wav\".format(name)\n",
    "    pos_sample, sr = read_audio(audio_path, st=st, en=en)\n",
    "    pos_mel = w2m(torch.from_numpy(pos_sample).to(torch.float32))\n",
    "    print(\"pos_sample:\", pos_sample.shape, pos_mel.shape)\n",
    "    print(\"label:\", 1, lab2name[1])\n",
    "    \n",
    "    mel16_rand_wavlen = np.random.randint(7680, 8192)  # Mel length: 16\n",
    "    print(\"wavlen:\", mel16_rand_wavlen/sr)\n",
    "    rand_start = get_rand_start(sec=st, wav_length=mel16_rand_wavlen, mode=\"left\", full_length=None, sr=22050)\n",
    "    print(\"rand_start:\", rand_start)\n",
    "    neg_sample, _ = read_audio(audio_path, st=rand_start, duration=mel16_rand_wavlen/sr)  # 除法/不要写成//，会导致算什么都是0\n",
    "    neg_mel = w2m(torch.from_numpy(neg_sample).to(torch.float32))\n",
    "    print(\"neg_sample:\", neg_sample.shape, neg_mel.shape)\n",
    "    gen_label = labelling_by_IOU(st1=st,en1=en,st2=rand_start,d2=mel16_rand_wavlen/sr)\n",
    "    print(\"label:\", gen_label, lab2name[gen_label])\n",
    "    while gen_label==1:\n",
    "        mel16_rand_wavlen = np.random.randint(7680, 8192)  # Mel length: 16\n",
    "        print(\"wavlen:\", mel16_rand_wavlen/sr)\n",
    "        rand_start = get_rand_start(sec=st, wav_length=mel16_rand_wavlen, mode=\"left\", full_length=None, sr=22050)\n",
    "        print(\"rand_start:\", rand_start)\n",
    "        neg_sample, _ = read_audio(audio_path, st=rand_start, duration=mel16_rand_wavlen/sr)  # 除法/不要写成//，会导致算什么都是0\n",
    "        print(\"neg_sample:\", neg_sample.shape)\n",
    "        gen_label = labelling_by_IOU(st1=st,en1=en,st2=rand_start,d2=mel16_rand_wavlen/sr)\n",
    "        print(\"label:\", gen_label, lab2name[gen_label])\n",
    "    print()\n",
    "    if idx>2:\n",
    "        print(\"idx:\", idx, mel16_rand_wavlen)\n",
    "        break"
   ]
  },
  {
   "cell_type": "markdown",
   "id": "3bc95c39-612f-4ba5-a818-28d351470351",
   "metadata": {},
   "source": [
    "# End"
   ]
  }
 ],
 "metadata": {
  "kernelspec": {
   "display_name": "Python 3 (ipykernel)",
   "language": "python",
   "name": "python3"
  },
  "language_info": {
   "codemirror_mode": {
    "name": "ipython",
    "version": 3
   },
   "file_extension": ".py",
   "mimetype": "text/x-python",
   "name": "python",
   "nbconvert_exporter": "python",
   "pygments_lexer": "ipython3",
   "version": "3.8.5"
  }
 },
 "nbformat": 4,
 "nbformat_minor": 5
}
