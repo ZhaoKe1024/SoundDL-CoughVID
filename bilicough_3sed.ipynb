{
 "cells": [
  {
   "cell_type": "code",
   "execution_count": null,
   "id": "ad158b51-321f-483e-b919-1f76d19ba266",
   "metadata": {},
   "outputs": [],
   "source": [
    "import os\n",
    "import time\n",
    "import random\n",
    "import numpy as np\n",
    "import matplotlib.pyplot as plt\n",
    "import pandas as pd\n",
    "from tqdm import tqdm\n",
    "import librosa\n",
    "import torch\n",
    "import torch.nn as nn\n",
    "import torchaudio\n",
    "import torch.optim as optim\n",
    "from torch.utils.data import Dataset, DataLoader\n",
    "\n",
    "WAVE_ROOT = \"G:/DATAS-Medical/BILIBILICOUGH/\"\n",
    "NOISE_ROOT = \"G:/DATAS-Medical/BILINOISE/\"\n",
    "name2label = {\"breathe\": 0, \"cough\": 2, \"clearthroat\": 1, \"exhale\": 3, \"hum\": 4, \"inhale\": 5, \"noise\": 6, \"silence\": 7,\n",
    "              \"sniff\": 8, \"speech\": 9, \"vomit\": 10, \"whooping\": 11}"
   ]
  },
  {
   "cell_type": "code",
   "execution_count": null,
   "id": "0efc9124-b014-41ee-867a-2e82cb1dcc46",
   "metadata": {},
   "outputs": [],
   "source": []
  }
 ],
 "metadata": {
  "kernelspec": {
   "display_name": "Python 3 (ipykernel)",
   "language": "python",
   "name": "python3"
  },
  "language_info": {
   "codemirror_mode": {
    "name": "ipython",
    "version": 3
   },
   "file_extension": ".py",
   "mimetype": "text/x-python",
   "name": "python",
   "nbconvert_exporter": "python",
   "pygments_lexer": "ipython3",
   "version": "3.8.5"
  }
 },
 "nbformat": 4,
 "nbformat_minor": 5
}
